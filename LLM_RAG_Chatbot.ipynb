{
  "nbformat": 4,
  "nbformat_minor": 0,
  "metadata": {
    "colab": {
      "provenance": [],
      "authorship_tag": "ABX9TyOKc3kyhNg0zPi/CNTdPscu",
      "include_colab_link": true
    },
    "kernelspec": {
      "name": "python3",
      "display_name": "Python 3"
    },
    "language_info": {
      "name": "python"
    }
  },
  "cells": [
    {
      "cell_type": "markdown",
      "metadata": {
        "id": "view-in-github",
        "colab_type": "text"
      },
      "source": [
        "<a href=\"https://colab.research.google.com/github/ayalarodrigues/LLL-RAG-Chatbot-Suporte/blob/main/LLM_RAG_Chatbot.ipynb\" target=\"_parent\"><img src=\"https://colab.research.google.com/assets/colab-badge.svg\" alt=\"Open In Colab\"/></a>"
      ]
    },
    {
      "cell_type": "markdown",
      "source": [
        "Instalação das bibliotecas\n"
      ],
      "metadata": {
        "id": "R6ZXVjL0Kn4B"
      }
    },
    {
      "cell_type": "code",
      "execution_count": 1,
      "metadata": {
        "colab": {
          "base_uri": "https://localhost:8080/"
        },
        "collapsed": true,
        "id": "zUSOXloDFe48",
        "outputId": "5af8da62-dc82-4f09-e3d3-660d10cada15"
      },
      "outputs": [
        {
          "output_type": "stream",
          "name": "stdout",
          "text": [
            "\u001b[2K   \u001b[90m━━━━━━━━━━━━━━━━━━━━━━━━━━━━━━━━━━━━━━━━\u001b[0m \u001b[32m2.5/2.5 MB\u001b[0m \u001b[31m26.9 MB/s\u001b[0m eta \u001b[36m0:00:00\u001b[0m\n",
            "\u001b[2K   \u001b[90m━━━━━━━━━━━━━━━━━━━━━━━━━━━━━━━━━━━━━━━━\u001b[0m \u001b[32m131.1/131.1 kB\u001b[0m \u001b[31m9.1 MB/s\u001b[0m eta \u001b[36m0:00:00\u001b[0m\n",
            "\u001b[2K   \u001b[90m━━━━━━━━━━━━━━━━━━━━━━━━━━━━━━━━━━━━━━━━\u001b[0m \u001b[32m45.2/45.2 kB\u001b[0m \u001b[31m1.8 MB/s\u001b[0m eta \u001b[36m0:00:00\u001b[0m\n",
            "\u001b[2K   \u001b[90m━━━━━━━━━━━━━━━━━━━━━━━━━━━━━━━━━━━━━━━━\u001b[0m \u001b[32m50.9/50.9 kB\u001b[0m \u001b[31m3.4 MB/s\u001b[0m eta \u001b[36m0:00:00\u001b[0m\n",
            "\u001b[2K   \u001b[90m━━━━━━━━━━━━━━━━━━━━━━━━━━━━━━━━━━━━━━━━\u001b[0m \u001b[32m31.3/31.3 MB\u001b[0m \u001b[31m43.5 MB/s\u001b[0m eta \u001b[36m0:00:00\u001b[0m\n",
            "\u001b[2K   \u001b[90m━━━━━━━━━━━━━━━━━━━━━━━━━━━━━━━━━━━━━━━━\u001b[0m \u001b[32m24.1/24.1 MB\u001b[0m \u001b[31m51.6 MB/s\u001b[0m eta \u001b[36m0:00:00\u001b[0m\n",
            "\u001b[2K   \u001b[90m━━━━━━━━━━━━━━━━━━━━━━━━━━━━━━━━━━━━━━━━\u001b[0m \u001b[32m363.4/363.4 MB\u001b[0m \u001b[31m4.1 MB/s\u001b[0m eta \u001b[36m0:00:00\u001b[0m\n",
            "\u001b[2K   \u001b[90m━━━━━━━━━━━━━━━━━━━━━━━━━━━━━━━━━━━━━━━━\u001b[0m \u001b[32m13.8/13.8 MB\u001b[0m \u001b[31m62.1 MB/s\u001b[0m eta \u001b[36m0:00:00\u001b[0m\n",
            "\u001b[2K   \u001b[90m━━━━━━━━━━━━━━━━━━━━━━━━━━━━━━━━━━━━━━━━\u001b[0m \u001b[32m24.6/24.6 MB\u001b[0m \u001b[31m35.2 MB/s\u001b[0m eta \u001b[36m0:00:00\u001b[0m\n",
            "\u001b[2K   \u001b[90m━━━━━━━━━━━━━━━━━━━━━━━━━━━━━━━━━━━━━━━━\u001b[0m \u001b[32m883.7/883.7 kB\u001b[0m \u001b[31m41.0 MB/s\u001b[0m eta \u001b[36m0:00:00\u001b[0m\n",
            "\u001b[2K   \u001b[90m━━━━━━━━━━━━━━━━━━━━━━━━━━━━━━━━━━━━━━━━\u001b[0m \u001b[32m664.8/664.8 MB\u001b[0m \u001b[31m2.8 MB/s\u001b[0m eta \u001b[36m0:00:00\u001b[0m\n",
            "\u001b[2K   \u001b[90m━━━━━━━━━━━━━━━━━━━━━━━━━━━━━━━━━━━━━━━━\u001b[0m \u001b[32m211.5/211.5 MB\u001b[0m \u001b[31m5.9 MB/s\u001b[0m eta \u001b[36m0:00:00\u001b[0m\n",
            "\u001b[2K   \u001b[90m━━━━━━━━━━━━━━━━━━━━━━━━━━━━━━━━━━━━━━━━\u001b[0m \u001b[32m56.3/56.3 MB\u001b[0m \u001b[31m12.7 MB/s\u001b[0m eta \u001b[36m0:00:00\u001b[0m\n",
            "\u001b[2K   \u001b[90m━━━━━━━━━━━━━━━━━━━━━━━━━━━━━━━━━━━━━━━━\u001b[0m \u001b[32m127.9/127.9 MB\u001b[0m \u001b[31m7.3 MB/s\u001b[0m eta \u001b[36m0:00:00\u001b[0m\n",
            "\u001b[2K   \u001b[90m━━━━━━━━━━━━━━━━━━━━━━━━━━━━━━━━━━━━━━━━\u001b[0m \u001b[32m207.5/207.5 MB\u001b[0m \u001b[31m5.5 MB/s\u001b[0m eta \u001b[36m0:00:00\u001b[0m\n",
            "\u001b[2K   \u001b[90m━━━━━━━━━━━━━━━━━━━━━━━━━━━━━━━━━━━━━━━━\u001b[0m \u001b[32m21.1/21.1 MB\u001b[0m \u001b[31m63.0 MB/s\u001b[0m eta \u001b[36m0:00:00\u001b[0m\n",
            "\u001b[?25h"
          ]
        }
      ],
      "source": [
        "!pip install langchain langchain-groq langchain_community langchain-huggingface --q\n",
        "!pip install faiss-cpu sentence-transformers PyMuPDF --q\n",
        "\n",
        "#langchain-grop: acesso aos modelos via API\n",
        "#faiss-cpu: onde serão armazenados os documentos(pode ser cpu ou gpu)\n",
        "#sentence-transformers: conversão dos textos para números\n",
        "#PyMuPDF: leitura e processamento de texto\n"
      ]
    },
    {
      "cell_type": "markdown",
      "source": [
        "Importações"
      ],
      "metadata": {
        "id": "lqwEptqyNkkJ"
      }
    },
    {
      "cell_type": "code",
      "source": [
        "from langchain_groq import ChatGroq\n",
        "from langchain_core.output_parsers import StrOutputParser\n",
        "from langchain_core.prompts import ChatPromptTemplate\n",
        "import os\n",
        "import getpass"
      ],
      "metadata": {
        "id": "cUNAprbRNw5T"
      },
      "execution_count": 2,
      "outputs": []
    },
    {
      "cell_type": "markdown",
      "source": [
        "Carregamento da LLM"
      ],
      "metadata": {
        "id": "Ml6oQP9ZOvh5"
      }
    },
    {
      "cell_type": "code",
      "source": [
        "os.environ[\"GROQ_API_KEY\"] = getpass.getpass()\n",
        "#getpass não exibe a chave da API no CF\n"
      ],
      "metadata": {
        "colab": {
          "base_uri": "https://localhost:8080/"
        },
        "id": "NChUhnW1Ozwt",
        "outputId": "1932ed56-8111-474c-ee9a-8489de1cb10a"
      },
      "execution_count": 3,
      "outputs": [
        {
          "name": "stdout",
          "output_type": "stream",
          "text": [
            "··········\n"
          ]
        }
      ]
    },
    {
      "cell_type": "code",
      "source": [
        "def load_llm(id_model, temperature):\n",
        "  llm = ChatGroq(\n",
        "      model = id_model,\n",
        "      temperature = temperature,\n",
        "      max_tokens = None,\n",
        "      timeout = None,\n",
        "      max_retries = 2\n",
        "  )\n",
        "  return llm"
      ],
      "metadata": {
        "id": "sftfkWUbUUds"
      },
      "execution_count": 4,
      "outputs": []
    },
    {
      "cell_type": "code",
      "source": [
        "#teste\n",
        "id_model = \"llama3-70b-8192\" # @param {type: \"string\"}\n",
        "temperature = 0.7 # @param {type: \"slider\", min: 0.1, max: 1.5, step: 0.1}\n",
        "\n",
        "llm = load_llm(id_model, temperature)"
      ],
      "metadata": {
        "id": "du_H7HLXXQZC"
      },
      "execution_count": 5,
      "outputs": []
    },
    {
      "cell_type": "code",
      "source": [
        "#teste\n",
        "prompt = \"Como alterar minha senha?\" # @param {type: \"string\"}\n",
        "\n",
        "template = ChatPromptTemplate.from_messages([\n",
        "    (\"system\", \"Você é um assistente virtual prestativo e está respondendo perguntas gerais\"),\n",
        "    (\"human\", \"{prompt}\")\n",
        "])\n",
        "\n",
        "chain = template | llm | StrOutputParser()\n",
        "\n",
        "res = chain.invoke({\"prompt\": prompt})\n",
        "res"
      ],
      "metadata": {
        "colab": {
          "base_uri": "https://localhost:8080/",
          "height": 123
        },
        "collapsed": true,
        "id": "tYixFDgBXppf",
        "outputId": "8dd88d97-a08d-46dd-ab6f-e4ca17ac0693"
      },
      "execution_count": 6,
      "outputs": [
        {
          "output_type": "execute_result",
          "data": {
            "text/plain": [
              "'Alterar a senha é um processo importante para manter a segurança de suas contas e dados!\\n\\nO processo de alterar a senha varia dependendo do sistema, aplicativo ou plataforma que você está usando. Aqui estão as etapas gerais para alterar a senha em diferentes contextos:\\n\\n**Conta de email:**\\n\\n1. Acesse sua conta de email e clique em \"Configurações\" ou \"Opções\".\\n2. Clique em \"Segurança\" ou \"Conta\" e selecione \"Alterar senha\".\\n3. Digite sua senha atual e, em seguida, digite e confirme sua nova senha.\\n4. Clique em \"Salvar\" ou \"Alterar senha\" para confirmar a alteração.\\n\\n**Plataformas de rede social:**\\n\\n1. Acesse sua conta na plataforma de rede social e clique em \"Configurações\" ou \"Opções\".\\n2. Clique em \"Segurança\" ou \"Conta\" e selecione \"Alterar senha\".\\n3. Digite sua senha atual e, em seguida, digite e confirme sua nova senha.\\n4. Clique em \"Salvar\" ou \"Alterar senha\" para confirmar a alteração.\\n\\n**Aplicativos:**\\n\\n1. Abra o aplicativo e clique em \"Configurações\" ou \"Opções\".\\n2. Clique em \"Conta\" ou \"Perfil\" e selecione \"Alterar senha\".\\n3. Digite sua senha atual e, em seguida, digite e confirme sua nova senha.\\n4. Clique em \"Salvar\" ou \"Alterar senha\" para confirmar a alteração.\\n\\n**Outros sistemas:**\\n\\n1. Acesse o sistema ou plataforma que você deseja alterar a senha.\\n2. Procure a opção \"Alterar senha\" ou \"Redefinir senha\".\\n3. Digite sua senha atual e, em seguida, digite e confirme sua nova senha.\\n4. Clique em \"Salvar\" ou \"Alterar senha\" para confirmar a alteração.\\n\\nLembre-se de escolher uma senha forte e única para cada conta, e de não compartilhar suas senhas com ninguém. Além disso, é recomendável alterar suas senhas regularmente para manter a segurança de suas contas.'"
            ],
            "application/vnd.google.colaboratory.intrinsic+json": {
              "type": "string"
            }
          },
          "metadata": {},
          "execution_count": 6
        }
      ]
    },
    {
      "cell_type": "code",
      "source": [
        "def show_res(res):\n",
        "  from IPython.display import display, Markdown\n",
        "  if \"</think>\" in res:\n",
        "    res = res.split(\"</think>\")[-1].strip()  #o modelo pode retornar o passo a passo necessário para resolução do problema\n",
        "  else:\n",
        "    res = res.strip()\n",
        "  display(Markdown(res))\n",
        "\n",
        "\n",
        "show_res(res)\n",
        "\n",
        " #a tag </think> serve para delimitar pensamentos intermediários, o que permite visualizar o \"raciocínio\" utilizado na resposta\n",
        " #optei por remover a tag por não ser de interesse da persona"
      ],
      "metadata": {
        "colab": {
          "base_uri": "https://localhost:8080/",
          "height": 587
        },
        "id": "wvr4m2KvYko8",
        "outputId": "33520757-4135-4e08-98d0-001ce7b75ec3",
        "collapsed": true
      },
      "execution_count": 7,
      "outputs": [
        {
          "output_type": "display_data",
          "data": {
            "text/plain": [
              "<IPython.core.display.Markdown object>"
            ],
            "text/markdown": "Alterar a senha é um processo importante para manter a segurança de suas contas e dados!\n\nO processo de alterar a senha varia dependendo do sistema, aplicativo ou plataforma que você está usando. Aqui estão as etapas gerais para alterar a senha em diferentes contextos:\n\n**Conta de email:**\n\n1. Acesse sua conta de email e clique em \"Configurações\" ou \"Opções\".\n2. Clique em \"Segurança\" ou \"Conta\" e selecione \"Alterar senha\".\n3. Digite sua senha atual e, em seguida, digite e confirme sua nova senha.\n4. Clique em \"Salvar\" ou \"Alterar senha\" para confirmar a alteração.\n\n**Plataformas de rede social:**\n\n1. Acesse sua conta na plataforma de rede social e clique em \"Configurações\" ou \"Opções\".\n2. Clique em \"Segurança\" ou \"Conta\" e selecione \"Alterar senha\".\n3. Digite sua senha atual e, em seguida, digite e confirme sua nova senha.\n4. Clique em \"Salvar\" ou \"Alterar senha\" para confirmar a alteração.\n\n**Aplicativos:**\n\n1. Abra o aplicativo e clique em \"Configurações\" ou \"Opções\".\n2. Clique em \"Conta\" ou \"Perfil\" e selecione \"Alterar senha\".\n3. Digite sua senha atual e, em seguida, digite e confirme sua nova senha.\n4. Clique em \"Salvar\" ou \"Alterar senha\" para confirmar a alteração.\n\n**Outros sistemas:**\n\n1. Acesse o sistema ou plataforma que você deseja alterar a senha.\n2. Procure a opção \"Alterar senha\" ou \"Redefinir senha\".\n3. Digite sua senha atual e, em seguida, digite e confirme sua nova senha.\n4. Clique em \"Salvar\" ou \"Alterar senha\" para confirmar a alteração.\n\nLembre-se de escolher uma senha forte e única para cada conta, e de não compartilhar suas senhas com ninguém. Além disso, é recomendável alterar suas senhas regularmente para manter a segurança de suas contas."
          },
          "metadata": {}
        }
      ]
    },
    {
      "cell_type": "markdown",
      "source": [
        "Definição do contexto"
      ],
      "metadata": {
        "id": "CP-ZIZimxJ8M"
      }
    },
    {
      "cell_type": "markdown",
      "source": [
        "Há basicamente duas possibilidades para o exemplo de teste: o algoritmo não consegue retornar com exatidão o caminho exato para recuperar a senha ou a informação foi \"inventada\"(processo de alucinação).\n",
        "\n",
        "O modelo quer apenas prever a próxima combinação de palavras que faça sentido. Nem sempre poderá ser entendido que o modelo não sabe essa informação com exatidão. O modelo pode apenas sugerir um caminho comum, como o retornado no exemplo, porém, o algoritmo não possui meios de conhecer o caminho exato sem consultar uma fonte que comprove.\n",
        "\n",
        "Nesse aspecto, é importante que seja fornecido um contexto que tenha as informações exatas para a LLM e assim a dúvida do usuário pode ser respondida.\n",
        "\n",
        "Para a obtenção do contexto, nesse estudo de caso, será feito o carregamento do documento que posteriormente será processado pelo pipeline de RAG.\n",
        "\n"
      ],
      "metadata": {
        "id": "c3QjYjskxaTM"
      }
    },
    {
      "cell_type": "code",
      "source": [
        "#teste\n",
        "\n",
        "context = \"\"\"\n",
        "Para alterar uma senha no aplicativo, clique no menu 'Minha conta' e selecione 'Alterar senha'.\n",
        "Para alterar a senha pelo site, acesse 'Configurações' no menu do topo. Em seguida, selecione 'Minha conta' e 'Alterar senha'.\n",
        "\"\"\"\n",
        "\n",
        "prompt = f\"\"\"\n",
        "Como alterar minha senha?\n",
        "\n",
        "Contexto: {context}\n",
        "\"\"\""
      ],
      "metadata": {
        "id": "MAzo4VUzzN18"
      },
      "execution_count": 8,
      "outputs": []
    },
    {
      "cell_type": "code",
      "source": [
        "#teste\n",
        "\n",
        "prompt"
      ],
      "metadata": {
        "colab": {
          "base_uri": "https://localhost:8080/",
          "height": 53
        },
        "id": "VJNlL1Xjz-Cn",
        "outputId": "9b26d57d-65cc-4afb-896a-60c414af0008"
      },
      "execution_count": 9,
      "outputs": [
        {
          "output_type": "execute_result",
          "data": {
            "text/plain": [
              "\"\\nComo alterar minha senha?\\n\\nContexto: \\nPara alterar uma senha no aplicativo, clique no menu 'Minha conta' e selecione 'Alterar senha'.\\nPara alterar a senha pelo site, acesse 'Configurações' no menu do topo. Em seguida, selecione 'Minha conta' e 'Alterar senha'.\\n\\n\""
            ],
            "application/vnd.google.colaboratory.intrinsic+json": {
              "type": "string"
            }
          },
          "metadata": {},
          "execution_count": 9
        }
      ]
    },
    {
      "cell_type": "code",
      "source": [
        "#teste\n",
        "\n",
        "res = chain.invoke({\"prompt\": prompt})\n",
        "show_res(res)\n"
      ],
      "metadata": {
        "colab": {
          "base_uri": "https://localhost:8080/",
          "height": 247
        },
        "collapsed": true,
        "id": "FXJSKPFD0JRl",
        "outputId": "ef52b9fe-52d6-49f4-9019-ef6bb54e85ea"
      },
      "execution_count": 10,
      "outputs": [
        {
          "output_type": "display_data",
          "data": {
            "text/plain": [
              "<IPython.core.display.Markdown object>"
            ],
            "text/markdown": "Para alterar sua senha, você tem duas opções:\n\n**No aplicativo:**\n\n1. Clique no menu \"Minha conta\"\n2. Selecione \"Alterar senha\"\n\n**No site:**\n\n1. Acesse o menu do topo e clique em \"Configurações\"\n2. Selecione \"Minha conta\"\n3. Clique em \"Alterar senha\"\n\nSiga esses passos para alterar sua senha com segurança!"
          },
          "metadata": {}
        }
      ]
    },
    {
      "cell_type": "markdown",
      "source": [
        "Prompt para o RAG"
      ],
      "metadata": {
        "id": "0qGSR9qx2xD0"
      }
    },
    {
      "cell_type": "code",
      "source": [
        "template_rag = \"\"\"\n",
        "Pergunta: {input}\n",
        "Contexto: {context}\n",
        "\"\"\""
      ],
      "metadata": {
        "id": "XpaVEG0b2v6H"
      },
      "execution_count": 11,
      "outputs": []
    },
    {
      "cell_type": "code",
      "source": [
        "from langchain.prompts import PromptTemplate #é utilizado para prompts personalizados\n",
        "\n",
        "prompt_rag = PromptTemplate.from_template(template_rag)\n",
        "print(prompt_rag)\n"
      ],
      "metadata": {
        "colab": {
          "base_uri": "https://localhost:8080/"
        },
        "id": "jsm0oJMe3No2",
        "outputId": "89bd13f4-5211-409f-a471-519bb24d05d7"
      },
      "execution_count": 12,
      "outputs": [
        {
          "output_type": "stream",
          "name": "stdout",
          "text": [
            "input_variables=['context', 'input'] input_types={} partial_variables={} template='\\nPergunta: {input}\\nContexto: {context}\\n'\n"
          ]
        }
      ]
    },
    {
      "cell_type": "markdown",
      "source": [
        "Criação dos textos e geração da Chain"
      ],
      "metadata": {
        "id": "YxGONSMs4I3r"
      }
    },
    {
      "cell_type": "code",
      "source": [
        "chaing_rag = prompt_rag | llm | StrOutputParser()\n",
        "\n",
        "input = \"Como alterar minha senha?\"\n",
        "res = chaing_rag.invoke({\"input\": input, \"context\": context}) # o envio de variáveis deve seguir de acordo com o que foi definido no template do prompt\n",
        "show_res(res)"
      ],
      "metadata": {
        "colab": {
          "base_uri": "https://localhost:8080/",
          "height": 247
        },
        "collapsed": true,
        "id": "P0xaVojb4H_K",
        "outputId": "364fd258-757a-4842-eee9-efcd9a972e00"
      },
      "execution_count": 13,
      "outputs": [
        {
          "output_type": "display_data",
          "data": {
            "text/plain": [
              "<IPython.core.display.Markdown object>"
            ],
            "text/markdown": "Resposta: Para alterar sua senha, você pode seguir os seguintes passos:\n\n**No aplicativo:**\n\n1. Clique no menu \"Minha conta\".\n2. Selecione \"Alterar senha\".\n\n**No site:**\n\n1. Acesse \"Configurações\" no menu do topo.\n2. Selecione \"Minha conta\".\n3. Clique em \"Alterar senha\".\n\nSiga esses passos para alterar sua senha com segurança!"
          },
          "metadata": {}
        }
      ]
    },
    {
      "cell_type": "markdown",
      "source": [
        "Etapas de Indexação"
      ],
      "metadata": {
        "id": "ZmcPhqUD8a4V"
      }
    },
    {
      "cell_type": "markdown",
      "source": [
        "Para este estudo de caso será feito o uso de funções(Document Loaders) para importar dados na LangChain.\n",
        "\n",
        "Os documentos serão quebrados para melhor indexação e processamento do modelo.\n",
        "\n",
        "Na sequência, será feito o embedding(conversão dos textos em representações numéricas) em cada pedaço e por fim os mesmos serão salvos em um banco de dados vetorial."
      ],
      "metadata": {
        "id": "yxrpZ-YP9zhf"
      }
    },
    {
      "cell_type": "markdown",
      "source": [
        "Carregamento do conteúdo dos documentos"
      ],
      "metadata": {
        "id": "nq0czOlc8dEZ"
      }
    },
    {
      "cell_type": "code",
      "source": [
        "from google.colab import files\n",
        "\n",
        "uploaded = files.upload()\n",
        "file_path =list(uploaded.keys())[0]\n",
        "\n",
        "print(f\"Arquivo carregado: {file_path}\")"
      ],
      "metadata": {
        "colab": {
          "base_uri": "https://localhost:8080/",
          "height": 90
        },
        "id": "oapPf1vh_iuj",
        "outputId": "e4c4ca77-49db-484d-f58f-2ba43d89b8e2"
      },
      "execution_count": 14,
      "outputs": [
        {
          "output_type": "display_data",
          "data": {
            "text/plain": [
              "<IPython.core.display.HTML object>"
            ],
            "text/html": [
              "\n",
              "     <input type=\"file\" id=\"files-18c9a3e4-f725-48fb-a3bb-7c4fec74045d\" name=\"files[]\" multiple disabled\n",
              "        style=\"border:none\" />\n",
              "     <output id=\"result-18c9a3e4-f725-48fb-a3bb-7c4fec74045d\">\n",
              "      Upload widget is only available when the cell has been executed in the\n",
              "      current browser session. Please rerun this cell to enable.\n",
              "      </output>\n",
              "      <script>// Copyright 2017 Google LLC\n",
              "//\n",
              "// Licensed under the Apache License, Version 2.0 (the \"License\");\n",
              "// you may not use this file except in compliance with the License.\n",
              "// You may obtain a copy of the License at\n",
              "//\n",
              "//      http://www.apache.org/licenses/LICENSE-2.0\n",
              "//\n",
              "// Unless required by applicable law or agreed to in writing, software\n",
              "// distributed under the License is distributed on an \"AS IS\" BASIS,\n",
              "// WITHOUT WARRANTIES OR CONDITIONS OF ANY KIND, either express or implied.\n",
              "// See the License for the specific language governing permissions and\n",
              "// limitations under the License.\n",
              "\n",
              "/**\n",
              " * @fileoverview Helpers for google.colab Python module.\n",
              " */\n",
              "(function(scope) {\n",
              "function span(text, styleAttributes = {}) {\n",
              "  const element = document.createElement('span');\n",
              "  element.textContent = text;\n",
              "  for (const key of Object.keys(styleAttributes)) {\n",
              "    element.style[key] = styleAttributes[key];\n",
              "  }\n",
              "  return element;\n",
              "}\n",
              "\n",
              "// Max number of bytes which will be uploaded at a time.\n",
              "const MAX_PAYLOAD_SIZE = 100 * 1024;\n",
              "\n",
              "function _uploadFiles(inputId, outputId) {\n",
              "  const steps = uploadFilesStep(inputId, outputId);\n",
              "  const outputElement = document.getElementById(outputId);\n",
              "  // Cache steps on the outputElement to make it available for the next call\n",
              "  // to uploadFilesContinue from Python.\n",
              "  outputElement.steps = steps;\n",
              "\n",
              "  return _uploadFilesContinue(outputId);\n",
              "}\n",
              "\n",
              "// This is roughly an async generator (not supported in the browser yet),\n",
              "// where there are multiple asynchronous steps and the Python side is going\n",
              "// to poll for completion of each step.\n",
              "// This uses a Promise to block the python side on completion of each step,\n",
              "// then passes the result of the previous step as the input to the next step.\n",
              "function _uploadFilesContinue(outputId) {\n",
              "  const outputElement = document.getElementById(outputId);\n",
              "  const steps = outputElement.steps;\n",
              "\n",
              "  const next = steps.next(outputElement.lastPromiseValue);\n",
              "  return Promise.resolve(next.value.promise).then((value) => {\n",
              "    // Cache the last promise value to make it available to the next\n",
              "    // step of the generator.\n",
              "    outputElement.lastPromiseValue = value;\n",
              "    return next.value.response;\n",
              "  });\n",
              "}\n",
              "\n",
              "/**\n",
              " * Generator function which is called between each async step of the upload\n",
              " * process.\n",
              " * @param {string} inputId Element ID of the input file picker element.\n",
              " * @param {string} outputId Element ID of the output display.\n",
              " * @return {!Iterable<!Object>} Iterable of next steps.\n",
              " */\n",
              "function* uploadFilesStep(inputId, outputId) {\n",
              "  const inputElement = document.getElementById(inputId);\n",
              "  inputElement.disabled = false;\n",
              "\n",
              "  const outputElement = document.getElementById(outputId);\n",
              "  outputElement.innerHTML = '';\n",
              "\n",
              "  const pickedPromise = new Promise((resolve) => {\n",
              "    inputElement.addEventListener('change', (e) => {\n",
              "      resolve(e.target.files);\n",
              "    });\n",
              "  });\n",
              "\n",
              "  const cancel = document.createElement('button');\n",
              "  inputElement.parentElement.appendChild(cancel);\n",
              "  cancel.textContent = 'Cancel upload';\n",
              "  const cancelPromise = new Promise((resolve) => {\n",
              "    cancel.onclick = () => {\n",
              "      resolve(null);\n",
              "    };\n",
              "  });\n",
              "\n",
              "  // Wait for the user to pick the files.\n",
              "  const files = yield {\n",
              "    promise: Promise.race([pickedPromise, cancelPromise]),\n",
              "    response: {\n",
              "      action: 'starting',\n",
              "    }\n",
              "  };\n",
              "\n",
              "  cancel.remove();\n",
              "\n",
              "  // Disable the input element since further picks are not allowed.\n",
              "  inputElement.disabled = true;\n",
              "\n",
              "  if (!files) {\n",
              "    return {\n",
              "      response: {\n",
              "        action: 'complete',\n",
              "      }\n",
              "    };\n",
              "  }\n",
              "\n",
              "  for (const file of files) {\n",
              "    const li = document.createElement('li');\n",
              "    li.append(span(file.name, {fontWeight: 'bold'}));\n",
              "    li.append(span(\n",
              "        `(${file.type || 'n/a'}) - ${file.size} bytes, ` +\n",
              "        `last modified: ${\n",
              "            file.lastModifiedDate ? file.lastModifiedDate.toLocaleDateString() :\n",
              "                                    'n/a'} - `));\n",
              "    const percent = span('0% done');\n",
              "    li.appendChild(percent);\n",
              "\n",
              "    outputElement.appendChild(li);\n",
              "\n",
              "    const fileDataPromise = new Promise((resolve) => {\n",
              "      const reader = new FileReader();\n",
              "      reader.onload = (e) => {\n",
              "        resolve(e.target.result);\n",
              "      };\n",
              "      reader.readAsArrayBuffer(file);\n",
              "    });\n",
              "    // Wait for the data to be ready.\n",
              "    let fileData = yield {\n",
              "      promise: fileDataPromise,\n",
              "      response: {\n",
              "        action: 'continue',\n",
              "      }\n",
              "    };\n",
              "\n",
              "    // Use a chunked sending to avoid message size limits. See b/62115660.\n",
              "    let position = 0;\n",
              "    do {\n",
              "      const length = Math.min(fileData.byteLength - position, MAX_PAYLOAD_SIZE);\n",
              "      const chunk = new Uint8Array(fileData, position, length);\n",
              "      position += length;\n",
              "\n",
              "      const base64 = btoa(String.fromCharCode.apply(null, chunk));\n",
              "      yield {\n",
              "        response: {\n",
              "          action: 'append',\n",
              "          file: file.name,\n",
              "          data: base64,\n",
              "        },\n",
              "      };\n",
              "\n",
              "      let percentDone = fileData.byteLength === 0 ?\n",
              "          100 :\n",
              "          Math.round((position / fileData.byteLength) * 100);\n",
              "      percent.textContent = `${percentDone}% done`;\n",
              "\n",
              "    } while (position < fileData.byteLength);\n",
              "  }\n",
              "\n",
              "  // All done.\n",
              "  yield {\n",
              "    response: {\n",
              "      action: 'complete',\n",
              "    }\n",
              "  };\n",
              "}\n",
              "\n",
              "scope.google = scope.google || {};\n",
              "scope.google.colab = scope.google.colab || {};\n",
              "scope.google.colab._files = {\n",
              "  _uploadFiles,\n",
              "  _uploadFilesContinue,\n",
              "};\n",
              "})(self);\n",
              "</script> "
            ]
          },
          "metadata": {}
        },
        {
          "output_type": "stream",
          "name": "stdout",
          "text": [
            "Saving manual_facesecure.pdf to manual_facesecure.pdf\n",
            "Arquivo carregado: manual_facesecure.pdf\n"
          ]
        }
      ]
    },
    {
      "cell_type": "code",
      "source": [
        "#carregar e processar o conteúdo de um arquivo .pdf\n",
        "\n",
        "from pathlib import Path\n",
        "from langchain_community.document_loaders import PyMuPDFLoader\n",
        "\n",
        "file_path = \"manual_facesecure.pdf\"\n",
        "\n",
        "loader = PyMuPDFLoader(file_path) #na chamada da função, o documento é lido e transformado em uma lista de objetos do tipo 'documents', cada um representando uma página do pdf com o texto extraído\n",
        "doc = loader.load()\n",
        "doc[0] #cada posição é uma página do documento"
      ],
      "metadata": {
        "colab": {
          "base_uri": "https://localhost:8080/"
        },
        "id": "_zbnQdVPDiaK",
        "outputId": "19f2207d-767e-4dfc-95f9-f591a75d988a"
      },
      "execution_count": 15,
      "outputs": [
        {
          "output_type": "execute_result",
          "data": {
            "text/plain": [
              "Document(metadata={'producer': 'PyFPDF 1.7.2 http://pyfpdf.googlecode.com/', 'creator': '', 'creationdate': 'D:20250728031816', 'source': 'manual_facesecure.pdf', 'file_path': 'manual_facesecure.pdf', 'total_pages': 4, 'format': 'PDF 1.3', 'title': '', 'author': '', 'subject': '', 'keywords': '', 'moddate': '', 'trapped': '', 'modDate': '', 'creationDate': 'D:20250728031816', 'page': 0}, page_content='Manual de Atendimento e Uso - FaceSecure\\n1. Introdução\\nObjetivo do Manual\\nEste manual tem como objetivo orientar clientes e atendentes sobre o funcionamento completo do\\nsistema de reconhecimento facial FaceSecure, abordando desde o cadastro, funcionalidades e\\nserviços até procedimentos de segurança, suporte e resolução de problemas. O documento\\ntambém serve como material de consulta para dúvidas frequentes.\\nVisão geral da FaceSecure\\nO FaceSecure é um sistema de reconhecimento facial que oferece autenticação segura, rápida e\\ninteligente para diversos cenários: acesso a sistemas, controle de entrada em ambientes físicos,\\nverificação de identidade em aplicativos e muito mais. A solução é baseada em inteligência artificial\\ne biometria facial, com foco em precisão, privacidade e facilidade de uso.\\nPúblico-alvo\\nA solução é voltada para empresas e usuários finais que buscam uma forma moderna e segura de\\nautenticação, substituindo senhas e cartões por reconhecimento facial.\\n2. Cadastro e Habilitação do Sistema\\nRequisitos para utilização\\n- Ser maior de 18 anos\\n- Possuir documento oficial com foto (RG, CNH, etc.)\\n- Dispositivo com câmera compatível\\n- Endereço de e-mail válido\\nEtapas do processo de cadastro\\n1. Acesse o app ou portal da FaceSecure\\n2. Informe dados pessoais (nome, CPF, e-mail)\\n3. Envie foto de documento oficial')"
            ]
          },
          "metadata": {},
          "execution_count": 15
        }
      ]
    },
    {
      "cell_type": "code",
      "source": [
        "#informações sobre o pdf\n",
        "import pprint\n",
        "\n",
        "pprint.pprint(doc[0].metadata)"
      ],
      "metadata": {
        "colab": {
          "base_uri": "https://localhost:8080/"
        },
        "id": "Jo-4-wFSFP8X",
        "outputId": "1b996729-ac00-4012-e326-afeab6b2dfc9",
        "collapsed": true
      },
      "execution_count": 16,
      "outputs": [
        {
          "output_type": "stream",
          "name": "stdout",
          "text": [
            "{'author': '',\n",
            " 'creationDate': 'D:20250728031816',\n",
            " 'creationdate': 'D:20250728031816',\n",
            " 'creator': '',\n",
            " 'file_path': 'manual_facesecure.pdf',\n",
            " 'format': 'PDF 1.3',\n",
            " 'keywords': '',\n",
            " 'modDate': '',\n",
            " 'moddate': '',\n",
            " 'page': 0,\n",
            " 'producer': 'PyFPDF 1.7.2 http://pyfpdf.googlecode.com/',\n",
            " 'source': 'manual_facesecure.pdf',\n",
            " 'subject': '',\n",
            " 'title': '',\n",
            " 'total_pages': 4,\n",
            " 'trapped': ''}\n"
          ]
        }
      ]
    },
    {
      "cell_type": "code",
      "source": [
        "#função para a extração dos textos\n",
        "\n",
        "def extract_text_pdf(file_path):\n",
        "  loader = PyMuPDFLoader(file_path)\n",
        "  doc = loader.load()  #na variável doc há uma lista com cada uma das páginas\n",
        "  content = \"\\n\".join([page.page_content for page in doc]) #percorre cada pasta extraindo o texto e concatenando em um única variável\n",
        "  return content"
      ],
      "metadata": {
        "id": "RrIAvTPAWunR"
      },
      "execution_count": 18,
      "outputs": []
    },
    {
      "cell_type": "code",
      "source": [
        "extract_text_pdf(file_path)"
      ],
      "metadata": {
        "colab": {
          "base_uri": "https://localhost:8080/",
          "height": 123
        },
        "id": "_5RwCcJsXnxh",
        "outputId": "49ee8007-bd20-4c59-eff2-732acc29b4d2"
      },
      "execution_count": 19,
      "outputs": [
        {
          "output_type": "execute_result",
          "data": {
            "text/plain": [
              "'Manual de Atendimento e Uso - FaceSecure\\n1. Introdução\\nObjetivo do Manual\\nEste manual tem como objetivo orientar clientes e atendentes sobre o funcionamento completo do\\nsistema de reconhecimento facial FaceSecure, abordando desde o cadastro, funcionalidades e\\nserviços até procedimentos de segurança, suporte e resolução de problemas. O documento\\ntambém serve como material de consulta para dúvidas frequentes.\\nVisão geral da FaceSecure\\nO FaceSecure é um sistema de reconhecimento facial que oferece autenticação segura, rápida e\\ninteligente para diversos cenários: acesso a sistemas, controle de entrada em ambientes físicos,\\nverificação de identidade em aplicativos e muito mais. A solução é baseada em inteligência artificial\\ne biometria facial, com foco em precisão, privacidade e facilidade de uso.\\nPúblico-alvo\\nA solução é voltada para empresas e usuários finais que buscam uma forma moderna e segura de\\nautenticação, substituindo senhas e cartões por reconhecimento facial.\\n2. Cadastro e Habilitação do Sistema\\nRequisitos para utilização\\n- Ser maior de 18 anos\\n- Possuir documento oficial com foto (RG, CNH, etc.)\\n- Dispositivo com câmera compatível\\n- Endereço de e-mail válido\\nEtapas do processo de cadastro\\n1. Acesse o app ou portal da FaceSecure\\n2. Informe dados pessoais (nome, CPF, e-mail)\\n3. Envie foto de documento oficial\\n4. Grave o vídeo para reconhecimento facial\\n5. Concorde com os termos de uso e política de privacidade\\nVerificação de identidade (KYC)\\nA validação é realizada automaticamente por inteligência artificial e revisada por uma equipe\\nhumana. Esse processo garante que a pessoa cadastrada é realmente quem diz ser.\\nPrazo para ativação do acesso\\nO processo leva até 2 dias úteis. Em caso de inconsistência nas imagens ou dados, o cliente é\\nnotificado para refazer etapas.\\nProblemas comuns no cadastro\\n- Documento ilegível\\n- Imagem fora do enquadramento\\n- Vídeo mal iluminado ou incompleto\\n- Divergência de dados pessoais\\n3. Acesso ao Sistema\\nAcesso via portal ou aplicativo\\nApós ativação, o acesso pode ser feito via site ou app, utilizando a biometria facial.\\nRecuperação de acesso\\nCaso haja dificuldade para autenticar, o usuário pode optar por redefinir o acesso com documento e\\nselfie.\\nBiometria facial e dispositivos autorizados\\nA gestão dos dispositivos pode ser feita em \"Minha Conta > Dispositivos\". É possível remover\\nacessos não reconhecidos.\\n4. Funcionalidades do Sistema\\n- Autenticação facial para login em sistemas\\n- Controle de acesso físico (portarias, catracas)\\n- Registro de ponto com reconhecimento facial\\n- Validação de identidade remota em processos digitais\\n- Notificações de tentativas de acesso\\n5. Integração com Sistemas Parceiros\\nAPI e SDK\\nDisponibilizamos API e SDK para integração com sistemas de terceiros. A documentação técnica\\npode ser acessada pelo portal de desenvolvedores.\\nPlataformas compatíveis\\nIntegrações disponíveis com Android, iOS, Windows, Linux, sistemas web e câmeras IP.\\n6. Segurança e Privacidade\\nAutenticação em dois fatores\\nAlém da biometria, é possível ativar 2FA com código por e-mail ou app autenticador.\\nProteção de dados biométricos\\nTodos os dados são criptografados, armazenados de forma segura e em conformidade com a\\nLGPD.\\nBoas práticas de segurança\\n- Use dispositivos atualizados\\n- Evite ambientes com pouca luz ao capturar o rosto\\n- Não compartilhe credenciais ou permissões\\n7. Suporte e Atendimento\\nCanais disponíveis\\n- Chat via app (24h)\\n- E-mail: suporte@facesecure.com\\n- Telefone: 0800-999-0000 (dias úteis, 8h às 20h)\\nAcessibilidade\\nAtendimento adaptado para pessoas com deficiência visual e auditiva, com suporte por Libras e\\nleitores de tela.\\nOuvidoria\\nCaso o atendimento inicial não resolva, envie um e-mail para ouvidoria@facesecure.com. Resposta\\nem até 10 dias úteis.\\n8. Encerramento de Conta ou Serviço\\nA solicitação pode ser feita via app ou portal. Após a confirmação, os dados biométricos serão\\neliminados dos servidores em até 10 dias úteis, conforme a LGPD.\\n9. Problemas Técnicos Comuns\\n- Erro na leitura facial: verifique iluminação e enquadramento.\\n- Falha de conexão: teste a rede ou atualize o app.\\n- Dispositivo não compatível: consulte os requisitos mínimos no site.\\n10. Termos e Políticas\\n- Termos de uso e política de privacidade: disponíveis no site\\n- Política de dados biométricos e consentimento\\n- Código de ética e conduta na coleta de dados\\n11. Glossário\\n- Biometria facial: tecnologia que reconhece rostos humanos com base em características únicas\\n- SDK: Kit de Desenvolvimento de Software\\n- LGPD: Lei Geral de Proteção de Dados\\n- 2FA: Autenticação em dois fatores'"
            ],
            "application/vnd.google.colaboratory.intrinsic+json": {
              "type": "string"
            }
          },
          "metadata": {},
          "execution_count": 19
        }
      ]
    },
    {
      "cell_type": "code",
      "source": [
        "#leitura de todos os arquivos .pdf contidos em uma pasta\n",
        "\n",
        "docs_path = Path(\"/content\") #pasta padrão do colab\n",
        "pdf_files = [f for f in docs_path.glob(\"*.pdf\")]\n",
        "\n",
        "print(pdf_files)"
      ],
      "metadata": {
        "colab": {
          "base_uri": "https://localhost:8080/"
        },
        "id": "4wbP0yenX6cB",
        "outputId": "0e0954ee-18e4-4d2b-d741-931794516b6a"
      },
      "execution_count": 21,
      "outputs": [
        {
          "output_type": "stream",
          "name": "stdout",
          "text": [
            "[PosixPath('/content/manual_facesecure.pdf')]\n"
          ]
        }
      ]
    },
    {
      "cell_type": "code",
      "source": [
        "loaded_contents = [extract_file_pdf(pdf) for pdf in pdf_files] #percorre cada um dos arquivos pdf e faz a extração por meio da função extract_file_pdf\n",
        "len(pdf_files)"
      ],
      "metadata": {
        "colab": {
          "base_uri": "https://localhost:8080/"
        },
        "id": "N3mlfZ9hY4it",
        "outputId": "a2d4493f-3e57-46ff-8985-436003e95679"
      },
      "execution_count": 22,
      "outputs": [
        {
          "output_type": "execute_result",
          "data": {
            "text/plain": [
              "1"
            ]
          },
          "metadata": {},
          "execution_count": 22
        }
      ]
    }
  ]
}