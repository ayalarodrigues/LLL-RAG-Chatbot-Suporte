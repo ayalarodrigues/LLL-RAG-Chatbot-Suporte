{
  "nbformat": 4,
  "nbformat_minor": 0,
  "metadata": {
    "colab": {
      "provenance": [],
      "authorship_tag": "ABX9TyN+aBCLJA+eiU6wnBL6ON+J",
      "include_colab_link": true
    },
    "kernelspec": {
      "name": "python3",
      "display_name": "Python 3"
    },
    "language_info": {
      "name": "python"
    }
  },
  "cells": [
    {
      "cell_type": "markdown",
      "metadata": {
        "id": "view-in-github",
        "colab_type": "text"
      },
      "source": [
        "<a href=\"https://colab.research.google.com/github/ayalarodrigues/LLL-RAG-Chatbot-Suporte/blob/main/LLM_RAG_Chatbot.ipynb\" target=\"_parent\"><img src=\"https://colab.research.google.com/assets/colab-badge.svg\" alt=\"Open In Colab\"/></a>"
      ]
    },
    {
      "cell_type": "markdown",
      "source": [
        "Instalação das bibliotecas\n"
      ],
      "metadata": {
        "id": "R6ZXVjL0Kn4B"
      }
    },
    {
      "cell_type": "code",
      "execution_count": 5,
      "metadata": {
        "colab": {
          "base_uri": "https://localhost:8080/"
        },
        "collapsed": true,
        "id": "zUSOXloDFe48",
        "outputId": "512aaba2-e38f-4241-bbb6-05504c58b4f6"
      },
      "outputs": [
        {
          "output_type": "stream",
          "name": "stdout",
          "text": [
            "\u001b[?25l   \u001b[90m━━━━━━━━━━━━━━━━━━━━━━━━━━━━━━━━━━━━━━━━\u001b[0m \u001b[32m0.0/2.5 MB\u001b[0m \u001b[31m?\u001b[0m eta \u001b[36m-:--:--\u001b[0m\r\u001b[2K   \u001b[91m━━━━━━━━━━━\u001b[0m\u001b[90m╺\u001b[0m\u001b[90m━━━━━━━━━━━━━━━━━━━━━━━━━━━━\u001b[0m \u001b[32m0.7/2.5 MB\u001b[0m \u001b[31m21.0 MB/s\u001b[0m eta \u001b[36m0:00:01\u001b[0m\r\u001b[2K   \u001b[91m━━━━━━━━━━━━━━━━━━━━━━━━━━━━━━━━━━━━━━━\u001b[0m\u001b[91m╸\u001b[0m \u001b[32m2.5/2.5 MB\u001b[0m \u001b[31m46.6 MB/s\u001b[0m eta \u001b[36m0:00:01\u001b[0m\r\u001b[2K   \u001b[90m━━━━━━━━━━━━━━━━━━━━━━━━━━━━━━━━━━━━━━━━\u001b[0m \u001b[32m2.5/2.5 MB\u001b[0m \u001b[31m33.8 MB/s\u001b[0m eta \u001b[36m0:00:00\u001b[0m\n",
            "\u001b[2K   \u001b[90m━━━━━━━━━━━━━━━━━━━━━━━━━━━━━━━━━━━━━━━━\u001b[0m \u001b[32m131.1/131.1 kB\u001b[0m \u001b[31m10.4 MB/s\u001b[0m eta \u001b[36m0:00:00\u001b[0m\n",
            "\u001b[2K   \u001b[90m━━━━━━━━━━━━━━━━━━━━━━━━━━━━━━━━━━━━━━━━\u001b[0m \u001b[32m45.2/45.2 kB\u001b[0m \u001b[31m3.3 MB/s\u001b[0m eta \u001b[36m0:00:00\u001b[0m\n",
            "\u001b[2K   \u001b[90m━━━━━━━━━━━━━━━━━━━━━━━━━━━━━━━━━━━━━━━━\u001b[0m \u001b[32m50.9/50.9 kB\u001b[0m \u001b[31m4.4 MB/s\u001b[0m eta \u001b[36m0:00:00\u001b[0m\n",
            "\u001b[2K   \u001b[90m━━━━━━━━━━━━━━━━━━━━━━━━━━━━━━━━━━━━━━━━\u001b[0m \u001b[32m31.3/31.3 MB\u001b[0m \u001b[31m58.0 MB/s\u001b[0m eta \u001b[36m0:00:00\u001b[0m\n",
            "\u001b[2K   \u001b[90m━━━━━━━━━━━━━━━━━━━━━━━━━━━━━━━━━━━━━━━━\u001b[0m \u001b[32m24.1/24.1 MB\u001b[0m \u001b[31m67.6 MB/s\u001b[0m eta \u001b[36m0:00:00\u001b[0m\n",
            "\u001b[2K   \u001b[90m━━━━━━━━━━━━━━━━━━━━━━━━━━━━━━━━━━━━━━━━\u001b[0m \u001b[32m363.4/363.4 MB\u001b[0m \u001b[31m4.4 MB/s\u001b[0m eta \u001b[36m0:00:00\u001b[0m\n",
            "\u001b[2K   \u001b[90m━━━━━━━━━━━━━━━━━━━━━━━━━━━━━━━━━━━━━━━━\u001b[0m \u001b[32m13.8/13.8 MB\u001b[0m \u001b[31m77.2 MB/s\u001b[0m eta \u001b[36m0:00:00\u001b[0m\n",
            "\u001b[2K   \u001b[90m━━━━━━━━━━━━━━━━━━━━━━━━━━━━━━━━━━━━━━━━\u001b[0m \u001b[32m24.6/24.6 MB\u001b[0m \u001b[31m54.5 MB/s\u001b[0m eta \u001b[36m0:00:00\u001b[0m\n",
            "\u001b[2K   \u001b[90m━━━━━━━━━━━━━━━━━━━━━━━━━━━━━━━━━━━━━━━━\u001b[0m \u001b[32m883.7/883.7 kB\u001b[0m \u001b[31m35.1 MB/s\u001b[0m eta \u001b[36m0:00:00\u001b[0m\n",
            "\u001b[2K   \u001b[90m━━━━━━━━━━━━━━━━━━━━━━━━━━━━━━━━━━━━━━━━\u001b[0m \u001b[32m664.8/664.8 MB\u001b[0m \u001b[31m1.2 MB/s\u001b[0m eta \u001b[36m0:00:00\u001b[0m\n",
            "\u001b[2K   \u001b[90m━━━━━━━━━━━━━━━━━━━━━━━━━━━━━━━━━━━━━━━━\u001b[0m \u001b[32m211.5/211.5 MB\u001b[0m \u001b[31m4.1 MB/s\u001b[0m eta \u001b[36m0:00:00\u001b[0m\n",
            "\u001b[2K   \u001b[90m━━━━━━━━━━━━━━━━━━━━━━━━━━━━━━━━━━━━━━━━\u001b[0m \u001b[32m56.3/56.3 MB\u001b[0m \u001b[31m12.7 MB/s\u001b[0m eta \u001b[36m0:00:00\u001b[0m\n",
            "\u001b[2K   \u001b[90m━━━━━━━━━━━━━━━━━━━━━━━━━━━━━━━━━━━━━━━━\u001b[0m \u001b[32m127.9/127.9 MB\u001b[0m \u001b[31m7.3 MB/s\u001b[0m eta \u001b[36m0:00:00\u001b[0m\n",
            "\u001b[2K   \u001b[90m━━━━━━━━━━━━━━━━━━━━━━━━━━━━━━━━━━━━━━━━\u001b[0m \u001b[32m207.5/207.5 MB\u001b[0m \u001b[31m5.3 MB/s\u001b[0m eta \u001b[36m0:00:00\u001b[0m\n",
            "\u001b[2K   \u001b[90m━━━━━━━━━━━━━━━━━━━━━━━━━━━━━━━━━━━━━━━━\u001b[0m \u001b[32m21.1/21.1 MB\u001b[0m \u001b[31m56.7 MB/s\u001b[0m eta \u001b[36m0:00:00\u001b[0m\n",
            "\u001b[?25h"
          ]
        }
      ],
      "source": [
        "!pip install langchain langchain-groq langchain_community langchain-huggingface --q\n",
        "!pip install faiss-cpu sentence-transformers PyMuPDF --q\n",
        "\n",
        "#langchain-grop: acesso aos modelos via API\n",
        "#faiss-cpu: onde serão armazenados os documentos(pode ser cpu ou gpu)\n",
        "#sentence-transformers: conversão dos textos para números\n",
        "#PyMuPDF: leitura e processamento de texto\n"
      ]
    },
    {
      "cell_type": "markdown",
      "source": [
        "Importações"
      ],
      "metadata": {
        "id": "lqwEptqyNkkJ"
      }
    },
    {
      "cell_type": "code",
      "source": [
        "from langchain_groq import ChatGroq\n",
        "from langchain_core.output_parsers import StrOutputParser\n",
        "from langchain_core.prompts import ChatPromptTemplate\n",
        "import os\n",
        "import getpass"
      ],
      "metadata": {
        "id": "cUNAprbRNw5T"
      },
      "execution_count": 6,
      "outputs": []
    },
    {
      "cell_type": "markdown",
      "source": [
        "Carregamento da LLM"
      ],
      "metadata": {
        "id": "Ml6oQP9ZOvh5"
      }
    },
    {
      "cell_type": "code",
      "source": [
        "os.environ[\"GROQ_API_KEY\"] = getpass.getpass()\n",
        "#getpass não exibe a chave da API no CF\n"
      ],
      "metadata": {
        "colab": {
          "base_uri": "https://localhost:8080/"
        },
        "id": "NChUhnW1Ozwt",
        "outputId": "16bea975-3f05-49f7-df05-6907f7d9b716"
      },
      "execution_count": 7,
      "outputs": [
        {
          "name": "stdout",
          "output_type": "stream",
          "text": [
            "··········\n"
          ]
        }
      ]
    },
    {
      "cell_type": "code",
      "source": [
        "def load_llm(id_model, temperature):\n",
        "  llm = ChatGroq(\n",
        "      model = id_model,\n",
        "      temperature = temperature,\n",
        "      max_tokens = None,\n",
        "      timeout = None,\n",
        "      max_retries = 2\n",
        "  )\n",
        "  return llm"
      ],
      "metadata": {
        "id": "sftfkWUbUUds"
      },
      "execution_count": 8,
      "outputs": []
    },
    {
      "cell_type": "code",
      "source": [
        "#teste\n",
        "id_model = \"llama3-70b-8192\" # @param {type: \"string\"}\n",
        "temperature = 0.7 # @param {type: \"slider\", min: 0.1, max: 1.5, step: 0.1}\n",
        "\n",
        "llm = load_llm(id_model, temperature)"
      ],
      "metadata": {
        "id": "du_H7HLXXQZC"
      },
      "execution_count": 9,
      "outputs": []
    },
    {
      "cell_type": "code",
      "source": [
        "#teste\n",
        "prompt = \"Como alterar minha senha?\" # @param {type: \"string\"}\n",
        "\n",
        "template = ChatPromptTemplate.from_messages([\n",
        "    (\"system\", \"Você é um assistente virtual prestativo e está respondendo perguntas gerais\"),\n",
        "    (\"human\", \"{prompt}\")\n",
        "])\n",
        "\n",
        "chain = template | llm | StrOutputParser()\n",
        "\n",
        "res = chain.invoke({\"prompt\": prompt})\n",
        "res"
      ],
      "metadata": {
        "colab": {
          "base_uri": "https://localhost:8080/",
          "height": 123
        },
        "collapsed": true,
        "id": "tYixFDgBXppf",
        "outputId": "956e90d8-fcc4-405c-e860-86ce262f1111"
      },
      "execution_count": 10,
      "outputs": [
        {
          "output_type": "execute_result",
          "data": {
            "text/plain": [
              "'Alterar a senha é uma boa prática de segurança!\\n\\nPara alterar sua senha, você precisará seguir os seguintes passos:\\n\\n**Se você estiver usando um site ou aplicativo:**\\n\\n1. Faça login em sua conta com sua senha atual.\\n2. Clique em \"Conta\" ou \"Perfil\" e, em seguida, em \"Segurança\" ou \"Senha\".\\n3. Clique em \"Alterar senha\" ou \"Redefinir senha\".\\n4. Digite sua senha atual para confirmar sua identidade.\\n5. Insira sua nova senha duas vezes (para confirmar).\\n6. Clique em \"Salvar\" ou \"Alterar senha\" para confirmar as alterações.\\n\\n**Se você estiver usando um dispositivo móvel:**\\n\\n1. Abra o aplicativo ou vá para a tela de login.\\n2. Toque em \"Esqueceu a senha\" ou \"Redefinir senha\".\\n3. Insira seu endereço de e-mail ou nome de usuário associado à sua conta.\\n4. Siga as instruções para redefinir sua senha (geralmente, você receberá um e-mail com um link para redefinir a senha).\\n5. Insira sua nova senha duas vezes (para confirmar).\\n6. Toque em \"Salvar\" ou \"Alterar senha\" para confirmar as alterações.\\n\\n**Dicas de segurança:**\\n\\n* Use senhas fortes e únicas para cada conta.\\n* Evite usar informações pessoais, como seu nome ou data de nascimento, como senha.\\n* Altere suas senhas regularmente (a cada 60 a 90 dias) para manter sua segurança.\\n* Use um gerenciador de senhas seguro para armazenar e gerenciar suas senhas.\\n\\nLembre-se de que, se você tiver esquecido sua senha, você pode sempre redefini-la seguindo os passos acima. Se tiver alguma dúvida adicional, sinta-se à vontade para perguntar!'"
            ],
            "application/vnd.google.colaboratory.intrinsic+json": {
              "type": "string"
            }
          },
          "metadata": {},
          "execution_count": 10
        }
      ]
    },
    {
      "cell_type": "code",
      "source": [
        "def show_res(res):\n",
        "  from IPython.display import display, Markdown\n",
        "  if \"</think>\" in res:\n",
        "    res = res.split(\"</think>\")[-1].strip()  #o modelo pode retornar o passo a passo necessário para resolução do problema\n",
        "  else:\n",
        "    res = res.strip()\n",
        "  display(Markdown(res))\n",
        "\n",
        "\n",
        "show_res(res)\n",
        "\n",
        " #a tag </think> serve para delimitar pensamentos intermediários, o que permite visualizar o \"raciocínio\" utilizado na resposta\n",
        " #optei por remover a tag por não ser de interesse da persona"
      ],
      "metadata": {
        "colab": {
          "base_uri": "https://localhost:8080/",
          "height": 508
        },
        "id": "wvr4m2KvYko8",
        "outputId": "de635ba7-7e63-424a-a235-a583a008b40e",
        "collapsed": true
      },
      "execution_count": 11,
      "outputs": [
        {
          "output_type": "display_data",
          "data": {
            "text/plain": [
              "<IPython.core.display.Markdown object>"
            ],
            "text/markdown": "Alterar a senha é uma boa prática de segurança!\n\nPara alterar sua senha, você precisará seguir os seguintes passos:\n\n**Se você estiver usando um site ou aplicativo:**\n\n1. Faça login em sua conta com sua senha atual.\n2. Clique em \"Conta\" ou \"Perfil\" e, em seguida, em \"Segurança\" ou \"Senha\".\n3. Clique em \"Alterar senha\" ou \"Redefinir senha\".\n4. Digite sua senha atual para confirmar sua identidade.\n5. Insira sua nova senha duas vezes (para confirmar).\n6. Clique em \"Salvar\" ou \"Alterar senha\" para confirmar as alterações.\n\n**Se você estiver usando um dispositivo móvel:**\n\n1. Abra o aplicativo ou vá para a tela de login.\n2. Toque em \"Esqueceu a senha\" ou \"Redefinir senha\".\n3. Insira seu endereço de e-mail ou nome de usuário associado à sua conta.\n4. Siga as instruções para redefinir sua senha (geralmente, você receberá um e-mail com um link para redefinir a senha).\n5. Insira sua nova senha duas vezes (para confirmar).\n6. Toque em \"Salvar\" ou \"Alterar senha\" para confirmar as alterações.\n\n**Dicas de segurança:**\n\n* Use senhas fortes e únicas para cada conta.\n* Evite usar informações pessoais, como seu nome ou data de nascimento, como senha.\n* Altere suas senhas regularmente (a cada 60 a 90 dias) para manter sua segurança.\n* Use um gerenciador de senhas seguro para armazenar e gerenciar suas senhas.\n\nLembre-se de que, se você tiver esquecido sua senha, você pode sempre redefini-la seguindo os passos acima. Se tiver alguma dúvida adicional, sinta-se à vontade para perguntar!"
          },
          "metadata": {}
        }
      ]
    },
    {
      "cell_type": "markdown",
      "source": [
        "Definição do contexto"
      ],
      "metadata": {
        "id": "CP-ZIZimxJ8M"
      }
    },
    {
      "cell_type": "markdown",
      "source": [
        "Há basicamente duas possibilidades para o exemplo de teste: o algoritmo não consegue retornar com exatidão o caminho exato para recuperar a senha ou a informação foi \"inventada\"(processo de alucinação).\n",
        "\n",
        "O modelo quer apenas prever a próxima combinação de palavras que faça sentido. Nem sempre poderá ser entendido que o modelo não sabe essa informação com exatidão. O modelo pode apenas sugerir um caminho comum, como o retornado no exemplo, porém, o algoritmo não possui meios de conhecer o caminho exato sem consultar uma fonte que comprove.\n",
        "\n",
        "Nesse aspecto, é importante que seja fornecido um contexto que tenha as informações exatas para a LLM e assim a dúvida do usuário pode ser respondida.\n",
        "\n",
        "Para a obtenção do contexto, nesse estudo de caso, será feito o carregamento do documento que posteriormente será processado pelo pipeline de RAG.\n",
        "\n"
      ],
      "metadata": {
        "id": "c3QjYjskxaTM"
      }
    },
    {
      "cell_type": "code",
      "source": [
        "#teste\n",
        "\n",
        "context = \"\"\"\n",
        "Para alterar uma senha no aplicativo, clique no menu 'Minha conta' e selecione 'Alterar senha'.\n",
        "Para alterar a senha pelo site, acesse 'Configurações' no menu do topo. Em seguida, selecione 'Minha conta' e 'Alterar senha'.\n",
        "\"\"\"\n",
        "\n",
        "prompt = f\"\"\"\n",
        "Como alterar minha senha?\n",
        "\n",
        "Contexto: {context}\n",
        "\"\"\""
      ],
      "metadata": {
        "id": "MAzo4VUzzN18"
      },
      "execution_count": 12,
      "outputs": []
    },
    {
      "cell_type": "code",
      "source": [
        "#teste\n",
        "\n",
        "prompt"
      ],
      "metadata": {
        "colab": {
          "base_uri": "https://localhost:8080/",
          "height": 53
        },
        "id": "VJNlL1Xjz-Cn",
        "outputId": "f526593d-acc9-41be-9b2d-caacca29b614"
      },
      "execution_count": 13,
      "outputs": [
        {
          "output_type": "execute_result",
          "data": {
            "text/plain": [
              "\"\\nComo alterar minha senha?\\n\\nContexto: \\nPara alterar uma senha no aplicativo, clique no menu 'Minha conta' e selecione 'Alterar senha'.\\nPara alterar a senha pelo site, acesse 'Configurações' no menu do topo. Em seguida, selecione 'Minha conta' e 'Alterar senha'.\\n\\n\""
            ],
            "application/vnd.google.colaboratory.intrinsic+json": {
              "type": "string"
            }
          },
          "metadata": {},
          "execution_count": 13
        }
      ]
    },
    {
      "cell_type": "code",
      "source": [
        "#teste\n",
        "\n",
        "res = chain.invoke({\"prompt\": prompt})\n",
        "show_res(res)\n"
      ],
      "metadata": {
        "colab": {
          "base_uri": "https://localhost:8080/",
          "height": 247
        },
        "collapsed": true,
        "id": "FXJSKPFD0JRl",
        "outputId": "494f7a4a-ef7e-4905-839a-4899d244d51b"
      },
      "execution_count": 14,
      "outputs": [
        {
          "output_type": "display_data",
          "data": {
            "text/plain": [
              "<IPython.core.display.Markdown object>"
            ],
            "text/markdown": "Para alterar sua senha, você pode seguir os seguintes passos:\n\n**No aplicativo:**\n\n1. Clique no menu \"Minha conta\"\n2. Selecione \"Alterar senha\"\n\n**No site:**\n\n1. Acesse o menu do topo e clique em \"Configurações\"\n2. Selecione \"Minha conta\"\n3. Clique em \"Alterar senha\"\n\nEm seguida, você poderá inserir sua senha atual e criar uma nova senha. Lembre-se de escolher uma senha forte e única para proteger sua conta!"
          },
          "metadata": {}
        }
      ]
    },
    {
      "cell_type": "markdown",
      "source": [
        "Prompt para o RAG"
      ],
      "metadata": {
        "id": "0qGSR9qx2xD0"
      }
    },
    {
      "cell_type": "code",
      "source": [
        "template_rag = \"\"\"\n",
        "Pergunta: {input}\n",
        "Contexto: {context}\n",
        "\"\"\""
      ],
      "metadata": {
        "id": "XpaVEG0b2v6H"
      },
      "execution_count": 18,
      "outputs": []
    },
    {
      "cell_type": "code",
      "source": [
        "from langchain.prompts import PromptTemplate #é utilizado para prompts personalizados\n",
        "\n",
        "prompt_rag = PromptTemplate.from_template(template_rag)\n",
        "print(prompt_rag)\n"
      ],
      "metadata": {
        "colab": {
          "base_uri": "https://localhost:8080/"
        },
        "id": "jsm0oJMe3No2",
        "outputId": "93e91416-7191-4630-8233-80cf1b45e3d0"
      },
      "execution_count": 19,
      "outputs": [
        {
          "output_type": "stream",
          "name": "stdout",
          "text": [
            "input_variables=['context', 'input'] input_types={} partial_variables={} template='\\nPergunta: {input}\\nContexto: {context}\\n'\n"
          ]
        }
      ]
    },
    {
      "cell_type": "markdown",
      "source": [
        "Criação dos textos e geração da Chain"
      ],
      "metadata": {
        "id": "YxGONSMs4I3r"
      }
    },
    {
      "cell_type": "code",
      "source": [
        "chaing_rag = prompt_rag | llm | StrOutputParser()\n",
        "\n",
        "input = \"Como alterar minha senha?\"\n",
        "res = chaing_rag.invoke({\"input\": input, \"context\": context}) # o envio de variáveis deve seguir de acordo com o que foi definido no template do prompt\n",
        "show_res(res)"
      ],
      "metadata": {
        "colab": {
          "base_uri": "https://localhost:8080/",
          "height": 247
        },
        "collapsed": true,
        "id": "P0xaVojb4H_K",
        "outputId": "22fdcbd5-d757-4c9e-d53a-44fbc8b65432"
      },
      "execution_count": 20,
      "outputs": [
        {
          "output_type": "display_data",
          "data": {
            "text/plain": [
              "<IPython.core.display.Markdown object>"
            ],
            "text/markdown": "Para alterar sua senha, siga os seguintes passos:\n\n**No aplicativo:**\n\n1. Clique no menu \"Minha conta\".\n2. Selecione \"Alterar senha\".\n\n**No site:**\n\n1. Acesse \"Configurações\" no menu do topo.\n2. Selecione \"Minha conta\".\n3. Clique em \"Alterar senha\".\n\nSiga as instruções adicionais para criar uma nova senha segura e forte!"
          },
          "metadata": {}
        }
      ]
    },
    {
      "cell_type": "markdown",
      "source": [
        "Etapas de Indexação"
      ],
      "metadata": {
        "id": "ZmcPhqUD8a4V"
      }
    },
    {
      "cell_type": "markdown",
      "source": [
        "Para este estudo de caso será feito o uso de funções(Document Loaders) para importar dados na LangChain.\n",
        "\n",
        "Os documentos serão quebrados para melhor indexação e processamento do modelo.\n",
        "\n",
        "Na sequência, será feito o embedding(conversão dos textos em representações numéricas) em cada pedaço e por fim os mesmos serão salvos em um banco de dados vetorial."
      ],
      "metadata": {
        "id": "yxrpZ-YP9zhf"
      }
    },
    {
      "cell_type": "markdown",
      "source": [
        "Carregamento do conteúdo dos documentos"
      ],
      "metadata": {
        "id": "nq0czOlc8dEZ"
      }
    },
    {
      "cell_type": "code",
      "source": [
        "from google.colab import files\n",
        "\n",
        "uploaded = files.upload()\n",
        "file_path =list(uploaded.keys())[0]\n",
        "\n",
        "print(f\"Arquivo carregado: {file_path}\")"
      ],
      "metadata": {
        "colab": {
          "base_uri": "https://localhost:8080/",
          "height": 90
        },
        "id": "oapPf1vh_iuj",
        "outputId": "a5310e39-8e37-4b44-dae3-aede75e9bd98"
      },
      "execution_count": 22,
      "outputs": [
        {
          "output_type": "display_data",
          "data": {
            "text/plain": [
              "<IPython.core.display.HTML object>"
            ],
            "text/html": [
              "\n",
              "     <input type=\"file\" id=\"files-1994694c-afaa-41c7-9d10-0f9b13dc1517\" name=\"files[]\" multiple disabled\n",
              "        style=\"border:none\" />\n",
              "     <output id=\"result-1994694c-afaa-41c7-9d10-0f9b13dc1517\">\n",
              "      Upload widget is only available when the cell has been executed in the\n",
              "      current browser session. Please rerun this cell to enable.\n",
              "      </output>\n",
              "      <script>// Copyright 2017 Google LLC\n",
              "//\n",
              "// Licensed under the Apache License, Version 2.0 (the \"License\");\n",
              "// you may not use this file except in compliance with the License.\n",
              "// You may obtain a copy of the License at\n",
              "//\n",
              "//      http://www.apache.org/licenses/LICENSE-2.0\n",
              "//\n",
              "// Unless required by applicable law or agreed to in writing, software\n",
              "// distributed under the License is distributed on an \"AS IS\" BASIS,\n",
              "// WITHOUT WARRANTIES OR CONDITIONS OF ANY KIND, either express or implied.\n",
              "// See the License for the specific language governing permissions and\n",
              "// limitations under the License.\n",
              "\n",
              "/**\n",
              " * @fileoverview Helpers for google.colab Python module.\n",
              " */\n",
              "(function(scope) {\n",
              "function span(text, styleAttributes = {}) {\n",
              "  const element = document.createElement('span');\n",
              "  element.textContent = text;\n",
              "  for (const key of Object.keys(styleAttributes)) {\n",
              "    element.style[key] = styleAttributes[key];\n",
              "  }\n",
              "  return element;\n",
              "}\n",
              "\n",
              "// Max number of bytes which will be uploaded at a time.\n",
              "const MAX_PAYLOAD_SIZE = 100 * 1024;\n",
              "\n",
              "function _uploadFiles(inputId, outputId) {\n",
              "  const steps = uploadFilesStep(inputId, outputId);\n",
              "  const outputElement = document.getElementById(outputId);\n",
              "  // Cache steps on the outputElement to make it available for the next call\n",
              "  // to uploadFilesContinue from Python.\n",
              "  outputElement.steps = steps;\n",
              "\n",
              "  return _uploadFilesContinue(outputId);\n",
              "}\n",
              "\n",
              "// This is roughly an async generator (not supported in the browser yet),\n",
              "// where there are multiple asynchronous steps and the Python side is going\n",
              "// to poll for completion of each step.\n",
              "// This uses a Promise to block the python side on completion of each step,\n",
              "// then passes the result of the previous step as the input to the next step.\n",
              "function _uploadFilesContinue(outputId) {\n",
              "  const outputElement = document.getElementById(outputId);\n",
              "  const steps = outputElement.steps;\n",
              "\n",
              "  const next = steps.next(outputElement.lastPromiseValue);\n",
              "  return Promise.resolve(next.value.promise).then((value) => {\n",
              "    // Cache the last promise value to make it available to the next\n",
              "    // step of the generator.\n",
              "    outputElement.lastPromiseValue = value;\n",
              "    return next.value.response;\n",
              "  });\n",
              "}\n",
              "\n",
              "/**\n",
              " * Generator function which is called between each async step of the upload\n",
              " * process.\n",
              " * @param {string} inputId Element ID of the input file picker element.\n",
              " * @param {string} outputId Element ID of the output display.\n",
              " * @return {!Iterable<!Object>} Iterable of next steps.\n",
              " */\n",
              "function* uploadFilesStep(inputId, outputId) {\n",
              "  const inputElement = document.getElementById(inputId);\n",
              "  inputElement.disabled = false;\n",
              "\n",
              "  const outputElement = document.getElementById(outputId);\n",
              "  outputElement.innerHTML = '';\n",
              "\n",
              "  const pickedPromise = new Promise((resolve) => {\n",
              "    inputElement.addEventListener('change', (e) => {\n",
              "      resolve(e.target.files);\n",
              "    });\n",
              "  });\n",
              "\n",
              "  const cancel = document.createElement('button');\n",
              "  inputElement.parentElement.appendChild(cancel);\n",
              "  cancel.textContent = 'Cancel upload';\n",
              "  const cancelPromise = new Promise((resolve) => {\n",
              "    cancel.onclick = () => {\n",
              "      resolve(null);\n",
              "    };\n",
              "  });\n",
              "\n",
              "  // Wait for the user to pick the files.\n",
              "  const files = yield {\n",
              "    promise: Promise.race([pickedPromise, cancelPromise]),\n",
              "    response: {\n",
              "      action: 'starting',\n",
              "    }\n",
              "  };\n",
              "\n",
              "  cancel.remove();\n",
              "\n",
              "  // Disable the input element since further picks are not allowed.\n",
              "  inputElement.disabled = true;\n",
              "\n",
              "  if (!files) {\n",
              "    return {\n",
              "      response: {\n",
              "        action: 'complete',\n",
              "      }\n",
              "    };\n",
              "  }\n",
              "\n",
              "  for (const file of files) {\n",
              "    const li = document.createElement('li');\n",
              "    li.append(span(file.name, {fontWeight: 'bold'}));\n",
              "    li.append(span(\n",
              "        `(${file.type || 'n/a'}) - ${file.size} bytes, ` +\n",
              "        `last modified: ${\n",
              "            file.lastModifiedDate ? file.lastModifiedDate.toLocaleDateString() :\n",
              "                                    'n/a'} - `));\n",
              "    const percent = span('0% done');\n",
              "    li.appendChild(percent);\n",
              "\n",
              "    outputElement.appendChild(li);\n",
              "\n",
              "    const fileDataPromise = new Promise((resolve) => {\n",
              "      const reader = new FileReader();\n",
              "      reader.onload = (e) => {\n",
              "        resolve(e.target.result);\n",
              "      };\n",
              "      reader.readAsArrayBuffer(file);\n",
              "    });\n",
              "    // Wait for the data to be ready.\n",
              "    let fileData = yield {\n",
              "      promise: fileDataPromise,\n",
              "      response: {\n",
              "        action: 'continue',\n",
              "      }\n",
              "    };\n",
              "\n",
              "    // Use a chunked sending to avoid message size limits. See b/62115660.\n",
              "    let position = 0;\n",
              "    do {\n",
              "      const length = Math.min(fileData.byteLength - position, MAX_PAYLOAD_SIZE);\n",
              "      const chunk = new Uint8Array(fileData, position, length);\n",
              "      position += length;\n",
              "\n",
              "      const base64 = btoa(String.fromCharCode.apply(null, chunk));\n",
              "      yield {\n",
              "        response: {\n",
              "          action: 'append',\n",
              "          file: file.name,\n",
              "          data: base64,\n",
              "        },\n",
              "      };\n",
              "\n",
              "      let percentDone = fileData.byteLength === 0 ?\n",
              "          100 :\n",
              "          Math.round((position / fileData.byteLength) * 100);\n",
              "      percent.textContent = `${percentDone}% done`;\n",
              "\n",
              "    } while (position < fileData.byteLength);\n",
              "  }\n",
              "\n",
              "  // All done.\n",
              "  yield {\n",
              "    response: {\n",
              "      action: 'complete',\n",
              "    }\n",
              "  };\n",
              "}\n",
              "\n",
              "scope.google = scope.google || {};\n",
              "scope.google.colab = scope.google.colab || {};\n",
              "scope.google.colab._files = {\n",
              "  _uploadFiles,\n",
              "  _uploadFilesContinue,\n",
              "};\n",
              "})(self);\n",
              "</script> "
            ]
          },
          "metadata": {}
        },
        {
          "output_type": "stream",
          "name": "stdout",
          "text": [
            "Saving manual_facesecure.pdf to manual_facesecure.pdf\n",
            "Arquivo carregado: manual_facesecure.pdf\n"
          ]
        }
      ]
    },
    {
      "cell_type": "code",
      "source": [
        "#carregar e processar o conteúdo de um arquivo .pdf\n",
        "\n",
        "from pathlib import Path\n",
        "from langchain_community.document_loaders import PyMuPDFLoader\n",
        "\n",
        "file_path = \"manual_facesecure.pdf\"\n",
        "\n",
        "loader = PyMuPDFLoader(file_path) #na chamada da função, o documento é lido e transformado em uma lista de objetos do tipo 'documents', cada um representando uma página do pdf com o texto extraído\n",
        "doc = loader.load()\n",
        "doc[0] #cada posição é uma página do documento"
      ],
      "metadata": {
        "colab": {
          "base_uri": "https://localhost:8080/"
        },
        "id": "_zbnQdVPDiaK",
        "outputId": "c4ae6069-71ba-49cd-bb13-afca94f0997b"
      },
      "execution_count": 25,
      "outputs": [
        {
          "output_type": "execute_result",
          "data": {
            "text/plain": [
              "Document(metadata={'producer': 'PyFPDF 1.7.2 http://pyfpdf.googlecode.com/', 'creator': '', 'creationdate': 'D:20250728031816', 'source': 'manual_facesecure.pdf', 'file_path': 'manual_facesecure.pdf', 'total_pages': 4, 'format': 'PDF 1.3', 'title': '', 'author': '', 'subject': '', 'keywords': '', 'moddate': '', 'trapped': '', 'modDate': '', 'creationDate': 'D:20250728031816', 'page': 0}, page_content='Manual de Atendimento e Uso - FaceSecure\\n1. Introdução\\nObjetivo do Manual\\nEste manual tem como objetivo orientar clientes e atendentes sobre o funcionamento completo do\\nsistema de reconhecimento facial FaceSecure, abordando desde o cadastro, funcionalidades e\\nserviços até procedimentos de segurança, suporte e resolução de problemas. O documento\\ntambém serve como material de consulta para dúvidas frequentes.\\nVisão geral da FaceSecure\\nO FaceSecure é um sistema de reconhecimento facial que oferece autenticação segura, rápida e\\ninteligente para diversos cenários: acesso a sistemas, controle de entrada em ambientes físicos,\\nverificação de identidade em aplicativos e muito mais. A solução é baseada em inteligência artificial\\ne biometria facial, com foco em precisão, privacidade e facilidade de uso.\\nPúblico-alvo\\nA solução é voltada para empresas e usuários finais que buscam uma forma moderna e segura de\\nautenticação, substituindo senhas e cartões por reconhecimento facial.\\n2. Cadastro e Habilitação do Sistema\\nRequisitos para utilização\\n- Ser maior de 18 anos\\n- Possuir documento oficial com foto (RG, CNH, etc.)\\n- Dispositivo com câmera compatível\\n- Endereço de e-mail válido\\nEtapas do processo de cadastro\\n1. Acesse o app ou portal da FaceSecure\\n2. Informe dados pessoais (nome, CPF, e-mail)\\n3. Envie foto de documento oficial')"
            ]
          },
          "metadata": {},
          "execution_count": 25
        }
      ]
    },
    {
      "cell_type": "code",
      "source": [
        "#informações sobre o pdf\n",
        "import pprint\n",
        "\n",
        "pprint.pprint(doc[0].metadata)"
      ],
      "metadata": {
        "colab": {
          "base_uri": "https://localhost:8080/"
        },
        "id": "Jo-4-wFSFP8X",
        "outputId": "2d314511-7c08-49f5-fe7d-8caf93571031"
      },
      "execution_count": 27,
      "outputs": [
        {
          "output_type": "stream",
          "name": "stdout",
          "text": [
            "{'author': '',\n",
            " 'creationDate': 'D:20250728031816',\n",
            " 'creationdate': 'D:20250728031816',\n",
            " 'creator': '',\n",
            " 'file_path': 'manual_facesecure.pdf',\n",
            " 'format': 'PDF 1.3',\n",
            " 'keywords': '',\n",
            " 'modDate': '',\n",
            " 'moddate': '',\n",
            " 'page': 0,\n",
            " 'producer': 'PyFPDF 1.7.2 http://pyfpdf.googlecode.com/',\n",
            " 'source': 'manual_facesecure.pdf',\n",
            " 'subject': '',\n",
            " 'title': '',\n",
            " 'total_pages': 4,\n",
            " 'trapped': ''}\n"
          ]
        }
      ]
    }
  ]
}