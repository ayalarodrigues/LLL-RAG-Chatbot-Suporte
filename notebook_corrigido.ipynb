{
  "cells": [
    {
      "cell_type": "markdown",
      "metadata": {
        "id": "view-in-github",
        "colab_type": "text"
      },
      "source": [
        "<a href=\"https://colab.research.google.com/github/ayalarodrigues/LLL-RAG-Chatbot-Suporte/blob/main/notebook_corrigido.ipynb\" target=\"_parent\"><img src=\"https://colab.research.google.com/assets/colab-badge.svg\" alt=\"Open In Colab\"/></a>"
      ]
    },
    {
      "cell_type": "markdown",
      "metadata": {
        "id": "R6ZXVjL0Kn4B"
      },
      "source": [
        "Instalação das bibliotecas\n"
      ]
    },
    {
      "cell_type": "code",
      "execution_count": 1,
      "metadata": {
        "colab": {
          "base_uri": "https://localhost:8080/"
        },
        "collapsed": true,
        "id": "zUSOXloDFe48",
        "outputId": "64a1e080-bfc1-4a5b-e5e2-e1f76ae6f4da"
      },
      "outputs": [
        {
          "output_type": "stream",
          "name": "stdout",
          "text": [
            "\u001b[?25l   \u001b[90m━━━━━━━━━━━━━━━━━━━━━━━━━━━━━━━━━━━━━━━━\u001b[0m \u001b[32m0.0/2.5 MB\u001b[0m \u001b[31m?\u001b[0m eta \u001b[36m-:--:--\u001b[0m\r\u001b[2K   \u001b[91m━━━━━━\u001b[0m\u001b[90m╺\u001b[0m\u001b[90m━━━━━━━━━━━━━━━━━━━━━━━━━━━━━━━━━\u001b[0m \u001b[32m0.4/2.5 MB\u001b[0m \u001b[31m11.9 MB/s\u001b[0m eta \u001b[36m0:00:01\u001b[0m\r\u001b[2K   \u001b[91m━━━━━━━━━━━━━━━━━━━━━━━━━\u001b[0m\u001b[91m╸\u001b[0m\u001b[90m━━━━━━━━━━━━━━\u001b[0m \u001b[32m1.6/2.5 MB\u001b[0m \u001b[31m22.1 MB/s\u001b[0m eta \u001b[36m0:00:01\u001b[0m\r\u001b[2K   \u001b[91m━━━━━━━━━━━━━━━━━━━━━━━━━━━━━━━━━━━━━━━\u001b[0m\u001b[91m╸\u001b[0m \u001b[32m2.5/2.5 MB\u001b[0m \u001b[31m25.6 MB/s\u001b[0m eta \u001b[36m0:00:01\u001b[0m\r\u001b[2K   \u001b[90m━━━━━━━━━━━━━━━━━━━━━━━━━━━━━━━━━━━━━━━━\u001b[0m \u001b[32m2.5/2.5 MB\u001b[0m \u001b[31m20.4 MB/s\u001b[0m eta \u001b[36m0:00:00\u001b[0m\n",
            "\u001b[2K   \u001b[90m━━━━━━━━━━━━━━━━━━━━━━━━━━━━━━━━━━━━━━━━\u001b[0m \u001b[32m131.1/131.1 kB\u001b[0m \u001b[31m12.8 MB/s\u001b[0m eta \u001b[36m0:00:00\u001b[0m\n",
            "\u001b[2K   \u001b[90m━━━━━━━━━━━━━━━━━━━━━━━━━━━━━━━━━━━━━━━━\u001b[0m \u001b[32m45.2/45.2 kB\u001b[0m \u001b[31m3.8 MB/s\u001b[0m eta \u001b[36m0:00:00\u001b[0m\n",
            "\u001b[2K   \u001b[90m━━━━━━━━━━━━━━━━━━━━━━━━━━━━━━━━━━━━━━━━\u001b[0m \u001b[32m50.9/50.9 kB\u001b[0m \u001b[31m3.7 MB/s\u001b[0m eta \u001b[36m0:00:00\u001b[0m\n",
            "\u001b[2K   \u001b[90m━━━━━━━━━━━━━━━━━━━━━━━━━━━━━━━━━━━━━━━━\u001b[0m \u001b[32m31.3/31.3 MB\u001b[0m \u001b[31m61.6 MB/s\u001b[0m eta \u001b[36m0:00:00\u001b[0m\n",
            "\u001b[2K   \u001b[90m━━━━━━━━━━━━━━━━━━━━━━━━━━━━━━━━━━━━━━━━\u001b[0m \u001b[32m24.1/24.1 MB\u001b[0m \u001b[31m85.4 MB/s\u001b[0m eta \u001b[36m0:00:00\u001b[0m\n",
            "\u001b[2K   \u001b[90m━━━━━━━━━━━━━━━━━━━━━━━━━━━━━━━━━━━━━━━━\u001b[0m \u001b[32m363.4/363.4 MB\u001b[0m \u001b[31m4.0 MB/s\u001b[0m eta \u001b[36m0:00:00\u001b[0m\n",
            "\u001b[2K   \u001b[90m━━━━━━━━━━━━━━━━━━━━━━━━━━━━━━━━━━━━━━━━\u001b[0m \u001b[32m13.8/13.8 MB\u001b[0m \u001b[31m107.9 MB/s\u001b[0m eta \u001b[36m0:00:00\u001b[0m\n",
            "\u001b[2K   \u001b[90m━━━━━━━━━━━━━━━━━━━━━━━━━━━━━━━━━━━━━━━━\u001b[0m \u001b[32m24.6/24.6 MB\u001b[0m \u001b[31m80.8 MB/s\u001b[0m eta \u001b[36m0:00:00\u001b[0m\n",
            "\u001b[2K   \u001b[90m━━━━━━━━━━━━━━━━━━━━━━━━━━━━━━━━━━━━━━━━\u001b[0m \u001b[32m883.7/883.7 kB\u001b[0m \u001b[31m61.4 MB/s\u001b[0m eta \u001b[36m0:00:00\u001b[0m\n",
            "\u001b[2K   \u001b[90m━━━━━━━━━━━━━━━━━━━━━━━━━━━━━━━━━━━━━━━━\u001b[0m \u001b[32m664.8/664.8 MB\u001b[0m \u001b[31m2.2 MB/s\u001b[0m eta \u001b[36m0:00:00\u001b[0m\n",
            "\u001b[2K   \u001b[90m━━━━━━━━━━━━━━━━━━━━━━━━━━━━━━━━━━━━━━━━\u001b[0m \u001b[32m211.5/211.5 MB\u001b[0m \u001b[31m5.5 MB/s\u001b[0m eta \u001b[36m0:00:00\u001b[0m\n",
            "\u001b[2K   \u001b[90m━━━━━━━━━━━━━━━━━━━━━━━━━━━━━━━━━━━━━━━━\u001b[0m \u001b[32m56.3/56.3 MB\u001b[0m \u001b[31m13.3 MB/s\u001b[0m eta \u001b[36m0:00:00\u001b[0m\n",
            "\u001b[2K   \u001b[90m━━━━━━━━━━━━━━━━━━━━━━━━━━━━━━━━━━━━━━━━\u001b[0m \u001b[32m127.9/127.9 MB\u001b[0m \u001b[31m7.6 MB/s\u001b[0m eta \u001b[36m0:00:00\u001b[0m\n",
            "\u001b[2K   \u001b[90m━━━━━━━━━━━━━━━━━━━━━━━━━━━━━━━━━━━━━━━━\u001b[0m \u001b[32m207.5/207.5 MB\u001b[0m \u001b[31m5.8 MB/s\u001b[0m eta \u001b[36m0:00:00\u001b[0m\n",
            "\u001b[2K   \u001b[90m━━━━━━━━━━━━━━━━━━━━━━━━━━━━━━━━━━━━━━━━\u001b[0m \u001b[32m21.1/21.1 MB\u001b[0m \u001b[31m89.5 MB/s\u001b[0m eta \u001b[36m0:00:00\u001b[0m\n",
            "\u001b[?25hRequirement already satisfied: sentence-transformers in /usr/local/lib/python3.11/dist-packages (4.1.0)\n",
            "Collecting sentence-transformers\n",
            "  Downloading sentence_transformers-5.0.0-py3-none-any.whl.metadata (16 kB)\n",
            "Requirement already satisfied: transformers<5.0.0,>=4.41.0 in /usr/local/lib/python3.11/dist-packages (from sentence-transformers) (4.54.0)\n",
            "Requirement already satisfied: tqdm in /usr/local/lib/python3.11/dist-packages (from sentence-transformers) (4.67.1)\n",
            "Requirement already satisfied: torch>=1.11.0 in /usr/local/lib/python3.11/dist-packages (from sentence-transformers) (2.6.0+cu124)\n",
            "Requirement already satisfied: scikit-learn in /usr/local/lib/python3.11/dist-packages (from sentence-transformers) (1.6.1)\n",
            "Requirement already satisfied: scipy in /usr/local/lib/python3.11/dist-packages (from sentence-transformers) (1.16.0)\n",
            "Requirement already satisfied: huggingface-hub>=0.20.0 in /usr/local/lib/python3.11/dist-packages (from sentence-transformers) (0.34.1)\n",
            "Requirement already satisfied: Pillow in /usr/local/lib/python3.11/dist-packages (from sentence-transformers) (11.3.0)\n",
            "Requirement already satisfied: typing_extensions>=4.5.0 in /usr/local/lib/python3.11/dist-packages (from sentence-transformers) (4.14.1)\n",
            "Requirement already satisfied: filelock in /usr/local/lib/python3.11/dist-packages (from huggingface-hub>=0.20.0->sentence-transformers) (3.18.0)\n",
            "Requirement already satisfied: fsspec>=2023.5.0 in /usr/local/lib/python3.11/dist-packages (from huggingface-hub>=0.20.0->sentence-transformers) (2025.3.0)\n",
            "Requirement already satisfied: packaging>=20.9 in /usr/local/lib/python3.11/dist-packages (from huggingface-hub>=0.20.0->sentence-transformers) (25.0)\n",
            "Requirement already satisfied: pyyaml>=5.1 in /usr/local/lib/python3.11/dist-packages (from huggingface-hub>=0.20.0->sentence-transformers) (6.0.2)\n",
            "Requirement already satisfied: requests in /usr/local/lib/python3.11/dist-packages (from huggingface-hub>=0.20.0->sentence-transformers) (2.32.3)\n",
            "Requirement already satisfied: hf-xet<2.0.0,>=1.1.3 in /usr/local/lib/python3.11/dist-packages (from huggingface-hub>=0.20.0->sentence-transformers) (1.1.5)\n",
            "Requirement already satisfied: networkx in /usr/local/lib/python3.11/dist-packages (from torch>=1.11.0->sentence-transformers) (3.5)\n",
            "Requirement already satisfied: jinja2 in /usr/local/lib/python3.11/dist-packages (from torch>=1.11.0->sentence-transformers) (3.1.6)\n",
            "Requirement already satisfied: nvidia-cuda-nvrtc-cu12==12.4.127 in /usr/local/lib/python3.11/dist-packages (from torch>=1.11.0->sentence-transformers) (12.4.127)\n",
            "Requirement already satisfied: nvidia-cuda-runtime-cu12==12.4.127 in /usr/local/lib/python3.11/dist-packages (from torch>=1.11.0->sentence-transformers) (12.4.127)\n",
            "Requirement already satisfied: nvidia-cuda-cupti-cu12==12.4.127 in /usr/local/lib/python3.11/dist-packages (from torch>=1.11.0->sentence-transformers) (12.4.127)\n",
            "Requirement already satisfied: nvidia-cudnn-cu12==9.1.0.70 in /usr/local/lib/python3.11/dist-packages (from torch>=1.11.0->sentence-transformers) (9.1.0.70)\n",
            "Requirement already satisfied: nvidia-cublas-cu12==12.4.5.8 in /usr/local/lib/python3.11/dist-packages (from torch>=1.11.0->sentence-transformers) (12.4.5.8)\n",
            "Requirement already satisfied: nvidia-cufft-cu12==11.2.1.3 in /usr/local/lib/python3.11/dist-packages (from torch>=1.11.0->sentence-transformers) (11.2.1.3)\n",
            "Requirement already satisfied: nvidia-curand-cu12==10.3.5.147 in /usr/local/lib/python3.11/dist-packages (from torch>=1.11.0->sentence-transformers) (10.3.5.147)\n",
            "Requirement already satisfied: nvidia-cusolver-cu12==11.6.1.9 in /usr/local/lib/python3.11/dist-packages (from torch>=1.11.0->sentence-transformers) (11.6.1.9)\n",
            "Requirement already satisfied: nvidia-cusparse-cu12==12.3.1.170 in /usr/local/lib/python3.11/dist-packages (from torch>=1.11.0->sentence-transformers) (12.3.1.170)\n",
            "Requirement already satisfied: nvidia-cusparselt-cu12==0.6.2 in /usr/local/lib/python3.11/dist-packages (from torch>=1.11.0->sentence-transformers) (0.6.2)\n",
            "Requirement already satisfied: nvidia-nccl-cu12==2.21.5 in /usr/local/lib/python3.11/dist-packages (from torch>=1.11.0->sentence-transformers) (2.21.5)\n",
            "Requirement already satisfied: nvidia-nvtx-cu12==12.4.127 in /usr/local/lib/python3.11/dist-packages (from torch>=1.11.0->sentence-transformers) (12.4.127)\n",
            "Requirement already satisfied: nvidia-nvjitlink-cu12==12.4.127 in /usr/local/lib/python3.11/dist-packages (from torch>=1.11.0->sentence-transformers) (12.4.127)\n",
            "Requirement already satisfied: triton==3.2.0 in /usr/local/lib/python3.11/dist-packages (from torch>=1.11.0->sentence-transformers) (3.2.0)\n",
            "Requirement already satisfied: sympy==1.13.1 in /usr/local/lib/python3.11/dist-packages (from torch>=1.11.0->sentence-transformers) (1.13.1)\n",
            "Requirement already satisfied: mpmath<1.4,>=1.1.0 in /usr/local/lib/python3.11/dist-packages (from sympy==1.13.1->torch>=1.11.0->sentence-transformers) (1.3.0)\n",
            "Requirement already satisfied: numpy>=1.17 in /usr/local/lib/python3.11/dist-packages (from transformers<5.0.0,>=4.41.0->sentence-transformers) (2.0.2)\n",
            "Requirement already satisfied: regex!=2019.12.17 in /usr/local/lib/python3.11/dist-packages (from transformers<5.0.0,>=4.41.0->sentence-transformers) (2024.11.6)\n",
            "Requirement already satisfied: tokenizers<0.22,>=0.21 in /usr/local/lib/python3.11/dist-packages (from transformers<5.0.0,>=4.41.0->sentence-transformers) (0.21.2)\n",
            "Requirement already satisfied: safetensors>=0.4.3 in /usr/local/lib/python3.11/dist-packages (from transformers<5.0.0,>=4.41.0->sentence-transformers) (0.5.3)\n",
            "Requirement already satisfied: joblib>=1.2.0 in /usr/local/lib/python3.11/dist-packages (from scikit-learn->sentence-transformers) (1.5.1)\n",
            "Requirement already satisfied: threadpoolctl>=3.1.0 in /usr/local/lib/python3.11/dist-packages (from scikit-learn->sentence-transformers) (3.6.0)\n",
            "Requirement already satisfied: MarkupSafe>=2.0 in /usr/local/lib/python3.11/dist-packages (from jinja2->torch>=1.11.0->sentence-transformers) (3.0.2)\n",
            "Requirement already satisfied: charset-normalizer<4,>=2 in /usr/local/lib/python3.11/dist-packages (from requests->huggingface-hub>=0.20.0->sentence-transformers) (3.4.2)\n",
            "Requirement already satisfied: idna<4,>=2.5 in /usr/local/lib/python3.11/dist-packages (from requests->huggingface-hub>=0.20.0->sentence-transformers) (3.10)\n",
            "Requirement already satisfied: urllib3<3,>=1.21.1 in /usr/local/lib/python3.11/dist-packages (from requests->huggingface-hub>=0.20.0->sentence-transformers) (2.5.0)\n",
            "Requirement already satisfied: certifi>=2017.4.17 in /usr/local/lib/python3.11/dist-packages (from requests->huggingface-hub>=0.20.0->sentence-transformers) (2025.7.14)\n",
            "Downloading sentence_transformers-5.0.0-py3-none-any.whl (470 kB)\n",
            "\u001b[2K   \u001b[90m━━━━━━━━━━━━━━━━━━━━━━━━━━━━━━━━━━━━━━━━\u001b[0m \u001b[32m470.2/470.2 kB\u001b[0m \u001b[31m6.0 MB/s\u001b[0m eta \u001b[36m0:00:00\u001b[0m\n",
            "\u001b[?25hInstalling collected packages: sentence-transformers\n",
            "  Attempting uninstall: sentence-transformers\n",
            "    Found existing installation: sentence-transformers 4.1.0\n",
            "    Uninstalling sentence-transformers-4.1.0:\n",
            "      Successfully uninstalled sentence-transformers-4.1.0\n",
            "Successfully installed sentence-transformers-5.0.0\n",
            "Requirement already satisfied: transformers in /usr/local/lib/python3.11/dist-packages (4.54.0)\n",
            "Collecting transformers\n",
            "  Downloading transformers-4.54.1-py3-none-any.whl.metadata (41 kB)\n",
            "\u001b[2K     \u001b[90m━━━━━━━━━━━━━━━━━━━━━━━━━━━━━━━━━━━━━━━━\u001b[0m \u001b[32m41.7/41.7 kB\u001b[0m \u001b[31m1.5 MB/s\u001b[0m eta \u001b[36m0:00:00\u001b[0m\n",
            "\u001b[?25hRequirement already satisfied: filelock in /usr/local/lib/python3.11/dist-packages (from transformers) (3.18.0)\n",
            "Requirement already satisfied: huggingface-hub<1.0,>=0.34.0 in /usr/local/lib/python3.11/dist-packages (from transformers) (0.34.1)\n",
            "Requirement already satisfied: numpy>=1.17 in /usr/local/lib/python3.11/dist-packages (from transformers) (2.0.2)\n",
            "Requirement already satisfied: packaging>=20.0 in /usr/local/lib/python3.11/dist-packages (from transformers) (25.0)\n",
            "Requirement already satisfied: pyyaml>=5.1 in /usr/local/lib/python3.11/dist-packages (from transformers) (6.0.2)\n",
            "Requirement already satisfied: regex!=2019.12.17 in /usr/local/lib/python3.11/dist-packages (from transformers) (2024.11.6)\n",
            "Requirement already satisfied: requests in /usr/local/lib/python3.11/dist-packages (from transformers) (2.32.3)\n",
            "Requirement already satisfied: tokenizers<0.22,>=0.21 in /usr/local/lib/python3.11/dist-packages (from transformers) (0.21.2)\n",
            "Requirement already satisfied: safetensors>=0.4.3 in /usr/local/lib/python3.11/dist-packages (from transformers) (0.5.3)\n",
            "Requirement already satisfied: tqdm>=4.27 in /usr/local/lib/python3.11/dist-packages (from transformers) (4.67.1)\n",
            "Requirement already satisfied: fsspec>=2023.5.0 in /usr/local/lib/python3.11/dist-packages (from huggingface-hub<1.0,>=0.34.0->transformers) (2025.3.0)\n",
            "Requirement already satisfied: typing-extensions>=3.7.4.3 in /usr/local/lib/python3.11/dist-packages (from huggingface-hub<1.0,>=0.34.0->transformers) (4.14.1)\n",
            "Requirement already satisfied: hf-xet<2.0.0,>=1.1.3 in /usr/local/lib/python3.11/dist-packages (from huggingface-hub<1.0,>=0.34.0->transformers) (1.1.5)\n",
            "Requirement already satisfied: charset-normalizer<4,>=2 in /usr/local/lib/python3.11/dist-packages (from requests->transformers) (3.4.2)\n",
            "Requirement already satisfied: idna<4,>=2.5 in /usr/local/lib/python3.11/dist-packages (from requests->transformers) (3.10)\n",
            "Requirement already satisfied: urllib3<3,>=1.21.1 in /usr/local/lib/python3.11/dist-packages (from requests->transformers) (2.5.0)\n",
            "Requirement already satisfied: certifi>=2017.4.17 in /usr/local/lib/python3.11/dist-packages (from requests->transformers) (2025.7.14)\n",
            "Downloading transformers-4.54.1-py3-none-any.whl (11.2 MB)\n",
            "\u001b[2K   \u001b[90m━━━━━━━━━━━━━━━━━━━━━━━━━━━━━━━━━━━━━━━━\u001b[0m \u001b[32m11.2/11.2 MB\u001b[0m \u001b[31m94.1 MB/s\u001b[0m eta \u001b[36m0:00:00\u001b[0m\n",
            "\u001b[?25hInstalling collected packages: transformers\n",
            "  Attempting uninstall: transformers\n",
            "    Found existing installation: transformers 4.54.0\n",
            "    Uninstalling transformers-4.54.0:\n",
            "      Successfully uninstalled transformers-4.54.0\n",
            "Successfully installed transformers-4.54.1\n"
          ]
        }
      ],
      "source": [
        "!pip install langchain langchain-groq langchain_community langchain-huggingface --q\n",
        "!pip install faiss-cpu sentence-transformers PyMuPDF --q\n",
        "\n",
        "!pip install -U sentence-transformers\n",
        "!pip install -U transformers\n",
        "\n",
        "\n",
        "#langchain-grop: acesso aos modelos via API\n",
        "#faiss-cpu: onde serão armazenados os documentos(pode ser cpu ou gpu)\n",
        "#sentence-transformers: conversão dos textos para números\n",
        "#PyMuPDF: leitura e processamento de texto\n"
      ]
    },
    {
      "cell_type": "code",
      "execution_count": 2,
      "metadata": {
        "id": "2Yfl2I__iZmp",
        "colab": {
          "base_uri": "https://localhost:8080/",
          "height": 34
        },
        "outputId": "3fd7e634-6ca8-4d3b-ce45-b63a445d4445"
      },
      "outputs": [
        {
          "output_type": "stream",
          "name": "stdout",
          "text": [
            "Nenhum metadado 'widgets' encontrado.\n"
          ]
        },
        {
          "output_type": "display_data",
          "data": {
            "text/plain": [
              "<IPython.core.display.Javascript object>"
            ],
            "application/javascript": [
              "\n",
              "    async function download(id, filename, size) {\n",
              "      if (!google.colab.kernel.accessAllowed) {\n",
              "        return;\n",
              "      }\n",
              "      const div = document.createElement('div');\n",
              "      const label = document.createElement('label');\n",
              "      label.textContent = `Downloading \"${filename}\": `;\n",
              "      div.appendChild(label);\n",
              "      const progress = document.createElement('progress');\n",
              "      progress.max = size;\n",
              "      div.appendChild(progress);\n",
              "      document.body.appendChild(div);\n",
              "\n",
              "      const buffers = [];\n",
              "      let downloaded = 0;\n",
              "\n",
              "      const channel = await google.colab.kernel.comms.open(id);\n",
              "      // Send a message to notify the kernel that we're ready.\n",
              "      channel.send({})\n",
              "\n",
              "      for await (const message of channel.messages) {\n",
              "        // Send a message to notify the kernel that we're ready.\n",
              "        channel.send({})\n",
              "        if (message.buffers) {\n",
              "          for (const buffer of message.buffers) {\n",
              "            buffers.push(buffer);\n",
              "            downloaded += buffer.byteLength;\n",
              "            progress.value = downloaded;\n",
              "          }\n",
              "        }\n",
              "      }\n",
              "      const blob = new Blob(buffers, {type: 'application/binary'});\n",
              "      const a = document.createElement('a');\n",
              "      a.href = window.URL.createObjectURL(blob);\n",
              "      a.download = filename;\n",
              "      div.appendChild(a);\n",
              "      a.click();\n",
              "      div.remove();\n",
              "    }\n",
              "  "
            ]
          },
          "metadata": {}
        },
        {
          "output_type": "display_data",
          "data": {
            "text/plain": [
              "<IPython.core.display.Javascript object>"
            ],
            "application/javascript": [
              "download(\"download_d7854b68-6724-4b2e-aef3-980c613b0197\", \"notebook_corrigido.ipynb\", 41759)"
            ]
          },
          "metadata": {}
        }
      ],
      "source": [
        "import nbformat\n",
        "from google.colab import files, _message\n",
        "\n",
        "# Lê o conteúdo do notebook atual diretamente da memória\n",
        "nb_data = _message.blocking_request('get_ipynb')['ipynb']\n",
        "\n",
        "# Converte para estrutura nbformat\n",
        "nb = nbformat.from_dict(nb_data)\n",
        "\n",
        "# Remove os metadados 'widgets' se existirem\n",
        "if 'widgets' in nb['metadata']:\n",
        "    del nb['metadata']['widgets']\n",
        "    print(\"Metadados 'widgets' removidos.\")\n",
        "else:\n",
        "    print(\"Nenhum metadado 'widgets' encontrado.\")\n",
        "\n",
        "# Nome do novo arquivo corrigido\n",
        "clean_name = \"notebook_corrigido.ipynb\"\n",
        "\n",
        "# Salva no ambiente do Colab\n",
        "with open(clean_name, 'w', encoding='utf-8') as f:\n",
        "    nbformat.write(nb, f)\n",
        "\n",
        "# Oferece para download (ou você pode subir manualmente para o GitHub)\n",
        "files.download(clean_name)\n"
      ]
    },
    {
      "cell_type": "markdown",
      "metadata": {
        "id": "lqwEptqyNkkJ"
      },
      "source": [
        "Importações"
      ]
    },
    {
      "cell_type": "code",
      "execution_count": 3,
      "metadata": {
        "id": "cUNAprbRNw5T"
      },
      "outputs": [],
      "source": [
        "from langchain_groq import ChatGroq\n",
        "from langchain_core.output_parsers import StrOutputParser\n",
        "from langchain_core.prompts import ChatPromptTemplate\n",
        "import os\n",
        "import getpass"
      ]
    },
    {
      "cell_type": "markdown",
      "metadata": {
        "id": "Ml6oQP9ZOvh5"
      },
      "source": [
        "Carregamento da LLM"
      ]
    },
    {
      "cell_type": "code",
      "execution_count": 4,
      "metadata": {
        "colab": {
          "base_uri": "https://localhost:8080/"
        },
        "id": "NChUhnW1Ozwt",
        "outputId": "377eac2b-7e1a-40c4-a40b-beb72f7df0b7"
      },
      "outputs": [
        {
          "name": "stdout",
          "output_type": "stream",
          "text": [
            "··········\n"
          ]
        }
      ],
      "source": [
        "os.environ[\"GROQ_API_KEY\"] = getpass.getpass()\n",
        "#getpass não exibe a chave da API no CF\n"
      ]
    },
    {
      "cell_type": "code",
      "execution_count": 5,
      "metadata": {
        "id": "sftfkWUbUUds"
      },
      "outputs": [],
      "source": [
        "def load_llm(id_model, temperature):\n",
        "  llm = ChatGroq(\n",
        "      model = id_model,\n",
        "      temperature = temperature,\n",
        "      max_tokens = None,\n",
        "      timeout = None,\n",
        "      max_retries = 2\n",
        "  )\n",
        "  return llm"
      ]
    },
    {
      "cell_type": "code",
      "execution_count": 6,
      "metadata": {
        "id": "du_H7HLXXQZC"
      },
      "outputs": [],
      "source": [
        "#teste\n",
        "id_model = \"llama3-70b-8192\" # @param {type: \"string\"}\n",
        "temperature = 0.7 # @param {type: \"slider\", min: 0.1, max: 1.5, step: 0.1}\n",
        "\n",
        "llm = load_llm(id_model, temperature)"
      ]
    },
    {
      "cell_type": "code",
      "execution_count": 7,
      "metadata": {
        "colab": {
          "base_uri": "https://localhost:8080/",
          "height": 123
        },
        "collapsed": true,
        "id": "tYixFDgBXppf",
        "outputId": "ee070fe7-a228-45db-a31a-6b7adc5bb10b"
      },
      "outputs": [
        {
          "output_type": "execute_result",
          "data": {
            "text/plain": [
              "'Alterar a senha é um processo importante para manter a segurança de suas contas online!\\n\\nO processo de alterar a senha pode variar dependendo do sistema ou plataforma que você está usando. Aqui estão as etapas gerais para alterar a senha em diferentes contextos:\\n\\n**Conta de Email:**\\n\\n1. Acesse sua conta de email e clique em \"Configurações\" ou \"Opções\".\\n2. Clique em \"Segurança\" ou \"Conta\" e, em seguida, em \"Alterar senha\".\\n3. Insira sua senha atual e, em seguida, a nova senha desejada.\\n4. Confirme a nova senha e clique em \"Salvar\" ou \"Alterar\".\\n\\n**Site ou Plataforma Online:**\\n\\n1. Acesse o site ou plataforma online e clique em \"Conta\" ou \"Perfil\".\\n2. Clique em \"Alterar senha\" ou \"Senha e segurança\".\\n3. Insira sua senha atual e, em seguida, a nova senha desejada.\\n4. Confirme a nova senha e clique em \"Salvar\" ou \"Alterar\".\\n\\n**Sistema Operacional:**\\n\\n1. Acesse as configurações do sistema operacional (por exemplo, Configurações em Windows ou Preferências do Sistema em macOS).\\n2. Clique em \"Contas\" ou \"Usuários\".\\n3. Selecione a conta que deseja alterar a senha e clique em \"Alterar senha\".\\n4. Insira a senha atual e, em seguida, a nova senha desejada.\\n5. Confirme a nova senha e clique em \"Salvar\" ou \"Alterar\".\\n\\n**Dicas de segurança:**\\n\\n* Escolha senhas fortes e únicas para cada conta.\\n* Evite usar informações pessoais, como nome, data de nascimento ou endereço, como senhas.\\n* Altere suas senhas regularmente (a cada 60 a 90 dias) para manter a segurança.\\n* Use um gerenciador de senhas para armazenar e gerenciar suas senhas de forma segura.\\n\\nLembre-se de que é importante lembrar sua senha nova para evitar problemas de acesso à sua conta. Se tiver alguma dúvida ou precisar de ajuda adicional, sinta-se à vontade para perguntar!'"
            ],
            "application/vnd.google.colaboratory.intrinsic+json": {
              "type": "string"
            }
          },
          "metadata": {},
          "execution_count": 7
        }
      ],
      "source": [
        "#teste\n",
        "prompt = \"Como alterar minha senha?\" # @param {type: \"string\"}\n",
        "\n",
        "template = ChatPromptTemplate.from_messages([\n",
        "    (\"system\", \"Você é um assistente virtual prestativo e está respondendo perguntas gerais\"),\n",
        "    (\"human\", \"{prompt}\")\n",
        "])\n",
        "\n",
        "chain = template | llm | StrOutputParser()\n",
        "\n",
        "res = chain.invoke({\"prompt\": prompt})\n",
        "res"
      ]
    },
    {
      "cell_type": "code",
      "execution_count": 8,
      "metadata": {
        "colab": {
          "base_uri": "https://localhost:8080/",
          "height": 588
        },
        "collapsed": true,
        "id": "wvr4m2KvYko8",
        "outputId": "b017dc2f-9e8f-4f37-c5bf-32ea9653bd5b"
      },
      "outputs": [
        {
          "output_type": "display_data",
          "data": {
            "text/plain": [
              "<IPython.core.display.Markdown object>"
            ],
            "text/markdown": "Alterar a senha é um processo importante para manter a segurança de suas contas online!\n\nO processo de alterar a senha pode variar dependendo do sistema ou plataforma que você está usando. Aqui estão as etapas gerais para alterar a senha em diferentes contextos:\n\n**Conta de Email:**\n\n1. Acesse sua conta de email e clique em \"Configurações\" ou \"Opções\".\n2. Clique em \"Segurança\" ou \"Conta\" e, em seguida, em \"Alterar senha\".\n3. Insira sua senha atual e, em seguida, a nova senha desejada.\n4. Confirme a nova senha e clique em \"Salvar\" ou \"Alterar\".\n\n**Site ou Plataforma Online:**\n\n1. Acesse o site ou plataforma online e clique em \"Conta\" ou \"Perfil\".\n2. Clique em \"Alterar senha\" ou \"Senha e segurança\".\n3. Insira sua senha atual e, em seguida, a nova senha desejada.\n4. Confirme a nova senha e clique em \"Salvar\" ou \"Alterar\".\n\n**Sistema Operacional:**\n\n1. Acesse as configurações do sistema operacional (por exemplo, Configurações em Windows ou Preferências do Sistema em macOS).\n2. Clique em \"Contas\" ou \"Usuários\".\n3. Selecione a conta que deseja alterar a senha e clique em \"Alterar senha\".\n4. Insira a senha atual e, em seguida, a nova senha desejada.\n5. Confirme a nova senha e clique em \"Salvar\" ou \"Alterar\".\n\n**Dicas de segurança:**\n\n* Escolha senhas fortes e únicas para cada conta.\n* Evite usar informações pessoais, como nome, data de nascimento ou endereço, como senhas.\n* Altere suas senhas regularmente (a cada 60 a 90 dias) para manter a segurança.\n* Use um gerenciador de senhas para armazenar e gerenciar suas senhas de forma segura.\n\nLembre-se de que é importante lembrar sua senha nova para evitar problemas de acesso à sua conta. Se tiver alguma dúvida ou precisar de ajuda adicional, sinta-se à vontade para perguntar!"
          },
          "metadata": {}
        }
      ],
      "source": [
        "def show_res(res):\n",
        "  from IPython.display import display, Markdown\n",
        "  if \"</think>\" in res:\n",
        "    res = res.split(\"</think>\")[-1].strip()  #o modelo pode retornar o passo a passo necessário para resolução do problema\n",
        "  else:\n",
        "    res = res.strip()\n",
        "  display(Markdown(res))\n",
        "\n",
        "\n",
        "show_res(res)\n",
        "\n",
        " #a tag </think> serve para delimitar pensamentos intermediários, o que permite visualizar o \"raciocínio\" utilizado na resposta\n",
        " #optei por remover a tag por não ser de interesse da persona"
      ]
    },
    {
      "cell_type": "markdown",
      "metadata": {
        "id": "CP-ZIZimxJ8M"
      },
      "source": [
        "Definição do contexto"
      ]
    },
    {
      "cell_type": "markdown",
      "metadata": {
        "id": "c3QjYjskxaTM"
      },
      "source": [
        "Há basicamente duas possibilidades para o exemplo de teste: o algoritmo não consegue retornar com exatidão o caminho exato para recuperar a senha ou a informação foi \"inventada\"(processo de alucinação).\n",
        "\n",
        "O modelo quer apenas prever a próxima combinação de palavras que faça sentido. Nem sempre poderá ser entendido que o modelo não sabe essa informação com exatidão. O modelo pode apenas sugerir um caminho comum, como o retornado no exemplo, porém, o algoritmo não possui meios de conhecer o caminho exato sem consultar uma fonte que comprove.\n",
        "\n",
        "Nesse aspecto, é importante que seja fornecido um contexto que tenha as informações exatas para a LLM e assim a dúvida do usuário pode ser respondida.\n",
        "\n",
        "Para a obtenção do contexto, nesse estudo de caso, será feito o carregamento do documento que posteriormente será processado pelo pipeline de RAG.\n",
        "\n"
      ]
    },
    {
      "cell_type": "code",
      "execution_count": 9,
      "metadata": {
        "id": "MAzo4VUzzN18"
      },
      "outputs": [],
      "source": [
        "#teste\n",
        "\n",
        "context = \"\"\"\n",
        "Para alterar uma senha no aplicativo, clique no menu 'Minha conta' e selecione 'Alterar senha'.\n",
        "Para alterar a senha pelo site, acesse 'Configurações' no menu do topo. Em seguida, selecione 'Minha conta' e 'Alterar senha'.\n",
        "\"\"\"\n",
        "\n",
        "prompt = f\"\"\"\n",
        "Como alterar minha senha?\n",
        "\n",
        "Contexto: {context}\n",
        "\"\"\""
      ]
    },
    {
      "cell_type": "code",
      "execution_count": 10,
      "metadata": {
        "colab": {
          "base_uri": "https://localhost:8080/",
          "height": 53
        },
        "id": "VJNlL1Xjz-Cn",
        "outputId": "a4e6d2d3-801e-4eda-9a73-ad2f1ff495a5"
      },
      "outputs": [
        {
          "output_type": "execute_result",
          "data": {
            "text/plain": [
              "\"\\nComo alterar minha senha?\\n\\nContexto: \\nPara alterar uma senha no aplicativo, clique no menu 'Minha conta' e selecione 'Alterar senha'.\\nPara alterar a senha pelo site, acesse 'Configurações' no menu do topo. Em seguida, selecione 'Minha conta' e 'Alterar senha'.\\n\\n\""
            ],
            "application/vnd.google.colaboratory.intrinsic+json": {
              "type": "string"
            }
          },
          "metadata": {},
          "execution_count": 10
        }
      ],
      "source": [
        "#teste\n",
        "\n",
        "prompt"
      ]
    },
    {
      "cell_type": "code",
      "execution_count": 11,
      "metadata": {
        "colab": {
          "base_uri": "https://localhost:8080/",
          "height": 247
        },
        "collapsed": true,
        "id": "FXJSKPFD0JRl",
        "outputId": "91550cb6-8aa2-46a7-e07b-1012fea13a90"
      },
      "outputs": [
        {
          "output_type": "display_data",
          "data": {
            "text/plain": [
              "<IPython.core.display.Markdown object>"
            ],
            "text/markdown": "Para alterar sua senha, você pode seguir os seguintes passos:\n\n**No aplicativo:**\n\n1. Clique no menu \"Minha conta\"\n2. Selecione \"Alterar senha\"\n\n**No site:**\n\n1. Acesse \"Configurações\" no menu do topo\n2. Selecione \"Minha conta\"\n3. Clique em \"Alterar senha\"\n\nSiguiendo esses passos, você poderá alterar sua senha com facilidade!"
          },
          "metadata": {}
        }
      ],
      "source": [
        "#teste\n",
        "\n",
        "res = chain.invoke({\"prompt\": prompt})\n",
        "show_res(res)\n"
      ]
    },
    {
      "cell_type": "markdown",
      "metadata": {
        "id": "0qGSR9qx2xD0"
      },
      "source": [
        "Prompt para o RAG"
      ]
    },
    {
      "cell_type": "code",
      "execution_count": 12,
      "metadata": {
        "id": "XpaVEG0b2v6H"
      },
      "outputs": [],
      "source": [
        "template_rag = \"\"\"\n",
        "Pergunta: {input}\n",
        "Contexto: {context}\n",
        "\"\"\""
      ]
    },
    {
      "cell_type": "code",
      "execution_count": 13,
      "metadata": {
        "colab": {
          "base_uri": "https://localhost:8080/"
        },
        "id": "jsm0oJMe3No2",
        "outputId": "bd8c2875-e238-474f-d7ee-78ebc5be25e6"
      },
      "outputs": [
        {
          "output_type": "stream",
          "name": "stdout",
          "text": [
            "input_variables=['context', 'input'] input_types={} partial_variables={} template='\\nPergunta: {input}\\nContexto: {context}\\n'\n"
          ]
        }
      ],
      "source": [
        "from langchain.prompts import PromptTemplate #é utilizado para prompts personalizados\n",
        "\n",
        "prompt_rag = PromptTemplate.from_template(template_rag)\n",
        "print(prompt_rag)\n"
      ]
    },
    {
      "cell_type": "markdown",
      "metadata": {
        "id": "YxGONSMs4I3r"
      },
      "source": [
        "Criação dos textos e geração da Chain"
      ]
    },
    {
      "cell_type": "code",
      "execution_count": 14,
      "metadata": {
        "colab": {
          "base_uri": "https://localhost:8080/",
          "height": 247
        },
        "collapsed": true,
        "id": "P0xaVojb4H_K",
        "outputId": "efa9a77b-62af-48a1-cdc7-bf09121db984"
      },
      "outputs": [
        {
          "output_type": "display_data",
          "data": {
            "text/plain": [
              "<IPython.core.display.Markdown object>"
            ],
            "text/markdown": "Para alterar sua senha, você pode seguir os seguintes passos:\n\n**No aplicativo:**\n\n1. Clique no menu \"Minha conta\"\n2. Selecione \"Alterar senha\"\n\n**No site:**\n\n1. Acesse \"Configurações\" no menu do topo\n2. Selecione \"Minha conta\"\n3. Clique em \"Alterar senha\"\n\nSiguiendo esses passos, você poderá alterar sua senha com facilidade!"
          },
          "metadata": {}
        }
      ],
      "source": [
        "chaing_rag = prompt_rag | llm | StrOutputParser()\n",
        "\n",
        "input = \"Como alterar minha senha?\"\n",
        "res = chaing_rag.invoke({\"input\": input, \"context\": context}) # o envio de variáveis deve seguir de acordo com o que foi definido no template do prompt\n",
        "show_res(res)"
      ]
    },
    {
      "cell_type": "markdown",
      "metadata": {
        "id": "ZmcPhqUD8a4V"
      },
      "source": [
        "Etapas de Indexação"
      ]
    },
    {
      "cell_type": "markdown",
      "metadata": {
        "id": "yxrpZ-YP9zhf"
      },
      "source": [
        "Para este estudo de caso será feito o uso de funções(Document Loaders) para importar dados na LangChain.\n",
        "\n",
        "Os documentos serão quebrados para melhor indexação e processamento do modelo.\n",
        "\n",
        "Na sequência, será feito o embedding(conversão dos textos em representações numéricas) em cada pedaço e por fim os mesmos serão salvos em um banco de dados vetorial."
      ]
    },
    {
      "cell_type": "markdown",
      "metadata": {
        "id": "nq0czOlc8dEZ"
      },
      "source": [
        "Carregamento do conteúdo dos documentos"
      ]
    },
    {
      "cell_type": "code",
      "execution_count": 15,
      "metadata": {
        "colab": {
          "base_uri": "https://localhost:8080/",
          "height": 90
        },
        "id": "oapPf1vh_iuj",
        "outputId": "aafcb318-4424-4e49-ec8d-b162f910e3ac"
      },
      "outputs": [
        {
          "output_type": "display_data",
          "data": {
            "text/plain": [
              "<IPython.core.display.HTML object>"
            ],
            "text/html": [
              "\n",
              "     <input type=\"file\" id=\"files-3593ecb2-e224-49b1-83c9-d67da99cd249\" name=\"files[]\" multiple disabled\n",
              "        style=\"border:none\" />\n",
              "     <output id=\"result-3593ecb2-e224-49b1-83c9-d67da99cd249\">\n",
              "      Upload widget is only available when the cell has been executed in the\n",
              "      current browser session. Please rerun this cell to enable.\n",
              "      </output>\n",
              "      <script>// Copyright 2017 Google LLC\n",
              "//\n",
              "// Licensed under the Apache License, Version 2.0 (the \"License\");\n",
              "// you may not use this file except in compliance with the License.\n",
              "// You may obtain a copy of the License at\n",
              "//\n",
              "//      http://www.apache.org/licenses/LICENSE-2.0\n",
              "//\n",
              "// Unless required by applicable law or agreed to in writing, software\n",
              "// distributed under the License is distributed on an \"AS IS\" BASIS,\n",
              "// WITHOUT WARRANTIES OR CONDITIONS OF ANY KIND, either express or implied.\n",
              "// See the License for the specific language governing permissions and\n",
              "// limitations under the License.\n",
              "\n",
              "/**\n",
              " * @fileoverview Helpers for google.colab Python module.\n",
              " */\n",
              "(function(scope) {\n",
              "function span(text, styleAttributes = {}) {\n",
              "  const element = document.createElement('span');\n",
              "  element.textContent = text;\n",
              "  for (const key of Object.keys(styleAttributes)) {\n",
              "    element.style[key] = styleAttributes[key];\n",
              "  }\n",
              "  return element;\n",
              "}\n",
              "\n",
              "// Max number of bytes which will be uploaded at a time.\n",
              "const MAX_PAYLOAD_SIZE = 100 * 1024;\n",
              "\n",
              "function _uploadFiles(inputId, outputId) {\n",
              "  const steps = uploadFilesStep(inputId, outputId);\n",
              "  const outputElement = document.getElementById(outputId);\n",
              "  // Cache steps on the outputElement to make it available for the next call\n",
              "  // to uploadFilesContinue from Python.\n",
              "  outputElement.steps = steps;\n",
              "\n",
              "  return _uploadFilesContinue(outputId);\n",
              "}\n",
              "\n",
              "// This is roughly an async generator (not supported in the browser yet),\n",
              "// where there are multiple asynchronous steps and the Python side is going\n",
              "// to poll for completion of each step.\n",
              "// This uses a Promise to block the python side on completion of each step,\n",
              "// then passes the result of the previous step as the input to the next step.\n",
              "function _uploadFilesContinue(outputId) {\n",
              "  const outputElement = document.getElementById(outputId);\n",
              "  const steps = outputElement.steps;\n",
              "\n",
              "  const next = steps.next(outputElement.lastPromiseValue);\n",
              "  return Promise.resolve(next.value.promise).then((value) => {\n",
              "    // Cache the last promise value to make it available to the next\n",
              "    // step of the generator.\n",
              "    outputElement.lastPromiseValue = value;\n",
              "    return next.value.response;\n",
              "  });\n",
              "}\n",
              "\n",
              "/**\n",
              " * Generator function which is called between each async step of the upload\n",
              " * process.\n",
              " * @param {string} inputId Element ID of the input file picker element.\n",
              " * @param {string} outputId Element ID of the output display.\n",
              " * @return {!Iterable<!Object>} Iterable of next steps.\n",
              " */\n",
              "function* uploadFilesStep(inputId, outputId) {\n",
              "  const inputElement = document.getElementById(inputId);\n",
              "  inputElement.disabled = false;\n",
              "\n",
              "  const outputElement = document.getElementById(outputId);\n",
              "  outputElement.innerHTML = '';\n",
              "\n",
              "  const pickedPromise = new Promise((resolve) => {\n",
              "    inputElement.addEventListener('change', (e) => {\n",
              "      resolve(e.target.files);\n",
              "    });\n",
              "  });\n",
              "\n",
              "  const cancel = document.createElement('button');\n",
              "  inputElement.parentElement.appendChild(cancel);\n",
              "  cancel.textContent = 'Cancel upload';\n",
              "  const cancelPromise = new Promise((resolve) => {\n",
              "    cancel.onclick = () => {\n",
              "      resolve(null);\n",
              "    };\n",
              "  });\n",
              "\n",
              "  // Wait for the user to pick the files.\n",
              "  const files = yield {\n",
              "    promise: Promise.race([pickedPromise, cancelPromise]),\n",
              "    response: {\n",
              "      action: 'starting',\n",
              "    }\n",
              "  };\n",
              "\n",
              "  cancel.remove();\n",
              "\n",
              "  // Disable the input element since further picks are not allowed.\n",
              "  inputElement.disabled = true;\n",
              "\n",
              "  if (!files) {\n",
              "    return {\n",
              "      response: {\n",
              "        action: 'complete',\n",
              "      }\n",
              "    };\n",
              "  }\n",
              "\n",
              "  for (const file of files) {\n",
              "    const li = document.createElement('li');\n",
              "    li.append(span(file.name, {fontWeight: 'bold'}));\n",
              "    li.append(span(\n",
              "        `(${file.type || 'n/a'}) - ${file.size} bytes, ` +\n",
              "        `last modified: ${\n",
              "            file.lastModifiedDate ? file.lastModifiedDate.toLocaleDateString() :\n",
              "                                    'n/a'} - `));\n",
              "    const percent = span('0% done');\n",
              "    li.appendChild(percent);\n",
              "\n",
              "    outputElement.appendChild(li);\n",
              "\n",
              "    const fileDataPromise = new Promise((resolve) => {\n",
              "      const reader = new FileReader();\n",
              "      reader.onload = (e) => {\n",
              "        resolve(e.target.result);\n",
              "      };\n",
              "      reader.readAsArrayBuffer(file);\n",
              "    });\n",
              "    // Wait for the data to be ready.\n",
              "    let fileData = yield {\n",
              "      promise: fileDataPromise,\n",
              "      response: {\n",
              "        action: 'continue',\n",
              "      }\n",
              "    };\n",
              "\n",
              "    // Use a chunked sending to avoid message size limits. See b/62115660.\n",
              "    let position = 0;\n",
              "    do {\n",
              "      const length = Math.min(fileData.byteLength - position, MAX_PAYLOAD_SIZE);\n",
              "      const chunk = new Uint8Array(fileData, position, length);\n",
              "      position += length;\n",
              "\n",
              "      const base64 = btoa(String.fromCharCode.apply(null, chunk));\n",
              "      yield {\n",
              "        response: {\n",
              "          action: 'append',\n",
              "          file: file.name,\n",
              "          data: base64,\n",
              "        },\n",
              "      };\n",
              "\n",
              "      let percentDone = fileData.byteLength === 0 ?\n",
              "          100 :\n",
              "          Math.round((position / fileData.byteLength) * 100);\n",
              "      percent.textContent = `${percentDone}% done`;\n",
              "\n",
              "    } while (position < fileData.byteLength);\n",
              "  }\n",
              "\n",
              "  // All done.\n",
              "  yield {\n",
              "    response: {\n",
              "      action: 'complete',\n",
              "    }\n",
              "  };\n",
              "}\n",
              "\n",
              "scope.google = scope.google || {};\n",
              "scope.google.colab = scope.google.colab || {};\n",
              "scope.google.colab._files = {\n",
              "  _uploadFiles,\n",
              "  _uploadFilesContinue,\n",
              "};\n",
              "})(self);\n",
              "</script> "
            ]
          },
          "metadata": {}
        },
        {
          "output_type": "stream",
          "name": "stdout",
          "text": [
            "Saving manual_facesecure.pdf to manual_facesecure.pdf\n",
            "Arquivo carregado: manual_facesecure.pdf\n"
          ]
        }
      ],
      "source": [
        "from google.colab import files\n",
        "\n",
        "uploaded = files.upload()\n",
        "file_path =list(uploaded.keys())[0]\n",
        "\n",
        "print(f\"Arquivo carregado: {file_path}\")"
      ]
    },
    {
      "cell_type": "code",
      "execution_count": 16,
      "metadata": {
        "colab": {
          "base_uri": "https://localhost:8080/"
        },
        "id": "_zbnQdVPDiaK",
        "outputId": "c8f8b54a-9e58-48fb-8109-05bfe3a14aae"
      },
      "outputs": [
        {
          "output_type": "execute_result",
          "data": {
            "text/plain": [
              "Document(metadata={'producer': 'PyFPDF 1.7.2 http://pyfpdf.googlecode.com/', 'creator': '', 'creationdate': 'D:20250728031816', 'source': 'manual_facesecure.pdf', 'file_path': 'manual_facesecure.pdf', 'total_pages': 4, 'format': 'PDF 1.3', 'title': '', 'author': '', 'subject': '', 'keywords': '', 'moddate': '', 'trapped': '', 'modDate': '', 'creationDate': 'D:20250728031816', 'page': 0}, page_content='Manual de Atendimento e Uso - FaceSecure\\n1. Introdução\\nObjetivo do Manual\\nEste manual tem como objetivo orientar clientes e atendentes sobre o funcionamento completo do\\nsistema de reconhecimento facial FaceSecure, abordando desde o cadastro, funcionalidades e\\nserviços até procedimentos de segurança, suporte e resolução de problemas. O documento\\ntambém serve como material de consulta para dúvidas frequentes.\\nVisão geral da FaceSecure\\nO FaceSecure é um sistema de reconhecimento facial que oferece autenticação segura, rápida e\\ninteligente para diversos cenários: acesso a sistemas, controle de entrada em ambientes físicos,\\nverificação de identidade em aplicativos e muito mais. A solução é baseada em inteligência artificial\\ne biometria facial, com foco em precisão, privacidade e facilidade de uso.\\nPúblico-alvo\\nA solução é voltada para empresas e usuários finais que buscam uma forma moderna e segura de\\nautenticação, substituindo senhas e cartões por reconhecimento facial.\\n2. Cadastro e Habilitação do Sistema\\nRequisitos para utilização\\n- Ser maior de 18 anos\\n- Possuir documento oficial com foto (RG, CNH, etc.)\\n- Dispositivo com câmera compatível\\n- Endereço de e-mail válido\\nEtapas do processo de cadastro\\n1. Acesse o app ou portal da FaceSecure\\n2. Informe dados pessoais (nome, CPF, e-mail)\\n3. Envie foto de documento oficial')"
            ]
          },
          "metadata": {},
          "execution_count": 16
        }
      ],
      "source": [
        "#carregar e processar o conteúdo de um arquivo .pdf\n",
        "\n",
        "from pathlib import Path\n",
        "from langchain_community.document_loaders import PyMuPDFLoader\n",
        "\n",
        "file_path = \"manual_facesecure.pdf\"\n",
        "\n",
        "loader = PyMuPDFLoader(file_path) #na chamada da função, o documento é lido e transformado em uma lista de objetos do tipo 'documents', cada um representando uma página do pdf com o texto extraído\n",
        "doc = loader.load()\n",
        "doc[0] #cada posição é uma página do documento"
      ]
    },
    {
      "cell_type": "code",
      "execution_count": 17,
      "metadata": {
        "colab": {
          "base_uri": "https://localhost:8080/"
        },
        "collapsed": true,
        "id": "Jo-4-wFSFP8X",
        "outputId": "f9165038-d2ba-4c76-ca45-5641af7c4e92"
      },
      "outputs": [
        {
          "output_type": "stream",
          "name": "stdout",
          "text": [
            "{'author': '',\n",
            " 'creationDate': 'D:20250728031816',\n",
            " 'creationdate': 'D:20250728031816',\n",
            " 'creator': '',\n",
            " 'file_path': 'manual_facesecure.pdf',\n",
            " 'format': 'PDF 1.3',\n",
            " 'keywords': '',\n",
            " 'modDate': '',\n",
            " 'moddate': '',\n",
            " 'page': 0,\n",
            " 'producer': 'PyFPDF 1.7.2 http://pyfpdf.googlecode.com/',\n",
            " 'source': 'manual_facesecure.pdf',\n",
            " 'subject': '',\n",
            " 'title': '',\n",
            " 'total_pages': 4,\n",
            " 'trapped': ''}\n"
          ]
        }
      ],
      "source": [
        "#informações sobre o pdf\n",
        "import pprint\n",
        "\n",
        "pprint.pprint(doc[0].metadata)"
      ]
    },
    {
      "cell_type": "code",
      "execution_count": 18,
      "metadata": {
        "id": "RrIAvTPAWunR"
      },
      "outputs": [],
      "source": [
        "#função para a extração dos textos\n",
        "\n",
        "def extract_text_pdf(file_path):\n",
        "  loader = PyMuPDFLoader(file_path)\n",
        "  doc = loader.load()  #na variável doc há uma lista com cada uma das páginas\n",
        "  content = \"\\n\".join([page.page_content for page in doc]) #percorre cada pasta extraindo o texto e concatenando em um única variável\n",
        "  return content"
      ]
    },
    {
      "cell_type": "code",
      "execution_count": 19,
      "metadata": {
        "colab": {
          "base_uri": "https://localhost:8080/",
          "height": 123
        },
        "id": "_5RwCcJsXnxh",
        "outputId": "a65b54a4-d0f2-4fe5-f4ea-10b8724d724b"
      },
      "outputs": [
        {
          "output_type": "execute_result",
          "data": {
            "text/plain": [
              "'Manual de Atendimento e Uso - FaceSecure\\n1. Introdução\\nObjetivo do Manual\\nEste manual tem como objetivo orientar clientes e atendentes sobre o funcionamento completo do\\nsistema de reconhecimento facial FaceSecure, abordando desde o cadastro, funcionalidades e\\nserviços até procedimentos de segurança, suporte e resolução de problemas. O documento\\ntambém serve como material de consulta para dúvidas frequentes.\\nVisão geral da FaceSecure\\nO FaceSecure é um sistema de reconhecimento facial que oferece autenticação segura, rápida e\\ninteligente para diversos cenários: acesso a sistemas, controle de entrada em ambientes físicos,\\nverificação de identidade em aplicativos e muito mais. A solução é baseada em inteligência artificial\\ne biometria facial, com foco em precisão, privacidade e facilidade de uso.\\nPúblico-alvo\\nA solução é voltada para empresas e usuários finais que buscam uma forma moderna e segura de\\nautenticação, substituindo senhas e cartões por reconhecimento facial.\\n2. Cadastro e Habilitação do Sistema\\nRequisitos para utilização\\n- Ser maior de 18 anos\\n- Possuir documento oficial com foto (RG, CNH, etc.)\\n- Dispositivo com câmera compatível\\n- Endereço de e-mail válido\\nEtapas do processo de cadastro\\n1. Acesse o app ou portal da FaceSecure\\n2. Informe dados pessoais (nome, CPF, e-mail)\\n3. Envie foto de documento oficial\\n4. Grave o vídeo para reconhecimento facial\\n5. Concorde com os termos de uso e política de privacidade\\nVerificação de identidade (KYC)\\nA validação é realizada automaticamente por inteligência artificial e revisada por uma equipe\\nhumana. Esse processo garante que a pessoa cadastrada é realmente quem diz ser.\\nPrazo para ativação do acesso\\nO processo leva até 2 dias úteis. Em caso de inconsistência nas imagens ou dados, o cliente é\\nnotificado para refazer etapas.\\nProblemas comuns no cadastro\\n- Documento ilegível\\n- Imagem fora do enquadramento\\n- Vídeo mal iluminado ou incompleto\\n- Divergência de dados pessoais\\n3. Acesso ao Sistema\\nAcesso via portal ou aplicativo\\nApós ativação, o acesso pode ser feito via site ou app, utilizando a biometria facial.\\nRecuperação de acesso\\nCaso haja dificuldade para autenticar, o usuário pode optar por redefinir o acesso com documento e\\nselfie.\\nBiometria facial e dispositivos autorizados\\nA gestão dos dispositivos pode ser feita em \"Minha Conta > Dispositivos\". É possível remover\\nacessos não reconhecidos.\\n4. Funcionalidades do Sistema\\n- Autenticação facial para login em sistemas\\n- Controle de acesso físico (portarias, catracas)\\n- Registro de ponto com reconhecimento facial\\n- Validação de identidade remota em processos digitais\\n- Notificações de tentativas de acesso\\n5. Integração com Sistemas Parceiros\\nAPI e SDK\\nDisponibilizamos API e SDK para integração com sistemas de terceiros. A documentação técnica\\npode ser acessada pelo portal de desenvolvedores.\\nPlataformas compatíveis\\nIntegrações disponíveis com Android, iOS, Windows, Linux, sistemas web e câmeras IP.\\n6. Segurança e Privacidade\\nAutenticação em dois fatores\\nAlém da biometria, é possível ativar 2FA com código por e-mail ou app autenticador.\\nProteção de dados biométricos\\nTodos os dados são criptografados, armazenados de forma segura e em conformidade com a\\nLGPD.\\nBoas práticas de segurança\\n- Use dispositivos atualizados\\n- Evite ambientes com pouca luz ao capturar o rosto\\n- Não compartilhe credenciais ou permissões\\n7. Suporte e Atendimento\\nCanais disponíveis\\n- Chat via app (24h)\\n- E-mail: suporte@facesecure.com\\n- Telefone: 0800-999-0000 (dias úteis, 8h às 20h)\\nAcessibilidade\\nAtendimento adaptado para pessoas com deficiência visual e auditiva, com suporte por Libras e\\nleitores de tela.\\nOuvidoria\\nCaso o atendimento inicial não resolva, envie um e-mail para ouvidoria@facesecure.com. Resposta\\nem até 10 dias úteis.\\n8. Encerramento de Conta ou Serviço\\nA solicitação pode ser feita via app ou portal. Após a confirmação, os dados biométricos serão\\neliminados dos servidores em até 10 dias úteis, conforme a LGPD.\\n9. Problemas Técnicos Comuns\\n- Erro na leitura facial: verifique iluminação e enquadramento.\\n- Falha de conexão: teste a rede ou atualize o app.\\n- Dispositivo não compatível: consulte os requisitos mínimos no site.\\n10. Termos e Políticas\\n- Termos de uso e política de privacidade: disponíveis no site\\n- Política de dados biométricos e consentimento\\n- Código de ética e conduta na coleta de dados\\n11. Glossário\\n- Biometria facial: tecnologia que reconhece rostos humanos com base em características únicas\\n- SDK: Kit de Desenvolvimento de Software\\n- LGPD: Lei Geral de Proteção de Dados\\n- 2FA: Autenticação em dois fatores'"
            ],
            "application/vnd.google.colaboratory.intrinsic+json": {
              "type": "string"
            }
          },
          "metadata": {},
          "execution_count": 19
        }
      ],
      "source": [
        "extract_text_pdf(file_path)"
      ]
    },
    {
      "cell_type": "code",
      "execution_count": 20,
      "metadata": {
        "colab": {
          "base_uri": "https://localhost:8080/"
        },
        "id": "4wbP0yenX6cB",
        "outputId": "23b9ea8b-995c-4947-bf42-49ec2e4d4354"
      },
      "outputs": [
        {
          "output_type": "stream",
          "name": "stdout",
          "text": [
            "[PosixPath('/content/manual_facesecure.pdf')]\n"
          ]
        }
      ],
      "source": [
        "#leitura de todos os arquivos .pdf contidos em uma pasta\n",
        "\n",
        "docs_path = Path(\"/content\") #pasta padrão do colab\n",
        "pdf_files = [f for f in docs_path.glob(\"*.pdf\")]\n",
        "\n",
        "print(pdf_files)"
      ]
    },
    {
      "cell_type": "code",
      "execution_count": 21,
      "metadata": {
        "colab": {
          "base_uri": "https://localhost:8080/"
        },
        "collapsed": true,
        "id": "N3mlfZ9hY4it",
        "outputId": "fd480885-6d2a-493e-f816-e472a7ea892e"
      },
      "outputs": [
        {
          "output_type": "execute_result",
          "data": {
            "text/plain": [
              "1"
            ]
          },
          "metadata": {},
          "execution_count": 21
        }
      ],
      "source": [
        "loaded_documents = [extract_text_pdf(pdf) for pdf in pdf_files] #percorre cada um dos arquivos pdf e faz a extração por meio da função extract_file_pdf\n",
        "len(pdf_files)"
      ]
    },
    {
      "cell_type": "markdown",
      "metadata": {
        "id": "bNenksygaQaQ"
      },
      "source": [
        "**Divisão em pedaços de texto / Split**"
      ]
    },
    {
      "cell_type": "markdown",
      "metadata": {
        "id": "UJVFoIiSaph1"
      },
      "source": [
        "Neste estudo de caso, este passo se torna necessário porque os documentos longos podem comprometer o desempenho da recuperação dos dados. Desta forma, o texto será dividido em \"pedaços\" menores, pois o documento carregado é muito grande para ser passado como contexto pelo prompt.\n",
        "\n",
        "Dependendo do conteúdo, poderia ser possível caber o conteúdo inteiro na janela de contexto. Por exemplo, no modelo GPT-4 a janela de contexto é de cerca de 8k tokens, o que equivale, aproximadamente, a 32k caracteres. Porém, mesmo assim, as LLMs terão dificuldade em localizar informações dentro de entradas tão longas.\n",
        "\n",
        "**Portanto, tal divisão do texto é considerada uma boa prática.**\n",
        "\n",
        "\n",
        "Há dois grandes motivos pelos quais a fragmentação é necessária para qualquer aplicação que envolva bancos de dados vetoriais ou LLMs: para garantir que os modelos de incorporação possam ajustar os dados em suas janelas de contexto e para garantir que os próprios blocos contenham as informações necessárias para a pesquisa."
      ]
    },
    {
      "cell_type": "code",
      "execution_count": 22,
      "metadata": {
        "colab": {
          "base_uri": "https://localhost:8080/"
        },
        "id": "-HLYAZRTbsSv",
        "outputId": "3f51a283-7973-4900-f50b-9577141d6262"
      },
      "outputs": [
        {
          "output_type": "stream",
          "name": "stdout",
          "text": [
            "Número de chunks criados:11\n"
          ]
        }
      ],
      "source": [
        "from langchain_text_splitters import RecursiveCharacterTextSplitter\n",
        "\n",
        "text_sppliter = RecursiveCharacterTextSplitter(chunk_size = 500, chunk_overlap = 50)\n",
        "\n",
        "#chunk_size: quantidade total de tokens em cada uma das partes;\n",
        "#chunk_overlap: sobreposição de textos entre cada uma das partes\n",
        "#chunk_overlap: quantos caracteres ou tokens do final do final de um chunk(ou parte) serão reutilizados no começo do próximo\n",
        "\n",
        "chunks = []\n",
        "\n",
        "for doc in loaded_documents:\n",
        "  chunks.extend(text_sppliter.split_text(doc))\n",
        "\n",
        "  print(f\"Número de chunks criados:{len(chunks)}\") #indica a quantidade de \"pedaços\" em que o contexto foi \"quebrado\""
      ]
    },
    {
      "cell_type": "markdown",
      "metadata": {
        "id": "vesx7KGbedYG"
      },
      "source": [
        "**Embeddings** são representações vetoriais que organizam palavras com base em sua similaridade semântica, agrupando termos relacionados em um espaço multidimensional.\n",
        "\n",
        "Quando uma palavra nova é apresentada, o modelo consegue posicioná-la corretamente nesse espaço, considerando sua relação com outras palavras.\n",
        "\n",
        "Com o uso do Mecanismo de Atenção, o modelo compreende o contexto em que a palavra aparece, permitindo diferenciar significados e ajustar com precisão sua posição entre os embeddings."
      ]
    },
    {
      "cell_type": "code",
      "execution_count": 23,
      "metadata": {
        "colab": {
          "base_uri": "https://localhost:8080/",
          "height": 493,
          "referenced_widgets": [
            "9358a5f1b07646678de95ccb12aa9eb1",
            "4f28bba9df1045d2bbd7ea0b2ac713c2",
            "5770a34c26a94fe1a2c674a2ac3f4040",
            "9123550039fd4696ba30b04e76199e24",
            "74d6a098ed1a4c668b6fd5b43edb3646",
            "1ac13eebf2834ff89217004ff409cd43",
            "04175cdc1c5542b59b76e8f4d479bd3e",
            "1d79f89b491d4eb9abce868ba8aa8737",
            "0c94a13126554ce88de07e983c3f8c16",
            "1a55674c1ce74fd69c28942189a1e001",
            "7c98ea559d0244b7a852060e6e8cbf06",
            "68be773815704239b5d9a2a7c7c38e1e",
            "a7fee27f251d4ce09517fb9bcf82ead9",
            "48f82110c12c47bebd46514dd455dd7d",
            "f77e3b8b51b74770af3e376ea30f358a",
            "74ba78e0c27e44b683caa10ea6d24396",
            "5050a7dfc15d4b8fab1fb31bf0ceb4bc",
            "093b4a1fe6364f40a60be5cf73d1c22b",
            "60c9bbbc003947f3b23b36cb005963fb",
            "9ed939eeb6814453b557ea1961fee70c",
            "cdad7ae11152473fb3b4e36b995392d4",
            "95920c0a3b8b4030871c60e2925037f3",
            "38710dc02773406e8b0ea1c7ba1a81ae",
            "fd29010b94424979878f1c5481869db5",
            "e8b7f2d6849f4691803a81db9597bf5f",
            "cad92c3928b847bc9bc24db7188760ed",
            "934999779d95460d82d24f1426afdb9c",
            "c7660ab7141649fda6bb48638265c4c8",
            "f47400ddce4b469bab597d002aae937b",
            "b520ff6238f243cf856d00e3a7a57af0",
            "16b128306791494db5f1adcd266993e9",
            "319f00ba03f84298b29c39329dbc41c7",
            "6c293c41e2ec405aaad762d30f4d0f1d",
            "6f72d559aa5441d393237d0453c4ed47",
            "b098142bb7bf4995ab1d74ee765ad3ac",
            "7c3d76457522439a91e3ae4699fc95af",
            "7986e16f4ae14707b21a441223a484a9",
            "d5760a6f1139460abb501f4e13f527eb",
            "ab0bc37022a3421a9d92eb0386747aa3",
            "f35763adf47c4926a5a663e0af50868b",
            "01a7b0b68e754963b7b8b2b8acd8c9dd",
            "a9c7d1f4ef6241c0972072fb9cc4b833",
            "5a3706f265f244568ca605b9b3bd09ab",
            "9e8566d2db4a4e35abba30ecd24ad8a8",
            "15c4a6d3d936463c879e689e745dc540",
            "e83aa8862eee4666820ed072bd9f31ca",
            "087a88f4b9204d92b4668ce398e6c9cf",
            "cd660db9b04d43bb80d88d91a4356edd",
            "db072af955d14fdc84a3c281568ac9b3",
            "d4bef3b82ea544b482c61e6633d10f3e",
            "bac1d1a91eaf4aa082ded3475ab7892b",
            "01ef1a51380948888d0ef721893f0f92",
            "30e08f7db90e417a87feef34388b35c3",
            "bf657f24aa42466fb2748fbfafb4bf3c",
            "eddef8997c9945b69747cf4193a128d5",
            "0d052d598868499b820382b7fcf31096",
            "0dc7d579968347a0bbf2d5bb5688612f",
            "02c8b4b74108404aae379e36204022be",
            "00667d7837d8490b997d8def605bd677",
            "1d9751ce286a49808ab9344f73f36af9",
            "977ba8d7168b4354b90fb7c5a5743812",
            "47cfece9fbff417fbcce022d8c569b96",
            "d0cace2c22744733b1430c7f759300f2",
            "20d515b8fa2e4514a5485f5c93e20e9c",
            "ad6d02bc309f4d05a3ff34b11ce4ae9e",
            "01e0274ad4544e04bfe58a378a3567e9",
            "811dc1c2e9684300ba263ab0aa7903ff",
            "2499e1f44e6f472aad377f39f4d79f79",
            "3c65b6102c15458da84d9ade3ee098de",
            "86386d6b79c0438296df9136f71fb484",
            "56910321c4d5461f8434fca9a4e92e0f",
            "d2b60fd0a59445a8ad9e3cf41e7002b9",
            "65cb4539783a4546bb3181f92a526526",
            "ae26ba6459ed48328d42bce55c20d830",
            "0aac72195954482eb8220a077a300309",
            "3fdfe23cbf654295a3d858968093d576",
            "5463148f633a462d8f63ea866cf68e25",
            "3939eeb476a24f398f092a6f0108a5b1",
            "7280a940e1704e2aa5d93966a4ec4378",
            "e62ba938e024481e854dfb0705931abb",
            "6bc08ab4db6a4e1588154a455f328774",
            "cb9c866d70c44e8a9801ac749f48a3b3",
            "e822831f033e45ed90b7b4070245730f",
            "f70fa506b4084a97b3429d305ea640cd",
            "4f4f77fa29b34097bc68ddd525914300",
            "56aeda5c6ec14f9e92d60039369b4ecb",
            "c58000122e3d4cb7811ac03295015896",
            "4dc61e45e10a47378d9359a22b10842c",
            "9824c93914ed4772ab1c803b271205cb",
            "054e61f0818a4b359fbbbd0ab67fd596",
            "1bbcb115f7b04cd49291a661fa5907ba",
            "a54525203800412a99c8e9cc6fa407dc",
            "bb0ad01fe3da4bedb2fd5a73e7d7b77c",
            "fbf3a13c5b7f4d4dbd6839a9767e2730",
            "71ada72ac59645fd9b3a4b1f42002f97",
            "3673fd15bd8841c094586dd5b7ea7728",
            "45c418d1c4ed415c8af0979e88869f60",
            "0a76a8e182eb4474adc0a5ff776cf2fb",
            "a915fd6e3aff467c8560e416bb490a9c",
            "992ea38cd15c455db711219bf84f0f02",
            "7fee624ff5d04234afbe2e49a1972d75",
            "cad8d3bbc4f6446ca4ce4bb08dfaa87a",
            "3b6d24aee30d4f2590228ce5d50e9a69",
            "67f9641ad90a4136850afe58ea068be3",
            "d2dad7aa9a95460bbab1b0e6110e5b0a",
            "eda26d81b2b04740a4d6bd96df0ce521",
            "6fe84d6265444d90b286f000f4cfa150",
            "eb7dba8d508040c48361f8b591d0aebe",
            "50a8bab80ed041d1bb9281d2cdbdb659",
            "d7be4ce03df94471bfaf6e5bf443e03e",
            "1e96bb7110814f00bbf050d03ea97e66",
            "d4119098a39441318e6304df9287677f",
            "c878625a2930467e81698b209c599ce1",
            "a549c11177c4478f821255f85ecfcbd0",
            "052c2728b56d4a82a0420fc3bc6c2544",
            "7b0e5fa153fd469c8f30bd36e44a2edf",
            "f80992900bb5419a9580be4d3d387855",
            "5ab94c543ef94cda9585f213cb8d5223",
            "1aa320c9596a4d47aac830230420cd26",
            "4bb250998b47414d9cac14b1ca7ee485",
            "2199766ecc014e6f9abd23bfa184e85e"
          ]
        },
        "collapsed": true,
        "id": "5KbjLZGRjnn5",
        "outputId": "4f994872-046e-4f45-f627-9f7d724283b5"
      },
      "outputs": [
        {
          "output_type": "stream",
          "name": "stderr",
          "text": [
            "/usr/local/lib/python3.11/dist-packages/huggingface_hub/utils/_auth.py:94: UserWarning: \n",
            "The secret `HF_TOKEN` does not exist in your Colab secrets.\n",
            "To authenticate with the Hugging Face Hub, create a token in your settings tab (https://huggingface.co/settings/tokens), set it as secret in your Google Colab and restart your session.\n",
            "You will be able to reuse this secret in all of your notebooks.\n",
            "Please note that authentication is recommended but still optional to access public models or datasets.\n",
            "  warnings.warn(\n"
          ]
        },
        {
          "output_type": "display_data",
          "data": {
            "text/plain": [
              "modules.json:   0%|          | 0.00/349 [00:00<?, ?B/s]"
            ],
            "application/vnd.jupyter.widget-view+json": {
              "version_major": 2,
              "version_minor": 0,
              "model_id": "9358a5f1b07646678de95ccb12aa9eb1"
            }
          },
          "metadata": {}
        },
        {
          "output_type": "display_data",
          "data": {
            "text/plain": [
              "config_sentence_transformers.json:   0%|          | 0.00/116 [00:00<?, ?B/s]"
            ],
            "application/vnd.jupyter.widget-view+json": {
              "version_major": 2,
              "version_minor": 0,
              "model_id": "68be773815704239b5d9a2a7c7c38e1e"
            }
          },
          "metadata": {}
        },
        {
          "output_type": "display_data",
          "data": {
            "text/plain": [
              "README.md: 0.00B [00:00, ?B/s]"
            ],
            "application/vnd.jupyter.widget-view+json": {
              "version_major": 2,
              "version_minor": 0,
              "model_id": "38710dc02773406e8b0ea1c7ba1a81ae"
            }
          },
          "metadata": {}
        },
        {
          "output_type": "display_data",
          "data": {
            "text/plain": [
              "sentence_bert_config.json:   0%|          | 0.00/53.0 [00:00<?, ?B/s]"
            ],
            "application/vnd.jupyter.widget-view+json": {
              "version_major": 2,
              "version_minor": 0,
              "model_id": "6f72d559aa5441d393237d0453c4ed47"
            }
          },
          "metadata": {}
        },
        {
          "output_type": "display_data",
          "data": {
            "text/plain": [
              "config.json:   0%|          | 0.00/571 [00:00<?, ?B/s]"
            ],
            "application/vnd.jupyter.widget-view+json": {
              "version_major": 2,
              "version_minor": 0,
              "model_id": "15c4a6d3d936463c879e689e745dc540"
            }
          },
          "metadata": {}
        },
        {
          "output_type": "display_data",
          "data": {
            "text/plain": [
              "model.safetensors:   0%|          | 0.00/438M [00:00<?, ?B/s]"
            ],
            "application/vnd.jupyter.widget-view+json": {
              "version_major": 2,
              "version_minor": 0,
              "model_id": "0d052d598868499b820382b7fcf31096"
            }
          },
          "metadata": {}
        },
        {
          "output_type": "display_data",
          "data": {
            "text/plain": [
              "tokenizer_config.json:   0%|          | 0.00/363 [00:00<?, ?B/s]"
            ],
            "application/vnd.jupyter.widget-view+json": {
              "version_major": 2,
              "version_minor": 0,
              "model_id": "811dc1c2e9684300ba263ab0aa7903ff"
            }
          },
          "metadata": {}
        },
        {
          "output_type": "display_data",
          "data": {
            "text/plain": [
              "vocab.txt: 0.00B [00:00, ?B/s]"
            ],
            "application/vnd.jupyter.widget-view+json": {
              "version_major": 2,
              "version_minor": 0,
              "model_id": "3939eeb476a24f398f092a6f0108a5b1"
            }
          },
          "metadata": {}
        },
        {
          "output_type": "display_data",
          "data": {
            "text/plain": [
              "tokenizer.json: 0.00B [00:00, ?B/s]"
            ],
            "application/vnd.jupyter.widget-view+json": {
              "version_major": 2,
              "version_minor": 0,
              "model_id": "9824c93914ed4772ab1c803b271205cb"
            }
          },
          "metadata": {}
        },
        {
          "output_type": "display_data",
          "data": {
            "text/plain": [
              "special_tokens_map.json:   0%|          | 0.00/239 [00:00<?, ?B/s]"
            ],
            "application/vnd.jupyter.widget-view+json": {
              "version_major": 2,
              "version_minor": 0,
              "model_id": "992ea38cd15c455db711219bf84f0f02"
            }
          },
          "metadata": {}
        },
        {
          "output_type": "display_data",
          "data": {
            "text/plain": [
              "config.json:   0%|          | 0.00/190 [00:00<?, ?B/s]"
            ],
            "application/vnd.jupyter.widget-view+json": {
              "version_major": 2,
              "version_minor": 0,
              "model_id": "1e96bb7110814f00bbf050d03ea97e66"
            }
          },
          "metadata": {}
        }
      ],
      "source": [
        "from langchain_huggingface import HuggingFaceEmbeddings\n",
        "from langchain.vectorstores import FAISS\n",
        "\n",
        "embedding_model = \"sentence-transformers/all-mpnet-base-v2\"\n",
        "#embedding_model = \"BAAI/bge-m3\"\n",
        "\n",
        "embeddings = HuggingFaceEmbeddings(model_name = embedding_model)\n",
        "\n",
        "input_test = \"Um teste apenas\"\n",
        "\n",
        "result = embeddings.embed_query(input_test)"
      ]
    },
    {
      "cell_type": "code",
      "execution_count": 24,
      "metadata": {
        "colab": {
          "base_uri": "https://localhost:8080/"
        },
        "id": "_SMur62rnnB-",
        "outputId": "f422f4b5-c905-4076-b432-a36462dd40f3"
      },
      "outputs": [
        {
          "output_type": "stream",
          "name": "stdout",
          "text": [
            "[-0.026895038783550262, -0.011064727790653706, -0.04532000422477722, -0.0013972934102639556, 0.04243597015738487, -0.014201696030795574, 0.023354969918727875, 0.06011558324098587, 0.06152193248271942, 0.006502091884613037, 0.008159181103110313, -0.03056747280061245, 0.002060319297015667, 0.0129615543410182, 0.0042511713691055775, 0.0036631484981626272, -0.026755547150969505, 0.029737001284956932, -0.009770059026777744, -0.04650460556149483, -0.028108958154916763, 0.00016859530296642333, -0.02481103502213955, -0.01182831171900034, 0.0818282887339592, 0.0014993064105510712, 0.013264846988022327, -0.0624217726290226, -0.0012287232093513012, 0.02897718735039234, -0.02952898107469082, -0.02569606713950634, 0.0033771232701838017, -0.028868917375802994, 1.518517706244893e-06, -0.038824815303087234, -0.019842024892568588, -0.01765807531774044, -0.008112371899187565, -0.025130528956651688, 0.02574918232858181, 0.11367510259151459, -0.006133151240646839, -0.017986435443162918, -0.04541146382689476, -0.027877163141965866, 0.0015602917410433292, -0.0915532186627388, -0.04099876061081886, 0.09265203773975372, 0.004412863869220018, 0.010464552789926529, 0.0007996013155207038, -0.01969103328883648, 0.03650812432169914, -0.03294996917247772, -0.008631080389022827, -0.0701548159122467, 0.04781186580657959, 0.012426985427737236, 0.03929924964904785, -0.033150918781757355, 0.03459771350026131, 0.05724998190999031, -0.08736564218997955, 0.03071817383170128, 0.031383365392684937, 0.014051029458642006, 0.0017950452165678144, -0.005633516237139702, 0.048154640942811966, -0.019206702709197998, -0.011559934355318546, 0.08503212779760361, -0.006487331353127956, 0.0023521259427070618, -0.04190335050225258, 0.017693039029836655, -0.01843789592385292, -0.02610538713634014, 0.0648563951253891, 0.025859491899609566, 0.023214776068925858, 0.0554584264755249, 0.026868967339396477, 0.002058833371847868, 0.0009315970819443464, -0.026096777990460396, 0.057364970445632935, -0.02261415868997574, -0.07133799046278, -0.03026532754302025, -0.03707360476255417, 0.005593064706772566, -0.020938213914632797, 0.006007066462188959, 0.028800733387470245, -0.07083354890346527, 0.0412924624979496, -0.015260562300682068, 0.003454473102465272, -0.04460637643933296, -0.015291132964193821, 0.027724318206310272, -0.05711265280842781, 0.04585937410593033, -0.005197699647396803, 0.006527126766741276, -0.009516854770481586, 0.02570897713303566, -0.021213361993432045, -0.02610078640282154, -0.05994536355137825, 0.00188832962885499, -0.020556801930069923, 0.03388512507081032, -0.03254192695021629, -0.03989897295832634, -0.028026042506098747, 0.03304499760270119, -0.07813964784145355, 0.028564518317580223, 0.007828633300960064, -0.02149881049990654, 0.023470843210816383, -0.04386105760931969, -0.025265313684940338, 0.021412473171949387, -0.005160038359463215, -0.006203554105013609, 0.030328555032610893, -0.015578067861497402, -0.03226369991898537, -0.014691651798784733, 0.02736281231045723, 0.06135481968522072, 0.008915895596146584, -0.06337064504623413, 0.09293574094772339, -0.07296948879957199, 0.005000986624509096, -0.02166319638490677, 0.016979020088911057, 0.03933105245232582, 0.05606888234615326, 0.004061491694301367, 0.04266587644815445, -0.009427452459931374, -0.013593715615570545, 0.004144093953073025, 0.10023453831672668, -0.024249106645584106, 0.0068891397677361965, -0.006571978330612183, -0.0011964755831286311, 0.05975862592458725, 0.025898486375808716, -0.023822546005249023, -0.010319588705897331, 0.017328668385744095, 0.0173043180257082, 0.01799534633755684, -0.01657755672931671, 0.03262535482645035, 0.054933130741119385, 0.042793162167072296, 0.010805409401655197, 0.07248571515083313, 0.015065865591168404, 0.05297965928912163, -0.018466275185346603, -0.0021782119292765856, 0.013975239358842373, 0.01650877855718136, -0.03288945555686951, -0.026282010599970818, -0.017118748277425766, 0.0534709133207798, 0.03749589994549751, -0.09625166654586792, 0.053749892860651016, -0.09891689568758011, 0.04951918125152588, -0.04478053003549576, -0.005402707494795322, 0.030070597305893898, -0.018221495673060417, 0.008066208101809025, -0.04340552166104317, 0.03534466773271561, 0.031540773808956146, -0.0004619679821189493, -0.06522036343812943, 0.02847008965909481, 0.009117978624999523, -0.0018554190173745155, -0.00044073438039049506, -0.04350675269961357, -0.026620857417583466, -0.004173624329268932, -0.002683849772438407, -0.06295042484998703, 0.13889802992343903, -0.0025076030287891626, -0.008020883426070213, 0.0054751732386648655, 0.044193219393491745, -0.015630565583705902, 0.008162650279700756, -0.043154045939445496, -0.07802567631006241, -0.022255435585975647, -0.008205280639231205, -0.01221882738173008, 0.006667277310043573, -0.00887050200253725, -0.016143636777997017, 0.048574790358543396, -0.06864812225103378, 0.10150335729122162, 0.014913775026798248, 0.002720410469919443, -0.006364232394844294, 0.03729986399412155, -0.045359160751104355, 0.0015552741242572665, -0.008102761581540108, -0.0040617468766868114, -0.021751224994659424, 0.02236347831785679, 0.003913441207259893, -0.016853906214237213, 0.03583041578531265, -0.010102756321430206, 0.022808976471424103, 0.04941322281956673, 0.004059604834765196, -0.03163040801882744, -0.017502741888165474, -0.04231629520654678, -0.016446959227323532, 0.053416673094034195, -0.039991915225982666, -0.02412639744579792, -0.0008644228219054639, -0.03582378849387169, 0.046420641243457794, 0.03517133742570877, -0.002933637471869588, -0.02181144431233406, -0.007590729743242264, -0.0033185093197971582, -0.017720654606819153, -0.0041961283423006535, 0.060929760336875916, 0.03119385801255703, -0.04978980869054794, 0.02892782725393772, 0.018123405054211617, 0.005587434396147728, 0.04935727268457413, -0.038371630012989044, 0.0139800189062953, -0.005702251568436623, 0.11206532269716263, -0.03078642301261425, -0.01954059489071369, -0.061976879835128784, -0.005198345519602299, -0.01293474156409502, 0.04317965358495712, 0.05277307704091072, -0.00538673298433423, -0.005967993754893541, -0.020812474191188812, 0.006294076796621084, -0.019052626565098763, 0.03348452225327492, 0.015530155040323734, -0.025307225063443184, 0.003892389126121998, -0.011546121910214424, -0.022205747663974762, 0.005664370488375425, 0.02406254969537258, -0.0006229202845133841, 0.03223336488008499, -0.02209942415356636, 0.014996851794421673, 0.039078664034605026, -0.04726675525307655, -0.03156282752752304, -0.001101477537304163, 0.029367156326770782, -0.0059446548111736774, 0.0634828433394432, -0.028771432116627693, 0.08674214035272598, 0.04289359599351883, 0.016258111223578453, 0.057968154549598694, 0.04520077258348465, 0.00011932123743463308, -0.056625720113515854, 0.033665940165519714, 0.02216404490172863, -0.0648011565208435, -0.04862651973962784, 0.05708763003349304, -0.031306441873311996, 0.008798073045909405, -0.01576829142868519, 0.031604185700416565, 0.05372083559632301, -0.005637555383145809, 0.0025357382837682962, 0.03380724415183067, -0.07810928672552109, -0.04002636298537254, -0.022713780403137207, -0.027494752779603004, 0.04770010709762573, 0.007517891936004162, 0.004207357298582792, -0.030075984075665474, -0.06297487020492554, 0.029867522418498993, -0.031434595584869385, -0.03369980677962303, 0.01676107384264469, 0.00127014413010329, -0.05749840289354324, 0.025166962295770645, 0.03966621309518814, 0.007802662439644337, -0.02373928390443325, -0.0226193405687809, -0.004246965982019901, 0.02225457690656185, -0.012884587980806828, -0.0029128447640687227, -0.017688989639282227, -0.013026625849306583, -0.005166524555534124, 0.001362202106975019, 0.0578576996922493, 0.004168863408267498, 0.05172509327530861, -0.05108503997325897, -0.04914679005742073, -0.020909802988171577, 0.008270839229226112, -0.00133987027220428, -0.01461722794920206, 0.00036254673614166677, 0.0131101468577981, -0.007299026474356651, -0.0019826190546154976, 0.000883846718352288, -0.007931417785584927, -0.032286930829286575, -0.010726961307227612, -0.03096960484981537, -0.03613130375742912, -0.028829751536250114, 0.03239418938755989, -0.0021129262167960405, 0.0019668755121529102, -0.01113358698785305, -0.040890827775001526, 0.029149780049920082, 0.01285879872739315, -0.014429617673158646, 0.04041210934519768, -0.007630528882145882, 0.018905023112893105, 0.018534718081355095, 0.00792849250137806, -0.009208353236317635, -0.007835193537175655, 0.012929647229611874, -0.060546450316905975, 0.02852936089038849, -0.040509097278118134, -0.011371166445314884, -0.034710220992565155, 0.025328604504466057, 0.019807571545243263, -0.01273144781589508, 0.014655858278274536, 0.02746948041021824, -0.045956242829561234, 0.06308944523334503, 0.030518297106027603, 0.005620464216917753, -0.009370359592139721, 0.07778029888868332, 0.003372215898707509, 0.03219781070947647, 0.046399734914302826, 0.0551895946264267, 0.0694604367017746, -0.06990893930196762, 0.025291262194514275, -0.014019901864230633, -0.043432701379060745, 0.024918386712670326, 0.04559718817472458, 0.014913517981767654, -0.05965792387723923, 0.02631625160574913, -0.036386698484420776, -0.012211600318551064, 0.000953885552007705, -0.04916291683912277, -0.004886298906058073, 0.015948191285133362, -0.0362151637673378, 0.0003701477835420519, 0.015516567043960094, 0.04279937595129013, 0.09239181876182556, 0.03407518193125725, -0.028672615066170692, -0.0442204587161541, -0.015852227807044983, -0.05367333069443703, -0.014707908034324646, -0.03172875568270683, 0.02312006801366806, 0.0039332471787929535, 0.0208926759660244, 0.034247901290655136, -0.03408131003379822, -0.056498218327760696, -0.02956194244325161, -0.05883109197020531, -0.0012100721942260861, 0.007963237352669239, -0.04625130817294121, -0.025428080931305885, -0.00013847224181517959, -0.008623521775007248, 0.024245867505669594, -0.08036450296640396, -0.07633547484874725, -0.016686638817191124, 0.020801350474357605, -0.006170312874019146, 0.02786565013229847, 0.06137003377079964, 0.050424497574567795, -0.004134743474423885, -0.004570536781102419, 0.06354054063558578, -0.0176461823284626, 0.0020858237985521555, -0.004755185917019844, -0.00017063696577679366, 0.014183689840137959, 0.006581716705113649, 0.018288223072886467, 0.005858188029378653, -0.019091743975877762, -0.04988212510943413, -0.03656895458698273, -0.014485616236925125, -0.046975649893283844, 0.019555598497390747, -0.0395633690059185, -0.0514669269323349, -0.009109018370509148, -0.007895085029304028, 0.008904315531253815, -0.004791661165654659, 0.01499959360808134, -0.043376632034778595, -0.005429117940366268, -0.058005500584840775, 0.013606703840196133, 0.02750350907444954, 0.0029979690443724394, -0.006302862428128719, -0.04706652835011482, -0.00048449725727550685, 0.006820727605372667, 0.028988629579544067, -0.008416968397796154, 0.04322490841150284, 0.06299041211605072, -0.023079903796315193, 0.01426252443343401, -0.008182890713214874, -0.04585285112261772, -0.060829292982816696, -0.01765950582921505, 0.032998934388160706, 0.014474363066256046, 0.042233411222696304, 0.014864031225442886, 0.014850093051791191, 0.04350024089217186, 0.0043899319134652615, 0.020708493888378143, 0.028191326186060905, 0.05633518472313881, -0.022038018330931664, 0.012528309598565102, 0.020243098959326744, -0.02720511704683304, 0.030859913676977158, 0.05097552016377449, 0.057061951607465744, 0.04912228882312775, -0.07532686740159988, -0.03875262290239334, -0.06011516973376274, -0.04778816178441048, -0.04121813923120499, -0.0067374142818152905, 0.022876989096403122, -0.005868743639439344, -0.03185902163386345, -0.0017397513147443533, 0.011983741074800491, 0.02512999437749386, 0.0010289804777130485, -0.027509262785315514, 0.08624660968780518, 0.010777056217193604, -0.01709023118019104, -0.019142301753163338, 0.04873695224523544, -0.0038058925420045853, -0.05204712599515915, 0.03652622550725937, 0.060623008757829666, -0.033699993044137955, -0.05457993224263191, -0.03006914258003235, 0.02362070232629776, -0.00040285472641699016, -0.026550674811005592, 0.00036423467099666595, 0.04256290942430496, 0.04173571243882179, 0.013853278942406178, 0.06419757753610611, 0.0022169470321387053, 0.016585707664489746, 0.0017610389040783048, 0.09430364519357681, -0.12284836173057556, 0.011991472914814949, -0.08268553763628006, -6.041272483794708e-33, 0.029623964801430702, -0.04171998053789139, 0.03399186208844185, -0.04317367821931839, -0.02169002592563629, -0.005367739591747522, -0.015080608427524567, 0.01596459560096264, 0.008724517188966274, 0.014837757684290409, 0.012467566877603531, -0.08036110550165176, 0.011160050518810749, -0.008566008880734444, 0.013953996822237968, 0.035220917314291, 0.009990103542804718, -0.043255966156721115, -0.0424102246761322, -0.02629796601831913, -0.0189993716776371, -0.023900412023067474, 0.06179909035563469, 0.015350040048360825, 0.03656080365180969, -0.05076818913221359, 0.014108455739915371, 0.006591079290956259, -0.08108485490083694, -0.0007322560995817184, 0.0223105289041996, 0.009007135406136513, 0.04123253375291824, 0.03427502140402794, 0.07497353851795197, 0.0013246753951534629, 0.039470940828323364, -0.037754666060209274, 0.05166225507855415, 0.035693928599357605, -0.050363536924123764, -0.03865087032318115, 0.0005449859309010208, -0.010135224089026451, 0.005389264784753323, 0.020403491333127022, -0.0009994148276746273, -0.04171357303857803, 0.02308122254908085, -0.045247867703437805, 0.030325787141919136, 0.010595048777759075, 0.02601919323205948, -0.041253410279750824, 0.022419845685362816, 0.09777531772851944, -0.012653072364628315, -0.08025769144296646, 0.03153529018163681, -0.003796131582930684, 0.03268150985240936, -0.015776662155985832, 0.01083444431424141, -0.029962662607431412, -0.017286302521824837, -0.012102213688194752, 0.045264121145009995, -0.02983252890408039, 0.04376808553934097, 0.023305509239435196, -0.00014861022646073252, 0.0009504701010882854, 0.015173202380537987, 0.0022456019651144743, -0.007003559730947018, 0.02967291697859764, 0.004535234998911619, 0.014706531539559364, 0.03527473658323288, 0.039405159652233124, 0.005220011807978153, -0.031784169375896454, -0.02239251881837845, 0.009863256476819515, -0.008316915482282639, -0.046990685164928436, -0.027865998446941376, -0.06348733603954315, -0.05670987442135811, -0.010592453181743622, 0.0034515182487666607, 0.05052618682384491, -0.02408197708427906, -0.03432294353842735, 0.010506992228329182, -0.06821903586387634, -0.08237326145172119, -0.014462570659816265, 0.01888204552233219, 0.00798802636563778, -0.031108295544981956, 0.02713708207011223, 0.017847904935479164, 0.0864173173904419, -0.032928988337516785, -0.030301561579108238, 0.011653636582195759, -0.027213234454393387, -0.01407267153263092, 0.03499468043446541, 0.02563856914639473, 0.04131951183080673, 0.020941678434610367, -0.029840201139450073, 0.010065642185509205, 0.06347320973873138, 0.025003375485539436, -0.027065938338637352, -0.03164173290133476, -0.0483323335647583, -0.059617966413497925, 0.022296689450740814, -0.003733031451702118, 0.008703596889972687, -0.04224719479680061, -0.034361325204372406, 0.019108666107058525, 0.0657314583659172, -0.06816918402910233, -0.03570781648159027, -0.006035949103534222, -0.026023898273706436, 2.345032612538489e-07, -0.021343091502785683, 0.06288006901741028, 0.023480752483010292, -0.018586423248052597, 0.030350375920534134, -0.016687771305441856, -0.018327591940760612, 0.042415618896484375, 0.011716832406818867, 0.01138868648558855, 0.016773052513599396, -0.02297777123749256, -0.0073629384860396385, 0.0002796227636281401, -0.031322747468948364, 0.031277675181627274, -0.0695112943649292, -0.01377976592630148, -0.024242019280791283, -0.052494876086711884, -0.025316279381513596, 0.010528587736189365, -0.006585215218365192, -0.0234767347574234, -0.04902523383498192, -0.014900345355272293, 0.025055907666683197, 0.0225448627024889, -0.04918356612324715, -0.06017875671386719, 0.042779285460710526, 0.0858953446149826, 0.0031902119517326355, 0.02429933473467827, 0.015067098662257195, -0.021560082212090492, 0.0023984876461327076, -0.0007855644798837602, 0.018858373165130615, 0.030646750703454018, 0.048287201672792435, -0.04779693856835365, -0.017014682292938232, 0.0034241448156535625, 0.04564568027853966, -0.00624847924336791, -0.019756196066737175, -0.02017003856599331, 0.05161748081445694, -0.03356390446424484, -0.02270865999162197, 0.0026186301838606596, 0.007378630340099335, 0.03040112741291523, -0.02293228916823864, -0.00040753354551270604, 0.02446899563074112, -0.03299545496702194, -0.0006159980548545718, 0.10305844247341156, -0.0023264549672603607, -0.04382089525461197, 0.03479288890957832, 0.08542438596487045, 0.0026990165933966637, -0.05801437795162201, 0.017570778727531433, 1.3583878408689223e-34, -0.03432239964604378, 0.0009079049341380596, -0.004187998827546835, -0.010864615440368652, 0.00746578723192215, -0.0037146613467484713, 0.0018862609285861254, -0.01174072828143835, 0.05101265385746956, 0.0008828238933347166, 0.004050464369356632]\n"
          ]
        }
      ],
      "source": [
        "print(result) #a frase \"Um teste apenas\" foi convertida para o seguinte embedding, que é valor um conjuntos de len(result) valores"
      ]
    },
    {
      "cell_type": "code",
      "execution_count": 25,
      "metadata": {
        "colab": {
          "base_uri": "https://localhost:8080/"
        },
        "id": "VusKUOuYlfs5",
        "outputId": "2811073e-f8c5-4fc5-ee65-2de83a8ef564"
      },
      "outputs": [
        {
          "output_type": "execute_result",
          "data": {
            "text/plain": [
              "768"
            ]
          },
          "metadata": {},
          "execution_count": 25
        }
      ],
      "source": [
        "len(result) #representação numérica do texto"
      ]
    },
    {
      "cell_type": "code",
      "execution_count": 26,
      "metadata": {
        "colab": {
          "base_uri": "https://localhost:8080/"
        },
        "id": "YYYQMGsMvPiO",
        "outputId": "cc628440-cee2-4749-9b80-5fa7801c1bb2"
      },
      "outputs": [
        {
          "output_type": "stream",
          "name": "stdout",
          "text": [
            "[-0.026895038783550262, -0.011064727790653706, -0.04532000422477722, -0.0013972934102639556, 0.04243597015738487, -0.014201696030795574, 0.023354969918727875, 0.06011558324098587, 0.06152193248271942, 0.006502091884613037, 0.008159181103110313, -0.03056747280061245, 0.002060319297015667, 0.0129615543410182, 0.0042511713691055775, 0.0036631484981626272, -0.026755547150969505, 0.029737001284956932, -0.009770059026777744, -0.04650460556149483, -0.028108958154916763, 0.00016859530296642333, -0.02481103502213955, -0.01182831171900034, 0.0818282887339592, 0.0014993064105510712, 0.013264846988022327, -0.0624217726290226, -0.0012287232093513012, 0.02897718735039234, -0.02952898107469082, -0.02569606713950634, 0.0033771232701838017, -0.028868917375802994, 1.518517706244893e-06, -0.038824815303087234, -0.019842024892568588, -0.01765807531774044, -0.008112371899187565, -0.025130528956651688, 0.02574918232858181, 0.11367510259151459, -0.006133151240646839, -0.017986435443162918, -0.04541146382689476, -0.027877163141965866, 0.0015602917410433292, -0.0915532186627388, -0.04099876061081886, 0.09265203773975372, 0.004412863869220018, 0.010464552789926529, 0.0007996013155207038, -0.01969103328883648, 0.03650812432169914, -0.03294996917247772, -0.008631080389022827, -0.0701548159122467, 0.04781186580657959, 0.012426985427737236, 0.03929924964904785, -0.033150918781757355, 0.03459771350026131, 0.05724998190999031, -0.08736564218997955, 0.03071817383170128, 0.031383365392684937, 0.014051029458642006, 0.0017950452165678144, -0.005633516237139702, 0.048154640942811966, -0.019206702709197998, -0.011559934355318546, 0.08503212779760361, -0.006487331353127956, 0.0023521259427070618, -0.04190335050225258, 0.017693039029836655, -0.01843789592385292, -0.02610538713634014, 0.0648563951253891, 0.025859491899609566, 0.023214776068925858, 0.0554584264755249, 0.026868967339396477, 0.002058833371847868, 0.0009315970819443464, -0.026096777990460396, 0.057364970445632935, -0.02261415868997574, -0.07133799046278, -0.03026532754302025, -0.03707360476255417, 0.005593064706772566, -0.020938213914632797, 0.006007066462188959, 0.028800733387470245, -0.07083354890346527, 0.0412924624979496, -0.015260562300682068, 0.003454473102465272, -0.04460637643933296, -0.015291132964193821, 0.027724318206310272, -0.05711265280842781, 0.04585937410593033, -0.005197699647396803, 0.006527126766741276, -0.009516854770481586, 0.02570897713303566, -0.021213361993432045, -0.02610078640282154, -0.05994536355137825, 0.00188832962885499, -0.020556801930069923, 0.03388512507081032, -0.03254192695021629, -0.03989897295832634, -0.028026042506098747, 0.03304499760270119, -0.07813964784145355, 0.028564518317580223, 0.007828633300960064, -0.02149881049990654, 0.023470843210816383, -0.04386105760931969, -0.025265313684940338, 0.021412473171949387, -0.005160038359463215, -0.006203554105013609, 0.030328555032610893, -0.015578067861497402, -0.03226369991898537, -0.014691651798784733, 0.02736281231045723, 0.06135481968522072, 0.008915895596146584, -0.06337064504623413, 0.09293574094772339, -0.07296948879957199, 0.005000986624509096, -0.02166319638490677, 0.016979020088911057, 0.03933105245232582, 0.05606888234615326, 0.004061491694301367, 0.04266587644815445, -0.009427452459931374, -0.013593715615570545, 0.004144093953073025, 0.10023453831672668, -0.024249106645584106, 0.0068891397677361965, -0.006571978330612183, -0.0011964755831286311, 0.05975862592458725, 0.025898486375808716, -0.023822546005249023, -0.010319588705897331, 0.017328668385744095, 0.0173043180257082, 0.01799534633755684, -0.01657755672931671, 0.03262535482645035, 0.054933130741119385, 0.042793162167072296, 0.010805409401655197, 0.07248571515083313, 0.015065865591168404, 0.05297965928912163, -0.018466275185346603, -0.0021782119292765856, 0.013975239358842373, 0.01650877855718136, -0.03288945555686951, -0.026282010599970818, -0.017118748277425766, 0.0534709133207798, 0.03749589994549751, -0.09625166654586792, 0.053749892860651016, -0.09891689568758011, 0.04951918125152588, -0.04478053003549576, -0.005402707494795322, 0.030070597305893898, -0.018221495673060417, 0.008066208101809025, -0.04340552166104317, 0.03534466773271561, 0.031540773808956146, -0.0004619679821189493, -0.06522036343812943, 0.02847008965909481, 0.009117978624999523, -0.0018554190173745155, -0.00044073438039049506, -0.04350675269961357, -0.026620857417583466, -0.004173624329268932, -0.002683849772438407, -0.06295042484998703, 0.13889802992343903, -0.0025076030287891626, -0.008020883426070213, 0.0054751732386648655, 0.044193219393491745, -0.015630565583705902, 0.008162650279700756, -0.043154045939445496, -0.07802567631006241, -0.022255435585975647, -0.008205280639231205, -0.01221882738173008, 0.006667277310043573, -0.00887050200253725, -0.016143636777997017, 0.048574790358543396, -0.06864812225103378, 0.10150335729122162, 0.014913775026798248, 0.002720410469919443, -0.006364232394844294, 0.03729986399412155, -0.045359160751104355, 0.0015552741242572665, -0.008102761581540108, -0.0040617468766868114, -0.021751224994659424, 0.02236347831785679, 0.003913441207259893, -0.016853906214237213, 0.03583041578531265, -0.010102756321430206, 0.022808976471424103, 0.04941322281956673, 0.004059604834765196, -0.03163040801882744, -0.017502741888165474, -0.04231629520654678, -0.016446959227323532, 0.053416673094034195, -0.039991915225982666, -0.02412639744579792, -0.0008644228219054639, -0.03582378849387169, 0.046420641243457794, 0.03517133742570877, -0.002933637471869588, -0.02181144431233406, -0.007590729743242264, -0.0033185093197971582, -0.017720654606819153, -0.0041961283423006535, 0.060929760336875916, 0.03119385801255703, -0.04978980869054794, 0.02892782725393772, 0.018123405054211617, 0.005587434396147728, 0.04935727268457413, -0.038371630012989044, 0.0139800189062953, -0.005702251568436623, 0.11206532269716263, -0.03078642301261425, -0.01954059489071369, -0.061976879835128784, -0.005198345519602299, -0.01293474156409502, 0.04317965358495712, 0.05277307704091072, -0.00538673298433423, -0.005967993754893541, -0.020812474191188812, 0.006294076796621084, -0.019052626565098763, 0.03348452225327492, 0.015530155040323734, -0.025307225063443184, 0.003892389126121998, -0.011546121910214424, -0.022205747663974762, 0.005664370488375425, 0.02406254969537258, -0.0006229202845133841, 0.03223336488008499, -0.02209942415356636, 0.014996851794421673, 0.039078664034605026, -0.04726675525307655, -0.03156282752752304, -0.001101477537304163, 0.029367156326770782, -0.0059446548111736774, 0.0634828433394432, -0.028771432116627693, 0.08674214035272598, 0.04289359599351883, 0.016258111223578453, 0.057968154549598694, 0.04520077258348465, 0.00011932123743463308, -0.056625720113515854, 0.033665940165519714, 0.02216404490172863, -0.0648011565208435, -0.04862651973962784, 0.05708763003349304, -0.031306441873311996, 0.008798073045909405, -0.01576829142868519, 0.031604185700416565, 0.05372083559632301, -0.005637555383145809, 0.0025357382837682962, 0.03380724415183067, -0.07810928672552109, -0.04002636298537254, -0.022713780403137207, -0.027494752779603004, 0.04770010709762573, 0.007517891936004162, 0.004207357298582792, -0.030075984075665474, -0.06297487020492554, 0.029867522418498993, -0.031434595584869385, -0.03369980677962303, 0.01676107384264469, 0.00127014413010329, -0.05749840289354324, 0.025166962295770645, 0.03966621309518814, 0.007802662439644337, -0.02373928390443325, -0.0226193405687809, -0.004246965982019901, 0.02225457690656185, -0.012884587980806828, -0.0029128447640687227, -0.017688989639282227, -0.013026625849306583, -0.005166524555534124, 0.001362202106975019, 0.0578576996922493, 0.004168863408267498, 0.05172509327530861, -0.05108503997325897, -0.04914679005742073, -0.020909802988171577, 0.008270839229226112, -0.00133987027220428, -0.01461722794920206, 0.00036254673614166677, 0.0131101468577981, -0.007299026474356651, -0.0019826190546154976, 0.000883846718352288, -0.007931417785584927, -0.032286930829286575, -0.010726961307227612, -0.03096960484981537, -0.03613130375742912, -0.028829751536250114, 0.03239418938755989, -0.0021129262167960405, 0.0019668755121529102, -0.01113358698785305, -0.040890827775001526, 0.029149780049920082, 0.01285879872739315, -0.014429617673158646, 0.04041210934519768, -0.007630528882145882, 0.018905023112893105, 0.018534718081355095, 0.00792849250137806, -0.009208353236317635, -0.007835193537175655, 0.012929647229611874, -0.060546450316905975, 0.02852936089038849, -0.040509097278118134, -0.011371166445314884, -0.034710220992565155, 0.025328604504466057, 0.019807571545243263, -0.01273144781589508, 0.014655858278274536, 0.02746948041021824, -0.045956242829561234, 0.06308944523334503, 0.030518297106027603, 0.005620464216917753, -0.009370359592139721, 0.07778029888868332, 0.003372215898707509, 0.03219781070947647, 0.046399734914302826, 0.0551895946264267, 0.0694604367017746, -0.06990893930196762, 0.025291262194514275, -0.014019901864230633, -0.043432701379060745, 0.024918386712670326, 0.04559718817472458, 0.014913517981767654, -0.05965792387723923, 0.02631625160574913, -0.036386698484420776, -0.012211600318551064, 0.000953885552007705, -0.04916291683912277, -0.004886298906058073, 0.015948191285133362, -0.0362151637673378, 0.0003701477835420519, 0.015516567043960094, 0.04279937595129013, 0.09239181876182556, 0.03407518193125725, -0.028672615066170692, -0.0442204587161541, -0.015852227807044983, -0.05367333069443703, -0.014707908034324646, -0.03172875568270683, 0.02312006801366806, 0.0039332471787929535, 0.0208926759660244, 0.034247901290655136, -0.03408131003379822, -0.056498218327760696, -0.02956194244325161, -0.05883109197020531, -0.0012100721942260861, 0.007963237352669239, -0.04625130817294121, -0.025428080931305885, -0.00013847224181517959, -0.008623521775007248, 0.024245867505669594, -0.08036450296640396, -0.07633547484874725, -0.016686638817191124, 0.020801350474357605, -0.006170312874019146, 0.02786565013229847, 0.06137003377079964, 0.050424497574567795, -0.004134743474423885, -0.004570536781102419, 0.06354054063558578, -0.0176461823284626, 0.0020858237985521555, -0.004755185917019844, -0.00017063696577679366, 0.014183689840137959, 0.006581716705113649, 0.018288223072886467, 0.005858188029378653, -0.019091743975877762, -0.04988212510943413, -0.03656895458698273, -0.014485616236925125, -0.046975649893283844, 0.019555598497390747, -0.0395633690059185, -0.0514669269323349, -0.009109018370509148, -0.007895085029304028, 0.008904315531253815, -0.004791661165654659, 0.01499959360808134, -0.043376632034778595, -0.005429117940366268, -0.058005500584840775, 0.013606703840196133, 0.02750350907444954, 0.0029979690443724394, -0.006302862428128719, -0.04706652835011482, -0.00048449725727550685, 0.006820727605372667, 0.028988629579544067, -0.008416968397796154, 0.04322490841150284, 0.06299041211605072, -0.023079903796315193, 0.01426252443343401, -0.008182890713214874, -0.04585285112261772, -0.060829292982816696, -0.01765950582921505, 0.032998934388160706, 0.014474363066256046, 0.042233411222696304, 0.014864031225442886, 0.014850093051791191, 0.04350024089217186, 0.0043899319134652615, 0.020708493888378143, 0.028191326186060905, 0.05633518472313881, -0.022038018330931664, 0.012528309598565102, 0.020243098959326744, -0.02720511704683304, 0.030859913676977158, 0.05097552016377449, 0.057061951607465744, 0.04912228882312775, -0.07532686740159988, -0.03875262290239334, -0.06011516973376274, -0.04778816178441048, -0.04121813923120499, -0.0067374142818152905, 0.022876989096403122, -0.005868743639439344, -0.03185902163386345, -0.0017397513147443533, 0.011983741074800491, 0.02512999437749386, 0.0010289804777130485, -0.027509262785315514, 0.08624660968780518, 0.010777056217193604, -0.01709023118019104, -0.019142301753163338, 0.04873695224523544, -0.0038058925420045853, -0.05204712599515915, 0.03652622550725937, 0.060623008757829666, -0.033699993044137955, -0.05457993224263191, -0.03006914258003235, 0.02362070232629776, -0.00040285472641699016, -0.026550674811005592, 0.00036423467099666595, 0.04256290942430496, 0.04173571243882179, 0.013853278942406178, 0.06419757753610611, 0.0022169470321387053, 0.016585707664489746, 0.0017610389040783048, 0.09430364519357681, -0.12284836173057556, 0.011991472914814949, -0.08268553763628006, -6.041272483794708e-33, 0.029623964801430702, -0.04171998053789139, 0.03399186208844185, -0.04317367821931839, -0.02169002592563629, -0.005367739591747522, -0.015080608427524567, 0.01596459560096264, 0.008724517188966274, 0.014837757684290409, 0.012467566877603531, -0.08036110550165176, 0.011160050518810749, -0.008566008880734444, 0.013953996822237968, 0.035220917314291, 0.009990103542804718, -0.043255966156721115, -0.0424102246761322, -0.02629796601831913, -0.0189993716776371, -0.023900412023067474, 0.06179909035563469, 0.015350040048360825, 0.03656080365180969, -0.05076818913221359, 0.014108455739915371, 0.006591079290956259, -0.08108485490083694, -0.0007322560995817184, 0.0223105289041996, 0.009007135406136513, 0.04123253375291824, 0.03427502140402794, 0.07497353851795197, 0.0013246753951534629, 0.039470940828323364, -0.037754666060209274, 0.05166225507855415, 0.035693928599357605, -0.050363536924123764, -0.03865087032318115, 0.0005449859309010208, -0.010135224089026451, 0.005389264784753323, 0.020403491333127022, -0.0009994148276746273, -0.04171357303857803, 0.02308122254908085, -0.045247867703437805, 0.030325787141919136, 0.010595048777759075, 0.02601919323205948, -0.041253410279750824, 0.022419845685362816, 0.09777531772851944, -0.012653072364628315, -0.08025769144296646, 0.03153529018163681, -0.003796131582930684, 0.03268150985240936, -0.015776662155985832, 0.01083444431424141, -0.029962662607431412, -0.017286302521824837, -0.012102213688194752, 0.045264121145009995, -0.02983252890408039, 0.04376808553934097, 0.023305509239435196, -0.00014861022646073252, 0.0009504701010882854, 0.015173202380537987, 0.0022456019651144743, -0.007003559730947018, 0.02967291697859764, 0.004535234998911619, 0.014706531539559364, 0.03527473658323288, 0.039405159652233124, 0.005220011807978153, -0.031784169375896454, -0.02239251881837845, 0.009863256476819515, -0.008316915482282639, -0.046990685164928436, -0.027865998446941376, -0.06348733603954315, -0.05670987442135811, -0.010592453181743622, 0.0034515182487666607, 0.05052618682384491, -0.02408197708427906, -0.03432294353842735, 0.010506992228329182, -0.06821903586387634, -0.08237326145172119, -0.014462570659816265, 0.01888204552233219, 0.00798802636563778, -0.031108295544981956, 0.02713708207011223, 0.017847904935479164, 0.0864173173904419, -0.032928988337516785, -0.030301561579108238, 0.011653636582195759, -0.027213234454393387, -0.01407267153263092, 0.03499468043446541, 0.02563856914639473, 0.04131951183080673, 0.020941678434610367, -0.029840201139450073, 0.010065642185509205, 0.06347320973873138, 0.025003375485539436, -0.027065938338637352, -0.03164173290133476, -0.0483323335647583, -0.059617966413497925, 0.022296689450740814, -0.003733031451702118, 0.008703596889972687, -0.04224719479680061, -0.034361325204372406, 0.019108666107058525, 0.0657314583659172, -0.06816918402910233, -0.03570781648159027, -0.006035949103534222, -0.026023898273706436, 2.345032612538489e-07, -0.021343091502785683, 0.06288006901741028, 0.023480752483010292, -0.018586423248052597, 0.030350375920534134, -0.016687771305441856, -0.018327591940760612, 0.042415618896484375, 0.011716832406818867, 0.01138868648558855, 0.016773052513599396, -0.02297777123749256, -0.0073629384860396385, 0.0002796227636281401, -0.031322747468948364, 0.031277675181627274, -0.0695112943649292, -0.01377976592630148, -0.024242019280791283, -0.052494876086711884, -0.025316279381513596, 0.010528587736189365, -0.006585215218365192, -0.0234767347574234, -0.04902523383498192, -0.014900345355272293, 0.025055907666683197, 0.0225448627024889, -0.04918356612324715, -0.06017875671386719, 0.042779285460710526, 0.0858953446149826, 0.0031902119517326355, 0.02429933473467827, 0.015067098662257195, -0.021560082212090492, 0.0023984876461327076, -0.0007855644798837602, 0.018858373165130615, 0.030646750703454018, 0.048287201672792435, -0.04779693856835365, -0.017014682292938232, 0.0034241448156535625, 0.04564568027853966, -0.00624847924336791, -0.019756196066737175, -0.02017003856599331, 0.05161748081445694, -0.03356390446424484, -0.02270865999162197, 0.0026186301838606596, 0.007378630340099335, 0.03040112741291523, -0.02293228916823864, -0.00040753354551270604, 0.02446899563074112, -0.03299545496702194, -0.0006159980548545718, 0.10305844247341156, -0.0023264549672603607, -0.04382089525461197, 0.03479288890957832, 0.08542438596487045, 0.0026990165933966637, -0.05801437795162201, 0.017570778727531433, 1.3583878408689223e-34, -0.03432239964604378, 0.0009079049341380596, -0.004187998827546835, -0.010864615440368652, 0.00746578723192215, -0.0037146613467484713, 0.0018862609285861254, -0.01174072828143835, 0.05101265385746956, 0.0008828238933347166, 0.004050464369356632]\n"
          ]
        }
      ],
      "source": [
        "print(result)"
      ]
    },
    {
      "cell_type": "markdown",
      "metadata": {
        "id": "mGsQVo5ww3HM"
      },
      "source": [
        "#Geração de embeddings e indexação"
      ]
    },
    {
      "cell_type": "markdown",
      "metadata": {
        "id": "I-JqHp_gxLaH"
      },
      "source": [
        "Armazenamento no banco de dados vetorial\n",
        "\n",
        "Aqui os embeddings gerados serão armazenados em um banco de dados vetorial.\n",
        "\n",
        "Todos os textos estão dentro da variável 'chunks'. Tem-se o total de len(chunks) divisões"
      ]
    },
    {
      "cell_type": "code",
      "execution_count": 27,
      "metadata": {
        "colab": {
          "base_uri": "https://localhost:8080/"
        },
        "id": "VGL6Moesx1lw",
        "outputId": "4d750392-2658-4dde-bc46-d05cd985ab4a"
      },
      "outputs": [
        {
          "output_type": "execute_result",
          "data": {
            "text/plain": [
              "11"
            ]
          },
          "metadata": {},
          "execution_count": 27
        }
      ],
      "source": [
        "len(chunks)"
      ]
    },
    {
      "cell_type": "code",
      "execution_count": 28,
      "metadata": {
        "id": "TuV6Fsd8ylkx"
      },
      "outputs": [],
      "source": [
        "#Aplicação do embeddings\n",
        "#conversão do texto para representações numéricas, bem como a criação da base de dados\n",
        "vectorstore = FAISS.from_texts(chunks, embedding=embeddings) #embeddings está fazendo a implementação do modelo"
      ]
    },
    {
      "cell_type": "markdown",
      "metadata": {
        "id": "b4SQHmuHzjnI"
      },
      "source": [
        "Salvado índice FAISS"
      ]
    },
    {
      "cell_type": "code",
      "execution_count": 29,
      "metadata": {
        "id": "M3lliJYSzlzj"
      },
      "outputs": [],
      "source": [
        "vectorstore.save_local(\"faiss_index\") #os arquivos gerados na pasta são usados para armazenar os dados"
      ]
    },
    {
      "cell_type": "code",
      "execution_count": 30,
      "metadata": {
        "id": "M054BoG70J3Y"
      },
      "outputs": [],
      "source": [
        "#Para carregar o índice salvo no disco\n",
        "\n",
        "#db = FAISS.load_local(\"faiss_index\", embeddings)"
      ]
    },
    {
      "cell_type": "markdown",
      "metadata": {
        "id": "T6aMEzM01xOt"
      },
      "source": [
        "# Recuperação de dados e geração de textos"
      ]
    },
    {
      "cell_type": "markdown",
      "metadata": {
        "id": "W9Qd26V03qEm"
      },
      "source": [
        "Busca os dados mais relevantes solicitados pelo usuário, usando-os na geraçaõ das respostas. A pergunta do usuário é enviada à base de dados, são feitos vários cálculos de similaridade entre a pergunta do usuário e os dados armazenados(a similaridade é calculada por meio dos embeddings). Na sequência, essa mesma questão, juntamente com os embeddings mais similares, é enviada à LLM para gerar a resposta.\n",
        "\n",
        "O modelo responde combinando a pergunta do usuário com o contexto recuperado."
      ]
    },
    {
      "cell_type": "markdown",
      "metadata": {
        "id": "MhZB5QXa41fu"
      },
      "source": [
        "Configurando o recuperador de texto / retriever"
      ]
    },
    {
      "cell_type": "code",
      "execution_count": 31,
      "metadata": {
        "colab": {
          "base_uri": "https://localhost:8080/"
        },
        "id": "Uh7mXEsa48iS",
        "outputId": "39d624d1-ff4b-4f29-9919-7a380644fcd7"
      },
      "outputs": [
        {
          "output_type": "execute_result",
          "data": {
            "text/plain": [
              "VectorStoreRetriever(tags=['FAISS', 'HuggingFaceEmbeddings'], vectorstore=<langchain_community.vectorstores.faiss.FAISS object at 0x7939a8d86950>, search_kwargs={'k': 6})"
            ]
          },
          "metadata": {},
          "execution_count": 31
        }
      ],
      "source": [
        "#classe do langchain que envolve um índice capaz de retornar objetos do tipo documents dada uma consulta em formato de string\n",
        "retriever = vectorstore.as_retriever(search_type = \"similarity\", search_kwargs = {\"k\": 6})\n",
        "#similarity é o tipo de pesquisa que será realizada\n",
        "#k: indica o número de documentos retornados pelo recuperador; aqui é feita a busca de 6 documentos mais similares para que a LLM baseie sua resposta\n",
        "#o valor pode variar para mais ou menos documentos, dependendo das características do estudo de caso\n",
        "retriever\n",
        "\n",
        "#basicamente, o que se está fazendo é a busca de similaridade dentro do documento"
      ]
    },
    {
      "cell_type": "markdown",
      "metadata": {
        "id": "t1qzsD0l9b0Q"
      },
      "source": [
        "Geração dos textos"
      ]
    },
    {
      "cell_type": "code",
      "execution_count": 32,
      "metadata": {
        "colab": {
          "base_uri": "https://localhost:8080/"
        },
        "id": "yM1VC3Z17gR6",
        "outputId": "3474d775-ca05-43ad-e7e3-4563ce9915c8"
      },
      "outputs": [
        {
          "output_type": "execute_result",
          "data": {
            "text/plain": [
              "PromptTemplate(input_variables=['context', 'input'], input_types={}, partial_variables={}, template='\\nPergunta: {input}\\nContexto: {context}\\n')"
            ]
          },
          "metadata": {},
          "execution_count": 32
        }
      ],
      "source": [
        "prompt_rag = PromptTemplate(\n",
        "    input_variables = [\"context\", \"input\"],\n",
        "    template = template_rag,\n",
        ")\n",
        "\n",
        "prompt_rag\n"
      ]
    },
    {
      "cell_type": "code",
      "execution_count": 33,
      "metadata": {
        "id": "g4JTuV_X-PU2"
      },
      "outputs": [],
      "source": [
        "#criação da chain\n",
        "from langchain_core.runnables import RunnablePassthrough #classe para criar fluxos ou pipelines\n",
        "\n",
        "chain_rag = (\n",
        "    {\"context\": retriever, \"input\": RunnablePassthrough()} | prompt_rag | llm | StrOutputParser()\n",
        ")"
      ]
    },
    {
      "cell_type": "code",
      "execution_count": 34,
      "metadata": {
        "colab": {
          "base_uri": "https://localhost:8080/",
          "height": 155
        },
        "id": "XcRVN9uCBv9w",
        "outputId": "5bfdd085-add4-4cc7-ee89-183934cc5649"
      },
      "outputs": [
        {
          "output_type": "display_data",
          "data": {
            "text/plain": [
              "<IPython.core.display.Markdown object>"
            ],
            "text/markdown": "As etapas do cadastro são:\n\n1. Acesse o app ou portal da FaceSecure\n2. Informe dados pessoais (nome, CPF, e-mail)\n3. Envie foto de documento oficial\n4. Grave o vídeo para reconhecimento facial\n5. Concorde com os termos de uso e política de privacidade"
          },
          "metadata": {}
        }
      ],
      "source": [
        "#teste\n",
        "\n",
        "res = chain_rag.invoke(\"Quais são as etapas do cadastro?\")\n",
        "show_res(res)\n"
      ]
    },
    {
      "cell_type": "markdown",
      "metadata": {
        "id": "NFJLcb_DF3_M"
      },
      "source": [
        "# Melhorias no prompt"
      ]
    },
    {
      "cell_type": "markdown",
      "metadata": {
        "id": "SJlPPT8kFW3q"
      },
      "source": [
        "Melhorias no prompt para deixá-lo mais específico através da adesão de algumas regras para garantir que o resultado seja o mais próximo do que o usuário deseja"
      ]
    },
    {
      "cell_type": "code",
      "execution_count": 35,
      "metadata": {
        "colab": {
          "base_uri": "https://localhost:8080/"
        },
        "id": "FYf4brvOHBcA",
        "outputId": "c6756a87-9567-4271-d461-ea31464e85ea"
      },
      "outputs": [
        {
          "output_type": "execute_result",
          "data": {
            "text/plain": [
              "ChatPromptTemplate(input_variables=['context', 'input'], input_types={}, partial_variables={}, messages=[SystemMessagePromptTemplate(prompt=PromptTemplate(input_variables=[], input_types={}, partial_variables={}, template='Você é um assistente virtual prestativo e está respondendo perguntas gerais sobre os serviços de uma empresa.\\nUse os seguintes pedaços de contexto recuperado para responder à pergunta.\\nSe você não sabe a resposta, apenas comente que não sabe dizer com certeza.\\nMas caso seja uma dúvida muito comum, pode sugerir como alternativa uma solução possível.\\nMantenha a resposta concisa.\\nResponda em português. \\n\\n'), additional_kwargs={}), HumanMessagePromptTemplate(prompt=PromptTemplate(input_variables=['context', 'input'], input_types={}, partial_variables={}, template='Pergunta: {input}\\n\\n Contexto: {context}'), additional_kwargs={})])"
            ]
          },
          "metadata": {},
          "execution_count": 35
        }
      ],
      "source": [
        "system_prompt = \"\"\"Você é um assistente virtual prestativo e está respondendo perguntas gerais sobre os serviços de uma empresa.\n",
        "Use os seguintes pedaços de contexto recuperado para responder à pergunta.\n",
        "Se você não sabe a resposta, apenas comente que não sabe dizer com certeza.\n",
        "Mas caso seja uma dúvida muito comum, pode sugerir como alternativa uma solução possível.\n",
        "Mantenha a resposta concisa.\n",
        "Responda em português. \\n\\n\"\"\"\n",
        "\n",
        "qa_prompt = ChatPromptTemplate.from_messages(\n",
        "    [\n",
        "        (\"system\", system_prompt),\n",
        "        (\"human\", \"Pergunta: {input}\\n\\n Contexto: {context}\"),\n",
        "    ]\n",
        ")\n",
        "qa_prompt"
      ]
    },
    {
      "cell_type": "code",
      "execution_count": 36,
      "metadata": {
        "colab": {
          "base_uri": "https://localhost:8080/",
          "height": 155
        },
        "id": "Z1Cn-yr-H8Ih",
        "outputId": "b175db39-ccd5-4a0f-9350-0fd4833a4f11"
      },
      "outputs": [
        {
          "output_type": "display_data",
          "data": {
            "text/plain": [
              "<IPython.core.display.Markdown object>"
            ],
            "text/markdown": "As etapas do cadastro são:\n\n1. Acesse o app ou portal da FaceSecure\n2. Informe dados pessoais (nome, CPF, e-mail)\n3. Envie foto de documento oficial\n4. Grave o vídeo para reconhecimento facial\n5. Concorde com os termos de uso e política de privacidade"
          },
          "metadata": {}
        }
      ],
      "source": [
        "chain_rag = (\n",
        "    {\"context\": retriever, \"input\": RunnablePassthrough()} | prompt_rag | llm | StrOutputParser()\n",
        ")\n",
        "\n",
        "res = chain_rag.invoke(\"Quais são as etapas do cadastro?\")\n",
        "show_res(res)"
      ]
    },
    {
      "cell_type": "markdown",
      "metadata": {
        "id": "GF6nRo8vI3Uq"
      },
      "source": [
        "# Melhoria no método de busca"
      ]
    },
    {
      "cell_type": "code",
      "execution_count": 37,
      "metadata": {
        "id": "KVG3twvFJBIa"
      },
      "outputs": [],
      "source": [
        "retriever = vectorstore.as_retriever(\n",
        "    search_type='mmr', #algoritmo relevância marginal máxima que vai selecionar os documentos recuperados principalmente para evitar dados duplicados,\n",
        "    #garantindo um equilíbrio entre relevância e diversidade dos itens recuperados por relevância e diversidade\n",
        "    search_kwargs={'k':3, 'fetch_k':4}  #fetch_k: quantos documentos são recuperados antes de aplicar o algoritmo nmr\n",
        ")"
      ]
    },
    {
      "cell_type": "markdown",
      "metadata": {
        "id": "OWMZTc99K-4l"
      },
      "source": [
        "Valores maiores de fetch-k, entre 20 e 50, podem gerar resultados com maior relevância, pois o algoritmo terá mais documentos para escolher, porém, há maior custo computacional\n",
        "\n",
        "Valores ideais para fetch_k dependem do tamanho e qualidade da base de dados e do equilíbrio desejado entre qualidade do resultado e desempenho.\n",
        "\n",
        "Para este estudo de caso, faremos:\n",
        "\n",
        "Valores de 1 até 5: quando se precisa de poucos documentos altamente relevantes, como em tarefas simples de perguntas e respostas\n",
        "\n",
        "Valores de 10 até 20: para quando se quer oferecer mais contexto ou opções ao usuário, como em um mecanismo de busca ou sistema de recomendação.\n",
        "\n",
        "Portanto, os melhores valores dependem do caso de uso que está sendo implementado."
      ]
    },
    {
      "cell_type": "markdown",
      "metadata": {
        "id": "t0TpAz8TMIUE"
      },
      "source": [
        "# Pipeline RAG"
      ]
    }
  ],
  "metadata": {
    "colab": {
      "provenance": [],
      "include_colab_link": true
    },
    "kernelspec": {
      "display_name": "Python 3",
      "name": "python3"
    },
    "language_info": {
      "name": "python"
    },
    "widgets": {
      "application/vnd.jupyter.widget-state+json": {
        "9358a5f1b07646678de95ccb12aa9eb1": {
          "model_module": "@jupyter-widgets/controls",
          "model_name": "HBoxModel",
          "model_module_version": "1.5.0",
          "state": {
            "_dom_classes": [],
            "_model_module": "@jupyter-widgets/controls",
            "_model_module_version": "1.5.0",
            "_model_name": "HBoxModel",
            "_view_count": null,
            "_view_module": "@jupyter-widgets/controls",
            "_view_module_version": "1.5.0",
            "_view_name": "HBoxView",
            "box_style": "",
            "children": [
              "IPY_MODEL_4f28bba9df1045d2bbd7ea0b2ac713c2",
              "IPY_MODEL_5770a34c26a94fe1a2c674a2ac3f4040",
              "IPY_MODEL_9123550039fd4696ba30b04e76199e24"
            ],
            "layout": "IPY_MODEL_74d6a098ed1a4c668b6fd5b43edb3646"
          }
        },
        "4f28bba9df1045d2bbd7ea0b2ac713c2": {
          "model_module": "@jupyter-widgets/controls",
          "model_name": "HTMLModel",
          "model_module_version": "1.5.0",
          "state": {
            "_dom_classes": [],
            "_model_module": "@jupyter-widgets/controls",
            "_model_module_version": "1.5.0",
            "_model_name": "HTMLModel",
            "_view_count": null,
            "_view_module": "@jupyter-widgets/controls",
            "_view_module_version": "1.5.0",
            "_view_name": "HTMLView",
            "description": "",
            "description_tooltip": null,
            "layout": "IPY_MODEL_1ac13eebf2834ff89217004ff409cd43",
            "placeholder": "​",
            "style": "IPY_MODEL_04175cdc1c5542b59b76e8f4d479bd3e",
            "value": "modules.json: 100%"
          }
        },
        "5770a34c26a94fe1a2c674a2ac3f4040": {
          "model_module": "@jupyter-widgets/controls",
          "model_name": "FloatProgressModel",
          "model_module_version": "1.5.0",
          "state": {
            "_dom_classes": [],
            "_model_module": "@jupyter-widgets/controls",
            "_model_module_version": "1.5.0",
            "_model_name": "FloatProgressModel",
            "_view_count": null,
            "_view_module": "@jupyter-widgets/controls",
            "_view_module_version": "1.5.0",
            "_view_name": "ProgressView",
            "bar_style": "success",
            "description": "",
            "description_tooltip": null,
            "layout": "IPY_MODEL_1d79f89b491d4eb9abce868ba8aa8737",
            "max": 349,
            "min": 0,
            "orientation": "horizontal",
            "style": "IPY_MODEL_0c94a13126554ce88de07e983c3f8c16",
            "value": 349
          }
        },
        "9123550039fd4696ba30b04e76199e24": {
          "model_module": "@jupyter-widgets/controls",
          "model_name": "HTMLModel",
          "model_module_version": "1.5.0",
          "state": {
            "_dom_classes": [],
            "_model_module": "@jupyter-widgets/controls",
            "_model_module_version": "1.5.0",
            "_model_name": "HTMLModel",
            "_view_count": null,
            "_view_module": "@jupyter-widgets/controls",
            "_view_module_version": "1.5.0",
            "_view_name": "HTMLView",
            "description": "",
            "description_tooltip": null,
            "layout": "IPY_MODEL_1a55674c1ce74fd69c28942189a1e001",
            "placeholder": "​",
            "style": "IPY_MODEL_7c98ea559d0244b7a852060e6e8cbf06",
            "value": " 349/349 [00:00&lt;00:00, 31.0kB/s]"
          }
        },
        "74d6a098ed1a4c668b6fd5b43edb3646": {
          "model_module": "@jupyter-widgets/base",
          "model_name": "LayoutModel",
          "model_module_version": "1.2.0",
          "state": {
            "_model_module": "@jupyter-widgets/base",
            "_model_module_version": "1.2.0",
            "_model_name": "LayoutModel",
            "_view_count": null,
            "_view_module": "@jupyter-widgets/base",
            "_view_module_version": "1.2.0",
            "_view_name": "LayoutView",
            "align_content": null,
            "align_items": null,
            "align_self": null,
            "border": null,
            "bottom": null,
            "display": null,
            "flex": null,
            "flex_flow": null,
            "grid_area": null,
            "grid_auto_columns": null,
            "grid_auto_flow": null,
            "grid_auto_rows": null,
            "grid_column": null,
            "grid_gap": null,
            "grid_row": null,
            "grid_template_areas": null,
            "grid_template_columns": null,
            "grid_template_rows": null,
            "height": null,
            "justify_content": null,
            "justify_items": null,
            "left": null,
            "margin": null,
            "max_height": null,
            "max_width": null,
            "min_height": null,
            "min_width": null,
            "object_fit": null,
            "object_position": null,
            "order": null,
            "overflow": null,
            "overflow_x": null,
            "overflow_y": null,
            "padding": null,
            "right": null,
            "top": null,
            "visibility": null,
            "width": null
          }
        },
        "1ac13eebf2834ff89217004ff409cd43": {
          "model_module": "@jupyter-widgets/base",
          "model_name": "LayoutModel",
          "model_module_version": "1.2.0",
          "state": {
            "_model_module": "@jupyter-widgets/base",
            "_model_module_version": "1.2.0",
            "_model_name": "LayoutModel",
            "_view_count": null,
            "_view_module": "@jupyter-widgets/base",
            "_view_module_version": "1.2.0",
            "_view_name": "LayoutView",
            "align_content": null,
            "align_items": null,
            "align_self": null,
            "border": null,
            "bottom": null,
            "display": null,
            "flex": null,
            "flex_flow": null,
            "grid_area": null,
            "grid_auto_columns": null,
            "grid_auto_flow": null,
            "grid_auto_rows": null,
            "grid_column": null,
            "grid_gap": null,
            "grid_row": null,
            "grid_template_areas": null,
            "grid_template_columns": null,
            "grid_template_rows": null,
            "height": null,
            "justify_content": null,
            "justify_items": null,
            "left": null,
            "margin": null,
            "max_height": null,
            "max_width": null,
            "min_height": null,
            "min_width": null,
            "object_fit": null,
            "object_position": null,
            "order": null,
            "overflow": null,
            "overflow_x": null,
            "overflow_y": null,
            "padding": null,
            "right": null,
            "top": null,
            "visibility": null,
            "width": null
          }
        },
        "04175cdc1c5542b59b76e8f4d479bd3e": {
          "model_module": "@jupyter-widgets/controls",
          "model_name": "DescriptionStyleModel",
          "model_module_version": "1.5.0",
          "state": {
            "_model_module": "@jupyter-widgets/controls",
            "_model_module_version": "1.5.0",
            "_model_name": "DescriptionStyleModel",
            "_view_count": null,
            "_view_module": "@jupyter-widgets/base",
            "_view_module_version": "1.2.0",
            "_view_name": "StyleView",
            "description_width": ""
          }
        },
        "1d79f89b491d4eb9abce868ba8aa8737": {
          "model_module": "@jupyter-widgets/base",
          "model_name": "LayoutModel",
          "model_module_version": "1.2.0",
          "state": {
            "_model_module": "@jupyter-widgets/base",
            "_model_module_version": "1.2.0",
            "_model_name": "LayoutModel",
            "_view_count": null,
            "_view_module": "@jupyter-widgets/base",
            "_view_module_version": "1.2.0",
            "_view_name": "LayoutView",
            "align_content": null,
            "align_items": null,
            "align_self": null,
            "border": null,
            "bottom": null,
            "display": null,
            "flex": null,
            "flex_flow": null,
            "grid_area": null,
            "grid_auto_columns": null,
            "grid_auto_flow": null,
            "grid_auto_rows": null,
            "grid_column": null,
            "grid_gap": null,
            "grid_row": null,
            "grid_template_areas": null,
            "grid_template_columns": null,
            "grid_template_rows": null,
            "height": null,
            "justify_content": null,
            "justify_items": null,
            "left": null,
            "margin": null,
            "max_height": null,
            "max_width": null,
            "min_height": null,
            "min_width": null,
            "object_fit": null,
            "object_position": null,
            "order": null,
            "overflow": null,
            "overflow_x": null,
            "overflow_y": null,
            "padding": null,
            "right": null,
            "top": null,
            "visibility": null,
            "width": null
          }
        },
        "0c94a13126554ce88de07e983c3f8c16": {
          "model_module": "@jupyter-widgets/controls",
          "model_name": "ProgressStyleModel",
          "model_module_version": "1.5.0",
          "state": {
            "_model_module": "@jupyter-widgets/controls",
            "_model_module_version": "1.5.0",
            "_model_name": "ProgressStyleModel",
            "_view_count": null,
            "_view_module": "@jupyter-widgets/base",
            "_view_module_version": "1.2.0",
            "_view_name": "StyleView",
            "bar_color": null,
            "description_width": ""
          }
        },
        "1a55674c1ce74fd69c28942189a1e001": {
          "model_module": "@jupyter-widgets/base",
          "model_name": "LayoutModel",
          "model_module_version": "1.2.0",
          "state": {
            "_model_module": "@jupyter-widgets/base",
            "_model_module_version": "1.2.0",
            "_model_name": "LayoutModel",
            "_view_count": null,
            "_view_module": "@jupyter-widgets/base",
            "_view_module_version": "1.2.0",
            "_view_name": "LayoutView",
            "align_content": null,
            "align_items": null,
            "align_self": null,
            "border": null,
            "bottom": null,
            "display": null,
            "flex": null,
            "flex_flow": null,
            "grid_area": null,
            "grid_auto_columns": null,
            "grid_auto_flow": null,
            "grid_auto_rows": null,
            "grid_column": null,
            "grid_gap": null,
            "grid_row": null,
            "grid_template_areas": null,
            "grid_template_columns": null,
            "grid_template_rows": null,
            "height": null,
            "justify_content": null,
            "justify_items": null,
            "left": null,
            "margin": null,
            "max_height": null,
            "max_width": null,
            "min_height": null,
            "min_width": null,
            "object_fit": null,
            "object_position": null,
            "order": null,
            "overflow": null,
            "overflow_x": null,
            "overflow_y": null,
            "padding": null,
            "right": null,
            "top": null,
            "visibility": null,
            "width": null
          }
        },
        "7c98ea559d0244b7a852060e6e8cbf06": {
          "model_module": "@jupyter-widgets/controls",
          "model_name": "DescriptionStyleModel",
          "model_module_version": "1.5.0",
          "state": {
            "_model_module": "@jupyter-widgets/controls",
            "_model_module_version": "1.5.0",
            "_model_name": "DescriptionStyleModel",
            "_view_count": null,
            "_view_module": "@jupyter-widgets/base",
            "_view_module_version": "1.2.0",
            "_view_name": "StyleView",
            "description_width": ""
          }
        },
        "68be773815704239b5d9a2a7c7c38e1e": {
          "model_module": "@jupyter-widgets/controls",
          "model_name": "HBoxModel",
          "model_module_version": "1.5.0",
          "state": {
            "_dom_classes": [],
            "_model_module": "@jupyter-widgets/controls",
            "_model_module_version": "1.5.0",
            "_model_name": "HBoxModel",
            "_view_count": null,
            "_view_module": "@jupyter-widgets/controls",
            "_view_module_version": "1.5.0",
            "_view_name": "HBoxView",
            "box_style": "",
            "children": [
              "IPY_MODEL_a7fee27f251d4ce09517fb9bcf82ead9",
              "IPY_MODEL_48f82110c12c47bebd46514dd455dd7d",
              "IPY_MODEL_f77e3b8b51b74770af3e376ea30f358a"
            ],
            "layout": "IPY_MODEL_74ba78e0c27e44b683caa10ea6d24396"
          }
        },
        "a7fee27f251d4ce09517fb9bcf82ead9": {
          "model_module": "@jupyter-widgets/controls",
          "model_name": "HTMLModel",
          "model_module_version": "1.5.0",
          "state": {
            "_dom_classes": [],
            "_model_module": "@jupyter-widgets/controls",
            "_model_module_version": "1.5.0",
            "_model_name": "HTMLModel",
            "_view_count": null,
            "_view_module": "@jupyter-widgets/controls",
            "_view_module_version": "1.5.0",
            "_view_name": "HTMLView",
            "description": "",
            "description_tooltip": null,
            "layout": "IPY_MODEL_5050a7dfc15d4b8fab1fb31bf0ceb4bc",
            "placeholder": "​",
            "style": "IPY_MODEL_093b4a1fe6364f40a60be5cf73d1c22b",
            "value": "config_sentence_transformers.json: 100%"
          }
        },
        "48f82110c12c47bebd46514dd455dd7d": {
          "model_module": "@jupyter-widgets/controls",
          "model_name": "FloatProgressModel",
          "model_module_version": "1.5.0",
          "state": {
            "_dom_classes": [],
            "_model_module": "@jupyter-widgets/controls",
            "_model_module_version": "1.5.0",
            "_model_name": "FloatProgressModel",
            "_view_count": null,
            "_view_module": "@jupyter-widgets/controls",
            "_view_module_version": "1.5.0",
            "_view_name": "ProgressView",
            "bar_style": "success",
            "description": "",
            "description_tooltip": null,
            "layout": "IPY_MODEL_60c9bbbc003947f3b23b36cb005963fb",
            "max": 116,
            "min": 0,
            "orientation": "horizontal",
            "style": "IPY_MODEL_9ed939eeb6814453b557ea1961fee70c",
            "value": 116
          }
        },
        "f77e3b8b51b74770af3e376ea30f358a": {
          "model_module": "@jupyter-widgets/controls",
          "model_name": "HTMLModel",
          "model_module_version": "1.5.0",
          "state": {
            "_dom_classes": [],
            "_model_module": "@jupyter-widgets/controls",
            "_model_module_version": "1.5.0",
            "_model_name": "HTMLModel",
            "_view_count": null,
            "_view_module": "@jupyter-widgets/controls",
            "_view_module_version": "1.5.0",
            "_view_name": "HTMLView",
            "description": "",
            "description_tooltip": null,
            "layout": "IPY_MODEL_cdad7ae11152473fb3b4e36b995392d4",
            "placeholder": "​",
            "style": "IPY_MODEL_95920c0a3b8b4030871c60e2925037f3",
            "value": " 116/116 [00:00&lt;00:00, 10.9kB/s]"
          }
        },
        "74ba78e0c27e44b683caa10ea6d24396": {
          "model_module": "@jupyter-widgets/base",
          "model_name": "LayoutModel",
          "model_module_version": "1.2.0",
          "state": {
            "_model_module": "@jupyter-widgets/base",
            "_model_module_version": "1.2.0",
            "_model_name": "LayoutModel",
            "_view_count": null,
            "_view_module": "@jupyter-widgets/base",
            "_view_module_version": "1.2.0",
            "_view_name": "LayoutView",
            "align_content": null,
            "align_items": null,
            "align_self": null,
            "border": null,
            "bottom": null,
            "display": null,
            "flex": null,
            "flex_flow": null,
            "grid_area": null,
            "grid_auto_columns": null,
            "grid_auto_flow": null,
            "grid_auto_rows": null,
            "grid_column": null,
            "grid_gap": null,
            "grid_row": null,
            "grid_template_areas": null,
            "grid_template_columns": null,
            "grid_template_rows": null,
            "height": null,
            "justify_content": null,
            "justify_items": null,
            "left": null,
            "margin": null,
            "max_height": null,
            "max_width": null,
            "min_height": null,
            "min_width": null,
            "object_fit": null,
            "object_position": null,
            "order": null,
            "overflow": null,
            "overflow_x": null,
            "overflow_y": null,
            "padding": null,
            "right": null,
            "top": null,
            "visibility": null,
            "width": null
          }
        },
        "5050a7dfc15d4b8fab1fb31bf0ceb4bc": {
          "model_module": "@jupyter-widgets/base",
          "model_name": "LayoutModel",
          "model_module_version": "1.2.0",
          "state": {
            "_model_module": "@jupyter-widgets/base",
            "_model_module_version": "1.2.0",
            "_model_name": "LayoutModel",
            "_view_count": null,
            "_view_module": "@jupyter-widgets/base",
            "_view_module_version": "1.2.0",
            "_view_name": "LayoutView",
            "align_content": null,
            "align_items": null,
            "align_self": null,
            "border": null,
            "bottom": null,
            "display": null,
            "flex": null,
            "flex_flow": null,
            "grid_area": null,
            "grid_auto_columns": null,
            "grid_auto_flow": null,
            "grid_auto_rows": null,
            "grid_column": null,
            "grid_gap": null,
            "grid_row": null,
            "grid_template_areas": null,
            "grid_template_columns": null,
            "grid_template_rows": null,
            "height": null,
            "justify_content": null,
            "justify_items": null,
            "left": null,
            "margin": null,
            "max_height": null,
            "max_width": null,
            "min_height": null,
            "min_width": null,
            "object_fit": null,
            "object_position": null,
            "order": null,
            "overflow": null,
            "overflow_x": null,
            "overflow_y": null,
            "padding": null,
            "right": null,
            "top": null,
            "visibility": null,
            "width": null
          }
        },
        "093b4a1fe6364f40a60be5cf73d1c22b": {
          "model_module": "@jupyter-widgets/controls",
          "model_name": "DescriptionStyleModel",
          "model_module_version": "1.5.0",
          "state": {
            "_model_module": "@jupyter-widgets/controls",
            "_model_module_version": "1.5.0",
            "_model_name": "DescriptionStyleModel",
            "_view_count": null,
            "_view_module": "@jupyter-widgets/base",
            "_view_module_version": "1.2.0",
            "_view_name": "StyleView",
            "description_width": ""
          }
        },
        "60c9bbbc003947f3b23b36cb005963fb": {
          "model_module": "@jupyter-widgets/base",
          "model_name": "LayoutModel",
          "model_module_version": "1.2.0",
          "state": {
            "_model_module": "@jupyter-widgets/base",
            "_model_module_version": "1.2.0",
            "_model_name": "LayoutModel",
            "_view_count": null,
            "_view_module": "@jupyter-widgets/base",
            "_view_module_version": "1.2.0",
            "_view_name": "LayoutView",
            "align_content": null,
            "align_items": null,
            "align_self": null,
            "border": null,
            "bottom": null,
            "display": null,
            "flex": null,
            "flex_flow": null,
            "grid_area": null,
            "grid_auto_columns": null,
            "grid_auto_flow": null,
            "grid_auto_rows": null,
            "grid_column": null,
            "grid_gap": null,
            "grid_row": null,
            "grid_template_areas": null,
            "grid_template_columns": null,
            "grid_template_rows": null,
            "height": null,
            "justify_content": null,
            "justify_items": null,
            "left": null,
            "margin": null,
            "max_height": null,
            "max_width": null,
            "min_height": null,
            "min_width": null,
            "object_fit": null,
            "object_position": null,
            "order": null,
            "overflow": null,
            "overflow_x": null,
            "overflow_y": null,
            "padding": null,
            "right": null,
            "top": null,
            "visibility": null,
            "width": null
          }
        },
        "9ed939eeb6814453b557ea1961fee70c": {
          "model_module": "@jupyter-widgets/controls",
          "model_name": "ProgressStyleModel",
          "model_module_version": "1.5.0",
          "state": {
            "_model_module": "@jupyter-widgets/controls",
            "_model_module_version": "1.5.0",
            "_model_name": "ProgressStyleModel",
            "_view_count": null,
            "_view_module": "@jupyter-widgets/base",
            "_view_module_version": "1.2.0",
            "_view_name": "StyleView",
            "bar_color": null,
            "description_width": ""
          }
        },
        "cdad7ae11152473fb3b4e36b995392d4": {
          "model_module": "@jupyter-widgets/base",
          "model_name": "LayoutModel",
          "model_module_version": "1.2.0",
          "state": {
            "_model_module": "@jupyter-widgets/base",
            "_model_module_version": "1.2.0",
            "_model_name": "LayoutModel",
            "_view_count": null,
            "_view_module": "@jupyter-widgets/base",
            "_view_module_version": "1.2.0",
            "_view_name": "LayoutView",
            "align_content": null,
            "align_items": null,
            "align_self": null,
            "border": null,
            "bottom": null,
            "display": null,
            "flex": null,
            "flex_flow": null,
            "grid_area": null,
            "grid_auto_columns": null,
            "grid_auto_flow": null,
            "grid_auto_rows": null,
            "grid_column": null,
            "grid_gap": null,
            "grid_row": null,
            "grid_template_areas": null,
            "grid_template_columns": null,
            "grid_template_rows": null,
            "height": null,
            "justify_content": null,
            "justify_items": null,
            "left": null,
            "margin": null,
            "max_height": null,
            "max_width": null,
            "min_height": null,
            "min_width": null,
            "object_fit": null,
            "object_position": null,
            "order": null,
            "overflow": null,
            "overflow_x": null,
            "overflow_y": null,
            "padding": null,
            "right": null,
            "top": null,
            "visibility": null,
            "width": null
          }
        },
        "95920c0a3b8b4030871c60e2925037f3": {
          "model_module": "@jupyter-widgets/controls",
          "model_name": "DescriptionStyleModel",
          "model_module_version": "1.5.0",
          "state": {
            "_model_module": "@jupyter-widgets/controls",
            "_model_module_version": "1.5.0",
            "_model_name": "DescriptionStyleModel",
            "_view_count": null,
            "_view_module": "@jupyter-widgets/base",
            "_view_module_version": "1.2.0",
            "_view_name": "StyleView",
            "description_width": ""
          }
        },
        "38710dc02773406e8b0ea1c7ba1a81ae": {
          "model_module": "@jupyter-widgets/controls",
          "model_name": "HBoxModel",
          "model_module_version": "1.5.0",
          "state": {
            "_dom_classes": [],
            "_model_module": "@jupyter-widgets/controls",
            "_model_module_version": "1.5.0",
            "_model_name": "HBoxModel",
            "_view_count": null,
            "_view_module": "@jupyter-widgets/controls",
            "_view_module_version": "1.5.0",
            "_view_name": "HBoxView",
            "box_style": "",
            "children": [
              "IPY_MODEL_fd29010b94424979878f1c5481869db5",
              "IPY_MODEL_e8b7f2d6849f4691803a81db9597bf5f",
              "IPY_MODEL_cad92c3928b847bc9bc24db7188760ed"
            ],
            "layout": "IPY_MODEL_934999779d95460d82d24f1426afdb9c"
          }
        },
        "fd29010b94424979878f1c5481869db5": {
          "model_module": "@jupyter-widgets/controls",
          "model_name": "HTMLModel",
          "model_module_version": "1.5.0",
          "state": {
            "_dom_classes": [],
            "_model_module": "@jupyter-widgets/controls",
            "_model_module_version": "1.5.0",
            "_model_name": "HTMLModel",
            "_view_count": null,
            "_view_module": "@jupyter-widgets/controls",
            "_view_module_version": "1.5.0",
            "_view_name": "HTMLView",
            "description": "",
            "description_tooltip": null,
            "layout": "IPY_MODEL_c7660ab7141649fda6bb48638265c4c8",
            "placeholder": "​",
            "style": "IPY_MODEL_f47400ddce4b469bab597d002aae937b",
            "value": "README.md: "
          }
        },
        "e8b7f2d6849f4691803a81db9597bf5f": {
          "model_module": "@jupyter-widgets/controls",
          "model_name": "FloatProgressModel",
          "model_module_version": "1.5.0",
          "state": {
            "_dom_classes": [],
            "_model_module": "@jupyter-widgets/controls",
            "_model_module_version": "1.5.0",
            "_model_name": "FloatProgressModel",
            "_view_count": null,
            "_view_module": "@jupyter-widgets/controls",
            "_view_module_version": "1.5.0",
            "_view_name": "ProgressView",
            "bar_style": "success",
            "description": "",
            "description_tooltip": null,
            "layout": "IPY_MODEL_b520ff6238f243cf856d00e3a7a57af0",
            "max": 1,
            "min": 0,
            "orientation": "horizontal",
            "style": "IPY_MODEL_16b128306791494db5f1adcd266993e9",
            "value": 1
          }
        },
        "cad92c3928b847bc9bc24db7188760ed": {
          "model_module": "@jupyter-widgets/controls",
          "model_name": "HTMLModel",
          "model_module_version": "1.5.0",
          "state": {
            "_dom_classes": [],
            "_model_module": "@jupyter-widgets/controls",
            "_model_module_version": "1.5.0",
            "_model_name": "HTMLModel",
            "_view_count": null,
            "_view_module": "@jupyter-widgets/controls",
            "_view_module_version": "1.5.0",
            "_view_name": "HTMLView",
            "description": "",
            "description_tooltip": null,
            "layout": "IPY_MODEL_319f00ba03f84298b29c39329dbc41c7",
            "placeholder": "​",
            "style": "IPY_MODEL_6c293c41e2ec405aaad762d30f4d0f1d",
            "value": " 10.4k/? [00:00&lt;00:00, 563kB/s]"
          }
        },
        "934999779d95460d82d24f1426afdb9c": {
          "model_module": "@jupyter-widgets/base",
          "model_name": "LayoutModel",
          "model_module_version": "1.2.0",
          "state": {
            "_model_module": "@jupyter-widgets/base",
            "_model_module_version": "1.2.0",
            "_model_name": "LayoutModel",
            "_view_count": null,
            "_view_module": "@jupyter-widgets/base",
            "_view_module_version": "1.2.0",
            "_view_name": "LayoutView",
            "align_content": null,
            "align_items": null,
            "align_self": null,
            "border": null,
            "bottom": null,
            "display": null,
            "flex": null,
            "flex_flow": null,
            "grid_area": null,
            "grid_auto_columns": null,
            "grid_auto_flow": null,
            "grid_auto_rows": null,
            "grid_column": null,
            "grid_gap": null,
            "grid_row": null,
            "grid_template_areas": null,
            "grid_template_columns": null,
            "grid_template_rows": null,
            "height": null,
            "justify_content": null,
            "justify_items": null,
            "left": null,
            "margin": null,
            "max_height": null,
            "max_width": null,
            "min_height": null,
            "min_width": null,
            "object_fit": null,
            "object_position": null,
            "order": null,
            "overflow": null,
            "overflow_x": null,
            "overflow_y": null,
            "padding": null,
            "right": null,
            "top": null,
            "visibility": null,
            "width": null
          }
        },
        "c7660ab7141649fda6bb48638265c4c8": {
          "model_module": "@jupyter-widgets/base",
          "model_name": "LayoutModel",
          "model_module_version": "1.2.0",
          "state": {
            "_model_module": "@jupyter-widgets/base",
            "_model_module_version": "1.2.0",
            "_model_name": "LayoutModel",
            "_view_count": null,
            "_view_module": "@jupyter-widgets/base",
            "_view_module_version": "1.2.0",
            "_view_name": "LayoutView",
            "align_content": null,
            "align_items": null,
            "align_self": null,
            "border": null,
            "bottom": null,
            "display": null,
            "flex": null,
            "flex_flow": null,
            "grid_area": null,
            "grid_auto_columns": null,
            "grid_auto_flow": null,
            "grid_auto_rows": null,
            "grid_column": null,
            "grid_gap": null,
            "grid_row": null,
            "grid_template_areas": null,
            "grid_template_columns": null,
            "grid_template_rows": null,
            "height": null,
            "justify_content": null,
            "justify_items": null,
            "left": null,
            "margin": null,
            "max_height": null,
            "max_width": null,
            "min_height": null,
            "min_width": null,
            "object_fit": null,
            "object_position": null,
            "order": null,
            "overflow": null,
            "overflow_x": null,
            "overflow_y": null,
            "padding": null,
            "right": null,
            "top": null,
            "visibility": null,
            "width": null
          }
        },
        "f47400ddce4b469bab597d002aae937b": {
          "model_module": "@jupyter-widgets/controls",
          "model_name": "DescriptionStyleModel",
          "model_module_version": "1.5.0",
          "state": {
            "_model_module": "@jupyter-widgets/controls",
            "_model_module_version": "1.5.0",
            "_model_name": "DescriptionStyleModel",
            "_view_count": null,
            "_view_module": "@jupyter-widgets/base",
            "_view_module_version": "1.2.0",
            "_view_name": "StyleView",
            "description_width": ""
          }
        },
        "b520ff6238f243cf856d00e3a7a57af0": {
          "model_module": "@jupyter-widgets/base",
          "model_name": "LayoutModel",
          "model_module_version": "1.2.0",
          "state": {
            "_model_module": "@jupyter-widgets/base",
            "_model_module_version": "1.2.0",
            "_model_name": "LayoutModel",
            "_view_count": null,
            "_view_module": "@jupyter-widgets/base",
            "_view_module_version": "1.2.0",
            "_view_name": "LayoutView",
            "align_content": null,
            "align_items": null,
            "align_self": null,
            "border": null,
            "bottom": null,
            "display": null,
            "flex": null,
            "flex_flow": null,
            "grid_area": null,
            "grid_auto_columns": null,
            "grid_auto_flow": null,
            "grid_auto_rows": null,
            "grid_column": null,
            "grid_gap": null,
            "grid_row": null,
            "grid_template_areas": null,
            "grid_template_columns": null,
            "grid_template_rows": null,
            "height": null,
            "justify_content": null,
            "justify_items": null,
            "left": null,
            "margin": null,
            "max_height": null,
            "max_width": null,
            "min_height": null,
            "min_width": null,
            "object_fit": null,
            "object_position": null,
            "order": null,
            "overflow": null,
            "overflow_x": null,
            "overflow_y": null,
            "padding": null,
            "right": null,
            "top": null,
            "visibility": null,
            "width": "20px"
          }
        },
        "16b128306791494db5f1adcd266993e9": {
          "model_module": "@jupyter-widgets/controls",
          "model_name": "ProgressStyleModel",
          "model_module_version": "1.5.0",
          "state": {
            "_model_module": "@jupyter-widgets/controls",
            "_model_module_version": "1.5.0",
            "_model_name": "ProgressStyleModel",
            "_view_count": null,
            "_view_module": "@jupyter-widgets/base",
            "_view_module_version": "1.2.0",
            "_view_name": "StyleView",
            "bar_color": null,
            "description_width": ""
          }
        },
        "319f00ba03f84298b29c39329dbc41c7": {
          "model_module": "@jupyter-widgets/base",
          "model_name": "LayoutModel",
          "model_module_version": "1.2.0",
          "state": {
            "_model_module": "@jupyter-widgets/base",
            "_model_module_version": "1.2.0",
            "_model_name": "LayoutModel",
            "_view_count": null,
            "_view_module": "@jupyter-widgets/base",
            "_view_module_version": "1.2.0",
            "_view_name": "LayoutView",
            "align_content": null,
            "align_items": null,
            "align_self": null,
            "border": null,
            "bottom": null,
            "display": null,
            "flex": null,
            "flex_flow": null,
            "grid_area": null,
            "grid_auto_columns": null,
            "grid_auto_flow": null,
            "grid_auto_rows": null,
            "grid_column": null,
            "grid_gap": null,
            "grid_row": null,
            "grid_template_areas": null,
            "grid_template_columns": null,
            "grid_template_rows": null,
            "height": null,
            "justify_content": null,
            "justify_items": null,
            "left": null,
            "margin": null,
            "max_height": null,
            "max_width": null,
            "min_height": null,
            "min_width": null,
            "object_fit": null,
            "object_position": null,
            "order": null,
            "overflow": null,
            "overflow_x": null,
            "overflow_y": null,
            "padding": null,
            "right": null,
            "top": null,
            "visibility": null,
            "width": null
          }
        },
        "6c293c41e2ec405aaad762d30f4d0f1d": {
          "model_module": "@jupyter-widgets/controls",
          "model_name": "DescriptionStyleModel",
          "model_module_version": "1.5.0",
          "state": {
            "_model_module": "@jupyter-widgets/controls",
            "_model_module_version": "1.5.0",
            "_model_name": "DescriptionStyleModel",
            "_view_count": null,
            "_view_module": "@jupyter-widgets/base",
            "_view_module_version": "1.2.0",
            "_view_name": "StyleView",
            "description_width": ""
          }
        },
        "6f72d559aa5441d393237d0453c4ed47": {
          "model_module": "@jupyter-widgets/controls",
          "model_name": "HBoxModel",
          "model_module_version": "1.5.0",
          "state": {
            "_dom_classes": [],
            "_model_module": "@jupyter-widgets/controls",
            "_model_module_version": "1.5.0",
            "_model_name": "HBoxModel",
            "_view_count": null,
            "_view_module": "@jupyter-widgets/controls",
            "_view_module_version": "1.5.0",
            "_view_name": "HBoxView",
            "box_style": "",
            "children": [
              "IPY_MODEL_b098142bb7bf4995ab1d74ee765ad3ac",
              "IPY_MODEL_7c3d76457522439a91e3ae4699fc95af",
              "IPY_MODEL_7986e16f4ae14707b21a441223a484a9"
            ],
            "layout": "IPY_MODEL_d5760a6f1139460abb501f4e13f527eb"
          }
        },
        "b098142bb7bf4995ab1d74ee765ad3ac": {
          "model_module": "@jupyter-widgets/controls",
          "model_name": "HTMLModel",
          "model_module_version": "1.5.0",
          "state": {
            "_dom_classes": [],
            "_model_module": "@jupyter-widgets/controls",
            "_model_module_version": "1.5.0",
            "_model_name": "HTMLModel",
            "_view_count": null,
            "_view_module": "@jupyter-widgets/controls",
            "_view_module_version": "1.5.0",
            "_view_name": "HTMLView",
            "description": "",
            "description_tooltip": null,
            "layout": "IPY_MODEL_ab0bc37022a3421a9d92eb0386747aa3",
            "placeholder": "​",
            "style": "IPY_MODEL_f35763adf47c4926a5a663e0af50868b",
            "value": "sentence_bert_config.json: 100%"
          }
        },
        "7c3d76457522439a91e3ae4699fc95af": {
          "model_module": "@jupyter-widgets/controls",
          "model_name": "FloatProgressModel",
          "model_module_version": "1.5.0",
          "state": {
            "_dom_classes": [],
            "_model_module": "@jupyter-widgets/controls",
            "_model_module_version": "1.5.0",
            "_model_name": "FloatProgressModel",
            "_view_count": null,
            "_view_module": "@jupyter-widgets/controls",
            "_view_module_version": "1.5.0",
            "_view_name": "ProgressView",
            "bar_style": "success",
            "description": "",
            "description_tooltip": null,
            "layout": "IPY_MODEL_01a7b0b68e754963b7b8b2b8acd8c9dd",
            "max": 53,
            "min": 0,
            "orientation": "horizontal",
            "style": "IPY_MODEL_a9c7d1f4ef6241c0972072fb9cc4b833",
            "value": 53
          }
        },
        "7986e16f4ae14707b21a441223a484a9": {
          "model_module": "@jupyter-widgets/controls",
          "model_name": "HTMLModel",
          "model_module_version": "1.5.0",
          "state": {
            "_dom_classes": [],
            "_model_module": "@jupyter-widgets/controls",
            "_model_module_version": "1.5.0",
            "_model_name": "HTMLModel",
            "_view_count": null,
            "_view_module": "@jupyter-widgets/controls",
            "_view_module_version": "1.5.0",
            "_view_name": "HTMLView",
            "description": "",
            "description_tooltip": null,
            "layout": "IPY_MODEL_5a3706f265f244568ca605b9b3bd09ab",
            "placeholder": "​",
            "style": "IPY_MODEL_9e8566d2db4a4e35abba30ecd24ad8a8",
            "value": " 53.0/53.0 [00:00&lt;00:00, 5.33kB/s]"
          }
        },
        "d5760a6f1139460abb501f4e13f527eb": {
          "model_module": "@jupyter-widgets/base",
          "model_name": "LayoutModel",
          "model_module_version": "1.2.0",
          "state": {
            "_model_module": "@jupyter-widgets/base",
            "_model_module_version": "1.2.0",
            "_model_name": "LayoutModel",
            "_view_count": null,
            "_view_module": "@jupyter-widgets/base",
            "_view_module_version": "1.2.0",
            "_view_name": "LayoutView",
            "align_content": null,
            "align_items": null,
            "align_self": null,
            "border": null,
            "bottom": null,
            "display": null,
            "flex": null,
            "flex_flow": null,
            "grid_area": null,
            "grid_auto_columns": null,
            "grid_auto_flow": null,
            "grid_auto_rows": null,
            "grid_column": null,
            "grid_gap": null,
            "grid_row": null,
            "grid_template_areas": null,
            "grid_template_columns": null,
            "grid_template_rows": null,
            "height": null,
            "justify_content": null,
            "justify_items": null,
            "left": null,
            "margin": null,
            "max_height": null,
            "max_width": null,
            "min_height": null,
            "min_width": null,
            "object_fit": null,
            "object_position": null,
            "order": null,
            "overflow": null,
            "overflow_x": null,
            "overflow_y": null,
            "padding": null,
            "right": null,
            "top": null,
            "visibility": null,
            "width": null
          }
        },
        "ab0bc37022a3421a9d92eb0386747aa3": {
          "model_module": "@jupyter-widgets/base",
          "model_name": "LayoutModel",
          "model_module_version": "1.2.0",
          "state": {
            "_model_module": "@jupyter-widgets/base",
            "_model_module_version": "1.2.0",
            "_model_name": "LayoutModel",
            "_view_count": null,
            "_view_module": "@jupyter-widgets/base",
            "_view_module_version": "1.2.0",
            "_view_name": "LayoutView",
            "align_content": null,
            "align_items": null,
            "align_self": null,
            "border": null,
            "bottom": null,
            "display": null,
            "flex": null,
            "flex_flow": null,
            "grid_area": null,
            "grid_auto_columns": null,
            "grid_auto_flow": null,
            "grid_auto_rows": null,
            "grid_column": null,
            "grid_gap": null,
            "grid_row": null,
            "grid_template_areas": null,
            "grid_template_columns": null,
            "grid_template_rows": null,
            "height": null,
            "justify_content": null,
            "justify_items": null,
            "left": null,
            "margin": null,
            "max_height": null,
            "max_width": null,
            "min_height": null,
            "min_width": null,
            "object_fit": null,
            "object_position": null,
            "order": null,
            "overflow": null,
            "overflow_x": null,
            "overflow_y": null,
            "padding": null,
            "right": null,
            "top": null,
            "visibility": null,
            "width": null
          }
        },
        "f35763adf47c4926a5a663e0af50868b": {
          "model_module": "@jupyter-widgets/controls",
          "model_name": "DescriptionStyleModel",
          "model_module_version": "1.5.0",
          "state": {
            "_model_module": "@jupyter-widgets/controls",
            "_model_module_version": "1.5.0",
            "_model_name": "DescriptionStyleModel",
            "_view_count": null,
            "_view_module": "@jupyter-widgets/base",
            "_view_module_version": "1.2.0",
            "_view_name": "StyleView",
            "description_width": ""
          }
        },
        "01a7b0b68e754963b7b8b2b8acd8c9dd": {
          "model_module": "@jupyter-widgets/base",
          "model_name": "LayoutModel",
          "model_module_version": "1.2.0",
          "state": {
            "_model_module": "@jupyter-widgets/base",
            "_model_module_version": "1.2.0",
            "_model_name": "LayoutModel",
            "_view_count": null,
            "_view_module": "@jupyter-widgets/base",
            "_view_module_version": "1.2.0",
            "_view_name": "LayoutView",
            "align_content": null,
            "align_items": null,
            "align_self": null,
            "border": null,
            "bottom": null,
            "display": null,
            "flex": null,
            "flex_flow": null,
            "grid_area": null,
            "grid_auto_columns": null,
            "grid_auto_flow": null,
            "grid_auto_rows": null,
            "grid_column": null,
            "grid_gap": null,
            "grid_row": null,
            "grid_template_areas": null,
            "grid_template_columns": null,
            "grid_template_rows": null,
            "height": null,
            "justify_content": null,
            "justify_items": null,
            "left": null,
            "margin": null,
            "max_height": null,
            "max_width": null,
            "min_height": null,
            "min_width": null,
            "object_fit": null,
            "object_position": null,
            "order": null,
            "overflow": null,
            "overflow_x": null,
            "overflow_y": null,
            "padding": null,
            "right": null,
            "top": null,
            "visibility": null,
            "width": null
          }
        },
        "a9c7d1f4ef6241c0972072fb9cc4b833": {
          "model_module": "@jupyter-widgets/controls",
          "model_name": "ProgressStyleModel",
          "model_module_version": "1.5.0",
          "state": {
            "_model_module": "@jupyter-widgets/controls",
            "_model_module_version": "1.5.0",
            "_model_name": "ProgressStyleModel",
            "_view_count": null,
            "_view_module": "@jupyter-widgets/base",
            "_view_module_version": "1.2.0",
            "_view_name": "StyleView",
            "bar_color": null,
            "description_width": ""
          }
        },
        "5a3706f265f244568ca605b9b3bd09ab": {
          "model_module": "@jupyter-widgets/base",
          "model_name": "LayoutModel",
          "model_module_version": "1.2.0",
          "state": {
            "_model_module": "@jupyter-widgets/base",
            "_model_module_version": "1.2.0",
            "_model_name": "LayoutModel",
            "_view_count": null,
            "_view_module": "@jupyter-widgets/base",
            "_view_module_version": "1.2.0",
            "_view_name": "LayoutView",
            "align_content": null,
            "align_items": null,
            "align_self": null,
            "border": null,
            "bottom": null,
            "display": null,
            "flex": null,
            "flex_flow": null,
            "grid_area": null,
            "grid_auto_columns": null,
            "grid_auto_flow": null,
            "grid_auto_rows": null,
            "grid_column": null,
            "grid_gap": null,
            "grid_row": null,
            "grid_template_areas": null,
            "grid_template_columns": null,
            "grid_template_rows": null,
            "height": null,
            "justify_content": null,
            "justify_items": null,
            "left": null,
            "margin": null,
            "max_height": null,
            "max_width": null,
            "min_height": null,
            "min_width": null,
            "object_fit": null,
            "object_position": null,
            "order": null,
            "overflow": null,
            "overflow_x": null,
            "overflow_y": null,
            "padding": null,
            "right": null,
            "top": null,
            "visibility": null,
            "width": null
          }
        },
        "9e8566d2db4a4e35abba30ecd24ad8a8": {
          "model_module": "@jupyter-widgets/controls",
          "model_name": "DescriptionStyleModel",
          "model_module_version": "1.5.0",
          "state": {
            "_model_module": "@jupyter-widgets/controls",
            "_model_module_version": "1.5.0",
            "_model_name": "DescriptionStyleModel",
            "_view_count": null,
            "_view_module": "@jupyter-widgets/base",
            "_view_module_version": "1.2.0",
            "_view_name": "StyleView",
            "description_width": ""
          }
        },
        "15c4a6d3d936463c879e689e745dc540": {
          "model_module": "@jupyter-widgets/controls",
          "model_name": "HBoxModel",
          "model_module_version": "1.5.0",
          "state": {
            "_dom_classes": [],
            "_model_module": "@jupyter-widgets/controls",
            "_model_module_version": "1.5.0",
            "_model_name": "HBoxModel",
            "_view_count": null,
            "_view_module": "@jupyter-widgets/controls",
            "_view_module_version": "1.5.0",
            "_view_name": "HBoxView",
            "box_style": "",
            "children": [
              "IPY_MODEL_e83aa8862eee4666820ed072bd9f31ca",
              "IPY_MODEL_087a88f4b9204d92b4668ce398e6c9cf",
              "IPY_MODEL_cd660db9b04d43bb80d88d91a4356edd"
            ],
            "layout": "IPY_MODEL_db072af955d14fdc84a3c281568ac9b3"
          }
        },
        "e83aa8862eee4666820ed072bd9f31ca": {
          "model_module": "@jupyter-widgets/controls",
          "model_name": "HTMLModel",
          "model_module_version": "1.5.0",
          "state": {
            "_dom_classes": [],
            "_model_module": "@jupyter-widgets/controls",
            "_model_module_version": "1.5.0",
            "_model_name": "HTMLModel",
            "_view_count": null,
            "_view_module": "@jupyter-widgets/controls",
            "_view_module_version": "1.5.0",
            "_view_name": "HTMLView",
            "description": "",
            "description_tooltip": null,
            "layout": "IPY_MODEL_d4bef3b82ea544b482c61e6633d10f3e",
            "placeholder": "​",
            "style": "IPY_MODEL_bac1d1a91eaf4aa082ded3475ab7892b",
            "value": "config.json: 100%"
          }
        },
        "087a88f4b9204d92b4668ce398e6c9cf": {
          "model_module": "@jupyter-widgets/controls",
          "model_name": "FloatProgressModel",
          "model_module_version": "1.5.0",
          "state": {
            "_dom_classes": [],
            "_model_module": "@jupyter-widgets/controls",
            "_model_module_version": "1.5.0",
            "_model_name": "FloatProgressModel",
            "_view_count": null,
            "_view_module": "@jupyter-widgets/controls",
            "_view_module_version": "1.5.0",
            "_view_name": "ProgressView",
            "bar_style": "success",
            "description": "",
            "description_tooltip": null,
            "layout": "IPY_MODEL_01ef1a51380948888d0ef721893f0f92",
            "max": 571,
            "min": 0,
            "orientation": "horizontal",
            "style": "IPY_MODEL_30e08f7db90e417a87feef34388b35c3",
            "value": 571
          }
        },
        "cd660db9b04d43bb80d88d91a4356edd": {
          "model_module": "@jupyter-widgets/controls",
          "model_name": "HTMLModel",
          "model_module_version": "1.5.0",
          "state": {
            "_dom_classes": [],
            "_model_module": "@jupyter-widgets/controls",
            "_model_module_version": "1.5.0",
            "_model_name": "HTMLModel",
            "_view_count": null,
            "_view_module": "@jupyter-widgets/controls",
            "_view_module_version": "1.5.0",
            "_view_name": "HTMLView",
            "description": "",
            "description_tooltip": null,
            "layout": "IPY_MODEL_bf657f24aa42466fb2748fbfafb4bf3c",
            "placeholder": "​",
            "style": "IPY_MODEL_eddef8997c9945b69747cf4193a128d5",
            "value": " 571/571 [00:00&lt;00:00, 31.9kB/s]"
          }
        },
        "db072af955d14fdc84a3c281568ac9b3": {
          "model_module": "@jupyter-widgets/base",
          "model_name": "LayoutModel",
          "model_module_version": "1.2.0",
          "state": {
            "_model_module": "@jupyter-widgets/base",
            "_model_module_version": "1.2.0",
            "_model_name": "LayoutModel",
            "_view_count": null,
            "_view_module": "@jupyter-widgets/base",
            "_view_module_version": "1.2.0",
            "_view_name": "LayoutView",
            "align_content": null,
            "align_items": null,
            "align_self": null,
            "border": null,
            "bottom": null,
            "display": null,
            "flex": null,
            "flex_flow": null,
            "grid_area": null,
            "grid_auto_columns": null,
            "grid_auto_flow": null,
            "grid_auto_rows": null,
            "grid_column": null,
            "grid_gap": null,
            "grid_row": null,
            "grid_template_areas": null,
            "grid_template_columns": null,
            "grid_template_rows": null,
            "height": null,
            "justify_content": null,
            "justify_items": null,
            "left": null,
            "margin": null,
            "max_height": null,
            "max_width": null,
            "min_height": null,
            "min_width": null,
            "object_fit": null,
            "object_position": null,
            "order": null,
            "overflow": null,
            "overflow_x": null,
            "overflow_y": null,
            "padding": null,
            "right": null,
            "top": null,
            "visibility": null,
            "width": null
          }
        },
        "d4bef3b82ea544b482c61e6633d10f3e": {
          "model_module": "@jupyter-widgets/base",
          "model_name": "LayoutModel",
          "model_module_version": "1.2.0",
          "state": {
            "_model_module": "@jupyter-widgets/base",
            "_model_module_version": "1.2.0",
            "_model_name": "LayoutModel",
            "_view_count": null,
            "_view_module": "@jupyter-widgets/base",
            "_view_module_version": "1.2.0",
            "_view_name": "LayoutView",
            "align_content": null,
            "align_items": null,
            "align_self": null,
            "border": null,
            "bottom": null,
            "display": null,
            "flex": null,
            "flex_flow": null,
            "grid_area": null,
            "grid_auto_columns": null,
            "grid_auto_flow": null,
            "grid_auto_rows": null,
            "grid_column": null,
            "grid_gap": null,
            "grid_row": null,
            "grid_template_areas": null,
            "grid_template_columns": null,
            "grid_template_rows": null,
            "height": null,
            "justify_content": null,
            "justify_items": null,
            "left": null,
            "margin": null,
            "max_height": null,
            "max_width": null,
            "min_height": null,
            "min_width": null,
            "object_fit": null,
            "object_position": null,
            "order": null,
            "overflow": null,
            "overflow_x": null,
            "overflow_y": null,
            "padding": null,
            "right": null,
            "top": null,
            "visibility": null,
            "width": null
          }
        },
        "bac1d1a91eaf4aa082ded3475ab7892b": {
          "model_module": "@jupyter-widgets/controls",
          "model_name": "DescriptionStyleModel",
          "model_module_version": "1.5.0",
          "state": {
            "_model_module": "@jupyter-widgets/controls",
            "_model_module_version": "1.5.0",
            "_model_name": "DescriptionStyleModel",
            "_view_count": null,
            "_view_module": "@jupyter-widgets/base",
            "_view_module_version": "1.2.0",
            "_view_name": "StyleView",
            "description_width": ""
          }
        },
        "01ef1a51380948888d0ef721893f0f92": {
          "model_module": "@jupyter-widgets/base",
          "model_name": "LayoutModel",
          "model_module_version": "1.2.0",
          "state": {
            "_model_module": "@jupyter-widgets/base",
            "_model_module_version": "1.2.0",
            "_model_name": "LayoutModel",
            "_view_count": null,
            "_view_module": "@jupyter-widgets/base",
            "_view_module_version": "1.2.0",
            "_view_name": "LayoutView",
            "align_content": null,
            "align_items": null,
            "align_self": null,
            "border": null,
            "bottom": null,
            "display": null,
            "flex": null,
            "flex_flow": null,
            "grid_area": null,
            "grid_auto_columns": null,
            "grid_auto_flow": null,
            "grid_auto_rows": null,
            "grid_column": null,
            "grid_gap": null,
            "grid_row": null,
            "grid_template_areas": null,
            "grid_template_columns": null,
            "grid_template_rows": null,
            "height": null,
            "justify_content": null,
            "justify_items": null,
            "left": null,
            "margin": null,
            "max_height": null,
            "max_width": null,
            "min_height": null,
            "min_width": null,
            "object_fit": null,
            "object_position": null,
            "order": null,
            "overflow": null,
            "overflow_x": null,
            "overflow_y": null,
            "padding": null,
            "right": null,
            "top": null,
            "visibility": null,
            "width": null
          }
        },
        "30e08f7db90e417a87feef34388b35c3": {
          "model_module": "@jupyter-widgets/controls",
          "model_name": "ProgressStyleModel",
          "model_module_version": "1.5.0",
          "state": {
            "_model_module": "@jupyter-widgets/controls",
            "_model_module_version": "1.5.0",
            "_model_name": "ProgressStyleModel",
            "_view_count": null,
            "_view_module": "@jupyter-widgets/base",
            "_view_module_version": "1.2.0",
            "_view_name": "StyleView",
            "bar_color": null,
            "description_width": ""
          }
        },
        "bf657f24aa42466fb2748fbfafb4bf3c": {
          "model_module": "@jupyter-widgets/base",
          "model_name": "LayoutModel",
          "model_module_version": "1.2.0",
          "state": {
            "_model_module": "@jupyter-widgets/base",
            "_model_module_version": "1.2.0",
            "_model_name": "LayoutModel",
            "_view_count": null,
            "_view_module": "@jupyter-widgets/base",
            "_view_module_version": "1.2.0",
            "_view_name": "LayoutView",
            "align_content": null,
            "align_items": null,
            "align_self": null,
            "border": null,
            "bottom": null,
            "display": null,
            "flex": null,
            "flex_flow": null,
            "grid_area": null,
            "grid_auto_columns": null,
            "grid_auto_flow": null,
            "grid_auto_rows": null,
            "grid_column": null,
            "grid_gap": null,
            "grid_row": null,
            "grid_template_areas": null,
            "grid_template_columns": null,
            "grid_template_rows": null,
            "height": null,
            "justify_content": null,
            "justify_items": null,
            "left": null,
            "margin": null,
            "max_height": null,
            "max_width": null,
            "min_height": null,
            "min_width": null,
            "object_fit": null,
            "object_position": null,
            "order": null,
            "overflow": null,
            "overflow_x": null,
            "overflow_y": null,
            "padding": null,
            "right": null,
            "top": null,
            "visibility": null,
            "width": null
          }
        },
        "eddef8997c9945b69747cf4193a128d5": {
          "model_module": "@jupyter-widgets/controls",
          "model_name": "DescriptionStyleModel",
          "model_module_version": "1.5.0",
          "state": {
            "_model_module": "@jupyter-widgets/controls",
            "_model_module_version": "1.5.0",
            "_model_name": "DescriptionStyleModel",
            "_view_count": null,
            "_view_module": "@jupyter-widgets/base",
            "_view_module_version": "1.2.0",
            "_view_name": "StyleView",
            "description_width": ""
          }
        },
        "0d052d598868499b820382b7fcf31096": {
          "model_module": "@jupyter-widgets/controls",
          "model_name": "HBoxModel",
          "model_module_version": "1.5.0",
          "state": {
            "_dom_classes": [],
            "_model_module": "@jupyter-widgets/controls",
            "_model_module_version": "1.5.0",
            "_model_name": "HBoxModel",
            "_view_count": null,
            "_view_module": "@jupyter-widgets/controls",
            "_view_module_version": "1.5.0",
            "_view_name": "HBoxView",
            "box_style": "",
            "children": [
              "IPY_MODEL_0dc7d579968347a0bbf2d5bb5688612f",
              "IPY_MODEL_02c8b4b74108404aae379e36204022be",
              "IPY_MODEL_00667d7837d8490b997d8def605bd677"
            ],
            "layout": "IPY_MODEL_1d9751ce286a49808ab9344f73f36af9"
          }
        },
        "0dc7d579968347a0bbf2d5bb5688612f": {
          "model_module": "@jupyter-widgets/controls",
          "model_name": "HTMLModel",
          "model_module_version": "1.5.0",
          "state": {
            "_dom_classes": [],
            "_model_module": "@jupyter-widgets/controls",
            "_model_module_version": "1.5.0",
            "_model_name": "HTMLModel",
            "_view_count": null,
            "_view_module": "@jupyter-widgets/controls",
            "_view_module_version": "1.5.0",
            "_view_name": "HTMLView",
            "description": "",
            "description_tooltip": null,
            "layout": "IPY_MODEL_977ba8d7168b4354b90fb7c5a5743812",
            "placeholder": "​",
            "style": "IPY_MODEL_47cfece9fbff417fbcce022d8c569b96",
            "value": "model.safetensors: 100%"
          }
        },
        "02c8b4b74108404aae379e36204022be": {
          "model_module": "@jupyter-widgets/controls",
          "model_name": "FloatProgressModel",
          "model_module_version": "1.5.0",
          "state": {
            "_dom_classes": [],
            "_model_module": "@jupyter-widgets/controls",
            "_model_module_version": "1.5.0",
            "_model_name": "FloatProgressModel",
            "_view_count": null,
            "_view_module": "@jupyter-widgets/controls",
            "_view_module_version": "1.5.0",
            "_view_name": "ProgressView",
            "bar_style": "success",
            "description": "",
            "description_tooltip": null,
            "layout": "IPY_MODEL_d0cace2c22744733b1430c7f759300f2",
            "max": 437971872,
            "min": 0,
            "orientation": "horizontal",
            "style": "IPY_MODEL_20d515b8fa2e4514a5485f5c93e20e9c",
            "value": 437971872
          }
        },
        "00667d7837d8490b997d8def605bd677": {
          "model_module": "@jupyter-widgets/controls",
          "model_name": "HTMLModel",
          "model_module_version": "1.5.0",
          "state": {
            "_dom_classes": [],
            "_model_module": "@jupyter-widgets/controls",
            "_model_module_version": "1.5.0",
            "_model_name": "HTMLModel",
            "_view_count": null,
            "_view_module": "@jupyter-widgets/controls",
            "_view_module_version": "1.5.0",
            "_view_name": "HTMLView",
            "description": "",
            "description_tooltip": null,
            "layout": "IPY_MODEL_ad6d02bc309f4d05a3ff34b11ce4ae9e",
            "placeholder": "​",
            "style": "IPY_MODEL_01e0274ad4544e04bfe58a378a3567e9",
            "value": " 438M/438M [00:06&lt;00:00, 92.8MB/s]"
          }
        },
        "1d9751ce286a49808ab9344f73f36af9": {
          "model_module": "@jupyter-widgets/base",
          "model_name": "LayoutModel",
          "model_module_version": "1.2.0",
          "state": {
            "_model_module": "@jupyter-widgets/base",
            "_model_module_version": "1.2.0",
            "_model_name": "LayoutModel",
            "_view_count": null,
            "_view_module": "@jupyter-widgets/base",
            "_view_module_version": "1.2.0",
            "_view_name": "LayoutView",
            "align_content": null,
            "align_items": null,
            "align_self": null,
            "border": null,
            "bottom": null,
            "display": null,
            "flex": null,
            "flex_flow": null,
            "grid_area": null,
            "grid_auto_columns": null,
            "grid_auto_flow": null,
            "grid_auto_rows": null,
            "grid_column": null,
            "grid_gap": null,
            "grid_row": null,
            "grid_template_areas": null,
            "grid_template_columns": null,
            "grid_template_rows": null,
            "height": null,
            "justify_content": null,
            "justify_items": null,
            "left": null,
            "margin": null,
            "max_height": null,
            "max_width": null,
            "min_height": null,
            "min_width": null,
            "object_fit": null,
            "object_position": null,
            "order": null,
            "overflow": null,
            "overflow_x": null,
            "overflow_y": null,
            "padding": null,
            "right": null,
            "top": null,
            "visibility": null,
            "width": null
          }
        },
        "977ba8d7168b4354b90fb7c5a5743812": {
          "model_module": "@jupyter-widgets/base",
          "model_name": "LayoutModel",
          "model_module_version": "1.2.0",
          "state": {
            "_model_module": "@jupyter-widgets/base",
            "_model_module_version": "1.2.0",
            "_model_name": "LayoutModel",
            "_view_count": null,
            "_view_module": "@jupyter-widgets/base",
            "_view_module_version": "1.2.0",
            "_view_name": "LayoutView",
            "align_content": null,
            "align_items": null,
            "align_self": null,
            "border": null,
            "bottom": null,
            "display": null,
            "flex": null,
            "flex_flow": null,
            "grid_area": null,
            "grid_auto_columns": null,
            "grid_auto_flow": null,
            "grid_auto_rows": null,
            "grid_column": null,
            "grid_gap": null,
            "grid_row": null,
            "grid_template_areas": null,
            "grid_template_columns": null,
            "grid_template_rows": null,
            "height": null,
            "justify_content": null,
            "justify_items": null,
            "left": null,
            "margin": null,
            "max_height": null,
            "max_width": null,
            "min_height": null,
            "min_width": null,
            "object_fit": null,
            "object_position": null,
            "order": null,
            "overflow": null,
            "overflow_x": null,
            "overflow_y": null,
            "padding": null,
            "right": null,
            "top": null,
            "visibility": null,
            "width": null
          }
        },
        "47cfece9fbff417fbcce022d8c569b96": {
          "model_module": "@jupyter-widgets/controls",
          "model_name": "DescriptionStyleModel",
          "model_module_version": "1.5.0",
          "state": {
            "_model_module": "@jupyter-widgets/controls",
            "_model_module_version": "1.5.0",
            "_model_name": "DescriptionStyleModel",
            "_view_count": null,
            "_view_module": "@jupyter-widgets/base",
            "_view_module_version": "1.2.0",
            "_view_name": "StyleView",
            "description_width": ""
          }
        },
        "d0cace2c22744733b1430c7f759300f2": {
          "model_module": "@jupyter-widgets/base",
          "model_name": "LayoutModel",
          "model_module_version": "1.2.0",
          "state": {
            "_model_module": "@jupyter-widgets/base",
            "_model_module_version": "1.2.0",
            "_model_name": "LayoutModel",
            "_view_count": null,
            "_view_module": "@jupyter-widgets/base",
            "_view_module_version": "1.2.0",
            "_view_name": "LayoutView",
            "align_content": null,
            "align_items": null,
            "align_self": null,
            "border": null,
            "bottom": null,
            "display": null,
            "flex": null,
            "flex_flow": null,
            "grid_area": null,
            "grid_auto_columns": null,
            "grid_auto_flow": null,
            "grid_auto_rows": null,
            "grid_column": null,
            "grid_gap": null,
            "grid_row": null,
            "grid_template_areas": null,
            "grid_template_columns": null,
            "grid_template_rows": null,
            "height": null,
            "justify_content": null,
            "justify_items": null,
            "left": null,
            "margin": null,
            "max_height": null,
            "max_width": null,
            "min_height": null,
            "min_width": null,
            "object_fit": null,
            "object_position": null,
            "order": null,
            "overflow": null,
            "overflow_x": null,
            "overflow_y": null,
            "padding": null,
            "right": null,
            "top": null,
            "visibility": null,
            "width": null
          }
        },
        "20d515b8fa2e4514a5485f5c93e20e9c": {
          "model_module": "@jupyter-widgets/controls",
          "model_name": "ProgressStyleModel",
          "model_module_version": "1.5.0",
          "state": {
            "_model_module": "@jupyter-widgets/controls",
            "_model_module_version": "1.5.0",
            "_model_name": "ProgressStyleModel",
            "_view_count": null,
            "_view_module": "@jupyter-widgets/base",
            "_view_module_version": "1.2.0",
            "_view_name": "StyleView",
            "bar_color": null,
            "description_width": ""
          }
        },
        "ad6d02bc309f4d05a3ff34b11ce4ae9e": {
          "model_module": "@jupyter-widgets/base",
          "model_name": "LayoutModel",
          "model_module_version": "1.2.0",
          "state": {
            "_model_module": "@jupyter-widgets/base",
            "_model_module_version": "1.2.0",
            "_model_name": "LayoutModel",
            "_view_count": null,
            "_view_module": "@jupyter-widgets/base",
            "_view_module_version": "1.2.0",
            "_view_name": "LayoutView",
            "align_content": null,
            "align_items": null,
            "align_self": null,
            "border": null,
            "bottom": null,
            "display": null,
            "flex": null,
            "flex_flow": null,
            "grid_area": null,
            "grid_auto_columns": null,
            "grid_auto_flow": null,
            "grid_auto_rows": null,
            "grid_column": null,
            "grid_gap": null,
            "grid_row": null,
            "grid_template_areas": null,
            "grid_template_columns": null,
            "grid_template_rows": null,
            "height": null,
            "justify_content": null,
            "justify_items": null,
            "left": null,
            "margin": null,
            "max_height": null,
            "max_width": null,
            "min_height": null,
            "min_width": null,
            "object_fit": null,
            "object_position": null,
            "order": null,
            "overflow": null,
            "overflow_x": null,
            "overflow_y": null,
            "padding": null,
            "right": null,
            "top": null,
            "visibility": null,
            "width": null
          }
        },
        "01e0274ad4544e04bfe58a378a3567e9": {
          "model_module": "@jupyter-widgets/controls",
          "model_name": "DescriptionStyleModel",
          "model_module_version": "1.5.0",
          "state": {
            "_model_module": "@jupyter-widgets/controls",
            "_model_module_version": "1.5.0",
            "_model_name": "DescriptionStyleModel",
            "_view_count": null,
            "_view_module": "@jupyter-widgets/base",
            "_view_module_version": "1.2.0",
            "_view_name": "StyleView",
            "description_width": ""
          }
        },
        "811dc1c2e9684300ba263ab0aa7903ff": {
          "model_module": "@jupyter-widgets/controls",
          "model_name": "HBoxModel",
          "model_module_version": "1.5.0",
          "state": {
            "_dom_classes": [],
            "_model_module": "@jupyter-widgets/controls",
            "_model_module_version": "1.5.0",
            "_model_name": "HBoxModel",
            "_view_count": null,
            "_view_module": "@jupyter-widgets/controls",
            "_view_module_version": "1.5.0",
            "_view_name": "HBoxView",
            "box_style": "",
            "children": [
              "IPY_MODEL_2499e1f44e6f472aad377f39f4d79f79",
              "IPY_MODEL_3c65b6102c15458da84d9ade3ee098de",
              "IPY_MODEL_86386d6b79c0438296df9136f71fb484"
            ],
            "layout": "IPY_MODEL_56910321c4d5461f8434fca9a4e92e0f"
          }
        },
        "2499e1f44e6f472aad377f39f4d79f79": {
          "model_module": "@jupyter-widgets/controls",
          "model_name": "HTMLModel",
          "model_module_version": "1.5.0",
          "state": {
            "_dom_classes": [],
            "_model_module": "@jupyter-widgets/controls",
            "_model_module_version": "1.5.0",
            "_model_name": "HTMLModel",
            "_view_count": null,
            "_view_module": "@jupyter-widgets/controls",
            "_view_module_version": "1.5.0",
            "_view_name": "HTMLView",
            "description": "",
            "description_tooltip": null,
            "layout": "IPY_MODEL_d2b60fd0a59445a8ad9e3cf41e7002b9",
            "placeholder": "​",
            "style": "IPY_MODEL_65cb4539783a4546bb3181f92a526526",
            "value": "tokenizer_config.json: 100%"
          }
        },
        "3c65b6102c15458da84d9ade3ee098de": {
          "model_module": "@jupyter-widgets/controls",
          "model_name": "FloatProgressModel",
          "model_module_version": "1.5.0",
          "state": {
            "_dom_classes": [],
            "_model_module": "@jupyter-widgets/controls",
            "_model_module_version": "1.5.0",
            "_model_name": "FloatProgressModel",
            "_view_count": null,
            "_view_module": "@jupyter-widgets/controls",
            "_view_module_version": "1.5.0",
            "_view_name": "ProgressView",
            "bar_style": "success",
            "description": "",
            "description_tooltip": null,
            "layout": "IPY_MODEL_ae26ba6459ed48328d42bce55c20d830",
            "max": 363,
            "min": 0,
            "orientation": "horizontal",
            "style": "IPY_MODEL_0aac72195954482eb8220a077a300309",
            "value": 363
          }
        },
        "86386d6b79c0438296df9136f71fb484": {
          "model_module": "@jupyter-widgets/controls",
          "model_name": "HTMLModel",
          "model_module_version": "1.5.0",
          "state": {
            "_dom_classes": [],
            "_model_module": "@jupyter-widgets/controls",
            "_model_module_version": "1.5.0",
            "_model_name": "HTMLModel",
            "_view_count": null,
            "_view_module": "@jupyter-widgets/controls",
            "_view_module_version": "1.5.0",
            "_view_name": "HTMLView",
            "description": "",
            "description_tooltip": null,
            "layout": "IPY_MODEL_3fdfe23cbf654295a3d858968093d576",
            "placeholder": "​",
            "style": "IPY_MODEL_5463148f633a462d8f63ea866cf68e25",
            "value": " 363/363 [00:00&lt;00:00, 20.7kB/s]"
          }
        },
        "56910321c4d5461f8434fca9a4e92e0f": {
          "model_module": "@jupyter-widgets/base",
          "model_name": "LayoutModel",
          "model_module_version": "1.2.0",
          "state": {
            "_model_module": "@jupyter-widgets/base",
            "_model_module_version": "1.2.0",
            "_model_name": "LayoutModel",
            "_view_count": null,
            "_view_module": "@jupyter-widgets/base",
            "_view_module_version": "1.2.0",
            "_view_name": "LayoutView",
            "align_content": null,
            "align_items": null,
            "align_self": null,
            "border": null,
            "bottom": null,
            "display": null,
            "flex": null,
            "flex_flow": null,
            "grid_area": null,
            "grid_auto_columns": null,
            "grid_auto_flow": null,
            "grid_auto_rows": null,
            "grid_column": null,
            "grid_gap": null,
            "grid_row": null,
            "grid_template_areas": null,
            "grid_template_columns": null,
            "grid_template_rows": null,
            "height": null,
            "justify_content": null,
            "justify_items": null,
            "left": null,
            "margin": null,
            "max_height": null,
            "max_width": null,
            "min_height": null,
            "min_width": null,
            "object_fit": null,
            "object_position": null,
            "order": null,
            "overflow": null,
            "overflow_x": null,
            "overflow_y": null,
            "padding": null,
            "right": null,
            "top": null,
            "visibility": null,
            "width": null
          }
        },
        "d2b60fd0a59445a8ad9e3cf41e7002b9": {
          "model_module": "@jupyter-widgets/base",
          "model_name": "LayoutModel",
          "model_module_version": "1.2.0",
          "state": {
            "_model_module": "@jupyter-widgets/base",
            "_model_module_version": "1.2.0",
            "_model_name": "LayoutModel",
            "_view_count": null,
            "_view_module": "@jupyter-widgets/base",
            "_view_module_version": "1.2.0",
            "_view_name": "LayoutView",
            "align_content": null,
            "align_items": null,
            "align_self": null,
            "border": null,
            "bottom": null,
            "display": null,
            "flex": null,
            "flex_flow": null,
            "grid_area": null,
            "grid_auto_columns": null,
            "grid_auto_flow": null,
            "grid_auto_rows": null,
            "grid_column": null,
            "grid_gap": null,
            "grid_row": null,
            "grid_template_areas": null,
            "grid_template_columns": null,
            "grid_template_rows": null,
            "height": null,
            "justify_content": null,
            "justify_items": null,
            "left": null,
            "margin": null,
            "max_height": null,
            "max_width": null,
            "min_height": null,
            "min_width": null,
            "object_fit": null,
            "object_position": null,
            "order": null,
            "overflow": null,
            "overflow_x": null,
            "overflow_y": null,
            "padding": null,
            "right": null,
            "top": null,
            "visibility": null,
            "width": null
          }
        },
        "65cb4539783a4546bb3181f92a526526": {
          "model_module": "@jupyter-widgets/controls",
          "model_name": "DescriptionStyleModel",
          "model_module_version": "1.5.0",
          "state": {
            "_model_module": "@jupyter-widgets/controls",
            "_model_module_version": "1.5.0",
            "_model_name": "DescriptionStyleModel",
            "_view_count": null,
            "_view_module": "@jupyter-widgets/base",
            "_view_module_version": "1.2.0",
            "_view_name": "StyleView",
            "description_width": ""
          }
        },
        "ae26ba6459ed48328d42bce55c20d830": {
          "model_module": "@jupyter-widgets/base",
          "model_name": "LayoutModel",
          "model_module_version": "1.2.0",
          "state": {
            "_model_module": "@jupyter-widgets/base",
            "_model_module_version": "1.2.0",
            "_model_name": "LayoutModel",
            "_view_count": null,
            "_view_module": "@jupyter-widgets/base",
            "_view_module_version": "1.2.0",
            "_view_name": "LayoutView",
            "align_content": null,
            "align_items": null,
            "align_self": null,
            "border": null,
            "bottom": null,
            "display": null,
            "flex": null,
            "flex_flow": null,
            "grid_area": null,
            "grid_auto_columns": null,
            "grid_auto_flow": null,
            "grid_auto_rows": null,
            "grid_column": null,
            "grid_gap": null,
            "grid_row": null,
            "grid_template_areas": null,
            "grid_template_columns": null,
            "grid_template_rows": null,
            "height": null,
            "justify_content": null,
            "justify_items": null,
            "left": null,
            "margin": null,
            "max_height": null,
            "max_width": null,
            "min_height": null,
            "min_width": null,
            "object_fit": null,
            "object_position": null,
            "order": null,
            "overflow": null,
            "overflow_x": null,
            "overflow_y": null,
            "padding": null,
            "right": null,
            "top": null,
            "visibility": null,
            "width": null
          }
        },
        "0aac72195954482eb8220a077a300309": {
          "model_module": "@jupyter-widgets/controls",
          "model_name": "ProgressStyleModel",
          "model_module_version": "1.5.0",
          "state": {
            "_model_module": "@jupyter-widgets/controls",
            "_model_module_version": "1.5.0",
            "_model_name": "ProgressStyleModel",
            "_view_count": null,
            "_view_module": "@jupyter-widgets/base",
            "_view_module_version": "1.2.0",
            "_view_name": "StyleView",
            "bar_color": null,
            "description_width": ""
          }
        },
        "3fdfe23cbf654295a3d858968093d576": {
          "model_module": "@jupyter-widgets/base",
          "model_name": "LayoutModel",
          "model_module_version": "1.2.0",
          "state": {
            "_model_module": "@jupyter-widgets/base",
            "_model_module_version": "1.2.0",
            "_model_name": "LayoutModel",
            "_view_count": null,
            "_view_module": "@jupyter-widgets/base",
            "_view_module_version": "1.2.0",
            "_view_name": "LayoutView",
            "align_content": null,
            "align_items": null,
            "align_self": null,
            "border": null,
            "bottom": null,
            "display": null,
            "flex": null,
            "flex_flow": null,
            "grid_area": null,
            "grid_auto_columns": null,
            "grid_auto_flow": null,
            "grid_auto_rows": null,
            "grid_column": null,
            "grid_gap": null,
            "grid_row": null,
            "grid_template_areas": null,
            "grid_template_columns": null,
            "grid_template_rows": null,
            "height": null,
            "justify_content": null,
            "justify_items": null,
            "left": null,
            "margin": null,
            "max_height": null,
            "max_width": null,
            "min_height": null,
            "min_width": null,
            "object_fit": null,
            "object_position": null,
            "order": null,
            "overflow": null,
            "overflow_x": null,
            "overflow_y": null,
            "padding": null,
            "right": null,
            "top": null,
            "visibility": null,
            "width": null
          }
        },
        "5463148f633a462d8f63ea866cf68e25": {
          "model_module": "@jupyter-widgets/controls",
          "model_name": "DescriptionStyleModel",
          "model_module_version": "1.5.0",
          "state": {
            "_model_module": "@jupyter-widgets/controls",
            "_model_module_version": "1.5.0",
            "_model_name": "DescriptionStyleModel",
            "_view_count": null,
            "_view_module": "@jupyter-widgets/base",
            "_view_module_version": "1.2.0",
            "_view_name": "StyleView",
            "description_width": ""
          }
        },
        "3939eeb476a24f398f092a6f0108a5b1": {
          "model_module": "@jupyter-widgets/controls",
          "model_name": "HBoxModel",
          "model_module_version": "1.5.0",
          "state": {
            "_dom_classes": [],
            "_model_module": "@jupyter-widgets/controls",
            "_model_module_version": "1.5.0",
            "_model_name": "HBoxModel",
            "_view_count": null,
            "_view_module": "@jupyter-widgets/controls",
            "_view_module_version": "1.5.0",
            "_view_name": "HBoxView",
            "box_style": "",
            "children": [
              "IPY_MODEL_7280a940e1704e2aa5d93966a4ec4378",
              "IPY_MODEL_e62ba938e024481e854dfb0705931abb",
              "IPY_MODEL_6bc08ab4db6a4e1588154a455f328774"
            ],
            "layout": "IPY_MODEL_cb9c866d70c44e8a9801ac749f48a3b3"
          }
        },
        "7280a940e1704e2aa5d93966a4ec4378": {
          "model_module": "@jupyter-widgets/controls",
          "model_name": "HTMLModel",
          "model_module_version": "1.5.0",
          "state": {
            "_dom_classes": [],
            "_model_module": "@jupyter-widgets/controls",
            "_model_module_version": "1.5.0",
            "_model_name": "HTMLModel",
            "_view_count": null,
            "_view_module": "@jupyter-widgets/controls",
            "_view_module_version": "1.5.0",
            "_view_name": "HTMLView",
            "description": "",
            "description_tooltip": null,
            "layout": "IPY_MODEL_e822831f033e45ed90b7b4070245730f",
            "placeholder": "​",
            "style": "IPY_MODEL_f70fa506b4084a97b3429d305ea640cd",
            "value": "vocab.txt: "
          }
        },
        "e62ba938e024481e854dfb0705931abb": {
          "model_module": "@jupyter-widgets/controls",
          "model_name": "FloatProgressModel",
          "model_module_version": "1.5.0",
          "state": {
            "_dom_classes": [],
            "_model_module": "@jupyter-widgets/controls",
            "_model_module_version": "1.5.0",
            "_model_name": "FloatProgressModel",
            "_view_count": null,
            "_view_module": "@jupyter-widgets/controls",
            "_view_module_version": "1.5.0",
            "_view_name": "ProgressView",
            "bar_style": "success",
            "description": "",
            "description_tooltip": null,
            "layout": "IPY_MODEL_4f4f77fa29b34097bc68ddd525914300",
            "max": 1,
            "min": 0,
            "orientation": "horizontal",
            "style": "IPY_MODEL_56aeda5c6ec14f9e92d60039369b4ecb",
            "value": 1
          }
        },
        "6bc08ab4db6a4e1588154a455f328774": {
          "model_module": "@jupyter-widgets/controls",
          "model_name": "HTMLModel",
          "model_module_version": "1.5.0",
          "state": {
            "_dom_classes": [],
            "_model_module": "@jupyter-widgets/controls",
            "_model_module_version": "1.5.0",
            "_model_name": "HTMLModel",
            "_view_count": null,
            "_view_module": "@jupyter-widgets/controls",
            "_view_module_version": "1.5.0",
            "_view_name": "HTMLView",
            "description": "",
            "description_tooltip": null,
            "layout": "IPY_MODEL_c58000122e3d4cb7811ac03295015896",
            "placeholder": "​",
            "style": "IPY_MODEL_4dc61e45e10a47378d9359a22b10842c",
            "value": " 232k/? [00:00&lt;00:00, 8.06MB/s]"
          }
        },
        "cb9c866d70c44e8a9801ac749f48a3b3": {
          "model_module": "@jupyter-widgets/base",
          "model_name": "LayoutModel",
          "model_module_version": "1.2.0",
          "state": {
            "_model_module": "@jupyter-widgets/base",
            "_model_module_version": "1.2.0",
            "_model_name": "LayoutModel",
            "_view_count": null,
            "_view_module": "@jupyter-widgets/base",
            "_view_module_version": "1.2.0",
            "_view_name": "LayoutView",
            "align_content": null,
            "align_items": null,
            "align_self": null,
            "border": null,
            "bottom": null,
            "display": null,
            "flex": null,
            "flex_flow": null,
            "grid_area": null,
            "grid_auto_columns": null,
            "grid_auto_flow": null,
            "grid_auto_rows": null,
            "grid_column": null,
            "grid_gap": null,
            "grid_row": null,
            "grid_template_areas": null,
            "grid_template_columns": null,
            "grid_template_rows": null,
            "height": null,
            "justify_content": null,
            "justify_items": null,
            "left": null,
            "margin": null,
            "max_height": null,
            "max_width": null,
            "min_height": null,
            "min_width": null,
            "object_fit": null,
            "object_position": null,
            "order": null,
            "overflow": null,
            "overflow_x": null,
            "overflow_y": null,
            "padding": null,
            "right": null,
            "top": null,
            "visibility": null,
            "width": null
          }
        },
        "e822831f033e45ed90b7b4070245730f": {
          "model_module": "@jupyter-widgets/base",
          "model_name": "LayoutModel",
          "model_module_version": "1.2.0",
          "state": {
            "_model_module": "@jupyter-widgets/base",
            "_model_module_version": "1.2.0",
            "_model_name": "LayoutModel",
            "_view_count": null,
            "_view_module": "@jupyter-widgets/base",
            "_view_module_version": "1.2.0",
            "_view_name": "LayoutView",
            "align_content": null,
            "align_items": null,
            "align_self": null,
            "border": null,
            "bottom": null,
            "display": null,
            "flex": null,
            "flex_flow": null,
            "grid_area": null,
            "grid_auto_columns": null,
            "grid_auto_flow": null,
            "grid_auto_rows": null,
            "grid_column": null,
            "grid_gap": null,
            "grid_row": null,
            "grid_template_areas": null,
            "grid_template_columns": null,
            "grid_template_rows": null,
            "height": null,
            "justify_content": null,
            "justify_items": null,
            "left": null,
            "margin": null,
            "max_height": null,
            "max_width": null,
            "min_height": null,
            "min_width": null,
            "object_fit": null,
            "object_position": null,
            "order": null,
            "overflow": null,
            "overflow_x": null,
            "overflow_y": null,
            "padding": null,
            "right": null,
            "top": null,
            "visibility": null,
            "width": null
          }
        },
        "f70fa506b4084a97b3429d305ea640cd": {
          "model_module": "@jupyter-widgets/controls",
          "model_name": "DescriptionStyleModel",
          "model_module_version": "1.5.0",
          "state": {
            "_model_module": "@jupyter-widgets/controls",
            "_model_module_version": "1.5.0",
            "_model_name": "DescriptionStyleModel",
            "_view_count": null,
            "_view_module": "@jupyter-widgets/base",
            "_view_module_version": "1.2.0",
            "_view_name": "StyleView",
            "description_width": ""
          }
        },
        "4f4f77fa29b34097bc68ddd525914300": {
          "model_module": "@jupyter-widgets/base",
          "model_name": "LayoutModel",
          "model_module_version": "1.2.0",
          "state": {
            "_model_module": "@jupyter-widgets/base",
            "_model_module_version": "1.2.0",
            "_model_name": "LayoutModel",
            "_view_count": null,
            "_view_module": "@jupyter-widgets/base",
            "_view_module_version": "1.2.0",
            "_view_name": "LayoutView",
            "align_content": null,
            "align_items": null,
            "align_self": null,
            "border": null,
            "bottom": null,
            "display": null,
            "flex": null,
            "flex_flow": null,
            "grid_area": null,
            "grid_auto_columns": null,
            "grid_auto_flow": null,
            "grid_auto_rows": null,
            "grid_column": null,
            "grid_gap": null,
            "grid_row": null,
            "grid_template_areas": null,
            "grid_template_columns": null,
            "grid_template_rows": null,
            "height": null,
            "justify_content": null,
            "justify_items": null,
            "left": null,
            "margin": null,
            "max_height": null,
            "max_width": null,
            "min_height": null,
            "min_width": null,
            "object_fit": null,
            "object_position": null,
            "order": null,
            "overflow": null,
            "overflow_x": null,
            "overflow_y": null,
            "padding": null,
            "right": null,
            "top": null,
            "visibility": null,
            "width": "20px"
          }
        },
        "56aeda5c6ec14f9e92d60039369b4ecb": {
          "model_module": "@jupyter-widgets/controls",
          "model_name": "ProgressStyleModel",
          "model_module_version": "1.5.0",
          "state": {
            "_model_module": "@jupyter-widgets/controls",
            "_model_module_version": "1.5.0",
            "_model_name": "ProgressStyleModel",
            "_view_count": null,
            "_view_module": "@jupyter-widgets/base",
            "_view_module_version": "1.2.0",
            "_view_name": "StyleView",
            "bar_color": null,
            "description_width": ""
          }
        },
        "c58000122e3d4cb7811ac03295015896": {
          "model_module": "@jupyter-widgets/base",
          "model_name": "LayoutModel",
          "model_module_version": "1.2.0",
          "state": {
            "_model_module": "@jupyter-widgets/base",
            "_model_module_version": "1.2.0",
            "_model_name": "LayoutModel",
            "_view_count": null,
            "_view_module": "@jupyter-widgets/base",
            "_view_module_version": "1.2.0",
            "_view_name": "LayoutView",
            "align_content": null,
            "align_items": null,
            "align_self": null,
            "border": null,
            "bottom": null,
            "display": null,
            "flex": null,
            "flex_flow": null,
            "grid_area": null,
            "grid_auto_columns": null,
            "grid_auto_flow": null,
            "grid_auto_rows": null,
            "grid_column": null,
            "grid_gap": null,
            "grid_row": null,
            "grid_template_areas": null,
            "grid_template_columns": null,
            "grid_template_rows": null,
            "height": null,
            "justify_content": null,
            "justify_items": null,
            "left": null,
            "margin": null,
            "max_height": null,
            "max_width": null,
            "min_height": null,
            "min_width": null,
            "object_fit": null,
            "object_position": null,
            "order": null,
            "overflow": null,
            "overflow_x": null,
            "overflow_y": null,
            "padding": null,
            "right": null,
            "top": null,
            "visibility": null,
            "width": null
          }
        },
        "4dc61e45e10a47378d9359a22b10842c": {
          "model_module": "@jupyter-widgets/controls",
          "model_name": "DescriptionStyleModel",
          "model_module_version": "1.5.0",
          "state": {
            "_model_module": "@jupyter-widgets/controls",
            "_model_module_version": "1.5.0",
            "_model_name": "DescriptionStyleModel",
            "_view_count": null,
            "_view_module": "@jupyter-widgets/base",
            "_view_module_version": "1.2.0",
            "_view_name": "StyleView",
            "description_width": ""
          }
        },
        "9824c93914ed4772ab1c803b271205cb": {
          "model_module": "@jupyter-widgets/controls",
          "model_name": "HBoxModel",
          "model_module_version": "1.5.0",
          "state": {
            "_dom_classes": [],
            "_model_module": "@jupyter-widgets/controls",
            "_model_module_version": "1.5.0",
            "_model_name": "HBoxModel",
            "_view_count": null,
            "_view_module": "@jupyter-widgets/controls",
            "_view_module_version": "1.5.0",
            "_view_name": "HBoxView",
            "box_style": "",
            "children": [
              "IPY_MODEL_054e61f0818a4b359fbbbd0ab67fd596",
              "IPY_MODEL_1bbcb115f7b04cd49291a661fa5907ba",
              "IPY_MODEL_a54525203800412a99c8e9cc6fa407dc"
            ],
            "layout": "IPY_MODEL_bb0ad01fe3da4bedb2fd5a73e7d7b77c"
          }
        },
        "054e61f0818a4b359fbbbd0ab67fd596": {
          "model_module": "@jupyter-widgets/controls",
          "model_name": "HTMLModel",
          "model_module_version": "1.5.0",
          "state": {
            "_dom_classes": [],
            "_model_module": "@jupyter-widgets/controls",
            "_model_module_version": "1.5.0",
            "_model_name": "HTMLModel",
            "_view_count": null,
            "_view_module": "@jupyter-widgets/controls",
            "_view_module_version": "1.5.0",
            "_view_name": "HTMLView",
            "description": "",
            "description_tooltip": null,
            "layout": "IPY_MODEL_fbf3a13c5b7f4d4dbd6839a9767e2730",
            "placeholder": "​",
            "style": "IPY_MODEL_71ada72ac59645fd9b3a4b1f42002f97",
            "value": "tokenizer.json: "
          }
        },
        "1bbcb115f7b04cd49291a661fa5907ba": {
          "model_module": "@jupyter-widgets/controls",
          "model_name": "FloatProgressModel",
          "model_module_version": "1.5.0",
          "state": {
            "_dom_classes": [],
            "_model_module": "@jupyter-widgets/controls",
            "_model_module_version": "1.5.0",
            "_model_name": "FloatProgressModel",
            "_view_count": null,
            "_view_module": "@jupyter-widgets/controls",
            "_view_module_version": "1.5.0",
            "_view_name": "ProgressView",
            "bar_style": "success",
            "description": "",
            "description_tooltip": null,
            "layout": "IPY_MODEL_3673fd15bd8841c094586dd5b7ea7728",
            "max": 1,
            "min": 0,
            "orientation": "horizontal",
            "style": "IPY_MODEL_45c418d1c4ed415c8af0979e88869f60",
            "value": 1
          }
        },
        "a54525203800412a99c8e9cc6fa407dc": {
          "model_module": "@jupyter-widgets/controls",
          "model_name": "HTMLModel",
          "model_module_version": "1.5.0",
          "state": {
            "_dom_classes": [],
            "_model_module": "@jupyter-widgets/controls",
            "_model_module_version": "1.5.0",
            "_model_name": "HTMLModel",
            "_view_count": null,
            "_view_module": "@jupyter-widgets/controls",
            "_view_module_version": "1.5.0",
            "_view_name": "HTMLView",
            "description": "",
            "description_tooltip": null,
            "layout": "IPY_MODEL_0a76a8e182eb4474adc0a5ff776cf2fb",
            "placeholder": "​",
            "style": "IPY_MODEL_a915fd6e3aff467c8560e416bb490a9c",
            "value": " 466k/? [00:00&lt;00:00, 20.6MB/s]"
          }
        },
        "bb0ad01fe3da4bedb2fd5a73e7d7b77c": {
          "model_module": "@jupyter-widgets/base",
          "model_name": "LayoutModel",
          "model_module_version": "1.2.0",
          "state": {
            "_model_module": "@jupyter-widgets/base",
            "_model_module_version": "1.2.0",
            "_model_name": "LayoutModel",
            "_view_count": null,
            "_view_module": "@jupyter-widgets/base",
            "_view_module_version": "1.2.0",
            "_view_name": "LayoutView",
            "align_content": null,
            "align_items": null,
            "align_self": null,
            "border": null,
            "bottom": null,
            "display": null,
            "flex": null,
            "flex_flow": null,
            "grid_area": null,
            "grid_auto_columns": null,
            "grid_auto_flow": null,
            "grid_auto_rows": null,
            "grid_column": null,
            "grid_gap": null,
            "grid_row": null,
            "grid_template_areas": null,
            "grid_template_columns": null,
            "grid_template_rows": null,
            "height": null,
            "justify_content": null,
            "justify_items": null,
            "left": null,
            "margin": null,
            "max_height": null,
            "max_width": null,
            "min_height": null,
            "min_width": null,
            "object_fit": null,
            "object_position": null,
            "order": null,
            "overflow": null,
            "overflow_x": null,
            "overflow_y": null,
            "padding": null,
            "right": null,
            "top": null,
            "visibility": null,
            "width": null
          }
        },
        "fbf3a13c5b7f4d4dbd6839a9767e2730": {
          "model_module": "@jupyter-widgets/base",
          "model_name": "LayoutModel",
          "model_module_version": "1.2.0",
          "state": {
            "_model_module": "@jupyter-widgets/base",
            "_model_module_version": "1.2.0",
            "_model_name": "LayoutModel",
            "_view_count": null,
            "_view_module": "@jupyter-widgets/base",
            "_view_module_version": "1.2.0",
            "_view_name": "LayoutView",
            "align_content": null,
            "align_items": null,
            "align_self": null,
            "border": null,
            "bottom": null,
            "display": null,
            "flex": null,
            "flex_flow": null,
            "grid_area": null,
            "grid_auto_columns": null,
            "grid_auto_flow": null,
            "grid_auto_rows": null,
            "grid_column": null,
            "grid_gap": null,
            "grid_row": null,
            "grid_template_areas": null,
            "grid_template_columns": null,
            "grid_template_rows": null,
            "height": null,
            "justify_content": null,
            "justify_items": null,
            "left": null,
            "margin": null,
            "max_height": null,
            "max_width": null,
            "min_height": null,
            "min_width": null,
            "object_fit": null,
            "object_position": null,
            "order": null,
            "overflow": null,
            "overflow_x": null,
            "overflow_y": null,
            "padding": null,
            "right": null,
            "top": null,
            "visibility": null,
            "width": null
          }
        },
        "71ada72ac59645fd9b3a4b1f42002f97": {
          "model_module": "@jupyter-widgets/controls",
          "model_name": "DescriptionStyleModel",
          "model_module_version": "1.5.0",
          "state": {
            "_model_module": "@jupyter-widgets/controls",
            "_model_module_version": "1.5.0",
            "_model_name": "DescriptionStyleModel",
            "_view_count": null,
            "_view_module": "@jupyter-widgets/base",
            "_view_module_version": "1.2.0",
            "_view_name": "StyleView",
            "description_width": ""
          }
        },
        "3673fd15bd8841c094586dd5b7ea7728": {
          "model_module": "@jupyter-widgets/base",
          "model_name": "LayoutModel",
          "model_module_version": "1.2.0",
          "state": {
            "_model_module": "@jupyter-widgets/base",
            "_model_module_version": "1.2.0",
            "_model_name": "LayoutModel",
            "_view_count": null,
            "_view_module": "@jupyter-widgets/base",
            "_view_module_version": "1.2.0",
            "_view_name": "LayoutView",
            "align_content": null,
            "align_items": null,
            "align_self": null,
            "border": null,
            "bottom": null,
            "display": null,
            "flex": null,
            "flex_flow": null,
            "grid_area": null,
            "grid_auto_columns": null,
            "grid_auto_flow": null,
            "grid_auto_rows": null,
            "grid_column": null,
            "grid_gap": null,
            "grid_row": null,
            "grid_template_areas": null,
            "grid_template_columns": null,
            "grid_template_rows": null,
            "height": null,
            "justify_content": null,
            "justify_items": null,
            "left": null,
            "margin": null,
            "max_height": null,
            "max_width": null,
            "min_height": null,
            "min_width": null,
            "object_fit": null,
            "object_position": null,
            "order": null,
            "overflow": null,
            "overflow_x": null,
            "overflow_y": null,
            "padding": null,
            "right": null,
            "top": null,
            "visibility": null,
            "width": "20px"
          }
        },
        "45c418d1c4ed415c8af0979e88869f60": {
          "model_module": "@jupyter-widgets/controls",
          "model_name": "ProgressStyleModel",
          "model_module_version": "1.5.0",
          "state": {
            "_model_module": "@jupyter-widgets/controls",
            "_model_module_version": "1.5.0",
            "_model_name": "ProgressStyleModel",
            "_view_count": null,
            "_view_module": "@jupyter-widgets/base",
            "_view_module_version": "1.2.0",
            "_view_name": "StyleView",
            "bar_color": null,
            "description_width": ""
          }
        },
        "0a76a8e182eb4474adc0a5ff776cf2fb": {
          "model_module": "@jupyter-widgets/base",
          "model_name": "LayoutModel",
          "model_module_version": "1.2.0",
          "state": {
            "_model_module": "@jupyter-widgets/base",
            "_model_module_version": "1.2.0",
            "_model_name": "LayoutModel",
            "_view_count": null,
            "_view_module": "@jupyter-widgets/base",
            "_view_module_version": "1.2.0",
            "_view_name": "LayoutView",
            "align_content": null,
            "align_items": null,
            "align_self": null,
            "border": null,
            "bottom": null,
            "display": null,
            "flex": null,
            "flex_flow": null,
            "grid_area": null,
            "grid_auto_columns": null,
            "grid_auto_flow": null,
            "grid_auto_rows": null,
            "grid_column": null,
            "grid_gap": null,
            "grid_row": null,
            "grid_template_areas": null,
            "grid_template_columns": null,
            "grid_template_rows": null,
            "height": null,
            "justify_content": null,
            "justify_items": null,
            "left": null,
            "margin": null,
            "max_height": null,
            "max_width": null,
            "min_height": null,
            "min_width": null,
            "object_fit": null,
            "object_position": null,
            "order": null,
            "overflow": null,
            "overflow_x": null,
            "overflow_y": null,
            "padding": null,
            "right": null,
            "top": null,
            "visibility": null,
            "width": null
          }
        },
        "a915fd6e3aff467c8560e416bb490a9c": {
          "model_module": "@jupyter-widgets/controls",
          "model_name": "DescriptionStyleModel",
          "model_module_version": "1.5.0",
          "state": {
            "_model_module": "@jupyter-widgets/controls",
            "_model_module_version": "1.5.0",
            "_model_name": "DescriptionStyleModel",
            "_view_count": null,
            "_view_module": "@jupyter-widgets/base",
            "_view_module_version": "1.2.0",
            "_view_name": "StyleView",
            "description_width": ""
          }
        },
        "992ea38cd15c455db711219bf84f0f02": {
          "model_module": "@jupyter-widgets/controls",
          "model_name": "HBoxModel",
          "model_module_version": "1.5.0",
          "state": {
            "_dom_classes": [],
            "_model_module": "@jupyter-widgets/controls",
            "_model_module_version": "1.5.0",
            "_model_name": "HBoxModel",
            "_view_count": null,
            "_view_module": "@jupyter-widgets/controls",
            "_view_module_version": "1.5.0",
            "_view_name": "HBoxView",
            "box_style": "",
            "children": [
              "IPY_MODEL_7fee624ff5d04234afbe2e49a1972d75",
              "IPY_MODEL_cad8d3bbc4f6446ca4ce4bb08dfaa87a",
              "IPY_MODEL_3b6d24aee30d4f2590228ce5d50e9a69"
            ],
            "layout": "IPY_MODEL_67f9641ad90a4136850afe58ea068be3"
          }
        },
        "7fee624ff5d04234afbe2e49a1972d75": {
          "model_module": "@jupyter-widgets/controls",
          "model_name": "HTMLModel",
          "model_module_version": "1.5.0",
          "state": {
            "_dom_classes": [],
            "_model_module": "@jupyter-widgets/controls",
            "_model_module_version": "1.5.0",
            "_model_name": "HTMLModel",
            "_view_count": null,
            "_view_module": "@jupyter-widgets/controls",
            "_view_module_version": "1.5.0",
            "_view_name": "HTMLView",
            "description": "",
            "description_tooltip": null,
            "layout": "IPY_MODEL_d2dad7aa9a95460bbab1b0e6110e5b0a",
            "placeholder": "​",
            "style": "IPY_MODEL_eda26d81b2b04740a4d6bd96df0ce521",
            "value": "special_tokens_map.json: 100%"
          }
        },
        "cad8d3bbc4f6446ca4ce4bb08dfaa87a": {
          "model_module": "@jupyter-widgets/controls",
          "model_name": "FloatProgressModel",
          "model_module_version": "1.5.0",
          "state": {
            "_dom_classes": [],
            "_model_module": "@jupyter-widgets/controls",
            "_model_module_version": "1.5.0",
            "_model_name": "FloatProgressModel",
            "_view_count": null,
            "_view_module": "@jupyter-widgets/controls",
            "_view_module_version": "1.5.0",
            "_view_name": "ProgressView",
            "bar_style": "success",
            "description": "",
            "description_tooltip": null,
            "layout": "IPY_MODEL_6fe84d6265444d90b286f000f4cfa150",
            "max": 239,
            "min": 0,
            "orientation": "horizontal",
            "style": "IPY_MODEL_eb7dba8d508040c48361f8b591d0aebe",
            "value": 239
          }
        },
        "3b6d24aee30d4f2590228ce5d50e9a69": {
          "model_module": "@jupyter-widgets/controls",
          "model_name": "HTMLModel",
          "model_module_version": "1.5.0",
          "state": {
            "_dom_classes": [],
            "_model_module": "@jupyter-widgets/controls",
            "_model_module_version": "1.5.0",
            "_model_name": "HTMLModel",
            "_view_count": null,
            "_view_module": "@jupyter-widgets/controls",
            "_view_module_version": "1.5.0",
            "_view_name": "HTMLView",
            "description": "",
            "description_tooltip": null,
            "layout": "IPY_MODEL_50a8bab80ed041d1bb9281d2cdbdb659",
            "placeholder": "​",
            "style": "IPY_MODEL_d7be4ce03df94471bfaf6e5bf443e03e",
            "value": " 239/239 [00:00&lt;00:00, 13.0kB/s]"
          }
        },
        "67f9641ad90a4136850afe58ea068be3": {
          "model_module": "@jupyter-widgets/base",
          "model_name": "LayoutModel",
          "model_module_version": "1.2.0",
          "state": {
            "_model_module": "@jupyter-widgets/base",
            "_model_module_version": "1.2.0",
            "_model_name": "LayoutModel",
            "_view_count": null,
            "_view_module": "@jupyter-widgets/base",
            "_view_module_version": "1.2.0",
            "_view_name": "LayoutView",
            "align_content": null,
            "align_items": null,
            "align_self": null,
            "border": null,
            "bottom": null,
            "display": null,
            "flex": null,
            "flex_flow": null,
            "grid_area": null,
            "grid_auto_columns": null,
            "grid_auto_flow": null,
            "grid_auto_rows": null,
            "grid_column": null,
            "grid_gap": null,
            "grid_row": null,
            "grid_template_areas": null,
            "grid_template_columns": null,
            "grid_template_rows": null,
            "height": null,
            "justify_content": null,
            "justify_items": null,
            "left": null,
            "margin": null,
            "max_height": null,
            "max_width": null,
            "min_height": null,
            "min_width": null,
            "object_fit": null,
            "object_position": null,
            "order": null,
            "overflow": null,
            "overflow_x": null,
            "overflow_y": null,
            "padding": null,
            "right": null,
            "top": null,
            "visibility": null,
            "width": null
          }
        },
        "d2dad7aa9a95460bbab1b0e6110e5b0a": {
          "model_module": "@jupyter-widgets/base",
          "model_name": "LayoutModel",
          "model_module_version": "1.2.0",
          "state": {
            "_model_module": "@jupyter-widgets/base",
            "_model_module_version": "1.2.0",
            "_model_name": "LayoutModel",
            "_view_count": null,
            "_view_module": "@jupyter-widgets/base",
            "_view_module_version": "1.2.0",
            "_view_name": "LayoutView",
            "align_content": null,
            "align_items": null,
            "align_self": null,
            "border": null,
            "bottom": null,
            "display": null,
            "flex": null,
            "flex_flow": null,
            "grid_area": null,
            "grid_auto_columns": null,
            "grid_auto_flow": null,
            "grid_auto_rows": null,
            "grid_column": null,
            "grid_gap": null,
            "grid_row": null,
            "grid_template_areas": null,
            "grid_template_columns": null,
            "grid_template_rows": null,
            "height": null,
            "justify_content": null,
            "justify_items": null,
            "left": null,
            "margin": null,
            "max_height": null,
            "max_width": null,
            "min_height": null,
            "min_width": null,
            "object_fit": null,
            "object_position": null,
            "order": null,
            "overflow": null,
            "overflow_x": null,
            "overflow_y": null,
            "padding": null,
            "right": null,
            "top": null,
            "visibility": null,
            "width": null
          }
        },
        "eda26d81b2b04740a4d6bd96df0ce521": {
          "model_module": "@jupyter-widgets/controls",
          "model_name": "DescriptionStyleModel",
          "model_module_version": "1.5.0",
          "state": {
            "_model_module": "@jupyter-widgets/controls",
            "_model_module_version": "1.5.0",
            "_model_name": "DescriptionStyleModel",
            "_view_count": null,
            "_view_module": "@jupyter-widgets/base",
            "_view_module_version": "1.2.0",
            "_view_name": "StyleView",
            "description_width": ""
          }
        },
        "6fe84d6265444d90b286f000f4cfa150": {
          "model_module": "@jupyter-widgets/base",
          "model_name": "LayoutModel",
          "model_module_version": "1.2.0",
          "state": {
            "_model_module": "@jupyter-widgets/base",
            "_model_module_version": "1.2.0",
            "_model_name": "LayoutModel",
            "_view_count": null,
            "_view_module": "@jupyter-widgets/base",
            "_view_module_version": "1.2.0",
            "_view_name": "LayoutView",
            "align_content": null,
            "align_items": null,
            "align_self": null,
            "border": null,
            "bottom": null,
            "display": null,
            "flex": null,
            "flex_flow": null,
            "grid_area": null,
            "grid_auto_columns": null,
            "grid_auto_flow": null,
            "grid_auto_rows": null,
            "grid_column": null,
            "grid_gap": null,
            "grid_row": null,
            "grid_template_areas": null,
            "grid_template_columns": null,
            "grid_template_rows": null,
            "height": null,
            "justify_content": null,
            "justify_items": null,
            "left": null,
            "margin": null,
            "max_height": null,
            "max_width": null,
            "min_height": null,
            "min_width": null,
            "object_fit": null,
            "object_position": null,
            "order": null,
            "overflow": null,
            "overflow_x": null,
            "overflow_y": null,
            "padding": null,
            "right": null,
            "top": null,
            "visibility": null,
            "width": null
          }
        },
        "eb7dba8d508040c48361f8b591d0aebe": {
          "model_module": "@jupyter-widgets/controls",
          "model_name": "ProgressStyleModel",
          "model_module_version": "1.5.0",
          "state": {
            "_model_module": "@jupyter-widgets/controls",
            "_model_module_version": "1.5.0",
            "_model_name": "ProgressStyleModel",
            "_view_count": null,
            "_view_module": "@jupyter-widgets/base",
            "_view_module_version": "1.2.0",
            "_view_name": "StyleView",
            "bar_color": null,
            "description_width": ""
          }
        },
        "50a8bab80ed041d1bb9281d2cdbdb659": {
          "model_module": "@jupyter-widgets/base",
          "model_name": "LayoutModel",
          "model_module_version": "1.2.0",
          "state": {
            "_model_module": "@jupyter-widgets/base",
            "_model_module_version": "1.2.0",
            "_model_name": "LayoutModel",
            "_view_count": null,
            "_view_module": "@jupyter-widgets/base",
            "_view_module_version": "1.2.0",
            "_view_name": "LayoutView",
            "align_content": null,
            "align_items": null,
            "align_self": null,
            "border": null,
            "bottom": null,
            "display": null,
            "flex": null,
            "flex_flow": null,
            "grid_area": null,
            "grid_auto_columns": null,
            "grid_auto_flow": null,
            "grid_auto_rows": null,
            "grid_column": null,
            "grid_gap": null,
            "grid_row": null,
            "grid_template_areas": null,
            "grid_template_columns": null,
            "grid_template_rows": null,
            "height": null,
            "justify_content": null,
            "justify_items": null,
            "left": null,
            "margin": null,
            "max_height": null,
            "max_width": null,
            "min_height": null,
            "min_width": null,
            "object_fit": null,
            "object_position": null,
            "order": null,
            "overflow": null,
            "overflow_x": null,
            "overflow_y": null,
            "padding": null,
            "right": null,
            "top": null,
            "visibility": null,
            "width": null
          }
        },
        "d7be4ce03df94471bfaf6e5bf443e03e": {
          "model_module": "@jupyter-widgets/controls",
          "model_name": "DescriptionStyleModel",
          "model_module_version": "1.5.0",
          "state": {
            "_model_module": "@jupyter-widgets/controls",
            "_model_module_version": "1.5.0",
            "_model_name": "DescriptionStyleModel",
            "_view_count": null,
            "_view_module": "@jupyter-widgets/base",
            "_view_module_version": "1.2.0",
            "_view_name": "StyleView",
            "description_width": ""
          }
        },
        "1e96bb7110814f00bbf050d03ea97e66": {
          "model_module": "@jupyter-widgets/controls",
          "model_name": "HBoxModel",
          "model_module_version": "1.5.0",
          "state": {
            "_dom_classes": [],
            "_model_module": "@jupyter-widgets/controls",
            "_model_module_version": "1.5.0",
            "_model_name": "HBoxModel",
            "_view_count": null,
            "_view_module": "@jupyter-widgets/controls",
            "_view_module_version": "1.5.0",
            "_view_name": "HBoxView",
            "box_style": "",
            "children": [
              "IPY_MODEL_d4119098a39441318e6304df9287677f",
              "IPY_MODEL_c878625a2930467e81698b209c599ce1",
              "IPY_MODEL_a549c11177c4478f821255f85ecfcbd0"
            ],
            "layout": "IPY_MODEL_052c2728b56d4a82a0420fc3bc6c2544"
          }
        },
        "d4119098a39441318e6304df9287677f": {
          "model_module": "@jupyter-widgets/controls",
          "model_name": "HTMLModel",
          "model_module_version": "1.5.0",
          "state": {
            "_dom_classes": [],
            "_model_module": "@jupyter-widgets/controls",
            "_model_module_version": "1.5.0",
            "_model_name": "HTMLModel",
            "_view_count": null,
            "_view_module": "@jupyter-widgets/controls",
            "_view_module_version": "1.5.0",
            "_view_name": "HTMLView",
            "description": "",
            "description_tooltip": null,
            "layout": "IPY_MODEL_7b0e5fa153fd469c8f30bd36e44a2edf",
            "placeholder": "​",
            "style": "IPY_MODEL_f80992900bb5419a9580be4d3d387855",
            "value": "config.json: 100%"
          }
        },
        "c878625a2930467e81698b209c599ce1": {
          "model_module": "@jupyter-widgets/controls",
          "model_name": "FloatProgressModel",
          "model_module_version": "1.5.0",
          "state": {
            "_dom_classes": [],
            "_model_module": "@jupyter-widgets/controls",
            "_model_module_version": "1.5.0",
            "_model_name": "FloatProgressModel",
            "_view_count": null,
            "_view_module": "@jupyter-widgets/controls",
            "_view_module_version": "1.5.0",
            "_view_name": "ProgressView",
            "bar_style": "success",
            "description": "",
            "description_tooltip": null,
            "layout": "IPY_MODEL_5ab94c543ef94cda9585f213cb8d5223",
            "max": 190,
            "min": 0,
            "orientation": "horizontal",
            "style": "IPY_MODEL_1aa320c9596a4d47aac830230420cd26",
            "value": 190
          }
        },
        "a549c11177c4478f821255f85ecfcbd0": {
          "model_module": "@jupyter-widgets/controls",
          "model_name": "HTMLModel",
          "model_module_version": "1.5.0",
          "state": {
            "_dom_classes": [],
            "_model_module": "@jupyter-widgets/controls",
            "_model_module_version": "1.5.0",
            "_model_name": "HTMLModel",
            "_view_count": null,
            "_view_module": "@jupyter-widgets/controls",
            "_view_module_version": "1.5.0",
            "_view_name": "HTMLView",
            "description": "",
            "description_tooltip": null,
            "layout": "IPY_MODEL_4bb250998b47414d9cac14b1ca7ee485",
            "placeholder": "​",
            "style": "IPY_MODEL_2199766ecc014e6f9abd23bfa184e85e",
            "value": " 190/190 [00:00&lt;00:00, 15.1kB/s]"
          }
        },
        "052c2728b56d4a82a0420fc3bc6c2544": {
          "model_module": "@jupyter-widgets/base",
          "model_name": "LayoutModel",
          "model_module_version": "1.2.0",
          "state": {
            "_model_module": "@jupyter-widgets/base",
            "_model_module_version": "1.2.0",
            "_model_name": "LayoutModel",
            "_view_count": null,
            "_view_module": "@jupyter-widgets/base",
            "_view_module_version": "1.2.0",
            "_view_name": "LayoutView",
            "align_content": null,
            "align_items": null,
            "align_self": null,
            "border": null,
            "bottom": null,
            "display": null,
            "flex": null,
            "flex_flow": null,
            "grid_area": null,
            "grid_auto_columns": null,
            "grid_auto_flow": null,
            "grid_auto_rows": null,
            "grid_column": null,
            "grid_gap": null,
            "grid_row": null,
            "grid_template_areas": null,
            "grid_template_columns": null,
            "grid_template_rows": null,
            "height": null,
            "justify_content": null,
            "justify_items": null,
            "left": null,
            "margin": null,
            "max_height": null,
            "max_width": null,
            "min_height": null,
            "min_width": null,
            "object_fit": null,
            "object_position": null,
            "order": null,
            "overflow": null,
            "overflow_x": null,
            "overflow_y": null,
            "padding": null,
            "right": null,
            "top": null,
            "visibility": null,
            "width": null
          }
        },
        "7b0e5fa153fd469c8f30bd36e44a2edf": {
          "model_module": "@jupyter-widgets/base",
          "model_name": "LayoutModel",
          "model_module_version": "1.2.0",
          "state": {
            "_model_module": "@jupyter-widgets/base",
            "_model_module_version": "1.2.0",
            "_model_name": "LayoutModel",
            "_view_count": null,
            "_view_module": "@jupyter-widgets/base",
            "_view_module_version": "1.2.0",
            "_view_name": "LayoutView",
            "align_content": null,
            "align_items": null,
            "align_self": null,
            "border": null,
            "bottom": null,
            "display": null,
            "flex": null,
            "flex_flow": null,
            "grid_area": null,
            "grid_auto_columns": null,
            "grid_auto_flow": null,
            "grid_auto_rows": null,
            "grid_column": null,
            "grid_gap": null,
            "grid_row": null,
            "grid_template_areas": null,
            "grid_template_columns": null,
            "grid_template_rows": null,
            "height": null,
            "justify_content": null,
            "justify_items": null,
            "left": null,
            "margin": null,
            "max_height": null,
            "max_width": null,
            "min_height": null,
            "min_width": null,
            "object_fit": null,
            "object_position": null,
            "order": null,
            "overflow": null,
            "overflow_x": null,
            "overflow_y": null,
            "padding": null,
            "right": null,
            "top": null,
            "visibility": null,
            "width": null
          }
        },
        "f80992900bb5419a9580be4d3d387855": {
          "model_module": "@jupyter-widgets/controls",
          "model_name": "DescriptionStyleModel",
          "model_module_version": "1.5.0",
          "state": {
            "_model_module": "@jupyter-widgets/controls",
            "_model_module_version": "1.5.0",
            "_model_name": "DescriptionStyleModel",
            "_view_count": null,
            "_view_module": "@jupyter-widgets/base",
            "_view_module_version": "1.2.0",
            "_view_name": "StyleView",
            "description_width": ""
          }
        },
        "5ab94c543ef94cda9585f213cb8d5223": {
          "model_module": "@jupyter-widgets/base",
          "model_name": "LayoutModel",
          "model_module_version": "1.2.0",
          "state": {
            "_model_module": "@jupyter-widgets/base",
            "_model_module_version": "1.2.0",
            "_model_name": "LayoutModel",
            "_view_count": null,
            "_view_module": "@jupyter-widgets/base",
            "_view_module_version": "1.2.0",
            "_view_name": "LayoutView",
            "align_content": null,
            "align_items": null,
            "align_self": null,
            "border": null,
            "bottom": null,
            "display": null,
            "flex": null,
            "flex_flow": null,
            "grid_area": null,
            "grid_auto_columns": null,
            "grid_auto_flow": null,
            "grid_auto_rows": null,
            "grid_column": null,
            "grid_gap": null,
            "grid_row": null,
            "grid_template_areas": null,
            "grid_template_columns": null,
            "grid_template_rows": null,
            "height": null,
            "justify_content": null,
            "justify_items": null,
            "left": null,
            "margin": null,
            "max_height": null,
            "max_width": null,
            "min_height": null,
            "min_width": null,
            "object_fit": null,
            "object_position": null,
            "order": null,
            "overflow": null,
            "overflow_x": null,
            "overflow_y": null,
            "padding": null,
            "right": null,
            "top": null,
            "visibility": null,
            "width": null
          }
        },
        "1aa320c9596a4d47aac830230420cd26": {
          "model_module": "@jupyter-widgets/controls",
          "model_name": "ProgressStyleModel",
          "model_module_version": "1.5.0",
          "state": {
            "_model_module": "@jupyter-widgets/controls",
            "_model_module_version": "1.5.0",
            "_model_name": "ProgressStyleModel",
            "_view_count": null,
            "_view_module": "@jupyter-widgets/base",
            "_view_module_version": "1.2.0",
            "_view_name": "StyleView",
            "bar_color": null,
            "description_width": ""
          }
        },
        "4bb250998b47414d9cac14b1ca7ee485": {
          "model_module": "@jupyter-widgets/base",
          "model_name": "LayoutModel",
          "model_module_version": "1.2.0",
          "state": {
            "_model_module": "@jupyter-widgets/base",
            "_model_module_version": "1.2.0",
            "_model_name": "LayoutModel",
            "_view_count": null,
            "_view_module": "@jupyter-widgets/base",
            "_view_module_version": "1.2.0",
            "_view_name": "LayoutView",
            "align_content": null,
            "align_items": null,
            "align_self": null,
            "border": null,
            "bottom": null,
            "display": null,
            "flex": null,
            "flex_flow": null,
            "grid_area": null,
            "grid_auto_columns": null,
            "grid_auto_flow": null,
            "grid_auto_rows": null,
            "grid_column": null,
            "grid_gap": null,
            "grid_row": null,
            "grid_template_areas": null,
            "grid_template_columns": null,
            "grid_template_rows": null,
            "height": null,
            "justify_content": null,
            "justify_items": null,
            "left": null,
            "margin": null,
            "max_height": null,
            "max_width": null,
            "min_height": null,
            "min_width": null,
            "object_fit": null,
            "object_position": null,
            "order": null,
            "overflow": null,
            "overflow_x": null,
            "overflow_y": null,
            "padding": null,
            "right": null,
            "top": null,
            "visibility": null,
            "width": null
          }
        },
        "2199766ecc014e6f9abd23bfa184e85e": {
          "model_module": "@jupyter-widgets/controls",
          "model_name": "DescriptionStyleModel",
          "model_module_version": "1.5.0",
          "state": {
            "_model_module": "@jupyter-widgets/controls",
            "_model_module_version": "1.5.0",
            "_model_name": "DescriptionStyleModel",
            "_view_count": null,
            "_view_module": "@jupyter-widgets/base",
            "_view_module_version": "1.2.0",
            "_view_name": "StyleView",
            "description_width": ""
          }
        }
      }
    }
  },
  "nbformat": 4,
  "nbformat_minor": 0
}