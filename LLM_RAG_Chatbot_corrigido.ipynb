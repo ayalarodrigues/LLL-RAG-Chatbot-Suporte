{
  "cells": [
    {
      "cell_type": "markdown",
      "metadata": {
        "id": "view-in-github",
        "colab_type": "text"
      },
      "source": [
        "<a href=\"https://colab.research.google.com/github/ayalarodrigues/LLL-RAG-Chatbot-Suporte/blob/main/LLM_RAG_Chatbot_corrigido.ipynb\" target=\"_parent\"><img src=\"https://colab.research.google.com/assets/colab-badge.svg\" alt=\"Open In Colab\"/></a>"
      ]
    },
    {
      "cell_type": "markdown",
      "metadata": {
        "id": "R6ZXVjL0Kn4B"
      },
      "source": [
        "Instalação das bibliotecas\n"
      ]
    },
    {
      "cell_type": "code",
      "execution_count": 1,
      "metadata": {
        "colab": {
          "base_uri": "https://localhost:8080/"
        },
        "collapsed": true,
        "id": "zUSOXloDFe48",
        "outputId": "d475528a-8e98-42c4-ca61-cdebe84cb3df"
      },
      "outputs": [
        {
          "output_type": "stream",
          "name": "stdout",
          "text": [
            "\u001b[2K   \u001b[90m━━━━━━━━━━━━━━━━━━━━━━━━━━━━━━━━━━━━━━━━\u001b[0m \u001b[32m2.5/2.5 MB\u001b[0m \u001b[31m19.0 MB/s\u001b[0m eta \u001b[36m0:00:00\u001b[0m\n",
            "\u001b[2K   \u001b[90m━━━━━━━━━━━━━━━━━━━━━━━━━━━━━━━━━━━━━━━━\u001b[0m \u001b[32m131.4/131.4 kB\u001b[0m \u001b[31m7.4 MB/s\u001b[0m eta \u001b[36m0:00:00\u001b[0m\n",
            "\u001b[2K   \u001b[90m━━━━━━━━━━━━━━━━━━━━━━━━━━━━━━━━━━━━━━━━\u001b[0m \u001b[32m45.2/45.2 kB\u001b[0m \u001b[31m1.7 MB/s\u001b[0m eta \u001b[36m0:00:00\u001b[0m\n",
            "\u001b[2K   \u001b[90m━━━━━━━━━━━━━━━━━━━━━━━━━━━━━━━━━━━━━━━━\u001b[0m \u001b[32m50.9/50.9 kB\u001b[0m \u001b[31m3.0 MB/s\u001b[0m eta \u001b[36m0:00:00\u001b[0m\n",
            "\u001b[2K   \u001b[90m━━━━━━━━━━━━━━━━━━━━━━━━━━━━━━━━━━━━━━━━\u001b[0m \u001b[32m31.3/31.3 MB\u001b[0m \u001b[31m42.0 MB/s\u001b[0m eta \u001b[36m0:00:00\u001b[0m\n",
            "\u001b[2K   \u001b[90m━━━━━━━━━━━━━━━━━━━━━━━━━━━━━━━━━━━━━━━━\u001b[0m \u001b[32m24.1/24.1 MB\u001b[0m \u001b[31m52.3 MB/s\u001b[0m eta \u001b[36m0:00:00\u001b[0m\n",
            "\u001b[2K   \u001b[90m━━━━━━━━━━━━━━━━━━━━━━━━━━━━━━━━━━━━━━━━\u001b[0m \u001b[32m363.4/363.4 MB\u001b[0m \u001b[31m4.2 MB/s\u001b[0m eta \u001b[36m0:00:00\u001b[0m\n",
            "\u001b[2K   \u001b[90m━━━━━━━━━━━━━━━━━━━━━━━━━━━━━━━━━━━━━━━━\u001b[0m \u001b[32m13.8/13.8 MB\u001b[0m \u001b[31m59.7 MB/s\u001b[0m eta \u001b[36m0:00:00\u001b[0m\n",
            "\u001b[2K   \u001b[90m━━━━━━━━━━━━━━━━━━━━━━━━━━━━━━━━━━━━━━━━\u001b[0m \u001b[32m24.6/24.6 MB\u001b[0m \u001b[31m35.0 MB/s\u001b[0m eta \u001b[36m0:00:00\u001b[0m\n",
            "\u001b[2K   \u001b[90m━━━━━━━━━━━━━━━━━━━━━━━━━━━━━━━━━━━━━━━━\u001b[0m \u001b[32m883.7/883.7 kB\u001b[0m \u001b[31m47.4 MB/s\u001b[0m eta \u001b[36m0:00:00\u001b[0m\n",
            "\u001b[2K   \u001b[90m━━━━━━━━━━━━━━━━━━━━━━━━━━━━━━━━━━━━━━━━\u001b[0m \u001b[32m664.8/664.8 MB\u001b[0m \u001b[31m2.9 MB/s\u001b[0m eta \u001b[36m0:00:00\u001b[0m\n",
            "\u001b[2K   \u001b[90m━━━━━━━━━━━━━━━━━━━━━━━━━━━━━━━━━━━━━━━━\u001b[0m \u001b[32m211.5/211.5 MB\u001b[0m \u001b[31m5.4 MB/s\u001b[0m eta \u001b[36m0:00:00\u001b[0m\n",
            "\u001b[2K   \u001b[90m━━━━━━━━━━━━━━━━━━━━━━━━━━━━━━━━━━━━━━━━\u001b[0m \u001b[32m56.3/56.3 MB\u001b[0m \u001b[31m12.2 MB/s\u001b[0m eta \u001b[36m0:00:00\u001b[0m\n",
            "\u001b[2K   \u001b[90m━━━━━━━━━━━━━━━━━━━━━━━━━━━━━━━━━━━━━━━━\u001b[0m \u001b[32m127.9/127.9 MB\u001b[0m \u001b[31m7.3 MB/s\u001b[0m eta \u001b[36m0:00:00\u001b[0m\n",
            "\u001b[2K   \u001b[90m━━━━━━━━━━━━━━━━━━━━━━━━━━━━━━━━━━━━━━━━\u001b[0m \u001b[32m207.5/207.5 MB\u001b[0m \u001b[31m6.2 MB/s\u001b[0m eta \u001b[36m0:00:00\u001b[0m\n",
            "\u001b[2K   \u001b[90m━━━━━━━━━━━━━━━━━━━━━━━━━━━━━━━━━━━━━━━━\u001b[0m \u001b[32m21.1/21.1 MB\u001b[0m \u001b[31m80.3 MB/s\u001b[0m eta \u001b[36m0:00:00\u001b[0m\n",
            "\u001b[?25hRequirement already satisfied: sentence-transformers in /usr/local/lib/python3.11/dist-packages (4.1.0)\n",
            "Collecting sentence-transformers\n",
            "  Downloading sentence_transformers-5.0.0-py3-none-any.whl.metadata (16 kB)\n",
            "Requirement already satisfied: transformers<5.0.0,>=4.41.0 in /usr/local/lib/python3.11/dist-packages (from sentence-transformers) (4.54.0)\n",
            "Requirement already satisfied: tqdm in /usr/local/lib/python3.11/dist-packages (from sentence-transformers) (4.67.1)\n",
            "Requirement already satisfied: torch>=1.11.0 in /usr/local/lib/python3.11/dist-packages (from sentence-transformers) (2.6.0+cu124)\n",
            "Requirement already satisfied: scikit-learn in /usr/local/lib/python3.11/dist-packages (from sentence-transformers) (1.6.1)\n",
            "Requirement already satisfied: scipy in /usr/local/lib/python3.11/dist-packages (from sentence-transformers) (1.16.0)\n",
            "Requirement already satisfied: huggingface-hub>=0.20.0 in /usr/local/lib/python3.11/dist-packages (from sentence-transformers) (0.34.1)\n",
            "Requirement already satisfied: Pillow in /usr/local/lib/python3.11/dist-packages (from sentence-transformers) (11.3.0)\n",
            "Requirement already satisfied: typing_extensions>=4.5.0 in /usr/local/lib/python3.11/dist-packages (from sentence-transformers) (4.14.1)\n",
            "Requirement already satisfied: filelock in /usr/local/lib/python3.11/dist-packages (from huggingface-hub>=0.20.0->sentence-transformers) (3.18.0)\n",
            "Requirement already satisfied: fsspec>=2023.5.0 in /usr/local/lib/python3.11/dist-packages (from huggingface-hub>=0.20.0->sentence-transformers) (2025.3.0)\n",
            "Requirement already satisfied: packaging>=20.9 in /usr/local/lib/python3.11/dist-packages (from huggingface-hub>=0.20.0->sentence-transformers) (25.0)\n",
            "Requirement already satisfied: pyyaml>=5.1 in /usr/local/lib/python3.11/dist-packages (from huggingface-hub>=0.20.0->sentence-transformers) (6.0.2)\n",
            "Requirement already satisfied: requests in /usr/local/lib/python3.11/dist-packages (from huggingface-hub>=0.20.0->sentence-transformers) (2.32.3)\n",
            "Requirement already satisfied: hf-xet<2.0.0,>=1.1.3 in /usr/local/lib/python3.11/dist-packages (from huggingface-hub>=0.20.0->sentence-transformers) (1.1.5)\n",
            "Requirement already satisfied: networkx in /usr/local/lib/python3.11/dist-packages (from torch>=1.11.0->sentence-transformers) (3.5)\n",
            "Requirement already satisfied: jinja2 in /usr/local/lib/python3.11/dist-packages (from torch>=1.11.0->sentence-transformers) (3.1.6)\n",
            "Requirement already satisfied: nvidia-cuda-nvrtc-cu12==12.4.127 in /usr/local/lib/python3.11/dist-packages (from torch>=1.11.0->sentence-transformers) (12.4.127)\n",
            "Requirement already satisfied: nvidia-cuda-runtime-cu12==12.4.127 in /usr/local/lib/python3.11/dist-packages (from torch>=1.11.0->sentence-transformers) (12.4.127)\n",
            "Requirement already satisfied: nvidia-cuda-cupti-cu12==12.4.127 in /usr/local/lib/python3.11/dist-packages (from torch>=1.11.0->sentence-transformers) (12.4.127)\n",
            "Requirement already satisfied: nvidia-cudnn-cu12==9.1.0.70 in /usr/local/lib/python3.11/dist-packages (from torch>=1.11.0->sentence-transformers) (9.1.0.70)\n",
            "Requirement already satisfied: nvidia-cublas-cu12==12.4.5.8 in /usr/local/lib/python3.11/dist-packages (from torch>=1.11.0->sentence-transformers) (12.4.5.8)\n",
            "Requirement already satisfied: nvidia-cufft-cu12==11.2.1.3 in /usr/local/lib/python3.11/dist-packages (from torch>=1.11.0->sentence-transformers) (11.2.1.3)\n",
            "Requirement already satisfied: nvidia-curand-cu12==10.3.5.147 in /usr/local/lib/python3.11/dist-packages (from torch>=1.11.0->sentence-transformers) (10.3.5.147)\n",
            "Requirement already satisfied: nvidia-cusolver-cu12==11.6.1.9 in /usr/local/lib/python3.11/dist-packages (from torch>=1.11.0->sentence-transformers) (11.6.1.9)\n",
            "Requirement already satisfied: nvidia-cusparse-cu12==12.3.1.170 in /usr/local/lib/python3.11/dist-packages (from torch>=1.11.0->sentence-transformers) (12.3.1.170)\n",
            "Requirement already satisfied: nvidia-cusparselt-cu12==0.6.2 in /usr/local/lib/python3.11/dist-packages (from torch>=1.11.0->sentence-transformers) (0.6.2)\n",
            "Requirement already satisfied: nvidia-nccl-cu12==2.21.5 in /usr/local/lib/python3.11/dist-packages (from torch>=1.11.0->sentence-transformers) (2.21.5)\n",
            "Requirement already satisfied: nvidia-nvtx-cu12==12.4.127 in /usr/local/lib/python3.11/dist-packages (from torch>=1.11.0->sentence-transformers) (12.4.127)\n",
            "Requirement already satisfied: nvidia-nvjitlink-cu12==12.4.127 in /usr/local/lib/python3.11/dist-packages (from torch>=1.11.0->sentence-transformers) (12.4.127)\n",
            "Requirement already satisfied: triton==3.2.0 in /usr/local/lib/python3.11/dist-packages (from torch>=1.11.0->sentence-transformers) (3.2.0)\n",
            "Requirement already satisfied: sympy==1.13.1 in /usr/local/lib/python3.11/dist-packages (from torch>=1.11.0->sentence-transformers) (1.13.1)\n",
            "Requirement already satisfied: mpmath<1.4,>=1.1.0 in /usr/local/lib/python3.11/dist-packages (from sympy==1.13.1->torch>=1.11.0->sentence-transformers) (1.3.0)\n",
            "Requirement already satisfied: numpy>=1.17 in /usr/local/lib/python3.11/dist-packages (from transformers<5.0.0,>=4.41.0->sentence-transformers) (2.0.2)\n",
            "Requirement already satisfied: regex!=2019.12.17 in /usr/local/lib/python3.11/dist-packages (from transformers<5.0.0,>=4.41.0->sentence-transformers) (2024.11.6)\n",
            "Requirement already satisfied: tokenizers<0.22,>=0.21 in /usr/local/lib/python3.11/dist-packages (from transformers<5.0.0,>=4.41.0->sentence-transformers) (0.21.2)\n",
            "Requirement already satisfied: safetensors>=0.4.3 in /usr/local/lib/python3.11/dist-packages (from transformers<5.0.0,>=4.41.0->sentence-transformers) (0.5.3)\n",
            "Requirement already satisfied: joblib>=1.2.0 in /usr/local/lib/python3.11/dist-packages (from scikit-learn->sentence-transformers) (1.5.1)\n",
            "Requirement already satisfied: threadpoolctl>=3.1.0 in /usr/local/lib/python3.11/dist-packages (from scikit-learn->sentence-transformers) (3.6.0)\n",
            "Requirement already satisfied: MarkupSafe>=2.0 in /usr/local/lib/python3.11/dist-packages (from jinja2->torch>=1.11.0->sentence-transformers) (3.0.2)\n",
            "Requirement already satisfied: charset-normalizer<4,>=2 in /usr/local/lib/python3.11/dist-packages (from requests->huggingface-hub>=0.20.0->sentence-transformers) (3.4.2)\n",
            "Requirement already satisfied: idna<4,>=2.5 in /usr/local/lib/python3.11/dist-packages (from requests->huggingface-hub>=0.20.0->sentence-transformers) (3.10)\n",
            "Requirement already satisfied: urllib3<3,>=1.21.1 in /usr/local/lib/python3.11/dist-packages (from requests->huggingface-hub>=0.20.0->sentence-transformers) (2.5.0)\n",
            "Requirement already satisfied: certifi>=2017.4.17 in /usr/local/lib/python3.11/dist-packages (from requests->huggingface-hub>=0.20.0->sentence-transformers) (2025.7.14)\n",
            "Downloading sentence_transformers-5.0.0-py3-none-any.whl (470 kB)\n",
            "\u001b[2K   \u001b[90m━━━━━━━━━━━━━━━━━━━━━━━━━━━━━━━━━━━━━━━━\u001b[0m \u001b[32m470.2/470.2 kB\u001b[0m \u001b[31m8.9 MB/s\u001b[0m eta \u001b[36m0:00:00\u001b[0m\n",
            "\u001b[?25hInstalling collected packages: sentence-transformers\n",
            "  Attempting uninstall: sentence-transformers\n",
            "    Found existing installation: sentence-transformers 4.1.0\n",
            "    Uninstalling sentence-transformers-4.1.0:\n",
            "      Successfully uninstalled sentence-transformers-4.1.0\n",
            "Successfully installed sentence-transformers-5.0.0\n",
            "Requirement already satisfied: transformers in /usr/local/lib/python3.11/dist-packages (4.54.0)\n",
            "Collecting transformers\n",
            "  Downloading transformers-4.55.0-py3-none-any.whl.metadata (39 kB)\n",
            "Requirement already satisfied: filelock in /usr/local/lib/python3.11/dist-packages (from transformers) (3.18.0)\n",
            "Requirement already satisfied: huggingface-hub<1.0,>=0.34.0 in /usr/local/lib/python3.11/dist-packages (from transformers) (0.34.1)\n",
            "Requirement already satisfied: numpy>=1.17 in /usr/local/lib/python3.11/dist-packages (from transformers) (2.0.2)\n",
            "Requirement already satisfied: packaging>=20.0 in /usr/local/lib/python3.11/dist-packages (from transformers) (25.0)\n",
            "Requirement already satisfied: pyyaml>=5.1 in /usr/local/lib/python3.11/dist-packages (from transformers) (6.0.2)\n",
            "Requirement already satisfied: regex!=2019.12.17 in /usr/local/lib/python3.11/dist-packages (from transformers) (2024.11.6)\n",
            "Requirement already satisfied: requests in /usr/local/lib/python3.11/dist-packages (from transformers) (2.32.3)\n",
            "Requirement already satisfied: tokenizers<0.22,>=0.21 in /usr/local/lib/python3.11/dist-packages (from transformers) (0.21.2)\n",
            "Requirement already satisfied: safetensors>=0.4.3 in /usr/local/lib/python3.11/dist-packages (from transformers) (0.5.3)\n",
            "Requirement already satisfied: tqdm>=4.27 in /usr/local/lib/python3.11/dist-packages (from transformers) (4.67.1)\n",
            "Requirement already satisfied: fsspec>=2023.5.0 in /usr/local/lib/python3.11/dist-packages (from huggingface-hub<1.0,>=0.34.0->transformers) (2025.3.0)\n",
            "Requirement already satisfied: typing-extensions>=3.7.4.3 in /usr/local/lib/python3.11/dist-packages (from huggingface-hub<1.0,>=0.34.0->transformers) (4.14.1)\n",
            "Requirement already satisfied: hf-xet<2.0.0,>=1.1.3 in /usr/local/lib/python3.11/dist-packages (from huggingface-hub<1.0,>=0.34.0->transformers) (1.1.5)\n",
            "Requirement already satisfied: charset-normalizer<4,>=2 in /usr/local/lib/python3.11/dist-packages (from requests->transformers) (3.4.2)\n",
            "Requirement already satisfied: idna<4,>=2.5 in /usr/local/lib/python3.11/dist-packages (from requests->transformers) (3.10)\n",
            "Requirement already satisfied: urllib3<3,>=1.21.1 in /usr/local/lib/python3.11/dist-packages (from requests->transformers) (2.5.0)\n",
            "Requirement already satisfied: certifi>=2017.4.17 in /usr/local/lib/python3.11/dist-packages (from requests->transformers) (2025.7.14)\n",
            "Downloading transformers-4.55.0-py3-none-any.whl (11.3 MB)\n",
            "\u001b[2K   \u001b[90m━━━━━━━━━━━━━━━━━━━━━━━━━━━━━━━━━━━━━━━━\u001b[0m \u001b[32m11.3/11.3 MB\u001b[0m \u001b[31m95.3 MB/s\u001b[0m eta \u001b[36m0:00:00\u001b[0m\n",
            "\u001b[?25hInstalling collected packages: transformers\n",
            "  Attempting uninstall: transformers\n",
            "    Found existing installation: transformers 4.54.0\n",
            "    Uninstalling transformers-4.54.0:\n",
            "      Successfully uninstalled transformers-4.54.0\n",
            "Successfully installed transformers-4.55.0\n"
          ]
        }
      ],
      "source": [
        "!pip install langchain langchain-groq langchain_community langchain-huggingface --q\n",
        "!pip install faiss-cpu sentence-transformers PyMuPDF --q\n",
        "\n",
        "!pip install -U sentence-transformers\n",
        "!pip install -U transformers\n",
        "\n",
        "\n",
        "#langchain-grop: acesso aos modelos via API\n",
        "#faiss-cpu: onde serão armazenados os documentos(pode ser cpu ou gpu)\n",
        "#sentence-transformers: conversão dos textos para números\n",
        "#PyMuPDF: leitura e processamento de texto\n"
      ]
    },
    {
      "cell_type": "markdown",
      "metadata": {
        "id": "lqwEptqyNkkJ"
      },
      "source": [
        "Importações"
      ]
    },
    {
      "cell_type": "code",
      "execution_count": 2,
      "metadata": {
        "id": "cUNAprbRNw5T"
      },
      "outputs": [],
      "source": [
        "from langchain_groq import ChatGroq\n",
        "from langchain_core.output_parsers import StrOutputParser\n",
        "from langchain_core.prompts import ChatPromptTemplate\n",
        "import os\n",
        "import getpass"
      ]
    },
    {
      "cell_type": "markdown",
      "metadata": {
        "id": "Ml6oQP9ZOvh5"
      },
      "source": [
        "Carregamento da LLM"
      ]
    },
    {
      "cell_type": "code",
      "execution_count": 3,
      "metadata": {
        "colab": {
          "base_uri": "https://localhost:8080/"
        },
        "id": "NChUhnW1Ozwt",
        "outputId": "b2294896-7230-4b48-c32e-0f987e82bc2f"
      },
      "outputs": [
        {
          "name": "stdout",
          "output_type": "stream",
          "text": [
            "··········\n"
          ]
        }
      ],
      "source": [
        "os.environ[\"GROQ_API_KEY\"] = getpass.getpass()\n",
        "#getpass não exibe a chave da API no CF\n"
      ]
    },
    {
      "cell_type": "code",
      "execution_count": 4,
      "metadata": {
        "id": "sftfkWUbUUds"
      },
      "outputs": [],
      "source": [
        "def load_llm(id_model, temperature):\n",
        "  llm = ChatGroq(\n",
        "      model = id_model,\n",
        "      temperature = temperature,\n",
        "      max_tokens = None,\n",
        "      timeout = None,\n",
        "      max_retries = 2\n",
        "  )\n",
        "  return llm"
      ]
    },
    {
      "cell_type": "code",
      "execution_count": 5,
      "metadata": {
        "id": "du_H7HLXXQZC"
      },
      "outputs": [],
      "source": [
        "#teste\n",
        "id_model = \"llama3-70b-8192\" # @param {type: \"string\"}\n",
        "temperature = 0.7 # @param {type: \"slider\", min: 0.1, max: 1.5, step: 0.1}\n",
        "\n",
        "llm = load_llm(id_model, temperature)"
      ]
    },
    {
      "cell_type": "code",
      "execution_count": 6,
      "metadata": {
        "colab": {
          "base_uri": "https://localhost:8080/",
          "height": 123
        },
        "collapsed": true,
        "id": "tYixFDgBXppf",
        "outputId": "9270b24d-329e-4589-bdfc-1c188f5497cb"
      },
      "outputs": [
        {
          "output_type": "execute_result",
          "data": {
            "text/plain": [
              "'Alterar a senha é uma boa prática de segurança!\\n\\nO processo de alterar a senha pode variar dependendo do sistema, aplicativo ou plataforma que você está usando. Aqui estão algumas etapas gerais que podem ajudar:\\n\\n**Computador ou Site**\\n\\n1. Entre no seu perfil ou conta com sua senha atual.\\n2. Clique em \"Conta\" ou \"Perfil\" e, em seguida, selecione \"Senha\" ou \"Alterar senha\".\\n3. Digite sua senha atual para verificar sua identidade.\\n4. Digite sua nova senha e confirme-a digitando-a novamente.\\n5. Clique em \"Salvar\" ou \"Alterar senha\" para confirmar as alterações.\\n\\n**Dispositivo Móvel (Celular ou Tablet)**\\n\\n1. Abra o aplicativo ou acesso à conta que deseja alterar a senha.\\n2. Toque em \"Conta\" ou \"Perfil\" e, em seguida, selecione \"Senha\" ou \"Alterar senha\".\\n3. Digite sua senha atual para verificar sua identidade.\\n4. Digite sua nova senha e confirme-a digitando-a novamente.\\n5. Toque em \"Salvar\" ou \"Alterar senha\" para confirmar as alterações.\\n\\n**Observações**\\n\\n* Certifique-se de que sua nova senha seja forte e única, diferente de senhas que você já usou anteriormente.\\n* Use uma combinação de letras, números e caracteres especiais para criar uma senha segura.\\n* Se você tiver esquecido sua senha atual, você pode precisar redefini-la ou entrar em contato com o suporte técnico da plataforma ou aplicativo.\\n\\nLembre-se de que é importante alterar suas senhas regularmente para manter sua segurança online.'"
            ],
            "application/vnd.google.colaboratory.intrinsic+json": {
              "type": "string"
            }
          },
          "metadata": {},
          "execution_count": 6
        }
      ],
      "source": [
        "#teste\n",
        "prompt = \"Como alterar minha senha?\" # @param {type: \"string\"}\n",
        "\n",
        "template = ChatPromptTemplate.from_messages([\n",
        "    (\"system\", \"Você é um assistente virtual prestativo e está respondendo perguntas gerais\"),\n",
        "    (\"human\", \"{prompt}\")\n",
        "])\n",
        "\n",
        "chain = template | llm | StrOutputParser()\n",
        "\n",
        "res = chain.invoke({\"prompt\": prompt})\n",
        "res"
      ]
    },
    {
      "cell_type": "code",
      "execution_count": 7,
      "metadata": {
        "colab": {
          "base_uri": "https://localhost:8080/",
          "height": 456
        },
        "collapsed": true,
        "id": "wvr4m2KvYko8",
        "outputId": "731037ad-5603-471d-d7bf-c5635ab47da2"
      },
      "outputs": [
        {
          "output_type": "display_data",
          "data": {
            "text/plain": [
              "<IPython.core.display.Markdown object>"
            ],
            "text/markdown": "Alterar a senha é uma boa prática de segurança!\n\nO processo de alterar a senha pode variar dependendo do sistema, aplicativo ou plataforma que você está usando. Aqui estão algumas etapas gerais que podem ajudar:\n\n**Computador ou Site**\n\n1. Entre no seu perfil ou conta com sua senha atual.\n2. Clique em \"Conta\" ou \"Perfil\" e, em seguida, selecione \"Senha\" ou \"Alterar senha\".\n3. Digite sua senha atual para verificar sua identidade.\n4. Digite sua nova senha e confirme-a digitando-a novamente.\n5. Clique em \"Salvar\" ou \"Alterar senha\" para confirmar as alterações.\n\n**Dispositivo Móvel (Celular ou Tablet)**\n\n1. Abra o aplicativo ou acesso à conta que deseja alterar a senha.\n2. Toque em \"Conta\" ou \"Perfil\" e, em seguida, selecione \"Senha\" ou \"Alterar senha\".\n3. Digite sua senha atual para verificar sua identidade.\n4. Digite sua nova senha e confirme-a digitando-a novamente.\n5. Toque em \"Salvar\" ou \"Alterar senha\" para confirmar as alterações.\n\n**Observações**\n\n* Certifique-se de que sua nova senha seja forte e única, diferente de senhas que você já usou anteriormente.\n* Use uma combinação de letras, números e caracteres especiais para criar uma senha segura.\n* Se você tiver esquecido sua senha atual, você pode precisar redefini-la ou entrar em contato com o suporte técnico da plataforma ou aplicativo.\n\nLembre-se de que é importante alterar suas senhas regularmente para manter sua segurança online."
          },
          "metadata": {}
        }
      ],
      "source": [
        "def show_res(res):\n",
        "  from IPython.display import display, Markdown\n",
        "  if \"</think>\" in res:\n",
        "    res = res.split(\"</think>\")[-1].strip()  #o modelo pode retornar o passo a passo necessário para resolução do problema\n",
        "  else:\n",
        "    res = res.strip()\n",
        "  display(Markdown(res))\n",
        "\n",
        "\n",
        "show_res(res)\n",
        "\n",
        " #a tag </think> serve para delimitar pensamentos intermediários, o que permite visualizar o \"raciocínio\" utilizado na resposta\n",
        " #optei por remover a tag por não ser de interesse da persona"
      ]
    },
    {
      "cell_type": "markdown",
      "metadata": {
        "id": "CP-ZIZimxJ8M"
      },
      "source": [
        "Definição do contexto"
      ]
    },
    {
      "cell_type": "markdown",
      "metadata": {
        "id": "c3QjYjskxaTM"
      },
      "source": [
        "Há basicamente duas possibilidades para o exemplo de teste: o algoritmo não consegue retornar com exatidão o caminho exato para recuperar a senha ou a informação foi \"inventada\"(processo de alucinação).\n",
        "\n",
        "O modelo quer apenas prever a próxima combinação de palavras que faça sentido. Nem sempre poderá ser entendido que o modelo não sabe essa informação com exatidão. O modelo pode apenas sugerir um caminho comum, como o retornado no exemplo, porém, o algoritmo não possui meios de conhecer o caminho exato sem consultar uma fonte que comprove.\n",
        "\n",
        "Nesse aspecto, é importante que seja fornecido um contexto que tenha as informações exatas para a LLM e assim a dúvida do usuário pode ser respondida.\n",
        "\n",
        "Para a obtenção do contexto, nesse estudo de caso, será feito o carregamento do documento que posteriormente será processado pelo pipeline de RAG.\n",
        "\n"
      ]
    },
    {
      "cell_type": "code",
      "execution_count": 8,
      "metadata": {
        "id": "MAzo4VUzzN18"
      },
      "outputs": [],
      "source": [
        "#teste\n",
        "\n",
        "context = \"\"\"\n",
        "Para alterar uma senha no aplicativo, clique no menu 'Minha conta' e selecione 'Alterar senha'.\n",
        "Para alterar a senha pelo site, acesse 'Configurações' no menu do topo. Em seguida, selecione 'Minha conta' e 'Alterar senha'.\n",
        "\"\"\"\n",
        "\n",
        "prompt = f\"\"\"\n",
        "Como alterar minha senha?\n",
        "\n",
        "Contexto: {context}\n",
        "\"\"\""
      ]
    },
    {
      "cell_type": "code",
      "execution_count": 9,
      "metadata": {
        "colab": {
          "base_uri": "https://localhost:8080/",
          "height": 53
        },
        "id": "VJNlL1Xjz-Cn",
        "outputId": "62824ab3-d0b4-4ee2-8dd4-9d0eefa18c71"
      },
      "outputs": [
        {
          "output_type": "execute_result",
          "data": {
            "text/plain": [
              "\"\\nComo alterar minha senha?\\n\\nContexto: \\nPara alterar uma senha no aplicativo, clique no menu 'Minha conta' e selecione 'Alterar senha'.\\nPara alterar a senha pelo site, acesse 'Configurações' no menu do topo. Em seguida, selecione 'Minha conta' e 'Alterar senha'.\\n\\n\""
            ],
            "application/vnd.google.colaboratory.intrinsic+json": {
              "type": "string"
            }
          },
          "metadata": {},
          "execution_count": 9
        }
      ],
      "source": [
        "#teste\n",
        "\n",
        "prompt"
      ]
    },
    {
      "cell_type": "code",
      "execution_count": 10,
      "metadata": {
        "colab": {
          "base_uri": "https://localhost:8080/",
          "height": 247
        },
        "collapsed": true,
        "id": "FXJSKPFD0JRl",
        "outputId": "3aae6a47-3452-4853-be45-ee6940bdad83"
      },
      "outputs": [
        {
          "output_type": "display_data",
          "data": {
            "text/plain": [
              "<IPython.core.display.Markdown object>"
            ],
            "text/markdown": "Para alterar sua senha, você tem duas opções:\n\n**No aplicativo:**\n\n1. Clique no menu \"Minha conta\"\n2. Selecione \"Alterar senha\"\n\n**No site:**\n\n1. Acesse \"Configurações\" no menu do topo\n2. Selecione \"Minha conta\"\n3. Clique em \"Alterar senha\"\n\nSiga esses passos e você poderá alterar sua senha com facilidade!"
          },
          "metadata": {}
        }
      ],
      "source": [
        "#teste\n",
        "\n",
        "res = chain.invoke({\"prompt\": prompt})\n",
        "show_res(res)\n"
      ]
    },
    {
      "cell_type": "markdown",
      "metadata": {
        "id": "0qGSR9qx2xD0"
      },
      "source": [
        "Prompt para o RAG"
      ]
    },
    {
      "cell_type": "code",
      "execution_count": 11,
      "metadata": {
        "id": "XpaVEG0b2v6H"
      },
      "outputs": [],
      "source": [
        "template_rag = \"\"\"\n",
        "Pergunta: {input}\n",
        "Contexto: {context}\n",
        "\"\"\""
      ]
    },
    {
      "cell_type": "code",
      "execution_count": 12,
      "metadata": {
        "colab": {
          "base_uri": "https://localhost:8080/"
        },
        "id": "jsm0oJMe3No2",
        "outputId": "cbc9c7e8-9981-42c5-8908-2efd3eba9428"
      },
      "outputs": [
        {
          "output_type": "stream",
          "name": "stdout",
          "text": [
            "input_variables=['context', 'input'] input_types={} partial_variables={} template='\\nPergunta: {input}\\nContexto: {context}\\n'\n"
          ]
        }
      ],
      "source": [
        "from langchain.prompts import PromptTemplate #é utilizado para prompts personalizados\n",
        "\n",
        "prompt_rag = PromptTemplate.from_template(template_rag)\n",
        "print(prompt_rag)\n"
      ]
    },
    {
      "cell_type": "markdown",
      "metadata": {
        "id": "YxGONSMs4I3r"
      },
      "source": [
        "Criação dos textos e geração da Chain"
      ]
    },
    {
      "cell_type": "code",
      "execution_count": 13,
      "metadata": {
        "colab": {
          "base_uri": "https://localhost:8080/",
          "height": 230
        },
        "collapsed": true,
        "id": "P0xaVojb4H_K",
        "outputId": "a4bd2921-8f43-49c5-f4b2-b53b52095fee"
      },
      "outputs": [
        {
          "output_type": "display_data",
          "data": {
            "text/plain": [
              "<IPython.core.display.Markdown object>"
            ],
            "text/markdown": "Para alterar sua senha, siga os passos abaixo:\n\n**No aplicativo:**\n\n1. Clique no menu \"Minha conta\"\n2. Selecione \"Alterar senha\"\n\n**No site:**\n\n1. Acesse \"Configurações\" no menu do topo\n2. Em seguida, selecione \"Minha conta\" e \"Alterar senha\"\n\nSiga esses passos para alterar sua senha com segurança!"
          },
          "metadata": {}
        }
      ],
      "source": [
        "chaing_rag = prompt_rag | llm | StrOutputParser()\n",
        "\n",
        "input = \"Como alterar minha senha?\"\n",
        "res = chaing_rag.invoke({\"input\": input, \"context\": context}) # o envio de variáveis deve seguir de acordo com o que foi definido no template do prompt\n",
        "show_res(res)"
      ]
    },
    {
      "cell_type": "markdown",
      "metadata": {
        "id": "ZmcPhqUD8a4V"
      },
      "source": [
        "Etapas de Indexação"
      ]
    },
    {
      "cell_type": "markdown",
      "metadata": {
        "id": "yxrpZ-YP9zhf"
      },
      "source": [
        "Para este estudo de caso será feito o uso de funções(Document Loaders) para importar dados na LangChain.\n",
        "\n",
        "Os documentos serão quebrados para melhor indexação e processamento do modelo.\n",
        "\n",
        "Na sequência, será feito o embedding(conversão dos textos em representações numéricas) em cada pedaço e por fim os mesmos serão salvos em um banco de dados vetorial."
      ]
    },
    {
      "cell_type": "markdown",
      "metadata": {
        "id": "nq0czOlc8dEZ"
      },
      "source": [
        "Carregamento do conteúdo dos documentos"
      ]
    },
    {
      "cell_type": "code",
      "execution_count": 14,
      "metadata": {
        "colab": {
          "base_uri": "https://localhost:8080/",
          "height": 90
        },
        "id": "oapPf1vh_iuj",
        "outputId": "c98b2af0-68ca-470e-c5e8-d20e6d384b35"
      },
      "outputs": [
        {
          "output_type": "display_data",
          "data": {
            "text/plain": [
              "<IPython.core.display.HTML object>"
            ],
            "text/html": [
              "\n",
              "     <input type=\"file\" id=\"files-d29ccb51-3a96-4310-8c52-6e6e9505196e\" name=\"files[]\" multiple disabled\n",
              "        style=\"border:none\" />\n",
              "     <output id=\"result-d29ccb51-3a96-4310-8c52-6e6e9505196e\">\n",
              "      Upload widget is only available when the cell has been executed in the\n",
              "      current browser session. Please rerun this cell to enable.\n",
              "      </output>\n",
              "      <script>// Copyright 2017 Google LLC\n",
              "//\n",
              "// Licensed under the Apache License, Version 2.0 (the \"License\");\n",
              "// you may not use this file except in compliance with the License.\n",
              "// You may obtain a copy of the License at\n",
              "//\n",
              "//      http://www.apache.org/licenses/LICENSE-2.0\n",
              "//\n",
              "// Unless required by applicable law or agreed to in writing, software\n",
              "// distributed under the License is distributed on an \"AS IS\" BASIS,\n",
              "// WITHOUT WARRANTIES OR CONDITIONS OF ANY KIND, either express or implied.\n",
              "// See the License for the specific language governing permissions and\n",
              "// limitations under the License.\n",
              "\n",
              "/**\n",
              " * @fileoverview Helpers for google.colab Python module.\n",
              " */\n",
              "(function(scope) {\n",
              "function span(text, styleAttributes = {}) {\n",
              "  const element = document.createElement('span');\n",
              "  element.textContent = text;\n",
              "  for (const key of Object.keys(styleAttributes)) {\n",
              "    element.style[key] = styleAttributes[key];\n",
              "  }\n",
              "  return element;\n",
              "}\n",
              "\n",
              "// Max number of bytes which will be uploaded at a time.\n",
              "const MAX_PAYLOAD_SIZE = 100 * 1024;\n",
              "\n",
              "function _uploadFiles(inputId, outputId) {\n",
              "  const steps = uploadFilesStep(inputId, outputId);\n",
              "  const outputElement = document.getElementById(outputId);\n",
              "  // Cache steps on the outputElement to make it available for the next call\n",
              "  // to uploadFilesContinue from Python.\n",
              "  outputElement.steps = steps;\n",
              "\n",
              "  return _uploadFilesContinue(outputId);\n",
              "}\n",
              "\n",
              "// This is roughly an async generator (not supported in the browser yet),\n",
              "// where there are multiple asynchronous steps and the Python side is going\n",
              "// to poll for completion of each step.\n",
              "// This uses a Promise to block the python side on completion of each step,\n",
              "// then passes the result of the previous step as the input to the next step.\n",
              "function _uploadFilesContinue(outputId) {\n",
              "  const outputElement = document.getElementById(outputId);\n",
              "  const steps = outputElement.steps;\n",
              "\n",
              "  const next = steps.next(outputElement.lastPromiseValue);\n",
              "  return Promise.resolve(next.value.promise).then((value) => {\n",
              "    // Cache the last promise value to make it available to the next\n",
              "    // step of the generator.\n",
              "    outputElement.lastPromiseValue = value;\n",
              "    return next.value.response;\n",
              "  });\n",
              "}\n",
              "\n",
              "/**\n",
              " * Generator function which is called between each async step of the upload\n",
              " * process.\n",
              " * @param {string} inputId Element ID of the input file picker element.\n",
              " * @param {string} outputId Element ID of the output display.\n",
              " * @return {!Iterable<!Object>} Iterable of next steps.\n",
              " */\n",
              "function* uploadFilesStep(inputId, outputId) {\n",
              "  const inputElement = document.getElementById(inputId);\n",
              "  inputElement.disabled = false;\n",
              "\n",
              "  const outputElement = document.getElementById(outputId);\n",
              "  outputElement.innerHTML = '';\n",
              "\n",
              "  const pickedPromise = new Promise((resolve) => {\n",
              "    inputElement.addEventListener('change', (e) => {\n",
              "      resolve(e.target.files);\n",
              "    });\n",
              "  });\n",
              "\n",
              "  const cancel = document.createElement('button');\n",
              "  inputElement.parentElement.appendChild(cancel);\n",
              "  cancel.textContent = 'Cancel upload';\n",
              "  const cancelPromise = new Promise((resolve) => {\n",
              "    cancel.onclick = () => {\n",
              "      resolve(null);\n",
              "    };\n",
              "  });\n",
              "\n",
              "  // Wait for the user to pick the files.\n",
              "  const files = yield {\n",
              "    promise: Promise.race([pickedPromise, cancelPromise]),\n",
              "    response: {\n",
              "      action: 'starting',\n",
              "    }\n",
              "  };\n",
              "\n",
              "  cancel.remove();\n",
              "\n",
              "  // Disable the input element since further picks are not allowed.\n",
              "  inputElement.disabled = true;\n",
              "\n",
              "  if (!files) {\n",
              "    return {\n",
              "      response: {\n",
              "        action: 'complete',\n",
              "      }\n",
              "    };\n",
              "  }\n",
              "\n",
              "  for (const file of files) {\n",
              "    const li = document.createElement('li');\n",
              "    li.append(span(file.name, {fontWeight: 'bold'}));\n",
              "    li.append(span(\n",
              "        `(${file.type || 'n/a'}) - ${file.size} bytes, ` +\n",
              "        `last modified: ${\n",
              "            file.lastModifiedDate ? file.lastModifiedDate.toLocaleDateString() :\n",
              "                                    'n/a'} - `));\n",
              "    const percent = span('0% done');\n",
              "    li.appendChild(percent);\n",
              "\n",
              "    outputElement.appendChild(li);\n",
              "\n",
              "    const fileDataPromise = new Promise((resolve) => {\n",
              "      const reader = new FileReader();\n",
              "      reader.onload = (e) => {\n",
              "        resolve(e.target.result);\n",
              "      };\n",
              "      reader.readAsArrayBuffer(file);\n",
              "    });\n",
              "    // Wait for the data to be ready.\n",
              "    let fileData = yield {\n",
              "      promise: fileDataPromise,\n",
              "      response: {\n",
              "        action: 'continue',\n",
              "      }\n",
              "    };\n",
              "\n",
              "    // Use a chunked sending to avoid message size limits. See b/62115660.\n",
              "    let position = 0;\n",
              "    do {\n",
              "      const length = Math.min(fileData.byteLength - position, MAX_PAYLOAD_SIZE);\n",
              "      const chunk = new Uint8Array(fileData, position, length);\n",
              "      position += length;\n",
              "\n",
              "      const base64 = btoa(String.fromCharCode.apply(null, chunk));\n",
              "      yield {\n",
              "        response: {\n",
              "          action: 'append',\n",
              "          file: file.name,\n",
              "          data: base64,\n",
              "        },\n",
              "      };\n",
              "\n",
              "      let percentDone = fileData.byteLength === 0 ?\n",
              "          100 :\n",
              "          Math.round((position / fileData.byteLength) * 100);\n",
              "      percent.textContent = `${percentDone}% done`;\n",
              "\n",
              "    } while (position < fileData.byteLength);\n",
              "  }\n",
              "\n",
              "  // All done.\n",
              "  yield {\n",
              "    response: {\n",
              "      action: 'complete',\n",
              "    }\n",
              "  };\n",
              "}\n",
              "\n",
              "scope.google = scope.google || {};\n",
              "scope.google.colab = scope.google.colab || {};\n",
              "scope.google.colab._files = {\n",
              "  _uploadFiles,\n",
              "  _uploadFilesContinue,\n",
              "};\n",
              "})(self);\n",
              "</script> "
            ]
          },
          "metadata": {}
        },
        {
          "output_type": "stream",
          "name": "stdout",
          "text": [
            "Saving manual_facesecure.pdf to manual_facesecure.pdf\n",
            "Arquivo carregado: manual_facesecure.pdf\n"
          ]
        }
      ],
      "source": [
        "from google.colab import files\n",
        "\n",
        "uploaded = files.upload()\n",
        "file_path =list(uploaded.keys())[0]\n",
        "\n",
        "print(f\"Arquivo carregado: {file_path}\")"
      ]
    },
    {
      "cell_type": "code",
      "execution_count": 15,
      "metadata": {
        "colab": {
          "base_uri": "https://localhost:8080/"
        },
        "id": "_zbnQdVPDiaK",
        "outputId": "e9700a09-2011-4040-cc60-e1d9c21ea39b"
      },
      "outputs": [
        {
          "output_type": "execute_result",
          "data": {
            "text/plain": [
              "Document(metadata={'producer': 'PyFPDF 1.7.2 http://pyfpdf.googlecode.com/', 'creator': '', 'creationdate': 'D:20250728031816', 'source': 'manual_facesecure.pdf', 'file_path': 'manual_facesecure.pdf', 'total_pages': 4, 'format': 'PDF 1.3', 'title': '', 'author': '', 'subject': '', 'keywords': '', 'moddate': '', 'trapped': '', 'modDate': '', 'creationDate': 'D:20250728031816', 'page': 0}, page_content='Manual de Atendimento e Uso - FaceSecure\\n1. Introdução\\nObjetivo do Manual\\nEste manual tem como objetivo orientar clientes e atendentes sobre o funcionamento completo do\\nsistema de reconhecimento facial FaceSecure, abordando desde o cadastro, funcionalidades e\\nserviços até procedimentos de segurança, suporte e resolução de problemas. O documento\\ntambém serve como material de consulta para dúvidas frequentes.\\nVisão geral da FaceSecure\\nO FaceSecure é um sistema de reconhecimento facial que oferece autenticação segura, rápida e\\ninteligente para diversos cenários: acesso a sistemas, controle de entrada em ambientes físicos,\\nverificação de identidade em aplicativos e muito mais. A solução é baseada em inteligência artificial\\ne biometria facial, com foco em precisão, privacidade e facilidade de uso.\\nPúblico-alvo\\nA solução é voltada para empresas e usuários finais que buscam uma forma moderna e segura de\\nautenticação, substituindo senhas e cartões por reconhecimento facial.\\n2. Cadastro e Habilitação do Sistema\\nRequisitos para utilização\\n- Ser maior de 18 anos\\n- Possuir documento oficial com foto (RG, CNH, etc.)\\n- Dispositivo com câmera compatível\\n- Endereço de e-mail válido\\nEtapas do processo de cadastro\\n1. Acesse o app ou portal da FaceSecure\\n2. Informe dados pessoais (nome, CPF, e-mail)\\n3. Envie foto de documento oficial')"
            ]
          },
          "metadata": {},
          "execution_count": 15
        }
      ],
      "source": [
        "#carregar e processar o conteúdo de um arquivo .pdf\n",
        "\n",
        "from pathlib import Path\n",
        "from langchain_community.document_loaders import PyMuPDFLoader\n",
        "\n",
        "file_path = \"manual_facesecure.pdf\"\n",
        "\n",
        "loader = PyMuPDFLoader(file_path) #na chamada da função, o documento é lido e transformado em uma lista de objetos do tipo 'documents', cada um representando uma página do pdf com o texto extraído\n",
        "doc = loader.load()\n",
        "doc[0] #cada posição é uma página do documento"
      ]
    },
    {
      "cell_type": "code",
      "execution_count": 16,
      "metadata": {
        "colab": {
          "base_uri": "https://localhost:8080/"
        },
        "collapsed": true,
        "id": "Jo-4-wFSFP8X",
        "outputId": "5070cb4c-9c1b-4e4c-93f8-6974a9205475"
      },
      "outputs": [
        {
          "output_type": "stream",
          "name": "stdout",
          "text": [
            "{'author': '',\n",
            " 'creationDate': 'D:20250728031816',\n",
            " 'creationdate': 'D:20250728031816',\n",
            " 'creator': '',\n",
            " 'file_path': 'manual_facesecure.pdf',\n",
            " 'format': 'PDF 1.3',\n",
            " 'keywords': '',\n",
            " 'modDate': '',\n",
            " 'moddate': '',\n",
            " 'page': 0,\n",
            " 'producer': 'PyFPDF 1.7.2 http://pyfpdf.googlecode.com/',\n",
            " 'source': 'manual_facesecure.pdf',\n",
            " 'subject': '',\n",
            " 'title': '',\n",
            " 'total_pages': 4,\n",
            " 'trapped': ''}\n"
          ]
        }
      ],
      "source": [
        "#informações sobre o pdf\n",
        "import pprint\n",
        "\n",
        "pprint.pprint(doc[0].metadata)"
      ]
    },
    {
      "cell_type": "code",
      "execution_count": 17,
      "metadata": {
        "id": "RrIAvTPAWunR"
      },
      "outputs": [],
      "source": [
        "#função para a extração dos textos\n",
        "\n",
        "def extract_text_pdf(file_path):\n",
        "  loader = PyMuPDFLoader(file_path)\n",
        "  doc = loader.load()  #na variável doc há uma lista com cada uma das páginas\n",
        "  content = \"\\n\".join([page.page_content for page in doc]) #percorre cada pasta extraindo o texto e concatenando em um única variável\n",
        "  return content"
      ]
    },
    {
      "cell_type": "code",
      "execution_count": 18,
      "metadata": {
        "colab": {
          "base_uri": "https://localhost:8080/",
          "height": 123
        },
        "id": "_5RwCcJsXnxh",
        "outputId": "9a08422c-8a88-4a1e-f90b-93f28a61e296"
      },
      "outputs": [
        {
          "output_type": "execute_result",
          "data": {
            "text/plain": [
              "'Manual de Atendimento e Uso - FaceSecure\\n1. Introdução\\nObjetivo do Manual\\nEste manual tem como objetivo orientar clientes e atendentes sobre o funcionamento completo do\\nsistema de reconhecimento facial FaceSecure, abordando desde o cadastro, funcionalidades e\\nserviços até procedimentos de segurança, suporte e resolução de problemas. O documento\\ntambém serve como material de consulta para dúvidas frequentes.\\nVisão geral da FaceSecure\\nO FaceSecure é um sistema de reconhecimento facial que oferece autenticação segura, rápida e\\ninteligente para diversos cenários: acesso a sistemas, controle de entrada em ambientes físicos,\\nverificação de identidade em aplicativos e muito mais. A solução é baseada em inteligência artificial\\ne biometria facial, com foco em precisão, privacidade e facilidade de uso.\\nPúblico-alvo\\nA solução é voltada para empresas e usuários finais que buscam uma forma moderna e segura de\\nautenticação, substituindo senhas e cartões por reconhecimento facial.\\n2. Cadastro e Habilitação do Sistema\\nRequisitos para utilização\\n- Ser maior de 18 anos\\n- Possuir documento oficial com foto (RG, CNH, etc.)\\n- Dispositivo com câmera compatível\\n- Endereço de e-mail válido\\nEtapas do processo de cadastro\\n1. Acesse o app ou portal da FaceSecure\\n2. Informe dados pessoais (nome, CPF, e-mail)\\n3. Envie foto de documento oficial\\n4. Grave o vídeo para reconhecimento facial\\n5. Concorde com os termos de uso e política de privacidade\\nVerificação de identidade (KYC)\\nA validação é realizada automaticamente por inteligência artificial e revisada por uma equipe\\nhumana. Esse processo garante que a pessoa cadastrada é realmente quem diz ser.\\nPrazo para ativação do acesso\\nO processo leva até 2 dias úteis. Em caso de inconsistência nas imagens ou dados, o cliente é\\nnotificado para refazer etapas.\\nProblemas comuns no cadastro\\n- Documento ilegível\\n- Imagem fora do enquadramento\\n- Vídeo mal iluminado ou incompleto\\n- Divergência de dados pessoais\\n3. Acesso ao Sistema\\nAcesso via portal ou aplicativo\\nApós ativação, o acesso pode ser feito via site ou app, utilizando a biometria facial.\\nRecuperação de acesso\\nCaso haja dificuldade para autenticar, o usuário pode optar por redefinir o acesso com documento e\\nselfie.\\nBiometria facial e dispositivos autorizados\\nA gestão dos dispositivos pode ser feita em \"Minha Conta > Dispositivos\". É possível remover\\nacessos não reconhecidos.\\n4. Funcionalidades do Sistema\\n- Autenticação facial para login em sistemas\\n- Controle de acesso físico (portarias, catracas)\\n- Registro de ponto com reconhecimento facial\\n- Validação de identidade remota em processos digitais\\n- Notificações de tentativas de acesso\\n5. Integração com Sistemas Parceiros\\nAPI e SDK\\nDisponibilizamos API e SDK para integração com sistemas de terceiros. A documentação técnica\\npode ser acessada pelo portal de desenvolvedores.\\nPlataformas compatíveis\\nIntegrações disponíveis com Android, iOS, Windows, Linux, sistemas web e câmeras IP.\\n6. Segurança e Privacidade\\nAutenticação em dois fatores\\nAlém da biometria, é possível ativar 2FA com código por e-mail ou app autenticador.\\nProteção de dados biométricos\\nTodos os dados são criptografados, armazenados de forma segura e em conformidade com a\\nLGPD.\\nBoas práticas de segurança\\n- Use dispositivos atualizados\\n- Evite ambientes com pouca luz ao capturar o rosto\\n- Não compartilhe credenciais ou permissões\\n7. Suporte e Atendimento\\nCanais disponíveis\\n- Chat via app (24h)\\n- E-mail: suporte@facesecure.com\\n- Telefone: 0800-999-0000 (dias úteis, 8h às 20h)\\nAcessibilidade\\nAtendimento adaptado para pessoas com deficiência visual e auditiva, com suporte por Libras e\\nleitores de tela.\\nOuvidoria\\nCaso o atendimento inicial não resolva, envie um e-mail para ouvidoria@facesecure.com. Resposta\\nem até 10 dias úteis.\\n8. Encerramento de Conta ou Serviço\\nA solicitação pode ser feita via app ou portal. Após a confirmação, os dados biométricos serão\\neliminados dos servidores em até 10 dias úteis, conforme a LGPD.\\n9. Problemas Técnicos Comuns\\n- Erro na leitura facial: verifique iluminação e enquadramento.\\n- Falha de conexão: teste a rede ou atualize o app.\\n- Dispositivo não compatível: consulte os requisitos mínimos no site.\\n10. Termos e Políticas\\n- Termos de uso e política de privacidade: disponíveis no site\\n- Política de dados biométricos e consentimento\\n- Código de ética e conduta na coleta de dados\\n11. Glossário\\n- Biometria facial: tecnologia que reconhece rostos humanos com base em características únicas\\n- SDK: Kit de Desenvolvimento de Software\\n- LGPD: Lei Geral de Proteção de Dados\\n- 2FA: Autenticação em dois fatores'"
            ],
            "application/vnd.google.colaboratory.intrinsic+json": {
              "type": "string"
            }
          },
          "metadata": {},
          "execution_count": 18
        }
      ],
      "source": [
        "extract_text_pdf(file_path)"
      ]
    },
    {
      "cell_type": "code",
      "execution_count": 19,
      "metadata": {
        "colab": {
          "base_uri": "https://localhost:8080/"
        },
        "id": "4wbP0yenX6cB",
        "outputId": "68dbafca-fed4-433e-ca52-29a97411a63b"
      },
      "outputs": [
        {
          "output_type": "stream",
          "name": "stdout",
          "text": [
            "[PosixPath('/content/manual_facesecure.pdf')]\n"
          ]
        }
      ],
      "source": [
        "#leitura de todos os arquivos .pdf contidos em uma pasta\n",
        "\n",
        "docs_path = Path(\"/content\") #pasta padrão do colab\n",
        "pdf_files = [f for f in docs_path.glob(\"*.pdf\")]\n",
        "\n",
        "print(pdf_files)"
      ]
    },
    {
      "cell_type": "code",
      "execution_count": 20,
      "metadata": {
        "colab": {
          "base_uri": "https://localhost:8080/"
        },
        "collapsed": true,
        "id": "N3mlfZ9hY4it",
        "outputId": "95a837fc-b9c6-4b25-9343-360605f7b768"
      },
      "outputs": [
        {
          "output_type": "execute_result",
          "data": {
            "text/plain": [
              "1"
            ]
          },
          "metadata": {},
          "execution_count": 20
        }
      ],
      "source": [
        "loaded_documents = [extract_text_pdf(pdf) for pdf in pdf_files] #percorre cada um dos arquivos pdf e faz a extração por meio da função extract_file_pdf\n",
        "len(pdf_files)"
      ]
    },
    {
      "cell_type": "markdown",
      "metadata": {
        "id": "bNenksygaQaQ"
      },
      "source": [
        "**Divisão em pedaços de texto / Split**"
      ]
    },
    {
      "cell_type": "markdown",
      "metadata": {
        "id": "UJVFoIiSaph1"
      },
      "source": [
        "Neste estudo de caso, este passo se torna necessário porque os documentos longos podem comprometer o desempenho da recuperação dos dados. Desta forma, o texto será dividido em \"pedaços\" menores, pois o documento carregado é muito grande para ser passado como contexto pelo prompt.\n",
        "\n",
        "Dependendo do conteúdo, poderia ser possível caber o conteúdo inteiro na janela de contexto. Por exemplo, no modelo GPT-4 a janela de contexto é de cerca de 8k tokens, o que equivale, aproximadamente, a 32k caracteres. Porém, mesmo assim, as LLMs terão dificuldade em localizar informações dentro de entradas tão longas.\n",
        "\n",
        "**Portanto, tal divisão do texto é considerada uma boa prática.**\n",
        "\n",
        "\n",
        "Há dois grandes motivos pelos quais a fragmentação é necessária para qualquer aplicação que envolva bancos de dados vetoriais ou LLMs: para garantir que os modelos de incorporação possam ajustar os dados em suas janelas de contexto e para garantir que os próprios blocos contenham as informações necessárias para a pesquisa."
      ]
    },
    {
      "cell_type": "code",
      "execution_count": 21,
      "metadata": {
        "colab": {
          "base_uri": "https://localhost:8080/"
        },
        "id": "-HLYAZRTbsSv",
        "outputId": "2f02a3e7-0036-4b4f-bcf3-2f6495a2f58d"
      },
      "outputs": [
        {
          "output_type": "stream",
          "name": "stdout",
          "text": [
            "Número de chunks criados:11\n"
          ]
        }
      ],
      "source": [
        "from langchain_text_splitters import RecursiveCharacterTextSplitter\n",
        "\n",
        "text_sppliter = RecursiveCharacterTextSplitter(chunk_size = 500, chunk_overlap = 50)\n",
        "\n",
        "#chunk_size: quantidade total de tokens em cada uma das partes;\n",
        "#chunk_overlap: sobreposição de textos entre cada uma das partes\n",
        "#chunk_overlap: quantos caracteres ou tokens do final do final de um chunk(ou parte) serão reutilizados no começo do próximo\n",
        "\n",
        "chunks = []\n",
        "\n",
        "for doc in loaded_documents:\n",
        "  chunks.extend(text_sppliter.split_text(doc))\n",
        "\n",
        "  print(f\"Número de chunks criados:{len(chunks)}\") #indica a quantidade de \"pedaços\" em que o contexto foi \"quebrado\""
      ]
    },
    {
      "cell_type": "markdown",
      "metadata": {
        "id": "vesx7KGbedYG"
      },
      "source": [
        "**Embeddings** são representações vetoriais que organizam palavras com base em sua similaridade semântica, agrupando termos relacionados em um espaço multidimensional.\n",
        "\n",
        "Quando uma palavra nova é apresentada, o modelo consegue posicioná-la corretamente nesse espaço, considerando sua relação com outras palavras.\n",
        "\n",
        "Com o uso do Mecanismo de Atenção, o modelo compreende o contexto em que a palavra aparece, permitindo diferenciar significados e ajustar com precisão sua posição entre os embeddings."
      ]
    },
    {
      "cell_type": "code",
      "execution_count": 22,
      "metadata": {
        "collapsed": true,
        "id": "5KbjLZGRjnn5",
        "colab": {
          "base_uri": "https://localhost:8080/",
          "height": 493,
          "referenced_widgets": [
            "c0205dc9330b4b84930a6db9a0bd25cb",
            "2d5b8467bb4f4ff19690ec901a68e46e",
            "2b6643d51ceb4dab86c07db655c0f0de",
            "28e9f61d556747528608840d57a77141",
            "97f1538740cc44b0baeae9c5f3126279",
            "4880c1c91f4140fda2698fd213c19a58",
            "75b9265cac064a8fa3bda99fab08a62f",
            "54b172ec92944d218687ef92e0d15818",
            "282e33b74dda49959e17b5a1b37c0fdf",
            "faa3b27f9d124ff48ad0fe158a6fb22f",
            "7d8015699f8544f883ee6d9299182f99",
            "040b1dead55f47428e1589e02d282014",
            "8740c7ebb3bd4b30afd89c7b20bb5cd1",
            "bbb9d1fa77a340d69eb96e01a31aaba7",
            "e5c11a7228264cb694d8642517fee0d6",
            "69c2ffedb6304d8da9331a99bf6773e1",
            "3326d2cb38da41f7872bba4e9506ae09",
            "39a3cba6cfff4dd195b624687c1fd080",
            "6c35ff8d64284893ab3891b7867d8ed5",
            "fa536787e6434beca24fadb69aff77da",
            "061879aa90cb42dfb908295c7d56c8d0",
            "ea36628b24274e2fbf07e34906281cde",
            "1cb4ef00bbd34992a56038eb6ec2a8a3",
            "9b9d263adf1a4222ad95605dfedc2540",
            "6bd5a3c73b8a4d3ba65077e182bd03c4",
            "577be96bbe7b4b3e82a5e60497b7d45a",
            "ed27cf10432c4ced8bd6ccc7bdab6c8c",
            "34b5b4ecf4e248b5930b2a097732d83c",
            "5eae2e4aedca48dbadb5b986b944dff1",
            "c5740ad84a554f728300bca609cc1443",
            "b35acd0cb6d54d289bed27be346cdc4f",
            "09b78a7d8bd441b28d6e1d84839c8fb7",
            "5cf57f68b3634129baa2a47abaec3fb2",
            "21223912fb0f4a75b4c44f10d9544ab2",
            "8f1406ff70974db39d2743e091f5351c",
            "8fffd18e4ef046d9bb209811e4d45b09",
            "4f17d9e716e846438164096b14d778c0",
            "d9178f7ffbc24be3ae26431af2d53e60",
            "fa0f82b28b9442389aabe5a2915932a8",
            "42237c1c729443cfb4ac2cab56e0d6a1",
            "00eb1d4c00c54fee89f436b13d9028ce",
            "e83719ef49d048f1941bc4b7db18e2d7",
            "ebaa971f88d1410db9a2fb70b32675e2",
            "c434860ece29464ba39c33acaff4aa0b",
            "8d741f40457d416280ca0bb08fe10492",
            "e2ca1863e4cb4dedbe4a19970cde0a44",
            "69b0befc6e574e69aea2602af88743e6",
            "5c9441179711427f86a757c1629d86e3",
            "f90804d94ab84544b596a83501cee503",
            "57dafaeee0254dce82a6d591ba305a8e",
            "e4fb5531b9cb4d6cbfae9d71d0895b8c",
            "15be29bbeb13459db4d70aee454a3a90",
            "3948a54b6c224d3aa345d08951f0f1dd",
            "a99e2081263247ce80cd9318ece44f05",
            "029d78fd506a4d81879f3288b12af49c",
            "f4499d4a4a4c4ad18021014abd70d8d4",
            "991101b489574faa9b869571b93d4b12",
            "684d9a6931d240ce8dd8f59d729cc4aa",
            "3efc9a9f82da4f888ccbf00d67823baa",
            "bfd5200b330a47358b33341af16b1a1b",
            "9dc779184e3548b6a26246b05f885976",
            "b6938c7fded64865a3c5f39993453f8d",
            "401b7385f7b6458ba832fbc718fed911",
            "dd0447c91beb478b85f7c86a00086965",
            "7fc8c7dc7d5c45e59ba3d35ff2700b54",
            "f74c7c2e79564bebbc8613cdb2f730e7",
            "fd3c22404b624c379dafbb8fc109fd48",
            "3c6367a623f6409883146412aec413fe",
            "84a7698ba0554b33b79609eda9b5b04a",
            "4558825cab06417987d8cc0b1361264d",
            "367c07eb93874016af8a62df6d84fadc",
            "9e9df6faa39a4d4ea1bb13adca2d4d38",
            "b1b6e6c4592a41b8862c325a183a977d",
            "c0436645fc364b278cf181f1cfdf7fbb",
            "a37db2f1359e432ea5877a9342588224",
            "daca69cd4a3c4e45aec79e926fb7b820",
            "8810ed8c9d1745baa8593a71e7dcbd17",
            "6c97b95074b84b57b538b852e63fe681",
            "257e0bf0c31a4946a8dcd90ff6c1454e",
            "b740ed2afadb4d3fb789e6864d787265",
            "0c167811af7c46de8171a12e8647511b",
            "0d36a52c48ce408687522bd19d85b6fa",
            "b1165f5630d344528a763a4340f7b5c4",
            "7f377ff25c1e4ddb9765e2694055e6cb",
            "c824c9c004d24008b4394561e7446980",
            "45f7735e18304f79bedfd0948a04b288",
            "a85e19db4c7a4fdda28ab3fa8ccee940",
            "7b50ef0ac0ba4f3590f78b6635eef521",
            "f6d6aed2c1d24237abc957f95c6307e7",
            "6fc7a08731ef48f18fbcdf4aa8c1337d",
            "1a068e3c214f45d5b94ee5d43275bf54",
            "878aa1e89a5147d4883c600081b46253",
            "b6e274a7afc244a9b14b9d65c0ad74c4",
            "c4f6fcf023e94e8db6c5c69e36fd6269",
            "b4bf3c6561294725aa2ade271415d827",
            "57e2f66b9c074e97a8e5eebe67f00853",
            "777ea94663f94c648046587ff8f076e0",
            "d69b2a0631b4400cac4e8f1728a3b3ef",
            "f7c6461e49e0473a80a26aac52b9d5f1",
            "e40c7d60256c40b7aaff215eb08e25e6",
            "7f2b868647044a19b9d926e2d232ffb1",
            "b211ca7141ff4985852bc8820643f68e",
            "d3c66687b6034512ba26f146a92e2e4e",
            "5c9da9c34d84468684a60a663a202df1",
            "f64c66bd6678489f8ffe80e653b599fb",
            "dd61f8158b67415b94ea6e3895d3d79b",
            "c215343c0f754ac6b4bdf8c8646ff6a3",
            "bfc85a9e28714282965c77a3c9777b89",
            "a3b8403c013a417cbc4f4b27746731dd",
            "9b212f37052f42e2b07083fd566882ec",
            "1f293503b8d14a3fb163bc5b18e7c768",
            "cdca524acf034eaba5565093801fe54c",
            "8b87cc9f726d40a98ccbe447ead99c74",
            "0601ed2c391f4c1498bb11ccc8924409",
            "3acc8df7920b43b3954593819e67b34c",
            "ccb5da2acd5b499ebf7f41848daf6327",
            "16d3cc22a46c4dd2aa2a2f257005bcea",
            "0e8543a1542745beb33c0b0c811d7e26",
            "0fced5e49e2940b692ff39701e282f0a",
            "949455cfaf874cc5b873f8dff0e1b099",
            "0411964c2d344601be6adbe9b8a51372"
          ]
        },
        "outputId": "12d275f9-42cc-4fe9-cbf1-d12e09927dba"
      },
      "outputs": [
        {
          "output_type": "stream",
          "name": "stderr",
          "text": [
            "/usr/local/lib/python3.11/dist-packages/huggingface_hub/utils/_auth.py:94: UserWarning: \n",
            "The secret `HF_TOKEN` does not exist in your Colab secrets.\n",
            "To authenticate with the Hugging Face Hub, create a token in your settings tab (https://huggingface.co/settings/tokens), set it as secret in your Google Colab and restart your session.\n",
            "You will be able to reuse this secret in all of your notebooks.\n",
            "Please note that authentication is recommended but still optional to access public models or datasets.\n",
            "  warnings.warn(\n"
          ]
        },
        {
          "output_type": "display_data",
          "data": {
            "text/plain": [
              "modules.json:   0%|          | 0.00/349 [00:00<?, ?B/s]"
            ],
            "application/vnd.jupyter.widget-view+json": {
              "version_major": 2,
              "version_minor": 0,
              "model_id": "c0205dc9330b4b84930a6db9a0bd25cb"
            }
          },
          "metadata": {}
        },
        {
          "output_type": "display_data",
          "data": {
            "text/plain": [
              "config_sentence_transformers.json:   0%|          | 0.00/116 [00:00<?, ?B/s]"
            ],
            "application/vnd.jupyter.widget-view+json": {
              "version_major": 2,
              "version_minor": 0,
              "model_id": "040b1dead55f47428e1589e02d282014"
            }
          },
          "metadata": {}
        },
        {
          "output_type": "display_data",
          "data": {
            "text/plain": [
              "README.md: 0.00B [00:00, ?B/s]"
            ],
            "application/vnd.jupyter.widget-view+json": {
              "version_major": 2,
              "version_minor": 0,
              "model_id": "1cb4ef00bbd34992a56038eb6ec2a8a3"
            }
          },
          "metadata": {}
        },
        {
          "output_type": "display_data",
          "data": {
            "text/plain": [
              "sentence_bert_config.json:   0%|          | 0.00/53.0 [00:00<?, ?B/s]"
            ],
            "application/vnd.jupyter.widget-view+json": {
              "version_major": 2,
              "version_minor": 0,
              "model_id": "21223912fb0f4a75b4c44f10d9544ab2"
            }
          },
          "metadata": {}
        },
        {
          "output_type": "display_data",
          "data": {
            "text/plain": [
              "config.json:   0%|          | 0.00/571 [00:00<?, ?B/s]"
            ],
            "application/vnd.jupyter.widget-view+json": {
              "version_major": 2,
              "version_minor": 0,
              "model_id": "8d741f40457d416280ca0bb08fe10492"
            }
          },
          "metadata": {}
        },
        {
          "output_type": "display_data",
          "data": {
            "text/plain": [
              "model.safetensors:   0%|          | 0.00/438M [00:00<?, ?B/s]"
            ],
            "application/vnd.jupyter.widget-view+json": {
              "version_major": 2,
              "version_minor": 0,
              "model_id": "f4499d4a4a4c4ad18021014abd70d8d4"
            }
          },
          "metadata": {}
        },
        {
          "output_type": "display_data",
          "data": {
            "text/plain": [
              "tokenizer_config.json:   0%|          | 0.00/363 [00:00<?, ?B/s]"
            ],
            "application/vnd.jupyter.widget-view+json": {
              "version_major": 2,
              "version_minor": 0,
              "model_id": "fd3c22404b624c379dafbb8fc109fd48"
            }
          },
          "metadata": {}
        },
        {
          "output_type": "display_data",
          "data": {
            "text/plain": [
              "vocab.txt: 0.00B [00:00, ?B/s]"
            ],
            "application/vnd.jupyter.widget-view+json": {
              "version_major": 2,
              "version_minor": 0,
              "model_id": "6c97b95074b84b57b538b852e63fe681"
            }
          },
          "metadata": {}
        },
        {
          "output_type": "display_data",
          "data": {
            "text/plain": [
              "tokenizer.json: 0.00B [00:00, ?B/s]"
            ],
            "application/vnd.jupyter.widget-view+json": {
              "version_major": 2,
              "version_minor": 0,
              "model_id": "f6d6aed2c1d24237abc957f95c6307e7"
            }
          },
          "metadata": {}
        },
        {
          "output_type": "display_data",
          "data": {
            "text/plain": [
              "special_tokens_map.json:   0%|          | 0.00/239 [00:00<?, ?B/s]"
            ],
            "application/vnd.jupyter.widget-view+json": {
              "version_major": 2,
              "version_minor": 0,
              "model_id": "e40c7d60256c40b7aaff215eb08e25e6"
            }
          },
          "metadata": {}
        },
        {
          "output_type": "display_data",
          "data": {
            "text/plain": [
              "config.json:   0%|          | 0.00/190 [00:00<?, ?B/s]"
            ],
            "application/vnd.jupyter.widget-view+json": {
              "version_major": 2,
              "version_minor": 0,
              "model_id": "1f293503b8d14a3fb163bc5b18e7c768"
            }
          },
          "metadata": {}
        }
      ],
      "source": [
        "from langchain_huggingface import HuggingFaceEmbeddings\n",
        "from langchain.vectorstores import FAISS\n",
        "\n",
        "embedding_model = \"sentence-transformers/all-mpnet-base-v2\"\n",
        "#embedding_model = \"BAAI/bge-m3\"\n",
        "\n",
        "embeddings = HuggingFaceEmbeddings(model_name = embedding_model)\n",
        "\n",
        "input_test = \"Um teste apenas\"\n",
        "\n",
        "result = embeddings.embed_query(input_test)"
      ]
    },
    {
      "cell_type": "code",
      "execution_count": 23,
      "metadata": {
        "colab": {
          "base_uri": "https://localhost:8080/"
        },
        "id": "_SMur62rnnB-",
        "outputId": "b92d89c4-1609-4426-9640-b81cc517cb11"
      },
      "outputs": [
        {
          "output_type": "stream",
          "name": "stdout",
          "text": [
            "[-0.026895038783550262, -0.011064727790653706, -0.04532000422477722, -0.0013972934102639556, 0.04243597015738487, -0.014201696030795574, 0.023354969918727875, 0.06011558324098587, 0.06152193248271942, 0.006502091884613037, 0.008159181103110313, -0.03056747280061245, 0.002060319297015667, 0.0129615543410182, 0.0042511713691055775, 0.0036631484981626272, -0.026755547150969505, 0.029737001284956932, -0.009770059026777744, -0.04650460556149483, -0.028108958154916763, 0.00016859530296642333, -0.02481103502213955, -0.01182831171900034, 0.0818282887339592, 0.0014993064105510712, 0.013264846988022327, -0.0624217726290226, -0.0012287232093513012, 0.02897718735039234, -0.02952898107469082, -0.02569606713950634, 0.0033771232701838017, -0.028868917375802994, 1.518517706244893e-06, -0.038824815303087234, -0.019842024892568588, -0.01765807531774044, -0.008112371899187565, -0.025130528956651688, 0.02574918232858181, 0.11367510259151459, -0.006133151240646839, -0.017986435443162918, -0.04541146382689476, -0.027877163141965866, 0.0015602917410433292, -0.0915532186627388, -0.04099876061081886, 0.09265203773975372, 0.004412863869220018, 0.010464552789926529, 0.0007996013155207038, -0.01969103328883648, 0.03650812432169914, -0.03294996917247772, -0.008631080389022827, -0.0701548159122467, 0.04781186580657959, 0.012426985427737236, 0.03929924964904785, -0.033150918781757355, 0.03459771350026131, 0.05724998190999031, -0.08736564218997955, 0.03071817383170128, 0.031383365392684937, 0.014051029458642006, 0.0017950452165678144, -0.005633516237139702, 0.048154640942811966, -0.019206702709197998, -0.011559934355318546, 0.08503212779760361, -0.006487331353127956, 0.0023521259427070618, -0.04190335050225258, 0.017693039029836655, -0.01843789592385292, -0.02610538713634014, 0.0648563951253891, 0.025859491899609566, 0.023214776068925858, 0.0554584264755249, 0.026868967339396477, 0.002058833371847868, 0.0009315970819443464, -0.026096777990460396, 0.057364970445632935, -0.02261415868997574, -0.07133799046278, -0.03026532754302025, -0.03707360476255417, 0.005593064706772566, -0.020938213914632797, 0.006007066462188959, 0.028800733387470245, -0.07083354890346527, 0.0412924624979496, -0.015260562300682068, 0.003454473102465272, -0.04460637643933296, -0.015291132964193821, 0.027724318206310272, -0.05711265280842781, 0.04585937410593033, -0.005197699647396803, 0.006527126766741276, -0.009516854770481586, 0.02570897713303566, -0.021213361993432045, -0.02610078640282154, -0.05994536355137825, 0.00188832962885499, -0.020556801930069923, 0.03388512507081032, -0.03254192695021629, -0.03989897295832634, -0.028026042506098747, 0.03304499760270119, -0.07813964784145355, 0.028564518317580223, 0.007828633300960064, -0.02149881049990654, 0.023470843210816383, -0.04386105760931969, -0.025265313684940338, 0.021412473171949387, -0.005160038359463215, -0.006203554105013609, 0.030328555032610893, -0.015578067861497402, -0.03226369991898537, -0.014691651798784733, 0.02736281231045723, 0.06135481968522072, 0.008915895596146584, -0.06337064504623413, 0.09293574094772339, -0.07296948879957199, 0.005000986624509096, -0.02166319638490677, 0.016979020088911057, 0.03933105245232582, 0.05606888234615326, 0.004061491694301367, 0.04266587644815445, -0.009427452459931374, -0.013593715615570545, 0.004144093953073025, 0.10023453831672668, -0.024249106645584106, 0.0068891397677361965, -0.006571978330612183, -0.0011964755831286311, 0.05975862592458725, 0.025898486375808716, -0.023822546005249023, -0.010319588705897331, 0.017328668385744095, 0.0173043180257082, 0.01799534633755684, -0.01657755672931671, 0.03262535482645035, 0.054933130741119385, 0.042793162167072296, 0.010805409401655197, 0.07248571515083313, 0.015065865591168404, 0.05297965928912163, -0.018466275185346603, -0.0021782119292765856, 0.013975239358842373, 0.01650877855718136, -0.03288945555686951, -0.026282010599970818, -0.017118748277425766, 0.0534709133207798, 0.03749589994549751, -0.09625166654586792, 0.053749892860651016, -0.09891689568758011, 0.04951918125152588, -0.04478053003549576, -0.005402707494795322, 0.030070597305893898, -0.018221495673060417, 0.008066208101809025, -0.04340552166104317, 0.03534466773271561, 0.031540773808956146, -0.0004619679821189493, -0.06522036343812943, 0.02847008965909481, 0.009117978624999523, -0.0018554190173745155, -0.00044073438039049506, -0.04350675269961357, -0.026620857417583466, -0.004173624329268932, -0.002683849772438407, -0.06295042484998703, 0.13889802992343903, -0.0025076030287891626, -0.008020883426070213, 0.0054751732386648655, 0.044193219393491745, -0.015630565583705902, 0.008162650279700756, -0.043154045939445496, -0.07802567631006241, -0.022255435585975647, -0.008205280639231205, -0.01221882738173008, 0.006667277310043573, -0.00887050200253725, -0.016143636777997017, 0.048574790358543396, -0.06864812225103378, 0.10150335729122162, 0.014913775026798248, 0.002720410469919443, -0.006364232394844294, 0.03729986399412155, -0.045359160751104355, 0.0015552741242572665, -0.008102761581540108, -0.0040617468766868114, -0.021751224994659424, 0.02236347831785679, 0.003913441207259893, -0.016853906214237213, 0.03583041578531265, -0.010102756321430206, 0.022808976471424103, 0.04941322281956673, 0.004059604834765196, -0.03163040801882744, -0.017502741888165474, -0.04231629520654678, -0.016446959227323532, 0.053416673094034195, -0.039991915225982666, -0.02412639744579792, -0.0008644228219054639, -0.03582378849387169, 0.046420641243457794, 0.03517133742570877, -0.002933637471869588, -0.02181144431233406, -0.007590729743242264, -0.0033185093197971582, -0.017720654606819153, -0.0041961283423006535, 0.060929760336875916, 0.03119385801255703, -0.04978980869054794, 0.02892782725393772, 0.018123405054211617, 0.005587434396147728, 0.04935727268457413, -0.038371630012989044, 0.0139800189062953, -0.005702251568436623, 0.11206532269716263, -0.03078642301261425, -0.01954059489071369, -0.061976879835128784, -0.005198345519602299, -0.01293474156409502, 0.04317965358495712, 0.05277307704091072, -0.00538673298433423, -0.005967993754893541, -0.020812474191188812, 0.006294076796621084, -0.019052626565098763, 0.03348452225327492, 0.015530155040323734, -0.025307225063443184, 0.003892389126121998, -0.011546121910214424, -0.022205747663974762, 0.005664370488375425, 0.02406254969537258, -0.0006229202845133841, 0.03223336488008499, -0.02209942415356636, 0.014996851794421673, 0.039078664034605026, -0.04726675525307655, -0.03156282752752304, -0.001101477537304163, 0.029367156326770782, -0.0059446548111736774, 0.0634828433394432, -0.028771432116627693, 0.08674214035272598, 0.04289359599351883, 0.016258111223578453, 0.057968154549598694, 0.04520077258348465, 0.00011932123743463308, -0.056625720113515854, 0.033665940165519714, 0.02216404490172863, -0.0648011565208435, -0.04862651973962784, 0.05708763003349304, -0.031306441873311996, 0.008798073045909405, -0.01576829142868519, 0.031604185700416565, 0.05372083559632301, -0.005637555383145809, 0.0025357382837682962, 0.03380724415183067, -0.07810928672552109, -0.04002636298537254, -0.022713780403137207, -0.027494752779603004, 0.04770010709762573, 0.007517891936004162, 0.004207357298582792, -0.030075984075665474, -0.06297487020492554, 0.029867522418498993, -0.031434595584869385, -0.03369980677962303, 0.01676107384264469, 0.00127014413010329, -0.05749840289354324, 0.025166962295770645, 0.03966621309518814, 0.007802662439644337, -0.02373928390443325, -0.0226193405687809, -0.004246965982019901, 0.02225457690656185, -0.012884587980806828, -0.0029128447640687227, -0.017688989639282227, -0.013026625849306583, -0.005166524555534124, 0.001362202106975019, 0.0578576996922493, 0.004168863408267498, 0.05172509327530861, -0.05108503997325897, -0.04914679005742073, -0.020909802988171577, 0.008270839229226112, -0.00133987027220428, -0.01461722794920206, 0.00036254673614166677, 0.0131101468577981, -0.007299026474356651, -0.0019826190546154976, 0.000883846718352288, -0.007931417785584927, -0.032286930829286575, -0.010726961307227612, -0.03096960484981537, -0.03613130375742912, -0.028829751536250114, 0.03239418938755989, -0.0021129262167960405, 0.0019668755121529102, -0.01113358698785305, -0.040890827775001526, 0.029149780049920082, 0.01285879872739315, -0.014429617673158646, 0.04041210934519768, -0.007630528882145882, 0.018905023112893105, 0.018534718081355095, 0.00792849250137806, -0.009208353236317635, -0.007835193537175655, 0.012929647229611874, -0.060546450316905975, 0.02852936089038849, -0.040509097278118134, -0.011371166445314884, -0.034710220992565155, 0.025328604504466057, 0.019807571545243263, -0.01273144781589508, 0.014655858278274536, 0.02746948041021824, -0.045956242829561234, 0.06308944523334503, 0.030518297106027603, 0.005620464216917753, -0.009370359592139721, 0.07778029888868332, 0.003372215898707509, 0.03219781070947647, 0.046399734914302826, 0.0551895946264267, 0.0694604367017746, -0.06990893930196762, 0.025291262194514275, -0.014019901864230633, -0.043432701379060745, 0.024918386712670326, 0.04559718817472458, 0.014913517981767654, -0.05965792387723923, 0.02631625160574913, -0.036386698484420776, -0.012211600318551064, 0.000953885552007705, -0.04916291683912277, -0.004886298906058073, 0.015948191285133362, -0.0362151637673378, 0.0003701477835420519, 0.015516567043960094, 0.04279937595129013, 0.09239181876182556, 0.03407518193125725, -0.028672615066170692, -0.0442204587161541, -0.015852227807044983, -0.05367333069443703, -0.014707908034324646, -0.03172875568270683, 0.02312006801366806, 0.0039332471787929535, 0.0208926759660244, 0.034247901290655136, -0.03408131003379822, -0.056498218327760696, -0.02956194244325161, -0.05883109197020531, -0.0012100721942260861, 0.007963237352669239, -0.04625130817294121, -0.025428080931305885, -0.00013847224181517959, -0.008623521775007248, 0.024245867505669594, -0.08036450296640396, -0.07633547484874725, -0.016686638817191124, 0.020801350474357605, -0.006170312874019146, 0.02786565013229847, 0.06137003377079964, 0.050424497574567795, -0.004134743474423885, -0.004570536781102419, 0.06354054063558578, -0.0176461823284626, 0.0020858237985521555, -0.004755185917019844, -0.00017063696577679366, 0.014183689840137959, 0.006581716705113649, 0.018288223072886467, 0.005858188029378653, -0.019091743975877762, -0.04988212510943413, -0.03656895458698273, -0.014485616236925125, -0.046975649893283844, 0.019555598497390747, -0.0395633690059185, -0.0514669269323349, -0.009109018370509148, -0.007895085029304028, 0.008904315531253815, -0.004791661165654659, 0.01499959360808134, -0.043376632034778595, -0.005429117940366268, -0.058005500584840775, 0.013606703840196133, 0.02750350907444954, 0.0029979690443724394, -0.006302862428128719, -0.04706652835011482, -0.00048449725727550685, 0.006820727605372667, 0.028988629579544067, -0.008416968397796154, 0.04322490841150284, 0.06299041211605072, -0.023079903796315193, 0.01426252443343401, -0.008182890713214874, -0.04585285112261772, -0.060829292982816696, -0.01765950582921505, 0.032998934388160706, 0.014474363066256046, 0.042233411222696304, 0.014864031225442886, 0.014850093051791191, 0.04350024089217186, 0.0043899319134652615, 0.020708493888378143, 0.028191326186060905, 0.05633518472313881, -0.022038018330931664, 0.012528309598565102, 0.020243098959326744, -0.02720511704683304, 0.030859913676977158, 0.05097552016377449, 0.057061951607465744, 0.04912228882312775, -0.07532686740159988, -0.03875262290239334, -0.06011516973376274, -0.04778816178441048, -0.04121813923120499, -0.0067374142818152905, 0.022876989096403122, -0.005868743639439344, -0.03185902163386345, -0.0017397513147443533, 0.011983741074800491, 0.02512999437749386, 0.0010289804777130485, -0.027509262785315514, 0.08624660968780518, 0.010777056217193604, -0.01709023118019104, -0.019142301753163338, 0.04873695224523544, -0.0038058925420045853, -0.05204712599515915, 0.03652622550725937, 0.060623008757829666, -0.033699993044137955, -0.05457993224263191, -0.03006914258003235, 0.02362070232629776, -0.00040285472641699016, -0.026550674811005592, 0.00036423467099666595, 0.04256290942430496, 0.04173571243882179, 0.013853278942406178, 0.06419757753610611, 0.0022169470321387053, 0.016585707664489746, 0.0017610389040783048, 0.09430364519357681, -0.12284836173057556, 0.011991472914814949, -0.08268553763628006, -6.041272483794708e-33, 0.029623964801430702, -0.04171998053789139, 0.03399186208844185, -0.04317367821931839, -0.02169002592563629, -0.005367739591747522, -0.015080608427524567, 0.01596459560096264, 0.008724517188966274, 0.014837757684290409, 0.012467566877603531, -0.08036110550165176, 0.011160050518810749, -0.008566008880734444, 0.013953996822237968, 0.035220917314291, 0.009990103542804718, -0.043255966156721115, -0.0424102246761322, -0.02629796601831913, -0.0189993716776371, -0.023900412023067474, 0.06179909035563469, 0.015350040048360825, 0.03656080365180969, -0.05076818913221359, 0.014108455739915371, 0.006591079290956259, -0.08108485490083694, -0.0007322560995817184, 0.0223105289041996, 0.009007135406136513, 0.04123253375291824, 0.03427502140402794, 0.07497353851795197, 0.0013246753951534629, 0.039470940828323364, -0.037754666060209274, 0.05166225507855415, 0.035693928599357605, -0.050363536924123764, -0.03865087032318115, 0.0005449859309010208, -0.010135224089026451, 0.005389264784753323, 0.020403491333127022, -0.0009994148276746273, -0.04171357303857803, 0.02308122254908085, -0.045247867703437805, 0.030325787141919136, 0.010595048777759075, 0.02601919323205948, -0.041253410279750824, 0.022419845685362816, 0.09777531772851944, -0.012653072364628315, -0.08025769144296646, 0.03153529018163681, -0.003796131582930684, 0.03268150985240936, -0.015776662155985832, 0.01083444431424141, -0.029962662607431412, -0.017286302521824837, -0.012102213688194752, 0.045264121145009995, -0.02983252890408039, 0.04376808553934097, 0.023305509239435196, -0.00014861022646073252, 0.0009504701010882854, 0.015173202380537987, 0.0022456019651144743, -0.007003559730947018, 0.02967291697859764, 0.004535234998911619, 0.014706531539559364, 0.03527473658323288, 0.039405159652233124, 0.005220011807978153, -0.031784169375896454, -0.02239251881837845, 0.009863256476819515, -0.008316915482282639, -0.046990685164928436, -0.027865998446941376, -0.06348733603954315, -0.05670987442135811, -0.010592453181743622, 0.0034515182487666607, 0.05052618682384491, -0.02408197708427906, -0.03432294353842735, 0.010506992228329182, -0.06821903586387634, -0.08237326145172119, -0.014462570659816265, 0.01888204552233219, 0.00798802636563778, -0.031108295544981956, 0.02713708207011223, 0.017847904935479164, 0.0864173173904419, -0.032928988337516785, -0.030301561579108238, 0.011653636582195759, -0.027213234454393387, -0.01407267153263092, 0.03499468043446541, 0.02563856914639473, 0.04131951183080673, 0.020941678434610367, -0.029840201139450073, 0.010065642185509205, 0.06347320973873138, 0.025003375485539436, -0.027065938338637352, -0.03164173290133476, -0.0483323335647583, -0.059617966413497925, 0.022296689450740814, -0.003733031451702118, 0.008703596889972687, -0.04224719479680061, -0.034361325204372406, 0.019108666107058525, 0.0657314583659172, -0.06816918402910233, -0.03570781648159027, -0.006035949103534222, -0.026023898273706436, 2.345032612538489e-07, -0.021343091502785683, 0.06288006901741028, 0.023480752483010292, -0.018586423248052597, 0.030350375920534134, -0.016687771305441856, -0.018327591940760612, 0.042415618896484375, 0.011716832406818867, 0.01138868648558855, 0.016773052513599396, -0.02297777123749256, -0.0073629384860396385, 0.0002796227636281401, -0.031322747468948364, 0.031277675181627274, -0.0695112943649292, -0.01377976592630148, -0.024242019280791283, -0.052494876086711884, -0.025316279381513596, 0.010528587736189365, -0.006585215218365192, -0.0234767347574234, -0.04902523383498192, -0.014900345355272293, 0.025055907666683197, 0.0225448627024889, -0.04918356612324715, -0.06017875671386719, 0.042779285460710526, 0.0858953446149826, 0.0031902119517326355, 0.02429933473467827, 0.015067098662257195, -0.021560082212090492, 0.0023984876461327076, -0.0007855644798837602, 0.018858373165130615, 0.030646750703454018, 0.048287201672792435, -0.04779693856835365, -0.017014682292938232, 0.0034241448156535625, 0.04564568027853966, -0.00624847924336791, -0.019756196066737175, -0.02017003856599331, 0.05161748081445694, -0.03356390446424484, -0.02270865999162197, 0.0026186301838606596, 0.007378630340099335, 0.03040112741291523, -0.02293228916823864, -0.00040753354551270604, 0.02446899563074112, -0.03299545496702194, -0.0006159980548545718, 0.10305844247341156, -0.0023264549672603607, -0.04382089525461197, 0.03479288890957832, 0.08542438596487045, 0.0026990165933966637, -0.05801437795162201, 0.017570778727531433, 1.3583878408689223e-34, -0.03432239964604378, 0.0009079049341380596, -0.004187998827546835, -0.010864615440368652, 0.00746578723192215, -0.0037146613467484713, 0.0018862609285861254, -0.01174072828143835, 0.05101265385746956, 0.0008828238933347166, 0.004050464369356632]\n"
          ]
        }
      ],
      "source": [
        "print(result) #a frase \"Um teste apenas\" foi convertida para o seguinte embedding, que é valor um conjuntos de len(result) valores"
      ]
    },
    {
      "cell_type": "code",
      "execution_count": 24,
      "metadata": {
        "colab": {
          "base_uri": "https://localhost:8080/"
        },
        "id": "VusKUOuYlfs5",
        "outputId": "ca825ddc-6ab2-4958-9e6e-414a7e494fc2"
      },
      "outputs": [
        {
          "output_type": "execute_result",
          "data": {
            "text/plain": [
              "768"
            ]
          },
          "metadata": {},
          "execution_count": 24
        }
      ],
      "source": [
        "len(result) #representação numérica do texto"
      ]
    },
    {
      "cell_type": "code",
      "execution_count": 25,
      "metadata": {
        "colab": {
          "base_uri": "https://localhost:8080/"
        },
        "id": "YYYQMGsMvPiO",
        "outputId": "18cd581e-21de-409b-8a0a-2ad2e32e40af"
      },
      "outputs": [
        {
          "output_type": "stream",
          "name": "stdout",
          "text": [
            "[-0.026895038783550262, -0.011064727790653706, -0.04532000422477722, -0.0013972934102639556, 0.04243597015738487, -0.014201696030795574, 0.023354969918727875, 0.06011558324098587, 0.06152193248271942, 0.006502091884613037, 0.008159181103110313, -0.03056747280061245, 0.002060319297015667, 0.0129615543410182, 0.0042511713691055775, 0.0036631484981626272, -0.026755547150969505, 0.029737001284956932, -0.009770059026777744, -0.04650460556149483, -0.028108958154916763, 0.00016859530296642333, -0.02481103502213955, -0.01182831171900034, 0.0818282887339592, 0.0014993064105510712, 0.013264846988022327, -0.0624217726290226, -0.0012287232093513012, 0.02897718735039234, -0.02952898107469082, -0.02569606713950634, 0.0033771232701838017, -0.028868917375802994, 1.518517706244893e-06, -0.038824815303087234, -0.019842024892568588, -0.01765807531774044, -0.008112371899187565, -0.025130528956651688, 0.02574918232858181, 0.11367510259151459, -0.006133151240646839, -0.017986435443162918, -0.04541146382689476, -0.027877163141965866, 0.0015602917410433292, -0.0915532186627388, -0.04099876061081886, 0.09265203773975372, 0.004412863869220018, 0.010464552789926529, 0.0007996013155207038, -0.01969103328883648, 0.03650812432169914, -0.03294996917247772, -0.008631080389022827, -0.0701548159122467, 0.04781186580657959, 0.012426985427737236, 0.03929924964904785, -0.033150918781757355, 0.03459771350026131, 0.05724998190999031, -0.08736564218997955, 0.03071817383170128, 0.031383365392684937, 0.014051029458642006, 0.0017950452165678144, -0.005633516237139702, 0.048154640942811966, -0.019206702709197998, -0.011559934355318546, 0.08503212779760361, -0.006487331353127956, 0.0023521259427070618, -0.04190335050225258, 0.017693039029836655, -0.01843789592385292, -0.02610538713634014, 0.0648563951253891, 0.025859491899609566, 0.023214776068925858, 0.0554584264755249, 0.026868967339396477, 0.002058833371847868, 0.0009315970819443464, -0.026096777990460396, 0.057364970445632935, -0.02261415868997574, -0.07133799046278, -0.03026532754302025, -0.03707360476255417, 0.005593064706772566, -0.020938213914632797, 0.006007066462188959, 0.028800733387470245, -0.07083354890346527, 0.0412924624979496, -0.015260562300682068, 0.003454473102465272, -0.04460637643933296, -0.015291132964193821, 0.027724318206310272, -0.05711265280842781, 0.04585937410593033, -0.005197699647396803, 0.006527126766741276, -0.009516854770481586, 0.02570897713303566, -0.021213361993432045, -0.02610078640282154, -0.05994536355137825, 0.00188832962885499, -0.020556801930069923, 0.03388512507081032, -0.03254192695021629, -0.03989897295832634, -0.028026042506098747, 0.03304499760270119, -0.07813964784145355, 0.028564518317580223, 0.007828633300960064, -0.02149881049990654, 0.023470843210816383, -0.04386105760931969, -0.025265313684940338, 0.021412473171949387, -0.005160038359463215, -0.006203554105013609, 0.030328555032610893, -0.015578067861497402, -0.03226369991898537, -0.014691651798784733, 0.02736281231045723, 0.06135481968522072, 0.008915895596146584, -0.06337064504623413, 0.09293574094772339, -0.07296948879957199, 0.005000986624509096, -0.02166319638490677, 0.016979020088911057, 0.03933105245232582, 0.05606888234615326, 0.004061491694301367, 0.04266587644815445, -0.009427452459931374, -0.013593715615570545, 0.004144093953073025, 0.10023453831672668, -0.024249106645584106, 0.0068891397677361965, -0.006571978330612183, -0.0011964755831286311, 0.05975862592458725, 0.025898486375808716, -0.023822546005249023, -0.010319588705897331, 0.017328668385744095, 0.0173043180257082, 0.01799534633755684, -0.01657755672931671, 0.03262535482645035, 0.054933130741119385, 0.042793162167072296, 0.010805409401655197, 0.07248571515083313, 0.015065865591168404, 0.05297965928912163, -0.018466275185346603, -0.0021782119292765856, 0.013975239358842373, 0.01650877855718136, -0.03288945555686951, -0.026282010599970818, -0.017118748277425766, 0.0534709133207798, 0.03749589994549751, -0.09625166654586792, 0.053749892860651016, -0.09891689568758011, 0.04951918125152588, -0.04478053003549576, -0.005402707494795322, 0.030070597305893898, -0.018221495673060417, 0.008066208101809025, -0.04340552166104317, 0.03534466773271561, 0.031540773808956146, -0.0004619679821189493, -0.06522036343812943, 0.02847008965909481, 0.009117978624999523, -0.0018554190173745155, -0.00044073438039049506, -0.04350675269961357, -0.026620857417583466, -0.004173624329268932, -0.002683849772438407, -0.06295042484998703, 0.13889802992343903, -0.0025076030287891626, -0.008020883426070213, 0.0054751732386648655, 0.044193219393491745, -0.015630565583705902, 0.008162650279700756, -0.043154045939445496, -0.07802567631006241, -0.022255435585975647, -0.008205280639231205, -0.01221882738173008, 0.006667277310043573, -0.00887050200253725, -0.016143636777997017, 0.048574790358543396, -0.06864812225103378, 0.10150335729122162, 0.014913775026798248, 0.002720410469919443, -0.006364232394844294, 0.03729986399412155, -0.045359160751104355, 0.0015552741242572665, -0.008102761581540108, -0.0040617468766868114, -0.021751224994659424, 0.02236347831785679, 0.003913441207259893, -0.016853906214237213, 0.03583041578531265, -0.010102756321430206, 0.022808976471424103, 0.04941322281956673, 0.004059604834765196, -0.03163040801882744, -0.017502741888165474, -0.04231629520654678, -0.016446959227323532, 0.053416673094034195, -0.039991915225982666, -0.02412639744579792, -0.0008644228219054639, -0.03582378849387169, 0.046420641243457794, 0.03517133742570877, -0.002933637471869588, -0.02181144431233406, -0.007590729743242264, -0.0033185093197971582, -0.017720654606819153, -0.0041961283423006535, 0.060929760336875916, 0.03119385801255703, -0.04978980869054794, 0.02892782725393772, 0.018123405054211617, 0.005587434396147728, 0.04935727268457413, -0.038371630012989044, 0.0139800189062953, -0.005702251568436623, 0.11206532269716263, -0.03078642301261425, -0.01954059489071369, -0.061976879835128784, -0.005198345519602299, -0.01293474156409502, 0.04317965358495712, 0.05277307704091072, -0.00538673298433423, -0.005967993754893541, -0.020812474191188812, 0.006294076796621084, -0.019052626565098763, 0.03348452225327492, 0.015530155040323734, -0.025307225063443184, 0.003892389126121998, -0.011546121910214424, -0.022205747663974762, 0.005664370488375425, 0.02406254969537258, -0.0006229202845133841, 0.03223336488008499, -0.02209942415356636, 0.014996851794421673, 0.039078664034605026, -0.04726675525307655, -0.03156282752752304, -0.001101477537304163, 0.029367156326770782, -0.0059446548111736774, 0.0634828433394432, -0.028771432116627693, 0.08674214035272598, 0.04289359599351883, 0.016258111223578453, 0.057968154549598694, 0.04520077258348465, 0.00011932123743463308, -0.056625720113515854, 0.033665940165519714, 0.02216404490172863, -0.0648011565208435, -0.04862651973962784, 0.05708763003349304, -0.031306441873311996, 0.008798073045909405, -0.01576829142868519, 0.031604185700416565, 0.05372083559632301, -0.005637555383145809, 0.0025357382837682962, 0.03380724415183067, -0.07810928672552109, -0.04002636298537254, -0.022713780403137207, -0.027494752779603004, 0.04770010709762573, 0.007517891936004162, 0.004207357298582792, -0.030075984075665474, -0.06297487020492554, 0.029867522418498993, -0.031434595584869385, -0.03369980677962303, 0.01676107384264469, 0.00127014413010329, -0.05749840289354324, 0.025166962295770645, 0.03966621309518814, 0.007802662439644337, -0.02373928390443325, -0.0226193405687809, -0.004246965982019901, 0.02225457690656185, -0.012884587980806828, -0.0029128447640687227, -0.017688989639282227, -0.013026625849306583, -0.005166524555534124, 0.001362202106975019, 0.0578576996922493, 0.004168863408267498, 0.05172509327530861, -0.05108503997325897, -0.04914679005742073, -0.020909802988171577, 0.008270839229226112, -0.00133987027220428, -0.01461722794920206, 0.00036254673614166677, 0.0131101468577981, -0.007299026474356651, -0.0019826190546154976, 0.000883846718352288, -0.007931417785584927, -0.032286930829286575, -0.010726961307227612, -0.03096960484981537, -0.03613130375742912, -0.028829751536250114, 0.03239418938755989, -0.0021129262167960405, 0.0019668755121529102, -0.01113358698785305, -0.040890827775001526, 0.029149780049920082, 0.01285879872739315, -0.014429617673158646, 0.04041210934519768, -0.007630528882145882, 0.018905023112893105, 0.018534718081355095, 0.00792849250137806, -0.009208353236317635, -0.007835193537175655, 0.012929647229611874, -0.060546450316905975, 0.02852936089038849, -0.040509097278118134, -0.011371166445314884, -0.034710220992565155, 0.025328604504466057, 0.019807571545243263, -0.01273144781589508, 0.014655858278274536, 0.02746948041021824, -0.045956242829561234, 0.06308944523334503, 0.030518297106027603, 0.005620464216917753, -0.009370359592139721, 0.07778029888868332, 0.003372215898707509, 0.03219781070947647, 0.046399734914302826, 0.0551895946264267, 0.0694604367017746, -0.06990893930196762, 0.025291262194514275, -0.014019901864230633, -0.043432701379060745, 0.024918386712670326, 0.04559718817472458, 0.014913517981767654, -0.05965792387723923, 0.02631625160574913, -0.036386698484420776, -0.012211600318551064, 0.000953885552007705, -0.04916291683912277, -0.004886298906058073, 0.015948191285133362, -0.0362151637673378, 0.0003701477835420519, 0.015516567043960094, 0.04279937595129013, 0.09239181876182556, 0.03407518193125725, -0.028672615066170692, -0.0442204587161541, -0.015852227807044983, -0.05367333069443703, -0.014707908034324646, -0.03172875568270683, 0.02312006801366806, 0.0039332471787929535, 0.0208926759660244, 0.034247901290655136, -0.03408131003379822, -0.056498218327760696, -0.02956194244325161, -0.05883109197020531, -0.0012100721942260861, 0.007963237352669239, -0.04625130817294121, -0.025428080931305885, -0.00013847224181517959, -0.008623521775007248, 0.024245867505669594, -0.08036450296640396, -0.07633547484874725, -0.016686638817191124, 0.020801350474357605, -0.006170312874019146, 0.02786565013229847, 0.06137003377079964, 0.050424497574567795, -0.004134743474423885, -0.004570536781102419, 0.06354054063558578, -0.0176461823284626, 0.0020858237985521555, -0.004755185917019844, -0.00017063696577679366, 0.014183689840137959, 0.006581716705113649, 0.018288223072886467, 0.005858188029378653, -0.019091743975877762, -0.04988212510943413, -0.03656895458698273, -0.014485616236925125, -0.046975649893283844, 0.019555598497390747, -0.0395633690059185, -0.0514669269323349, -0.009109018370509148, -0.007895085029304028, 0.008904315531253815, -0.004791661165654659, 0.01499959360808134, -0.043376632034778595, -0.005429117940366268, -0.058005500584840775, 0.013606703840196133, 0.02750350907444954, 0.0029979690443724394, -0.006302862428128719, -0.04706652835011482, -0.00048449725727550685, 0.006820727605372667, 0.028988629579544067, -0.008416968397796154, 0.04322490841150284, 0.06299041211605072, -0.023079903796315193, 0.01426252443343401, -0.008182890713214874, -0.04585285112261772, -0.060829292982816696, -0.01765950582921505, 0.032998934388160706, 0.014474363066256046, 0.042233411222696304, 0.014864031225442886, 0.014850093051791191, 0.04350024089217186, 0.0043899319134652615, 0.020708493888378143, 0.028191326186060905, 0.05633518472313881, -0.022038018330931664, 0.012528309598565102, 0.020243098959326744, -0.02720511704683304, 0.030859913676977158, 0.05097552016377449, 0.057061951607465744, 0.04912228882312775, -0.07532686740159988, -0.03875262290239334, -0.06011516973376274, -0.04778816178441048, -0.04121813923120499, -0.0067374142818152905, 0.022876989096403122, -0.005868743639439344, -0.03185902163386345, -0.0017397513147443533, 0.011983741074800491, 0.02512999437749386, 0.0010289804777130485, -0.027509262785315514, 0.08624660968780518, 0.010777056217193604, -0.01709023118019104, -0.019142301753163338, 0.04873695224523544, -0.0038058925420045853, -0.05204712599515915, 0.03652622550725937, 0.060623008757829666, -0.033699993044137955, -0.05457993224263191, -0.03006914258003235, 0.02362070232629776, -0.00040285472641699016, -0.026550674811005592, 0.00036423467099666595, 0.04256290942430496, 0.04173571243882179, 0.013853278942406178, 0.06419757753610611, 0.0022169470321387053, 0.016585707664489746, 0.0017610389040783048, 0.09430364519357681, -0.12284836173057556, 0.011991472914814949, -0.08268553763628006, -6.041272483794708e-33, 0.029623964801430702, -0.04171998053789139, 0.03399186208844185, -0.04317367821931839, -0.02169002592563629, -0.005367739591747522, -0.015080608427524567, 0.01596459560096264, 0.008724517188966274, 0.014837757684290409, 0.012467566877603531, -0.08036110550165176, 0.011160050518810749, -0.008566008880734444, 0.013953996822237968, 0.035220917314291, 0.009990103542804718, -0.043255966156721115, -0.0424102246761322, -0.02629796601831913, -0.0189993716776371, -0.023900412023067474, 0.06179909035563469, 0.015350040048360825, 0.03656080365180969, -0.05076818913221359, 0.014108455739915371, 0.006591079290956259, -0.08108485490083694, -0.0007322560995817184, 0.0223105289041996, 0.009007135406136513, 0.04123253375291824, 0.03427502140402794, 0.07497353851795197, 0.0013246753951534629, 0.039470940828323364, -0.037754666060209274, 0.05166225507855415, 0.035693928599357605, -0.050363536924123764, -0.03865087032318115, 0.0005449859309010208, -0.010135224089026451, 0.005389264784753323, 0.020403491333127022, -0.0009994148276746273, -0.04171357303857803, 0.02308122254908085, -0.045247867703437805, 0.030325787141919136, 0.010595048777759075, 0.02601919323205948, -0.041253410279750824, 0.022419845685362816, 0.09777531772851944, -0.012653072364628315, -0.08025769144296646, 0.03153529018163681, -0.003796131582930684, 0.03268150985240936, -0.015776662155985832, 0.01083444431424141, -0.029962662607431412, -0.017286302521824837, -0.012102213688194752, 0.045264121145009995, -0.02983252890408039, 0.04376808553934097, 0.023305509239435196, -0.00014861022646073252, 0.0009504701010882854, 0.015173202380537987, 0.0022456019651144743, -0.007003559730947018, 0.02967291697859764, 0.004535234998911619, 0.014706531539559364, 0.03527473658323288, 0.039405159652233124, 0.005220011807978153, -0.031784169375896454, -0.02239251881837845, 0.009863256476819515, -0.008316915482282639, -0.046990685164928436, -0.027865998446941376, -0.06348733603954315, -0.05670987442135811, -0.010592453181743622, 0.0034515182487666607, 0.05052618682384491, -0.02408197708427906, -0.03432294353842735, 0.010506992228329182, -0.06821903586387634, -0.08237326145172119, -0.014462570659816265, 0.01888204552233219, 0.00798802636563778, -0.031108295544981956, 0.02713708207011223, 0.017847904935479164, 0.0864173173904419, -0.032928988337516785, -0.030301561579108238, 0.011653636582195759, -0.027213234454393387, -0.01407267153263092, 0.03499468043446541, 0.02563856914639473, 0.04131951183080673, 0.020941678434610367, -0.029840201139450073, 0.010065642185509205, 0.06347320973873138, 0.025003375485539436, -0.027065938338637352, -0.03164173290133476, -0.0483323335647583, -0.059617966413497925, 0.022296689450740814, -0.003733031451702118, 0.008703596889972687, -0.04224719479680061, -0.034361325204372406, 0.019108666107058525, 0.0657314583659172, -0.06816918402910233, -0.03570781648159027, -0.006035949103534222, -0.026023898273706436, 2.345032612538489e-07, -0.021343091502785683, 0.06288006901741028, 0.023480752483010292, -0.018586423248052597, 0.030350375920534134, -0.016687771305441856, -0.018327591940760612, 0.042415618896484375, 0.011716832406818867, 0.01138868648558855, 0.016773052513599396, -0.02297777123749256, -0.0073629384860396385, 0.0002796227636281401, -0.031322747468948364, 0.031277675181627274, -0.0695112943649292, -0.01377976592630148, -0.024242019280791283, -0.052494876086711884, -0.025316279381513596, 0.010528587736189365, -0.006585215218365192, -0.0234767347574234, -0.04902523383498192, -0.014900345355272293, 0.025055907666683197, 0.0225448627024889, -0.04918356612324715, -0.06017875671386719, 0.042779285460710526, 0.0858953446149826, 0.0031902119517326355, 0.02429933473467827, 0.015067098662257195, -0.021560082212090492, 0.0023984876461327076, -0.0007855644798837602, 0.018858373165130615, 0.030646750703454018, 0.048287201672792435, -0.04779693856835365, -0.017014682292938232, 0.0034241448156535625, 0.04564568027853966, -0.00624847924336791, -0.019756196066737175, -0.02017003856599331, 0.05161748081445694, -0.03356390446424484, -0.02270865999162197, 0.0026186301838606596, 0.007378630340099335, 0.03040112741291523, -0.02293228916823864, -0.00040753354551270604, 0.02446899563074112, -0.03299545496702194, -0.0006159980548545718, 0.10305844247341156, -0.0023264549672603607, -0.04382089525461197, 0.03479288890957832, 0.08542438596487045, 0.0026990165933966637, -0.05801437795162201, 0.017570778727531433, 1.3583878408689223e-34, -0.03432239964604378, 0.0009079049341380596, -0.004187998827546835, -0.010864615440368652, 0.00746578723192215, -0.0037146613467484713, 0.0018862609285861254, -0.01174072828143835, 0.05101265385746956, 0.0008828238933347166, 0.004050464369356632]\n"
          ]
        }
      ],
      "source": [
        "print(result)"
      ]
    },
    {
      "cell_type": "markdown",
      "metadata": {
        "id": "mGsQVo5ww3HM"
      },
      "source": [
        "#Geração de embeddings e indexação"
      ]
    },
    {
      "cell_type": "markdown",
      "metadata": {
        "id": "I-JqHp_gxLaH"
      },
      "source": [
        "Armazenamento no banco de dados vetorial\n",
        "\n",
        "Aqui os embeddings gerados serão armazenados em um banco de dados vetorial.\n",
        "\n",
        "Todos os textos estão dentro da variável 'chunks'. Tem-se o total de len(chunks) divisões"
      ]
    },
    {
      "cell_type": "code",
      "execution_count": 26,
      "metadata": {
        "colab": {
          "base_uri": "https://localhost:8080/"
        },
        "id": "VGL6Moesx1lw",
        "outputId": "d3574086-f6ed-4b94-8aa2-db85431f5747"
      },
      "outputs": [
        {
          "output_type": "execute_result",
          "data": {
            "text/plain": [
              "11"
            ]
          },
          "metadata": {},
          "execution_count": 26
        }
      ],
      "source": [
        "len(chunks)"
      ]
    },
    {
      "cell_type": "code",
      "execution_count": 27,
      "metadata": {
        "id": "TuV6Fsd8ylkx"
      },
      "outputs": [],
      "source": [
        "#Aplicação do embeddings\n",
        "#conversão do texto para representações numéricas, bem como a criação da base de dados\n",
        "vectorstore = FAISS.from_texts(chunks, embedding=embeddings) #embeddings está fazendo a implementação do modelo"
      ]
    },
    {
      "cell_type": "markdown",
      "metadata": {
        "id": "b4SQHmuHzjnI"
      },
      "source": [
        "Salvado índice FAISS"
      ]
    },
    {
      "cell_type": "code",
      "execution_count": 28,
      "metadata": {
        "id": "M3lliJYSzlzj"
      },
      "outputs": [],
      "source": [
        "vectorstore.save_local(\"faiss_index\") #os arquivos gerados na pasta são usados para armazenar os dados"
      ]
    },
    {
      "cell_type": "code",
      "execution_count": 29,
      "metadata": {
        "id": "M054BoG70J3Y"
      },
      "outputs": [],
      "source": [
        "#Para carregar o índice salvo no disco\n",
        "\n",
        "#db = FAISS.load_local(\"faiss_index\", embeddings)"
      ]
    },
    {
      "cell_type": "markdown",
      "metadata": {
        "id": "T6aMEzM01xOt"
      },
      "source": [
        "# Recuperação de dados e geração de textos"
      ]
    },
    {
      "cell_type": "markdown",
      "metadata": {
        "id": "W9Qd26V03qEm"
      },
      "source": [
        "Busca os dados mais relevantes solicitados pelo usuário, usando-os na geraçaõ das respostas. A pergunta do usuário é enviada à base de dados, são feitos vários cálculos de similaridade entre a pergunta do usuário e os dados armazenados(a similaridade é calculada por meio dos embeddings). Na sequência, essa mesma questão, juntamente com os embeddings mais similares, é enviada à LLM para gerar a resposta.\n",
        "\n",
        "O modelo responde combinando a pergunta do usuário com o contexto recuperado."
      ]
    },
    {
      "cell_type": "markdown",
      "metadata": {
        "id": "MhZB5QXa41fu"
      },
      "source": [
        "Configurando o recuperador de texto / retriever"
      ]
    },
    {
      "cell_type": "code",
      "execution_count": 30,
      "metadata": {
        "colab": {
          "base_uri": "https://localhost:8080/"
        },
        "id": "Uh7mXEsa48iS",
        "outputId": "b039d0f6-2f10-409c-eed6-3de8cd90fe98"
      },
      "outputs": [
        {
          "output_type": "execute_result",
          "data": {
            "text/plain": [
              "VectorStoreRetriever(tags=['FAISS', 'HuggingFaceEmbeddings'], vectorstore=<langchain_community.vectorstores.faiss.FAISS object at 0x7f310805f050>, search_kwargs={'k': 6})"
            ]
          },
          "metadata": {},
          "execution_count": 30
        }
      ],
      "source": [
        "#classe do langchain que envolve um índice capaz de retornar objetos do tipo documents dada uma consulta em formato de string\n",
        "retriever = vectorstore.as_retriever(search_type = \"similarity\", search_kwargs = {\"k\": 6})\n",
        "#similarity é o tipo de pesquisa que será realizada\n",
        "#k: indica o número de documentos retornados pelo recuperador; aqui é feita a busca de 6 documentos mais similares para que a LLM baseie sua resposta\n",
        "#o valor pode variar para mais ou menos documentos, dependendo das características do estudo de caso\n",
        "retriever\n",
        "\n",
        "#basicamente, o que se está fazendo é a busca de similaridade dentro do documento"
      ]
    },
    {
      "cell_type": "markdown",
      "metadata": {
        "id": "t1qzsD0l9b0Q"
      },
      "source": [
        "Geração dos textos"
      ]
    },
    {
      "cell_type": "code",
      "execution_count": 31,
      "metadata": {
        "colab": {
          "base_uri": "https://localhost:8080/"
        },
        "id": "yM1VC3Z17gR6",
        "outputId": "d29b7aa2-2e01-4241-9aeb-357344745298"
      },
      "outputs": [
        {
          "output_type": "execute_result",
          "data": {
            "text/plain": [
              "PromptTemplate(input_variables=['context', 'input'], input_types={}, partial_variables={}, template='\\nPergunta: {input}\\nContexto: {context}\\n')"
            ]
          },
          "metadata": {},
          "execution_count": 31
        }
      ],
      "source": [
        "prompt_rag = PromptTemplate(\n",
        "    input_variables = [\"context\", \"input\"],\n",
        "    template = template_rag,\n",
        ")\n",
        "\n",
        "prompt_rag\n"
      ]
    },
    {
      "cell_type": "code",
      "execution_count": 32,
      "metadata": {
        "id": "g4JTuV_X-PU2"
      },
      "outputs": [],
      "source": [
        "#criação da chain\n",
        "from langchain_core.runnables import RunnablePassthrough #classe para criar fluxos ou pipelines\n",
        "\n",
        "chain_rag = (\n",
        "    {\"context\": retriever, \"input\": RunnablePassthrough()} | prompt_rag | llm | StrOutputParser()\n",
        ")"
      ]
    },
    {
      "cell_type": "code",
      "execution_count": 33,
      "metadata": {
        "colab": {
          "base_uri": "https://localhost:8080/",
          "height": 155
        },
        "id": "XcRVN9uCBv9w",
        "outputId": "3c2b709b-e551-4ad4-f39e-eaf54d178b25"
      },
      "outputs": [
        {
          "output_type": "display_data",
          "data": {
            "text/plain": [
              "<IPython.core.display.Markdown object>"
            ],
            "text/markdown": "As etapas do cadastro são:\n\n1. Acesse o app ou portal da FaceSecure\n2. Informe dados pessoais (nome, CPF, e-mail)\n3. Envie foto de documento oficial\n4. Grave o vídeo para reconhecimento facial\n5. Concorde com os termos de uso e política de privacidade"
          },
          "metadata": {}
        }
      ],
      "source": [
        "#teste\n",
        "\n",
        "res = chain_rag.invoke(\"Quais são as etapas do cadastro?\")\n",
        "show_res(res)\n"
      ]
    },
    {
      "cell_type": "markdown",
      "metadata": {
        "id": "NFJLcb_DF3_M"
      },
      "source": [
        "# Melhorias no prompt"
      ]
    },
    {
      "cell_type": "markdown",
      "metadata": {
        "id": "SJlPPT8kFW3q"
      },
      "source": [
        "Melhorias no prompt para deixá-lo mais específico através da adesão de algumas regras para garantir que o resultado seja o mais próximo do que o usuário deseja"
      ]
    },
    {
      "cell_type": "code",
      "execution_count": 34,
      "metadata": {
        "colab": {
          "base_uri": "https://localhost:8080/"
        },
        "id": "FYf4brvOHBcA",
        "outputId": "7ec2083b-094a-4d43-af97-0acadfd33ac2"
      },
      "outputs": [
        {
          "output_type": "execute_result",
          "data": {
            "text/plain": [
              "ChatPromptTemplate(input_variables=['context', 'input'], input_types={}, partial_variables={}, messages=[SystemMessagePromptTemplate(prompt=PromptTemplate(input_variables=[], input_types={}, partial_variables={}, template='Você é um assistente virtual prestativo e está respondendo perguntas gerais sobre os serviços de uma empresa.\\nUse os seguintes pedaços de contexto recuperado para responder à pergunta.\\nSe você não sabe a resposta, apenas comente que não sabe dizer com certeza.\\nMas caso seja uma dúvida muito comum, pode sugerir como alternativa uma solução possível.\\nMantenha a resposta concisa.\\nResponda em português. \\n\\n'), additional_kwargs={}), HumanMessagePromptTemplate(prompt=PromptTemplate(input_variables=['context', 'input'], input_types={}, partial_variables={}, template='Pergunta: {input}\\n\\n Contexto: {context}'), additional_kwargs={})])"
            ]
          },
          "metadata": {},
          "execution_count": 34
        }
      ],
      "source": [
        "system_prompt = \"\"\"Você é um assistente virtual prestativo e está respondendo perguntas gerais sobre os serviços de uma empresa.\n",
        "Use os seguintes pedaços de contexto recuperado para responder à pergunta.\n",
        "Se você não sabe a resposta, apenas comente que não sabe dizer com certeza.\n",
        "Mas caso seja uma dúvida muito comum, pode sugerir como alternativa uma solução possível.\n",
        "Mantenha a resposta concisa.\n",
        "Responda em português. \\n\\n\"\"\"\n",
        "\n",
        "qa_prompt = ChatPromptTemplate.from_messages(\n",
        "    [\n",
        "        (\"system\", system_prompt),\n",
        "        (\"human\", \"Pergunta: {input}\\n\\n Contexto: {context}\"),\n",
        "    ]\n",
        ")\n",
        "qa_prompt"
      ]
    },
    {
      "cell_type": "code",
      "execution_count": 35,
      "metadata": {
        "colab": {
          "base_uri": "https://localhost:8080/",
          "height": 155
        },
        "id": "Z1Cn-yr-H8Ih",
        "outputId": "2325aecf-7fc4-461a-b256-a54fe95ea287"
      },
      "outputs": [
        {
          "output_type": "display_data",
          "data": {
            "text/plain": [
              "<IPython.core.display.Markdown object>"
            ],
            "text/markdown": "As etapas do cadastro são:\n\n1. Acesse o app ou portal da FaceSecure\n2. Informe dados pessoais (nome, CPF, e-mail)\n3. Envie foto de documento oficial\n4. Grave o vídeo para reconhecimento facial\n5. Concorde com os termos de uso e política de privacidade"
          },
          "metadata": {}
        }
      ],
      "source": [
        "chain_rag = (\n",
        "    {\"context\": retriever, \"input\": RunnablePassthrough()} | prompt_rag | llm | StrOutputParser()\n",
        ")\n",
        "\n",
        "res = chain_rag.invoke(\"Quais são as etapas do cadastro?\")\n",
        "show_res(res)"
      ]
    },
    {
      "cell_type": "markdown",
      "metadata": {
        "id": "GF6nRo8vI3Uq"
      },
      "source": [
        "# Melhoria no método de busca"
      ]
    },
    {
      "cell_type": "code",
      "execution_count": 36,
      "metadata": {
        "id": "KVG3twvFJBIa"
      },
      "outputs": [],
      "source": [
        "retriever = vectorstore.as_retriever(\n",
        "    search_type='mmr', #algoritmo relevância marginal máxima que vai selecionar os documentos recuperados principalmente para evitar dados duplicados,\n",
        "    #garantindo um equilíbrio entre relevância e diversidade dos itens recuperados por relevância e diversidade\n",
        "    search_kwargs={'k':3, 'fetch_k':4}  #fetch_k: quantos documentos são recuperados antes de aplicar o algoritmo nmr\n",
        ")"
      ]
    },
    {
      "cell_type": "markdown",
      "metadata": {
        "id": "OWMZTc99K-4l"
      },
      "source": [
        "Valores maiores de fetch-k, entre 20 e 50, podem gerar resultados com maior relevância, pois o algoritmo terá mais documentos para escolher, porém, há maior custo computacional\n",
        "\n",
        "Valores ideais para fetch_k dependem do tamanho e qualidade da base de dados e do equilíbrio desejado entre qualidade do resultado e desempenho.\n",
        "\n",
        "Para este estudo de caso, faremos:\n",
        "\n",
        "Valores de 1 até 5: quando se precisa de poucos documentos altamente relevantes, como em tarefas simples de perguntas e respostas\n",
        "\n",
        "Valores de 10 até 20: para quando se quer oferecer mais contexto ou opções ao usuário, como em um mecanismo de busca ou sistema de recomendação.\n",
        "\n",
        "Portanto, os melhores valores dependem do caso de uso que está sendo implementado."
      ]
    },
    {
      "cell_type": "markdown",
      "metadata": {
        "id": "t0TpAz8TMIUE"
      },
      "source": [
        "# Pipeline RAG"
      ]
    },
    {
      "cell_type": "markdown",
      "source": [
        "A aplicação deve entender o contexto das mensagens. Para isso será usado o histórico da conversa como uma referência para formular a resposta.\n",
        "\n",
        "Em muitas aplicações de perguntas e respostas, como é o caso desse estudo de caso, é desejável que o usuário tenha uma conversa fluida e que a mesma possa fazer referência ao que foi recém-escrito. Isso significa que o pipeline precisa ter um tipo de memória das mensagens anteriores e alguma lógica para incorporá-las ao seu pensamento atual.\n",
        "\n"
      ],
      "metadata": {
        "id": "A3oy4JfrlbCh"
      }
    },
    {
      "cell_type": "markdown",
      "source": [
        "Pergunta do usuário + história da conversa -> history_aware_retriever(é a parte do pipline que vai buscar as conversas para que as respostas sejam contextualizadas)\n",
        "\n",
        "Pergunta do usuário + história -> Contextualização da pergunta em um prompt -> LLM -> Consulta contextualizada -> Retriever -> Busca dos documentos e similares -> LLM gera as respostas\n",
        "\n",
        "*Resumindo: A lógica da impelementação muda. Antes, a pergunta ia direto ao Retriever; agora, ela é reformulada pela LLM com base no histórico antes da busca.*"
      ],
      "metadata": {
        "id": "HGo7nj56nyM8"
      }
    },
    {
      "cell_type": "markdown",
      "source": [
        "\n",
        "\n",
        "---\n",
        "\n",
        "\n",
        "Reformulação da consulta para contextualizar com o histórico\n",
        "\n",
        "\n"
      ],
      "metadata": {
        "id": "sOQtjHSVpoh8"
      }
    },
    {
      "cell_type": "code",
      "source": [
        "from langchain_core.prompts import MessagesPlaceholder\n",
        "from langchain_core.messages import AIMessage, HumanMessage #mensagem enviada pelo algoritmo e mensagem enviada pelo usuário(pessoa)\n",
        "from langchain.chains import create_history_aware_retriever, create_retrieval_chain #função que vai criar o fluxo descrito\n",
        "from langchain.chains.combine_documents import create_stuff_documents_chain #para o envio de documentos que são contexto para esse projeto\n",
        "\n",
        "#Esse prompt irá informar ao modelo para reformular a pergunta com base no histórico\n",
        "#Esse prompt é bem aceito e recomendado pelos autores da biblioteca\n",
        "#A definicaçaõ foi feita inglês por ter maiores chances de funcionar melhor\n",
        "context_q_system_prompt = \"Given the following chat history and the follow-up question which might reference context in the chat history, formulate a standalone question which can be understood without the chat history. Do NOT answer the question, just reformulate it if needed and otherwise return it as is.\"\n",
        "\n",
        "context_q_system_prompt = context_q_system_prompt\n",
        "context_q_user_prompt = \"Question: {input}\" #Apesar de não ser obrigatório, em alguns testes isso ajudou a reforçar a LLM a entender melhor que a parte seguinte é uma pergunta.\n",
        "context_q_prompt = ChatPromptTemplate.from_messages(\n",
        "     [\n",
        "        (\"system\", context_q_system_prompt),\n",
        "        MessagesPlaceholder(\"chat_history\"), #Quais mensagens serão redenrizadas durante a formatação\n",
        "        (\"human\", context_q_user_prompt),\n",
        "     ]\n",
        ")"
      ],
      "metadata": {
        "id": "JvIXmTYHpzwb"
      },
      "execution_count": 37,
      "outputs": []
    },
    {
      "cell_type": "markdown",
      "source": [
        "Em resumo, tem-se duas chains. A primeira chain pode ser considerada uma sub-chain que utiliza mensagens anteriores e a última pergunta para reformular a pergunta. Enquanto que a chain principal, de fato retorna as respostas. Por isso, aqui é especificado e enfatizado que o algoritmo nessa etapa não deve responder a questão."
      ],
      "metadata": {
        "id": "SAkKSjV-t1qq"
      }
    }
  ],
  "metadata": {
    "colab": {
      "provenance": [],
      "include_colab_link": true
    },
    "kernelspec": {
      "display_name": "Python 3",
      "name": "python3"
    },
    "language_info": {
      "name": "python"
    },
    "widgets": {
      "application/vnd.jupyter.widget-state+json": {
        "c0205dc9330b4b84930a6db9a0bd25cb": {
          "model_module": "@jupyter-widgets/controls",
          "model_name": "HBoxModel",
          "model_module_version": "1.5.0",
          "state": {
            "_dom_classes": [],
            "_model_module": "@jupyter-widgets/controls",
            "_model_module_version": "1.5.0",
            "_model_name": "HBoxModel",
            "_view_count": null,
            "_view_module": "@jupyter-widgets/controls",
            "_view_module_version": "1.5.0",
            "_view_name": "HBoxView",
            "box_style": "",
            "children": [
              "IPY_MODEL_2d5b8467bb4f4ff19690ec901a68e46e",
              "IPY_MODEL_2b6643d51ceb4dab86c07db655c0f0de",
              "IPY_MODEL_28e9f61d556747528608840d57a77141"
            ],
            "layout": "IPY_MODEL_97f1538740cc44b0baeae9c5f3126279"
          }
        },
        "2d5b8467bb4f4ff19690ec901a68e46e": {
          "model_module": "@jupyter-widgets/controls",
          "model_name": "HTMLModel",
          "model_module_version": "1.5.0",
          "state": {
            "_dom_classes": [],
            "_model_module": "@jupyter-widgets/controls",
            "_model_module_version": "1.5.0",
            "_model_name": "HTMLModel",
            "_view_count": null,
            "_view_module": "@jupyter-widgets/controls",
            "_view_module_version": "1.5.0",
            "_view_name": "HTMLView",
            "description": "",
            "description_tooltip": null,
            "layout": "IPY_MODEL_4880c1c91f4140fda2698fd213c19a58",
            "placeholder": "​",
            "style": "IPY_MODEL_75b9265cac064a8fa3bda99fab08a62f",
            "value": "modules.json: 100%"
          }
        },
        "2b6643d51ceb4dab86c07db655c0f0de": {
          "model_module": "@jupyter-widgets/controls",
          "model_name": "FloatProgressModel",
          "model_module_version": "1.5.0",
          "state": {
            "_dom_classes": [],
            "_model_module": "@jupyter-widgets/controls",
            "_model_module_version": "1.5.0",
            "_model_name": "FloatProgressModel",
            "_view_count": null,
            "_view_module": "@jupyter-widgets/controls",
            "_view_module_version": "1.5.0",
            "_view_name": "ProgressView",
            "bar_style": "success",
            "description": "",
            "description_tooltip": null,
            "layout": "IPY_MODEL_54b172ec92944d218687ef92e0d15818",
            "max": 349,
            "min": 0,
            "orientation": "horizontal",
            "style": "IPY_MODEL_282e33b74dda49959e17b5a1b37c0fdf",
            "value": 349
          }
        },
        "28e9f61d556747528608840d57a77141": {
          "model_module": "@jupyter-widgets/controls",
          "model_name": "HTMLModel",
          "model_module_version": "1.5.0",
          "state": {
            "_dom_classes": [],
            "_model_module": "@jupyter-widgets/controls",
            "_model_module_version": "1.5.0",
            "_model_name": "HTMLModel",
            "_view_count": null,
            "_view_module": "@jupyter-widgets/controls",
            "_view_module_version": "1.5.0",
            "_view_name": "HTMLView",
            "description": "",
            "description_tooltip": null,
            "layout": "IPY_MODEL_faa3b27f9d124ff48ad0fe158a6fb22f",
            "placeholder": "​",
            "style": "IPY_MODEL_7d8015699f8544f883ee6d9299182f99",
            "value": " 349/349 [00:00&lt;00:00, 27.9kB/s]"
          }
        },
        "97f1538740cc44b0baeae9c5f3126279": {
          "model_module": "@jupyter-widgets/base",
          "model_name": "LayoutModel",
          "model_module_version": "1.2.0",
          "state": {
            "_model_module": "@jupyter-widgets/base",
            "_model_module_version": "1.2.0",
            "_model_name": "LayoutModel",
            "_view_count": null,
            "_view_module": "@jupyter-widgets/base",
            "_view_module_version": "1.2.0",
            "_view_name": "LayoutView",
            "align_content": null,
            "align_items": null,
            "align_self": null,
            "border": null,
            "bottom": null,
            "display": null,
            "flex": null,
            "flex_flow": null,
            "grid_area": null,
            "grid_auto_columns": null,
            "grid_auto_flow": null,
            "grid_auto_rows": null,
            "grid_column": null,
            "grid_gap": null,
            "grid_row": null,
            "grid_template_areas": null,
            "grid_template_columns": null,
            "grid_template_rows": null,
            "height": null,
            "justify_content": null,
            "justify_items": null,
            "left": null,
            "margin": null,
            "max_height": null,
            "max_width": null,
            "min_height": null,
            "min_width": null,
            "object_fit": null,
            "object_position": null,
            "order": null,
            "overflow": null,
            "overflow_x": null,
            "overflow_y": null,
            "padding": null,
            "right": null,
            "top": null,
            "visibility": null,
            "width": null
          }
        },
        "4880c1c91f4140fda2698fd213c19a58": {
          "model_module": "@jupyter-widgets/base",
          "model_name": "LayoutModel",
          "model_module_version": "1.2.0",
          "state": {
            "_model_module": "@jupyter-widgets/base",
            "_model_module_version": "1.2.0",
            "_model_name": "LayoutModel",
            "_view_count": null,
            "_view_module": "@jupyter-widgets/base",
            "_view_module_version": "1.2.0",
            "_view_name": "LayoutView",
            "align_content": null,
            "align_items": null,
            "align_self": null,
            "border": null,
            "bottom": null,
            "display": null,
            "flex": null,
            "flex_flow": null,
            "grid_area": null,
            "grid_auto_columns": null,
            "grid_auto_flow": null,
            "grid_auto_rows": null,
            "grid_column": null,
            "grid_gap": null,
            "grid_row": null,
            "grid_template_areas": null,
            "grid_template_columns": null,
            "grid_template_rows": null,
            "height": null,
            "justify_content": null,
            "justify_items": null,
            "left": null,
            "margin": null,
            "max_height": null,
            "max_width": null,
            "min_height": null,
            "min_width": null,
            "object_fit": null,
            "object_position": null,
            "order": null,
            "overflow": null,
            "overflow_x": null,
            "overflow_y": null,
            "padding": null,
            "right": null,
            "top": null,
            "visibility": null,
            "width": null
          }
        },
        "75b9265cac064a8fa3bda99fab08a62f": {
          "model_module": "@jupyter-widgets/controls",
          "model_name": "DescriptionStyleModel",
          "model_module_version": "1.5.0",
          "state": {
            "_model_module": "@jupyter-widgets/controls",
            "_model_module_version": "1.5.0",
            "_model_name": "DescriptionStyleModel",
            "_view_count": null,
            "_view_module": "@jupyter-widgets/base",
            "_view_module_version": "1.2.0",
            "_view_name": "StyleView",
            "description_width": ""
          }
        },
        "54b172ec92944d218687ef92e0d15818": {
          "model_module": "@jupyter-widgets/base",
          "model_name": "LayoutModel",
          "model_module_version": "1.2.0",
          "state": {
            "_model_module": "@jupyter-widgets/base",
            "_model_module_version": "1.2.0",
            "_model_name": "LayoutModel",
            "_view_count": null,
            "_view_module": "@jupyter-widgets/base",
            "_view_module_version": "1.2.0",
            "_view_name": "LayoutView",
            "align_content": null,
            "align_items": null,
            "align_self": null,
            "border": null,
            "bottom": null,
            "display": null,
            "flex": null,
            "flex_flow": null,
            "grid_area": null,
            "grid_auto_columns": null,
            "grid_auto_flow": null,
            "grid_auto_rows": null,
            "grid_column": null,
            "grid_gap": null,
            "grid_row": null,
            "grid_template_areas": null,
            "grid_template_columns": null,
            "grid_template_rows": null,
            "height": null,
            "justify_content": null,
            "justify_items": null,
            "left": null,
            "margin": null,
            "max_height": null,
            "max_width": null,
            "min_height": null,
            "min_width": null,
            "object_fit": null,
            "object_position": null,
            "order": null,
            "overflow": null,
            "overflow_x": null,
            "overflow_y": null,
            "padding": null,
            "right": null,
            "top": null,
            "visibility": null,
            "width": null
          }
        },
        "282e33b74dda49959e17b5a1b37c0fdf": {
          "model_module": "@jupyter-widgets/controls",
          "model_name": "ProgressStyleModel",
          "model_module_version": "1.5.0",
          "state": {
            "_model_module": "@jupyter-widgets/controls",
            "_model_module_version": "1.5.0",
            "_model_name": "ProgressStyleModel",
            "_view_count": null,
            "_view_module": "@jupyter-widgets/base",
            "_view_module_version": "1.2.0",
            "_view_name": "StyleView",
            "bar_color": null,
            "description_width": ""
          }
        },
        "faa3b27f9d124ff48ad0fe158a6fb22f": {
          "model_module": "@jupyter-widgets/base",
          "model_name": "LayoutModel",
          "model_module_version": "1.2.0",
          "state": {
            "_model_module": "@jupyter-widgets/base",
            "_model_module_version": "1.2.0",
            "_model_name": "LayoutModel",
            "_view_count": null,
            "_view_module": "@jupyter-widgets/base",
            "_view_module_version": "1.2.0",
            "_view_name": "LayoutView",
            "align_content": null,
            "align_items": null,
            "align_self": null,
            "border": null,
            "bottom": null,
            "display": null,
            "flex": null,
            "flex_flow": null,
            "grid_area": null,
            "grid_auto_columns": null,
            "grid_auto_flow": null,
            "grid_auto_rows": null,
            "grid_column": null,
            "grid_gap": null,
            "grid_row": null,
            "grid_template_areas": null,
            "grid_template_columns": null,
            "grid_template_rows": null,
            "height": null,
            "justify_content": null,
            "justify_items": null,
            "left": null,
            "margin": null,
            "max_height": null,
            "max_width": null,
            "min_height": null,
            "min_width": null,
            "object_fit": null,
            "object_position": null,
            "order": null,
            "overflow": null,
            "overflow_x": null,
            "overflow_y": null,
            "padding": null,
            "right": null,
            "top": null,
            "visibility": null,
            "width": null
          }
        },
        "7d8015699f8544f883ee6d9299182f99": {
          "model_module": "@jupyter-widgets/controls",
          "model_name": "DescriptionStyleModel",
          "model_module_version": "1.5.0",
          "state": {
            "_model_module": "@jupyter-widgets/controls",
            "_model_module_version": "1.5.0",
            "_model_name": "DescriptionStyleModel",
            "_view_count": null,
            "_view_module": "@jupyter-widgets/base",
            "_view_module_version": "1.2.0",
            "_view_name": "StyleView",
            "description_width": ""
          }
        },
        "040b1dead55f47428e1589e02d282014": {
          "model_module": "@jupyter-widgets/controls",
          "model_name": "HBoxModel",
          "model_module_version": "1.5.0",
          "state": {
            "_dom_classes": [],
            "_model_module": "@jupyter-widgets/controls",
            "_model_module_version": "1.5.0",
            "_model_name": "HBoxModel",
            "_view_count": null,
            "_view_module": "@jupyter-widgets/controls",
            "_view_module_version": "1.5.0",
            "_view_name": "HBoxView",
            "box_style": "",
            "children": [
              "IPY_MODEL_8740c7ebb3bd4b30afd89c7b20bb5cd1",
              "IPY_MODEL_bbb9d1fa77a340d69eb96e01a31aaba7",
              "IPY_MODEL_e5c11a7228264cb694d8642517fee0d6"
            ],
            "layout": "IPY_MODEL_69c2ffedb6304d8da9331a99bf6773e1"
          }
        },
        "8740c7ebb3bd4b30afd89c7b20bb5cd1": {
          "model_module": "@jupyter-widgets/controls",
          "model_name": "HTMLModel",
          "model_module_version": "1.5.0",
          "state": {
            "_dom_classes": [],
            "_model_module": "@jupyter-widgets/controls",
            "_model_module_version": "1.5.0",
            "_model_name": "HTMLModel",
            "_view_count": null,
            "_view_module": "@jupyter-widgets/controls",
            "_view_module_version": "1.5.0",
            "_view_name": "HTMLView",
            "description": "",
            "description_tooltip": null,
            "layout": "IPY_MODEL_3326d2cb38da41f7872bba4e9506ae09",
            "placeholder": "​",
            "style": "IPY_MODEL_39a3cba6cfff4dd195b624687c1fd080",
            "value": "config_sentence_transformers.json: 100%"
          }
        },
        "bbb9d1fa77a340d69eb96e01a31aaba7": {
          "model_module": "@jupyter-widgets/controls",
          "model_name": "FloatProgressModel",
          "model_module_version": "1.5.0",
          "state": {
            "_dom_classes": [],
            "_model_module": "@jupyter-widgets/controls",
            "_model_module_version": "1.5.0",
            "_model_name": "FloatProgressModel",
            "_view_count": null,
            "_view_module": "@jupyter-widgets/controls",
            "_view_module_version": "1.5.0",
            "_view_name": "ProgressView",
            "bar_style": "success",
            "description": "",
            "description_tooltip": null,
            "layout": "IPY_MODEL_6c35ff8d64284893ab3891b7867d8ed5",
            "max": 116,
            "min": 0,
            "orientation": "horizontal",
            "style": "IPY_MODEL_fa536787e6434beca24fadb69aff77da",
            "value": 116
          }
        },
        "e5c11a7228264cb694d8642517fee0d6": {
          "model_module": "@jupyter-widgets/controls",
          "model_name": "HTMLModel",
          "model_module_version": "1.5.0",
          "state": {
            "_dom_classes": [],
            "_model_module": "@jupyter-widgets/controls",
            "_model_module_version": "1.5.0",
            "_model_name": "HTMLModel",
            "_view_count": null,
            "_view_module": "@jupyter-widgets/controls",
            "_view_module_version": "1.5.0",
            "_view_name": "HTMLView",
            "description": "",
            "description_tooltip": null,
            "layout": "IPY_MODEL_061879aa90cb42dfb908295c7d56c8d0",
            "placeholder": "​",
            "style": "IPY_MODEL_ea36628b24274e2fbf07e34906281cde",
            "value": " 116/116 [00:00&lt;00:00, 9.89kB/s]"
          }
        },
        "69c2ffedb6304d8da9331a99bf6773e1": {
          "model_module": "@jupyter-widgets/base",
          "model_name": "LayoutModel",
          "model_module_version": "1.2.0",
          "state": {
            "_model_module": "@jupyter-widgets/base",
            "_model_module_version": "1.2.0",
            "_model_name": "LayoutModel",
            "_view_count": null,
            "_view_module": "@jupyter-widgets/base",
            "_view_module_version": "1.2.0",
            "_view_name": "LayoutView",
            "align_content": null,
            "align_items": null,
            "align_self": null,
            "border": null,
            "bottom": null,
            "display": null,
            "flex": null,
            "flex_flow": null,
            "grid_area": null,
            "grid_auto_columns": null,
            "grid_auto_flow": null,
            "grid_auto_rows": null,
            "grid_column": null,
            "grid_gap": null,
            "grid_row": null,
            "grid_template_areas": null,
            "grid_template_columns": null,
            "grid_template_rows": null,
            "height": null,
            "justify_content": null,
            "justify_items": null,
            "left": null,
            "margin": null,
            "max_height": null,
            "max_width": null,
            "min_height": null,
            "min_width": null,
            "object_fit": null,
            "object_position": null,
            "order": null,
            "overflow": null,
            "overflow_x": null,
            "overflow_y": null,
            "padding": null,
            "right": null,
            "top": null,
            "visibility": null,
            "width": null
          }
        },
        "3326d2cb38da41f7872bba4e9506ae09": {
          "model_module": "@jupyter-widgets/base",
          "model_name": "LayoutModel",
          "model_module_version": "1.2.0",
          "state": {
            "_model_module": "@jupyter-widgets/base",
            "_model_module_version": "1.2.0",
            "_model_name": "LayoutModel",
            "_view_count": null,
            "_view_module": "@jupyter-widgets/base",
            "_view_module_version": "1.2.0",
            "_view_name": "LayoutView",
            "align_content": null,
            "align_items": null,
            "align_self": null,
            "border": null,
            "bottom": null,
            "display": null,
            "flex": null,
            "flex_flow": null,
            "grid_area": null,
            "grid_auto_columns": null,
            "grid_auto_flow": null,
            "grid_auto_rows": null,
            "grid_column": null,
            "grid_gap": null,
            "grid_row": null,
            "grid_template_areas": null,
            "grid_template_columns": null,
            "grid_template_rows": null,
            "height": null,
            "justify_content": null,
            "justify_items": null,
            "left": null,
            "margin": null,
            "max_height": null,
            "max_width": null,
            "min_height": null,
            "min_width": null,
            "object_fit": null,
            "object_position": null,
            "order": null,
            "overflow": null,
            "overflow_x": null,
            "overflow_y": null,
            "padding": null,
            "right": null,
            "top": null,
            "visibility": null,
            "width": null
          }
        },
        "39a3cba6cfff4dd195b624687c1fd080": {
          "model_module": "@jupyter-widgets/controls",
          "model_name": "DescriptionStyleModel",
          "model_module_version": "1.5.0",
          "state": {
            "_model_module": "@jupyter-widgets/controls",
            "_model_module_version": "1.5.0",
            "_model_name": "DescriptionStyleModel",
            "_view_count": null,
            "_view_module": "@jupyter-widgets/base",
            "_view_module_version": "1.2.0",
            "_view_name": "StyleView",
            "description_width": ""
          }
        },
        "6c35ff8d64284893ab3891b7867d8ed5": {
          "model_module": "@jupyter-widgets/base",
          "model_name": "LayoutModel",
          "model_module_version": "1.2.0",
          "state": {
            "_model_module": "@jupyter-widgets/base",
            "_model_module_version": "1.2.0",
            "_model_name": "LayoutModel",
            "_view_count": null,
            "_view_module": "@jupyter-widgets/base",
            "_view_module_version": "1.2.0",
            "_view_name": "LayoutView",
            "align_content": null,
            "align_items": null,
            "align_self": null,
            "border": null,
            "bottom": null,
            "display": null,
            "flex": null,
            "flex_flow": null,
            "grid_area": null,
            "grid_auto_columns": null,
            "grid_auto_flow": null,
            "grid_auto_rows": null,
            "grid_column": null,
            "grid_gap": null,
            "grid_row": null,
            "grid_template_areas": null,
            "grid_template_columns": null,
            "grid_template_rows": null,
            "height": null,
            "justify_content": null,
            "justify_items": null,
            "left": null,
            "margin": null,
            "max_height": null,
            "max_width": null,
            "min_height": null,
            "min_width": null,
            "object_fit": null,
            "object_position": null,
            "order": null,
            "overflow": null,
            "overflow_x": null,
            "overflow_y": null,
            "padding": null,
            "right": null,
            "top": null,
            "visibility": null,
            "width": null
          }
        },
        "fa536787e6434beca24fadb69aff77da": {
          "model_module": "@jupyter-widgets/controls",
          "model_name": "ProgressStyleModel",
          "model_module_version": "1.5.0",
          "state": {
            "_model_module": "@jupyter-widgets/controls",
            "_model_module_version": "1.5.0",
            "_model_name": "ProgressStyleModel",
            "_view_count": null,
            "_view_module": "@jupyter-widgets/base",
            "_view_module_version": "1.2.0",
            "_view_name": "StyleView",
            "bar_color": null,
            "description_width": ""
          }
        },
        "061879aa90cb42dfb908295c7d56c8d0": {
          "model_module": "@jupyter-widgets/base",
          "model_name": "LayoutModel",
          "model_module_version": "1.2.0",
          "state": {
            "_model_module": "@jupyter-widgets/base",
            "_model_module_version": "1.2.0",
            "_model_name": "LayoutModel",
            "_view_count": null,
            "_view_module": "@jupyter-widgets/base",
            "_view_module_version": "1.2.0",
            "_view_name": "LayoutView",
            "align_content": null,
            "align_items": null,
            "align_self": null,
            "border": null,
            "bottom": null,
            "display": null,
            "flex": null,
            "flex_flow": null,
            "grid_area": null,
            "grid_auto_columns": null,
            "grid_auto_flow": null,
            "grid_auto_rows": null,
            "grid_column": null,
            "grid_gap": null,
            "grid_row": null,
            "grid_template_areas": null,
            "grid_template_columns": null,
            "grid_template_rows": null,
            "height": null,
            "justify_content": null,
            "justify_items": null,
            "left": null,
            "margin": null,
            "max_height": null,
            "max_width": null,
            "min_height": null,
            "min_width": null,
            "object_fit": null,
            "object_position": null,
            "order": null,
            "overflow": null,
            "overflow_x": null,
            "overflow_y": null,
            "padding": null,
            "right": null,
            "top": null,
            "visibility": null,
            "width": null
          }
        },
        "ea36628b24274e2fbf07e34906281cde": {
          "model_module": "@jupyter-widgets/controls",
          "model_name": "DescriptionStyleModel",
          "model_module_version": "1.5.0",
          "state": {
            "_model_module": "@jupyter-widgets/controls",
            "_model_module_version": "1.5.0",
            "_model_name": "DescriptionStyleModel",
            "_view_count": null,
            "_view_module": "@jupyter-widgets/base",
            "_view_module_version": "1.2.0",
            "_view_name": "StyleView",
            "description_width": ""
          }
        },
        "1cb4ef00bbd34992a56038eb6ec2a8a3": {
          "model_module": "@jupyter-widgets/controls",
          "model_name": "HBoxModel",
          "model_module_version": "1.5.0",
          "state": {
            "_dom_classes": [],
            "_model_module": "@jupyter-widgets/controls",
            "_model_module_version": "1.5.0",
            "_model_name": "HBoxModel",
            "_view_count": null,
            "_view_module": "@jupyter-widgets/controls",
            "_view_module_version": "1.5.0",
            "_view_name": "HBoxView",
            "box_style": "",
            "children": [
              "IPY_MODEL_9b9d263adf1a4222ad95605dfedc2540",
              "IPY_MODEL_6bd5a3c73b8a4d3ba65077e182bd03c4",
              "IPY_MODEL_577be96bbe7b4b3e82a5e60497b7d45a"
            ],
            "layout": "IPY_MODEL_ed27cf10432c4ced8bd6ccc7bdab6c8c"
          }
        },
        "9b9d263adf1a4222ad95605dfedc2540": {
          "model_module": "@jupyter-widgets/controls",
          "model_name": "HTMLModel",
          "model_module_version": "1.5.0",
          "state": {
            "_dom_classes": [],
            "_model_module": "@jupyter-widgets/controls",
            "_model_module_version": "1.5.0",
            "_model_name": "HTMLModel",
            "_view_count": null,
            "_view_module": "@jupyter-widgets/controls",
            "_view_module_version": "1.5.0",
            "_view_name": "HTMLView",
            "description": "",
            "description_tooltip": null,
            "layout": "IPY_MODEL_34b5b4ecf4e248b5930b2a097732d83c",
            "placeholder": "​",
            "style": "IPY_MODEL_5eae2e4aedca48dbadb5b986b944dff1",
            "value": "README.md: "
          }
        },
        "6bd5a3c73b8a4d3ba65077e182bd03c4": {
          "model_module": "@jupyter-widgets/controls",
          "model_name": "FloatProgressModel",
          "model_module_version": "1.5.0",
          "state": {
            "_dom_classes": [],
            "_model_module": "@jupyter-widgets/controls",
            "_model_module_version": "1.5.0",
            "_model_name": "FloatProgressModel",
            "_view_count": null,
            "_view_module": "@jupyter-widgets/controls",
            "_view_module_version": "1.5.0",
            "_view_name": "ProgressView",
            "bar_style": "success",
            "description": "",
            "description_tooltip": null,
            "layout": "IPY_MODEL_c5740ad84a554f728300bca609cc1443",
            "max": 1,
            "min": 0,
            "orientation": "horizontal",
            "style": "IPY_MODEL_b35acd0cb6d54d289bed27be346cdc4f",
            "value": 1
          }
        },
        "577be96bbe7b4b3e82a5e60497b7d45a": {
          "model_module": "@jupyter-widgets/controls",
          "model_name": "HTMLModel",
          "model_module_version": "1.5.0",
          "state": {
            "_dom_classes": [],
            "_model_module": "@jupyter-widgets/controls",
            "_model_module_version": "1.5.0",
            "_model_name": "HTMLModel",
            "_view_count": null,
            "_view_module": "@jupyter-widgets/controls",
            "_view_module_version": "1.5.0",
            "_view_name": "HTMLView",
            "description": "",
            "description_tooltip": null,
            "layout": "IPY_MODEL_09b78a7d8bd441b28d6e1d84839c8fb7",
            "placeholder": "​",
            "style": "IPY_MODEL_5cf57f68b3634129baa2a47abaec3fb2",
            "value": " 10.4k/? [00:00&lt;00:00, 773kB/s]"
          }
        },
        "ed27cf10432c4ced8bd6ccc7bdab6c8c": {
          "model_module": "@jupyter-widgets/base",
          "model_name": "LayoutModel",
          "model_module_version": "1.2.0",
          "state": {
            "_model_module": "@jupyter-widgets/base",
            "_model_module_version": "1.2.0",
            "_model_name": "LayoutModel",
            "_view_count": null,
            "_view_module": "@jupyter-widgets/base",
            "_view_module_version": "1.2.0",
            "_view_name": "LayoutView",
            "align_content": null,
            "align_items": null,
            "align_self": null,
            "border": null,
            "bottom": null,
            "display": null,
            "flex": null,
            "flex_flow": null,
            "grid_area": null,
            "grid_auto_columns": null,
            "grid_auto_flow": null,
            "grid_auto_rows": null,
            "grid_column": null,
            "grid_gap": null,
            "grid_row": null,
            "grid_template_areas": null,
            "grid_template_columns": null,
            "grid_template_rows": null,
            "height": null,
            "justify_content": null,
            "justify_items": null,
            "left": null,
            "margin": null,
            "max_height": null,
            "max_width": null,
            "min_height": null,
            "min_width": null,
            "object_fit": null,
            "object_position": null,
            "order": null,
            "overflow": null,
            "overflow_x": null,
            "overflow_y": null,
            "padding": null,
            "right": null,
            "top": null,
            "visibility": null,
            "width": null
          }
        },
        "34b5b4ecf4e248b5930b2a097732d83c": {
          "model_module": "@jupyter-widgets/base",
          "model_name": "LayoutModel",
          "model_module_version": "1.2.0",
          "state": {
            "_model_module": "@jupyter-widgets/base",
            "_model_module_version": "1.2.0",
            "_model_name": "LayoutModel",
            "_view_count": null,
            "_view_module": "@jupyter-widgets/base",
            "_view_module_version": "1.2.0",
            "_view_name": "LayoutView",
            "align_content": null,
            "align_items": null,
            "align_self": null,
            "border": null,
            "bottom": null,
            "display": null,
            "flex": null,
            "flex_flow": null,
            "grid_area": null,
            "grid_auto_columns": null,
            "grid_auto_flow": null,
            "grid_auto_rows": null,
            "grid_column": null,
            "grid_gap": null,
            "grid_row": null,
            "grid_template_areas": null,
            "grid_template_columns": null,
            "grid_template_rows": null,
            "height": null,
            "justify_content": null,
            "justify_items": null,
            "left": null,
            "margin": null,
            "max_height": null,
            "max_width": null,
            "min_height": null,
            "min_width": null,
            "object_fit": null,
            "object_position": null,
            "order": null,
            "overflow": null,
            "overflow_x": null,
            "overflow_y": null,
            "padding": null,
            "right": null,
            "top": null,
            "visibility": null,
            "width": null
          }
        },
        "5eae2e4aedca48dbadb5b986b944dff1": {
          "model_module": "@jupyter-widgets/controls",
          "model_name": "DescriptionStyleModel",
          "model_module_version": "1.5.0",
          "state": {
            "_model_module": "@jupyter-widgets/controls",
            "_model_module_version": "1.5.0",
            "_model_name": "DescriptionStyleModel",
            "_view_count": null,
            "_view_module": "@jupyter-widgets/base",
            "_view_module_version": "1.2.0",
            "_view_name": "StyleView",
            "description_width": ""
          }
        },
        "c5740ad84a554f728300bca609cc1443": {
          "model_module": "@jupyter-widgets/base",
          "model_name": "LayoutModel",
          "model_module_version": "1.2.0",
          "state": {
            "_model_module": "@jupyter-widgets/base",
            "_model_module_version": "1.2.0",
            "_model_name": "LayoutModel",
            "_view_count": null,
            "_view_module": "@jupyter-widgets/base",
            "_view_module_version": "1.2.0",
            "_view_name": "LayoutView",
            "align_content": null,
            "align_items": null,
            "align_self": null,
            "border": null,
            "bottom": null,
            "display": null,
            "flex": null,
            "flex_flow": null,
            "grid_area": null,
            "grid_auto_columns": null,
            "grid_auto_flow": null,
            "grid_auto_rows": null,
            "grid_column": null,
            "grid_gap": null,
            "grid_row": null,
            "grid_template_areas": null,
            "grid_template_columns": null,
            "grid_template_rows": null,
            "height": null,
            "justify_content": null,
            "justify_items": null,
            "left": null,
            "margin": null,
            "max_height": null,
            "max_width": null,
            "min_height": null,
            "min_width": null,
            "object_fit": null,
            "object_position": null,
            "order": null,
            "overflow": null,
            "overflow_x": null,
            "overflow_y": null,
            "padding": null,
            "right": null,
            "top": null,
            "visibility": null,
            "width": "20px"
          }
        },
        "b35acd0cb6d54d289bed27be346cdc4f": {
          "model_module": "@jupyter-widgets/controls",
          "model_name": "ProgressStyleModel",
          "model_module_version": "1.5.0",
          "state": {
            "_model_module": "@jupyter-widgets/controls",
            "_model_module_version": "1.5.0",
            "_model_name": "ProgressStyleModel",
            "_view_count": null,
            "_view_module": "@jupyter-widgets/base",
            "_view_module_version": "1.2.0",
            "_view_name": "StyleView",
            "bar_color": null,
            "description_width": ""
          }
        },
        "09b78a7d8bd441b28d6e1d84839c8fb7": {
          "model_module": "@jupyter-widgets/base",
          "model_name": "LayoutModel",
          "model_module_version": "1.2.0",
          "state": {
            "_model_module": "@jupyter-widgets/base",
            "_model_module_version": "1.2.0",
            "_model_name": "LayoutModel",
            "_view_count": null,
            "_view_module": "@jupyter-widgets/base",
            "_view_module_version": "1.2.0",
            "_view_name": "LayoutView",
            "align_content": null,
            "align_items": null,
            "align_self": null,
            "border": null,
            "bottom": null,
            "display": null,
            "flex": null,
            "flex_flow": null,
            "grid_area": null,
            "grid_auto_columns": null,
            "grid_auto_flow": null,
            "grid_auto_rows": null,
            "grid_column": null,
            "grid_gap": null,
            "grid_row": null,
            "grid_template_areas": null,
            "grid_template_columns": null,
            "grid_template_rows": null,
            "height": null,
            "justify_content": null,
            "justify_items": null,
            "left": null,
            "margin": null,
            "max_height": null,
            "max_width": null,
            "min_height": null,
            "min_width": null,
            "object_fit": null,
            "object_position": null,
            "order": null,
            "overflow": null,
            "overflow_x": null,
            "overflow_y": null,
            "padding": null,
            "right": null,
            "top": null,
            "visibility": null,
            "width": null
          }
        },
        "5cf57f68b3634129baa2a47abaec3fb2": {
          "model_module": "@jupyter-widgets/controls",
          "model_name": "DescriptionStyleModel",
          "model_module_version": "1.5.0",
          "state": {
            "_model_module": "@jupyter-widgets/controls",
            "_model_module_version": "1.5.0",
            "_model_name": "DescriptionStyleModel",
            "_view_count": null,
            "_view_module": "@jupyter-widgets/base",
            "_view_module_version": "1.2.0",
            "_view_name": "StyleView",
            "description_width": ""
          }
        },
        "21223912fb0f4a75b4c44f10d9544ab2": {
          "model_module": "@jupyter-widgets/controls",
          "model_name": "HBoxModel",
          "model_module_version": "1.5.0",
          "state": {
            "_dom_classes": [],
            "_model_module": "@jupyter-widgets/controls",
            "_model_module_version": "1.5.0",
            "_model_name": "HBoxModel",
            "_view_count": null,
            "_view_module": "@jupyter-widgets/controls",
            "_view_module_version": "1.5.0",
            "_view_name": "HBoxView",
            "box_style": "",
            "children": [
              "IPY_MODEL_8f1406ff70974db39d2743e091f5351c",
              "IPY_MODEL_8fffd18e4ef046d9bb209811e4d45b09",
              "IPY_MODEL_4f17d9e716e846438164096b14d778c0"
            ],
            "layout": "IPY_MODEL_d9178f7ffbc24be3ae26431af2d53e60"
          }
        },
        "8f1406ff70974db39d2743e091f5351c": {
          "model_module": "@jupyter-widgets/controls",
          "model_name": "HTMLModel",
          "model_module_version": "1.5.0",
          "state": {
            "_dom_classes": [],
            "_model_module": "@jupyter-widgets/controls",
            "_model_module_version": "1.5.0",
            "_model_name": "HTMLModel",
            "_view_count": null,
            "_view_module": "@jupyter-widgets/controls",
            "_view_module_version": "1.5.0",
            "_view_name": "HTMLView",
            "description": "",
            "description_tooltip": null,
            "layout": "IPY_MODEL_fa0f82b28b9442389aabe5a2915932a8",
            "placeholder": "​",
            "style": "IPY_MODEL_42237c1c729443cfb4ac2cab56e0d6a1",
            "value": "sentence_bert_config.json: 100%"
          }
        },
        "8fffd18e4ef046d9bb209811e4d45b09": {
          "model_module": "@jupyter-widgets/controls",
          "model_name": "FloatProgressModel",
          "model_module_version": "1.5.0",
          "state": {
            "_dom_classes": [],
            "_model_module": "@jupyter-widgets/controls",
            "_model_module_version": "1.5.0",
            "_model_name": "FloatProgressModel",
            "_view_count": null,
            "_view_module": "@jupyter-widgets/controls",
            "_view_module_version": "1.5.0",
            "_view_name": "ProgressView",
            "bar_style": "success",
            "description": "",
            "description_tooltip": null,
            "layout": "IPY_MODEL_00eb1d4c00c54fee89f436b13d9028ce",
            "max": 53,
            "min": 0,
            "orientation": "horizontal",
            "style": "IPY_MODEL_e83719ef49d048f1941bc4b7db18e2d7",
            "value": 53
          }
        },
        "4f17d9e716e846438164096b14d778c0": {
          "model_module": "@jupyter-widgets/controls",
          "model_name": "HTMLModel",
          "model_module_version": "1.5.0",
          "state": {
            "_dom_classes": [],
            "_model_module": "@jupyter-widgets/controls",
            "_model_module_version": "1.5.0",
            "_model_name": "HTMLModel",
            "_view_count": null,
            "_view_module": "@jupyter-widgets/controls",
            "_view_module_version": "1.5.0",
            "_view_name": "HTMLView",
            "description": "",
            "description_tooltip": null,
            "layout": "IPY_MODEL_ebaa971f88d1410db9a2fb70b32675e2",
            "placeholder": "​",
            "style": "IPY_MODEL_c434860ece29464ba39c33acaff4aa0b",
            "value": " 53.0/53.0 [00:00&lt;00:00, 5.08kB/s]"
          }
        },
        "d9178f7ffbc24be3ae26431af2d53e60": {
          "model_module": "@jupyter-widgets/base",
          "model_name": "LayoutModel",
          "model_module_version": "1.2.0",
          "state": {
            "_model_module": "@jupyter-widgets/base",
            "_model_module_version": "1.2.0",
            "_model_name": "LayoutModel",
            "_view_count": null,
            "_view_module": "@jupyter-widgets/base",
            "_view_module_version": "1.2.0",
            "_view_name": "LayoutView",
            "align_content": null,
            "align_items": null,
            "align_self": null,
            "border": null,
            "bottom": null,
            "display": null,
            "flex": null,
            "flex_flow": null,
            "grid_area": null,
            "grid_auto_columns": null,
            "grid_auto_flow": null,
            "grid_auto_rows": null,
            "grid_column": null,
            "grid_gap": null,
            "grid_row": null,
            "grid_template_areas": null,
            "grid_template_columns": null,
            "grid_template_rows": null,
            "height": null,
            "justify_content": null,
            "justify_items": null,
            "left": null,
            "margin": null,
            "max_height": null,
            "max_width": null,
            "min_height": null,
            "min_width": null,
            "object_fit": null,
            "object_position": null,
            "order": null,
            "overflow": null,
            "overflow_x": null,
            "overflow_y": null,
            "padding": null,
            "right": null,
            "top": null,
            "visibility": null,
            "width": null
          }
        },
        "fa0f82b28b9442389aabe5a2915932a8": {
          "model_module": "@jupyter-widgets/base",
          "model_name": "LayoutModel",
          "model_module_version": "1.2.0",
          "state": {
            "_model_module": "@jupyter-widgets/base",
            "_model_module_version": "1.2.0",
            "_model_name": "LayoutModel",
            "_view_count": null,
            "_view_module": "@jupyter-widgets/base",
            "_view_module_version": "1.2.0",
            "_view_name": "LayoutView",
            "align_content": null,
            "align_items": null,
            "align_self": null,
            "border": null,
            "bottom": null,
            "display": null,
            "flex": null,
            "flex_flow": null,
            "grid_area": null,
            "grid_auto_columns": null,
            "grid_auto_flow": null,
            "grid_auto_rows": null,
            "grid_column": null,
            "grid_gap": null,
            "grid_row": null,
            "grid_template_areas": null,
            "grid_template_columns": null,
            "grid_template_rows": null,
            "height": null,
            "justify_content": null,
            "justify_items": null,
            "left": null,
            "margin": null,
            "max_height": null,
            "max_width": null,
            "min_height": null,
            "min_width": null,
            "object_fit": null,
            "object_position": null,
            "order": null,
            "overflow": null,
            "overflow_x": null,
            "overflow_y": null,
            "padding": null,
            "right": null,
            "top": null,
            "visibility": null,
            "width": null
          }
        },
        "42237c1c729443cfb4ac2cab56e0d6a1": {
          "model_module": "@jupyter-widgets/controls",
          "model_name": "DescriptionStyleModel",
          "model_module_version": "1.5.0",
          "state": {
            "_model_module": "@jupyter-widgets/controls",
            "_model_module_version": "1.5.0",
            "_model_name": "DescriptionStyleModel",
            "_view_count": null,
            "_view_module": "@jupyter-widgets/base",
            "_view_module_version": "1.2.0",
            "_view_name": "StyleView",
            "description_width": ""
          }
        },
        "00eb1d4c00c54fee89f436b13d9028ce": {
          "model_module": "@jupyter-widgets/base",
          "model_name": "LayoutModel",
          "model_module_version": "1.2.0",
          "state": {
            "_model_module": "@jupyter-widgets/base",
            "_model_module_version": "1.2.0",
            "_model_name": "LayoutModel",
            "_view_count": null,
            "_view_module": "@jupyter-widgets/base",
            "_view_module_version": "1.2.0",
            "_view_name": "LayoutView",
            "align_content": null,
            "align_items": null,
            "align_self": null,
            "border": null,
            "bottom": null,
            "display": null,
            "flex": null,
            "flex_flow": null,
            "grid_area": null,
            "grid_auto_columns": null,
            "grid_auto_flow": null,
            "grid_auto_rows": null,
            "grid_column": null,
            "grid_gap": null,
            "grid_row": null,
            "grid_template_areas": null,
            "grid_template_columns": null,
            "grid_template_rows": null,
            "height": null,
            "justify_content": null,
            "justify_items": null,
            "left": null,
            "margin": null,
            "max_height": null,
            "max_width": null,
            "min_height": null,
            "min_width": null,
            "object_fit": null,
            "object_position": null,
            "order": null,
            "overflow": null,
            "overflow_x": null,
            "overflow_y": null,
            "padding": null,
            "right": null,
            "top": null,
            "visibility": null,
            "width": null
          }
        },
        "e83719ef49d048f1941bc4b7db18e2d7": {
          "model_module": "@jupyter-widgets/controls",
          "model_name": "ProgressStyleModel",
          "model_module_version": "1.5.0",
          "state": {
            "_model_module": "@jupyter-widgets/controls",
            "_model_module_version": "1.5.0",
            "_model_name": "ProgressStyleModel",
            "_view_count": null,
            "_view_module": "@jupyter-widgets/base",
            "_view_module_version": "1.2.0",
            "_view_name": "StyleView",
            "bar_color": null,
            "description_width": ""
          }
        },
        "ebaa971f88d1410db9a2fb70b32675e2": {
          "model_module": "@jupyter-widgets/base",
          "model_name": "LayoutModel",
          "model_module_version": "1.2.0",
          "state": {
            "_model_module": "@jupyter-widgets/base",
            "_model_module_version": "1.2.0",
            "_model_name": "LayoutModel",
            "_view_count": null,
            "_view_module": "@jupyter-widgets/base",
            "_view_module_version": "1.2.0",
            "_view_name": "LayoutView",
            "align_content": null,
            "align_items": null,
            "align_self": null,
            "border": null,
            "bottom": null,
            "display": null,
            "flex": null,
            "flex_flow": null,
            "grid_area": null,
            "grid_auto_columns": null,
            "grid_auto_flow": null,
            "grid_auto_rows": null,
            "grid_column": null,
            "grid_gap": null,
            "grid_row": null,
            "grid_template_areas": null,
            "grid_template_columns": null,
            "grid_template_rows": null,
            "height": null,
            "justify_content": null,
            "justify_items": null,
            "left": null,
            "margin": null,
            "max_height": null,
            "max_width": null,
            "min_height": null,
            "min_width": null,
            "object_fit": null,
            "object_position": null,
            "order": null,
            "overflow": null,
            "overflow_x": null,
            "overflow_y": null,
            "padding": null,
            "right": null,
            "top": null,
            "visibility": null,
            "width": null
          }
        },
        "c434860ece29464ba39c33acaff4aa0b": {
          "model_module": "@jupyter-widgets/controls",
          "model_name": "DescriptionStyleModel",
          "model_module_version": "1.5.0",
          "state": {
            "_model_module": "@jupyter-widgets/controls",
            "_model_module_version": "1.5.0",
            "_model_name": "DescriptionStyleModel",
            "_view_count": null,
            "_view_module": "@jupyter-widgets/base",
            "_view_module_version": "1.2.0",
            "_view_name": "StyleView",
            "description_width": ""
          }
        },
        "8d741f40457d416280ca0bb08fe10492": {
          "model_module": "@jupyter-widgets/controls",
          "model_name": "HBoxModel",
          "model_module_version": "1.5.0",
          "state": {
            "_dom_classes": [],
            "_model_module": "@jupyter-widgets/controls",
            "_model_module_version": "1.5.0",
            "_model_name": "HBoxModel",
            "_view_count": null,
            "_view_module": "@jupyter-widgets/controls",
            "_view_module_version": "1.5.0",
            "_view_name": "HBoxView",
            "box_style": "",
            "children": [
              "IPY_MODEL_e2ca1863e4cb4dedbe4a19970cde0a44",
              "IPY_MODEL_69b0befc6e574e69aea2602af88743e6",
              "IPY_MODEL_5c9441179711427f86a757c1629d86e3"
            ],
            "layout": "IPY_MODEL_f90804d94ab84544b596a83501cee503"
          }
        },
        "e2ca1863e4cb4dedbe4a19970cde0a44": {
          "model_module": "@jupyter-widgets/controls",
          "model_name": "HTMLModel",
          "model_module_version": "1.5.0",
          "state": {
            "_dom_classes": [],
            "_model_module": "@jupyter-widgets/controls",
            "_model_module_version": "1.5.0",
            "_model_name": "HTMLModel",
            "_view_count": null,
            "_view_module": "@jupyter-widgets/controls",
            "_view_module_version": "1.5.0",
            "_view_name": "HTMLView",
            "description": "",
            "description_tooltip": null,
            "layout": "IPY_MODEL_57dafaeee0254dce82a6d591ba305a8e",
            "placeholder": "​",
            "style": "IPY_MODEL_e4fb5531b9cb4d6cbfae9d71d0895b8c",
            "value": "config.json: 100%"
          }
        },
        "69b0befc6e574e69aea2602af88743e6": {
          "model_module": "@jupyter-widgets/controls",
          "model_name": "FloatProgressModel",
          "model_module_version": "1.5.0",
          "state": {
            "_dom_classes": [],
            "_model_module": "@jupyter-widgets/controls",
            "_model_module_version": "1.5.0",
            "_model_name": "FloatProgressModel",
            "_view_count": null,
            "_view_module": "@jupyter-widgets/controls",
            "_view_module_version": "1.5.0",
            "_view_name": "ProgressView",
            "bar_style": "success",
            "description": "",
            "description_tooltip": null,
            "layout": "IPY_MODEL_15be29bbeb13459db4d70aee454a3a90",
            "max": 571,
            "min": 0,
            "orientation": "horizontal",
            "style": "IPY_MODEL_3948a54b6c224d3aa345d08951f0f1dd",
            "value": 571
          }
        },
        "5c9441179711427f86a757c1629d86e3": {
          "model_module": "@jupyter-widgets/controls",
          "model_name": "HTMLModel",
          "model_module_version": "1.5.0",
          "state": {
            "_dom_classes": [],
            "_model_module": "@jupyter-widgets/controls",
            "_model_module_version": "1.5.0",
            "_model_name": "HTMLModel",
            "_view_count": null,
            "_view_module": "@jupyter-widgets/controls",
            "_view_module_version": "1.5.0",
            "_view_name": "HTMLView",
            "description": "",
            "description_tooltip": null,
            "layout": "IPY_MODEL_a99e2081263247ce80cd9318ece44f05",
            "placeholder": "​",
            "style": "IPY_MODEL_029d78fd506a4d81879f3288b12af49c",
            "value": " 571/571 [00:00&lt;00:00, 35.0kB/s]"
          }
        },
        "f90804d94ab84544b596a83501cee503": {
          "model_module": "@jupyter-widgets/base",
          "model_name": "LayoutModel",
          "model_module_version": "1.2.0",
          "state": {
            "_model_module": "@jupyter-widgets/base",
            "_model_module_version": "1.2.0",
            "_model_name": "LayoutModel",
            "_view_count": null,
            "_view_module": "@jupyter-widgets/base",
            "_view_module_version": "1.2.0",
            "_view_name": "LayoutView",
            "align_content": null,
            "align_items": null,
            "align_self": null,
            "border": null,
            "bottom": null,
            "display": null,
            "flex": null,
            "flex_flow": null,
            "grid_area": null,
            "grid_auto_columns": null,
            "grid_auto_flow": null,
            "grid_auto_rows": null,
            "grid_column": null,
            "grid_gap": null,
            "grid_row": null,
            "grid_template_areas": null,
            "grid_template_columns": null,
            "grid_template_rows": null,
            "height": null,
            "justify_content": null,
            "justify_items": null,
            "left": null,
            "margin": null,
            "max_height": null,
            "max_width": null,
            "min_height": null,
            "min_width": null,
            "object_fit": null,
            "object_position": null,
            "order": null,
            "overflow": null,
            "overflow_x": null,
            "overflow_y": null,
            "padding": null,
            "right": null,
            "top": null,
            "visibility": null,
            "width": null
          }
        },
        "57dafaeee0254dce82a6d591ba305a8e": {
          "model_module": "@jupyter-widgets/base",
          "model_name": "LayoutModel",
          "model_module_version": "1.2.0",
          "state": {
            "_model_module": "@jupyter-widgets/base",
            "_model_module_version": "1.2.0",
            "_model_name": "LayoutModel",
            "_view_count": null,
            "_view_module": "@jupyter-widgets/base",
            "_view_module_version": "1.2.0",
            "_view_name": "LayoutView",
            "align_content": null,
            "align_items": null,
            "align_self": null,
            "border": null,
            "bottom": null,
            "display": null,
            "flex": null,
            "flex_flow": null,
            "grid_area": null,
            "grid_auto_columns": null,
            "grid_auto_flow": null,
            "grid_auto_rows": null,
            "grid_column": null,
            "grid_gap": null,
            "grid_row": null,
            "grid_template_areas": null,
            "grid_template_columns": null,
            "grid_template_rows": null,
            "height": null,
            "justify_content": null,
            "justify_items": null,
            "left": null,
            "margin": null,
            "max_height": null,
            "max_width": null,
            "min_height": null,
            "min_width": null,
            "object_fit": null,
            "object_position": null,
            "order": null,
            "overflow": null,
            "overflow_x": null,
            "overflow_y": null,
            "padding": null,
            "right": null,
            "top": null,
            "visibility": null,
            "width": null
          }
        },
        "e4fb5531b9cb4d6cbfae9d71d0895b8c": {
          "model_module": "@jupyter-widgets/controls",
          "model_name": "DescriptionStyleModel",
          "model_module_version": "1.5.0",
          "state": {
            "_model_module": "@jupyter-widgets/controls",
            "_model_module_version": "1.5.0",
            "_model_name": "DescriptionStyleModel",
            "_view_count": null,
            "_view_module": "@jupyter-widgets/base",
            "_view_module_version": "1.2.0",
            "_view_name": "StyleView",
            "description_width": ""
          }
        },
        "15be29bbeb13459db4d70aee454a3a90": {
          "model_module": "@jupyter-widgets/base",
          "model_name": "LayoutModel",
          "model_module_version": "1.2.0",
          "state": {
            "_model_module": "@jupyter-widgets/base",
            "_model_module_version": "1.2.0",
            "_model_name": "LayoutModel",
            "_view_count": null,
            "_view_module": "@jupyter-widgets/base",
            "_view_module_version": "1.2.0",
            "_view_name": "LayoutView",
            "align_content": null,
            "align_items": null,
            "align_self": null,
            "border": null,
            "bottom": null,
            "display": null,
            "flex": null,
            "flex_flow": null,
            "grid_area": null,
            "grid_auto_columns": null,
            "grid_auto_flow": null,
            "grid_auto_rows": null,
            "grid_column": null,
            "grid_gap": null,
            "grid_row": null,
            "grid_template_areas": null,
            "grid_template_columns": null,
            "grid_template_rows": null,
            "height": null,
            "justify_content": null,
            "justify_items": null,
            "left": null,
            "margin": null,
            "max_height": null,
            "max_width": null,
            "min_height": null,
            "min_width": null,
            "object_fit": null,
            "object_position": null,
            "order": null,
            "overflow": null,
            "overflow_x": null,
            "overflow_y": null,
            "padding": null,
            "right": null,
            "top": null,
            "visibility": null,
            "width": null
          }
        },
        "3948a54b6c224d3aa345d08951f0f1dd": {
          "model_module": "@jupyter-widgets/controls",
          "model_name": "ProgressStyleModel",
          "model_module_version": "1.5.0",
          "state": {
            "_model_module": "@jupyter-widgets/controls",
            "_model_module_version": "1.5.0",
            "_model_name": "ProgressStyleModel",
            "_view_count": null,
            "_view_module": "@jupyter-widgets/base",
            "_view_module_version": "1.2.0",
            "_view_name": "StyleView",
            "bar_color": null,
            "description_width": ""
          }
        },
        "a99e2081263247ce80cd9318ece44f05": {
          "model_module": "@jupyter-widgets/base",
          "model_name": "LayoutModel",
          "model_module_version": "1.2.0",
          "state": {
            "_model_module": "@jupyter-widgets/base",
            "_model_module_version": "1.2.0",
            "_model_name": "LayoutModel",
            "_view_count": null,
            "_view_module": "@jupyter-widgets/base",
            "_view_module_version": "1.2.0",
            "_view_name": "LayoutView",
            "align_content": null,
            "align_items": null,
            "align_self": null,
            "border": null,
            "bottom": null,
            "display": null,
            "flex": null,
            "flex_flow": null,
            "grid_area": null,
            "grid_auto_columns": null,
            "grid_auto_flow": null,
            "grid_auto_rows": null,
            "grid_column": null,
            "grid_gap": null,
            "grid_row": null,
            "grid_template_areas": null,
            "grid_template_columns": null,
            "grid_template_rows": null,
            "height": null,
            "justify_content": null,
            "justify_items": null,
            "left": null,
            "margin": null,
            "max_height": null,
            "max_width": null,
            "min_height": null,
            "min_width": null,
            "object_fit": null,
            "object_position": null,
            "order": null,
            "overflow": null,
            "overflow_x": null,
            "overflow_y": null,
            "padding": null,
            "right": null,
            "top": null,
            "visibility": null,
            "width": null
          }
        },
        "029d78fd506a4d81879f3288b12af49c": {
          "model_module": "@jupyter-widgets/controls",
          "model_name": "DescriptionStyleModel",
          "model_module_version": "1.5.0",
          "state": {
            "_model_module": "@jupyter-widgets/controls",
            "_model_module_version": "1.5.0",
            "_model_name": "DescriptionStyleModel",
            "_view_count": null,
            "_view_module": "@jupyter-widgets/base",
            "_view_module_version": "1.2.0",
            "_view_name": "StyleView",
            "description_width": ""
          }
        },
        "f4499d4a4a4c4ad18021014abd70d8d4": {
          "model_module": "@jupyter-widgets/controls",
          "model_name": "HBoxModel",
          "model_module_version": "1.5.0",
          "state": {
            "_dom_classes": [],
            "_model_module": "@jupyter-widgets/controls",
            "_model_module_version": "1.5.0",
            "_model_name": "HBoxModel",
            "_view_count": null,
            "_view_module": "@jupyter-widgets/controls",
            "_view_module_version": "1.5.0",
            "_view_name": "HBoxView",
            "box_style": "",
            "children": [
              "IPY_MODEL_991101b489574faa9b869571b93d4b12",
              "IPY_MODEL_684d9a6931d240ce8dd8f59d729cc4aa",
              "IPY_MODEL_3efc9a9f82da4f888ccbf00d67823baa"
            ],
            "layout": "IPY_MODEL_bfd5200b330a47358b33341af16b1a1b"
          }
        },
        "991101b489574faa9b869571b93d4b12": {
          "model_module": "@jupyter-widgets/controls",
          "model_name": "HTMLModel",
          "model_module_version": "1.5.0",
          "state": {
            "_dom_classes": [],
            "_model_module": "@jupyter-widgets/controls",
            "_model_module_version": "1.5.0",
            "_model_name": "HTMLModel",
            "_view_count": null,
            "_view_module": "@jupyter-widgets/controls",
            "_view_module_version": "1.5.0",
            "_view_name": "HTMLView",
            "description": "",
            "description_tooltip": null,
            "layout": "IPY_MODEL_9dc779184e3548b6a26246b05f885976",
            "placeholder": "​",
            "style": "IPY_MODEL_b6938c7fded64865a3c5f39993453f8d",
            "value": "model.safetensors: 100%"
          }
        },
        "684d9a6931d240ce8dd8f59d729cc4aa": {
          "model_module": "@jupyter-widgets/controls",
          "model_name": "FloatProgressModel",
          "model_module_version": "1.5.0",
          "state": {
            "_dom_classes": [],
            "_model_module": "@jupyter-widgets/controls",
            "_model_module_version": "1.5.0",
            "_model_name": "FloatProgressModel",
            "_view_count": null,
            "_view_module": "@jupyter-widgets/controls",
            "_view_module_version": "1.5.0",
            "_view_name": "ProgressView",
            "bar_style": "success",
            "description": "",
            "description_tooltip": null,
            "layout": "IPY_MODEL_401b7385f7b6458ba832fbc718fed911",
            "max": 437971872,
            "min": 0,
            "orientation": "horizontal",
            "style": "IPY_MODEL_dd0447c91beb478b85f7c86a00086965",
            "value": 437971872
          }
        },
        "3efc9a9f82da4f888ccbf00d67823baa": {
          "model_module": "@jupyter-widgets/controls",
          "model_name": "HTMLModel",
          "model_module_version": "1.5.0",
          "state": {
            "_dom_classes": [],
            "_model_module": "@jupyter-widgets/controls",
            "_model_module_version": "1.5.0",
            "_model_name": "HTMLModel",
            "_view_count": null,
            "_view_module": "@jupyter-widgets/controls",
            "_view_module_version": "1.5.0",
            "_view_name": "HTMLView",
            "description": "",
            "description_tooltip": null,
            "layout": "IPY_MODEL_7fc8c7dc7d5c45e59ba3d35ff2700b54",
            "placeholder": "​",
            "style": "IPY_MODEL_f74c7c2e79564bebbc8613cdb2f730e7",
            "value": " 438M/438M [00:08&lt;00:00, 46.8MB/s]"
          }
        },
        "bfd5200b330a47358b33341af16b1a1b": {
          "model_module": "@jupyter-widgets/base",
          "model_name": "LayoutModel",
          "model_module_version": "1.2.0",
          "state": {
            "_model_module": "@jupyter-widgets/base",
            "_model_module_version": "1.2.0",
            "_model_name": "LayoutModel",
            "_view_count": null,
            "_view_module": "@jupyter-widgets/base",
            "_view_module_version": "1.2.0",
            "_view_name": "LayoutView",
            "align_content": null,
            "align_items": null,
            "align_self": null,
            "border": null,
            "bottom": null,
            "display": null,
            "flex": null,
            "flex_flow": null,
            "grid_area": null,
            "grid_auto_columns": null,
            "grid_auto_flow": null,
            "grid_auto_rows": null,
            "grid_column": null,
            "grid_gap": null,
            "grid_row": null,
            "grid_template_areas": null,
            "grid_template_columns": null,
            "grid_template_rows": null,
            "height": null,
            "justify_content": null,
            "justify_items": null,
            "left": null,
            "margin": null,
            "max_height": null,
            "max_width": null,
            "min_height": null,
            "min_width": null,
            "object_fit": null,
            "object_position": null,
            "order": null,
            "overflow": null,
            "overflow_x": null,
            "overflow_y": null,
            "padding": null,
            "right": null,
            "top": null,
            "visibility": null,
            "width": null
          }
        },
        "9dc779184e3548b6a26246b05f885976": {
          "model_module": "@jupyter-widgets/base",
          "model_name": "LayoutModel",
          "model_module_version": "1.2.0",
          "state": {
            "_model_module": "@jupyter-widgets/base",
            "_model_module_version": "1.2.0",
            "_model_name": "LayoutModel",
            "_view_count": null,
            "_view_module": "@jupyter-widgets/base",
            "_view_module_version": "1.2.0",
            "_view_name": "LayoutView",
            "align_content": null,
            "align_items": null,
            "align_self": null,
            "border": null,
            "bottom": null,
            "display": null,
            "flex": null,
            "flex_flow": null,
            "grid_area": null,
            "grid_auto_columns": null,
            "grid_auto_flow": null,
            "grid_auto_rows": null,
            "grid_column": null,
            "grid_gap": null,
            "grid_row": null,
            "grid_template_areas": null,
            "grid_template_columns": null,
            "grid_template_rows": null,
            "height": null,
            "justify_content": null,
            "justify_items": null,
            "left": null,
            "margin": null,
            "max_height": null,
            "max_width": null,
            "min_height": null,
            "min_width": null,
            "object_fit": null,
            "object_position": null,
            "order": null,
            "overflow": null,
            "overflow_x": null,
            "overflow_y": null,
            "padding": null,
            "right": null,
            "top": null,
            "visibility": null,
            "width": null
          }
        },
        "b6938c7fded64865a3c5f39993453f8d": {
          "model_module": "@jupyter-widgets/controls",
          "model_name": "DescriptionStyleModel",
          "model_module_version": "1.5.0",
          "state": {
            "_model_module": "@jupyter-widgets/controls",
            "_model_module_version": "1.5.0",
            "_model_name": "DescriptionStyleModel",
            "_view_count": null,
            "_view_module": "@jupyter-widgets/base",
            "_view_module_version": "1.2.0",
            "_view_name": "StyleView",
            "description_width": ""
          }
        },
        "401b7385f7b6458ba832fbc718fed911": {
          "model_module": "@jupyter-widgets/base",
          "model_name": "LayoutModel",
          "model_module_version": "1.2.0",
          "state": {
            "_model_module": "@jupyter-widgets/base",
            "_model_module_version": "1.2.0",
            "_model_name": "LayoutModel",
            "_view_count": null,
            "_view_module": "@jupyter-widgets/base",
            "_view_module_version": "1.2.0",
            "_view_name": "LayoutView",
            "align_content": null,
            "align_items": null,
            "align_self": null,
            "border": null,
            "bottom": null,
            "display": null,
            "flex": null,
            "flex_flow": null,
            "grid_area": null,
            "grid_auto_columns": null,
            "grid_auto_flow": null,
            "grid_auto_rows": null,
            "grid_column": null,
            "grid_gap": null,
            "grid_row": null,
            "grid_template_areas": null,
            "grid_template_columns": null,
            "grid_template_rows": null,
            "height": null,
            "justify_content": null,
            "justify_items": null,
            "left": null,
            "margin": null,
            "max_height": null,
            "max_width": null,
            "min_height": null,
            "min_width": null,
            "object_fit": null,
            "object_position": null,
            "order": null,
            "overflow": null,
            "overflow_x": null,
            "overflow_y": null,
            "padding": null,
            "right": null,
            "top": null,
            "visibility": null,
            "width": null
          }
        },
        "dd0447c91beb478b85f7c86a00086965": {
          "model_module": "@jupyter-widgets/controls",
          "model_name": "ProgressStyleModel",
          "model_module_version": "1.5.0",
          "state": {
            "_model_module": "@jupyter-widgets/controls",
            "_model_module_version": "1.5.0",
            "_model_name": "ProgressStyleModel",
            "_view_count": null,
            "_view_module": "@jupyter-widgets/base",
            "_view_module_version": "1.2.0",
            "_view_name": "StyleView",
            "bar_color": null,
            "description_width": ""
          }
        },
        "7fc8c7dc7d5c45e59ba3d35ff2700b54": {
          "model_module": "@jupyter-widgets/base",
          "model_name": "LayoutModel",
          "model_module_version": "1.2.0",
          "state": {
            "_model_module": "@jupyter-widgets/base",
            "_model_module_version": "1.2.0",
            "_model_name": "LayoutModel",
            "_view_count": null,
            "_view_module": "@jupyter-widgets/base",
            "_view_module_version": "1.2.0",
            "_view_name": "LayoutView",
            "align_content": null,
            "align_items": null,
            "align_self": null,
            "border": null,
            "bottom": null,
            "display": null,
            "flex": null,
            "flex_flow": null,
            "grid_area": null,
            "grid_auto_columns": null,
            "grid_auto_flow": null,
            "grid_auto_rows": null,
            "grid_column": null,
            "grid_gap": null,
            "grid_row": null,
            "grid_template_areas": null,
            "grid_template_columns": null,
            "grid_template_rows": null,
            "height": null,
            "justify_content": null,
            "justify_items": null,
            "left": null,
            "margin": null,
            "max_height": null,
            "max_width": null,
            "min_height": null,
            "min_width": null,
            "object_fit": null,
            "object_position": null,
            "order": null,
            "overflow": null,
            "overflow_x": null,
            "overflow_y": null,
            "padding": null,
            "right": null,
            "top": null,
            "visibility": null,
            "width": null
          }
        },
        "f74c7c2e79564bebbc8613cdb2f730e7": {
          "model_module": "@jupyter-widgets/controls",
          "model_name": "DescriptionStyleModel",
          "model_module_version": "1.5.0",
          "state": {
            "_model_module": "@jupyter-widgets/controls",
            "_model_module_version": "1.5.0",
            "_model_name": "DescriptionStyleModel",
            "_view_count": null,
            "_view_module": "@jupyter-widgets/base",
            "_view_module_version": "1.2.0",
            "_view_name": "StyleView",
            "description_width": ""
          }
        },
        "fd3c22404b624c379dafbb8fc109fd48": {
          "model_module": "@jupyter-widgets/controls",
          "model_name": "HBoxModel",
          "model_module_version": "1.5.0",
          "state": {
            "_dom_classes": [],
            "_model_module": "@jupyter-widgets/controls",
            "_model_module_version": "1.5.0",
            "_model_name": "HBoxModel",
            "_view_count": null,
            "_view_module": "@jupyter-widgets/controls",
            "_view_module_version": "1.5.0",
            "_view_name": "HBoxView",
            "box_style": "",
            "children": [
              "IPY_MODEL_3c6367a623f6409883146412aec413fe",
              "IPY_MODEL_84a7698ba0554b33b79609eda9b5b04a",
              "IPY_MODEL_4558825cab06417987d8cc0b1361264d"
            ],
            "layout": "IPY_MODEL_367c07eb93874016af8a62df6d84fadc"
          }
        },
        "3c6367a623f6409883146412aec413fe": {
          "model_module": "@jupyter-widgets/controls",
          "model_name": "HTMLModel",
          "model_module_version": "1.5.0",
          "state": {
            "_dom_classes": [],
            "_model_module": "@jupyter-widgets/controls",
            "_model_module_version": "1.5.0",
            "_model_name": "HTMLModel",
            "_view_count": null,
            "_view_module": "@jupyter-widgets/controls",
            "_view_module_version": "1.5.0",
            "_view_name": "HTMLView",
            "description": "",
            "description_tooltip": null,
            "layout": "IPY_MODEL_9e9df6faa39a4d4ea1bb13adca2d4d38",
            "placeholder": "​",
            "style": "IPY_MODEL_b1b6e6c4592a41b8862c325a183a977d",
            "value": "tokenizer_config.json: 100%"
          }
        },
        "84a7698ba0554b33b79609eda9b5b04a": {
          "model_module": "@jupyter-widgets/controls",
          "model_name": "FloatProgressModel",
          "model_module_version": "1.5.0",
          "state": {
            "_dom_classes": [],
            "_model_module": "@jupyter-widgets/controls",
            "_model_module_version": "1.5.0",
            "_model_name": "FloatProgressModel",
            "_view_count": null,
            "_view_module": "@jupyter-widgets/controls",
            "_view_module_version": "1.5.0",
            "_view_name": "ProgressView",
            "bar_style": "success",
            "description": "",
            "description_tooltip": null,
            "layout": "IPY_MODEL_c0436645fc364b278cf181f1cfdf7fbb",
            "max": 363,
            "min": 0,
            "orientation": "horizontal",
            "style": "IPY_MODEL_a37db2f1359e432ea5877a9342588224",
            "value": 363
          }
        },
        "4558825cab06417987d8cc0b1361264d": {
          "model_module": "@jupyter-widgets/controls",
          "model_name": "HTMLModel",
          "model_module_version": "1.5.0",
          "state": {
            "_dom_classes": [],
            "_model_module": "@jupyter-widgets/controls",
            "_model_module_version": "1.5.0",
            "_model_name": "HTMLModel",
            "_view_count": null,
            "_view_module": "@jupyter-widgets/controls",
            "_view_module_version": "1.5.0",
            "_view_name": "HTMLView",
            "description": "",
            "description_tooltip": null,
            "layout": "IPY_MODEL_daca69cd4a3c4e45aec79e926fb7b820",
            "placeholder": "​",
            "style": "IPY_MODEL_8810ed8c9d1745baa8593a71e7dcbd17",
            "value": " 363/363 [00:00&lt;00:00, 28.1kB/s]"
          }
        },
        "367c07eb93874016af8a62df6d84fadc": {
          "model_module": "@jupyter-widgets/base",
          "model_name": "LayoutModel",
          "model_module_version": "1.2.0",
          "state": {
            "_model_module": "@jupyter-widgets/base",
            "_model_module_version": "1.2.0",
            "_model_name": "LayoutModel",
            "_view_count": null,
            "_view_module": "@jupyter-widgets/base",
            "_view_module_version": "1.2.0",
            "_view_name": "LayoutView",
            "align_content": null,
            "align_items": null,
            "align_self": null,
            "border": null,
            "bottom": null,
            "display": null,
            "flex": null,
            "flex_flow": null,
            "grid_area": null,
            "grid_auto_columns": null,
            "grid_auto_flow": null,
            "grid_auto_rows": null,
            "grid_column": null,
            "grid_gap": null,
            "grid_row": null,
            "grid_template_areas": null,
            "grid_template_columns": null,
            "grid_template_rows": null,
            "height": null,
            "justify_content": null,
            "justify_items": null,
            "left": null,
            "margin": null,
            "max_height": null,
            "max_width": null,
            "min_height": null,
            "min_width": null,
            "object_fit": null,
            "object_position": null,
            "order": null,
            "overflow": null,
            "overflow_x": null,
            "overflow_y": null,
            "padding": null,
            "right": null,
            "top": null,
            "visibility": null,
            "width": null
          }
        },
        "9e9df6faa39a4d4ea1bb13adca2d4d38": {
          "model_module": "@jupyter-widgets/base",
          "model_name": "LayoutModel",
          "model_module_version": "1.2.0",
          "state": {
            "_model_module": "@jupyter-widgets/base",
            "_model_module_version": "1.2.0",
            "_model_name": "LayoutModel",
            "_view_count": null,
            "_view_module": "@jupyter-widgets/base",
            "_view_module_version": "1.2.0",
            "_view_name": "LayoutView",
            "align_content": null,
            "align_items": null,
            "align_self": null,
            "border": null,
            "bottom": null,
            "display": null,
            "flex": null,
            "flex_flow": null,
            "grid_area": null,
            "grid_auto_columns": null,
            "grid_auto_flow": null,
            "grid_auto_rows": null,
            "grid_column": null,
            "grid_gap": null,
            "grid_row": null,
            "grid_template_areas": null,
            "grid_template_columns": null,
            "grid_template_rows": null,
            "height": null,
            "justify_content": null,
            "justify_items": null,
            "left": null,
            "margin": null,
            "max_height": null,
            "max_width": null,
            "min_height": null,
            "min_width": null,
            "object_fit": null,
            "object_position": null,
            "order": null,
            "overflow": null,
            "overflow_x": null,
            "overflow_y": null,
            "padding": null,
            "right": null,
            "top": null,
            "visibility": null,
            "width": null
          }
        },
        "b1b6e6c4592a41b8862c325a183a977d": {
          "model_module": "@jupyter-widgets/controls",
          "model_name": "DescriptionStyleModel",
          "model_module_version": "1.5.0",
          "state": {
            "_model_module": "@jupyter-widgets/controls",
            "_model_module_version": "1.5.0",
            "_model_name": "DescriptionStyleModel",
            "_view_count": null,
            "_view_module": "@jupyter-widgets/base",
            "_view_module_version": "1.2.0",
            "_view_name": "StyleView",
            "description_width": ""
          }
        },
        "c0436645fc364b278cf181f1cfdf7fbb": {
          "model_module": "@jupyter-widgets/base",
          "model_name": "LayoutModel",
          "model_module_version": "1.2.0",
          "state": {
            "_model_module": "@jupyter-widgets/base",
            "_model_module_version": "1.2.0",
            "_model_name": "LayoutModel",
            "_view_count": null,
            "_view_module": "@jupyter-widgets/base",
            "_view_module_version": "1.2.0",
            "_view_name": "LayoutView",
            "align_content": null,
            "align_items": null,
            "align_self": null,
            "border": null,
            "bottom": null,
            "display": null,
            "flex": null,
            "flex_flow": null,
            "grid_area": null,
            "grid_auto_columns": null,
            "grid_auto_flow": null,
            "grid_auto_rows": null,
            "grid_column": null,
            "grid_gap": null,
            "grid_row": null,
            "grid_template_areas": null,
            "grid_template_columns": null,
            "grid_template_rows": null,
            "height": null,
            "justify_content": null,
            "justify_items": null,
            "left": null,
            "margin": null,
            "max_height": null,
            "max_width": null,
            "min_height": null,
            "min_width": null,
            "object_fit": null,
            "object_position": null,
            "order": null,
            "overflow": null,
            "overflow_x": null,
            "overflow_y": null,
            "padding": null,
            "right": null,
            "top": null,
            "visibility": null,
            "width": null
          }
        },
        "a37db2f1359e432ea5877a9342588224": {
          "model_module": "@jupyter-widgets/controls",
          "model_name": "ProgressStyleModel",
          "model_module_version": "1.5.0",
          "state": {
            "_model_module": "@jupyter-widgets/controls",
            "_model_module_version": "1.5.0",
            "_model_name": "ProgressStyleModel",
            "_view_count": null,
            "_view_module": "@jupyter-widgets/base",
            "_view_module_version": "1.2.0",
            "_view_name": "StyleView",
            "bar_color": null,
            "description_width": ""
          }
        },
        "daca69cd4a3c4e45aec79e926fb7b820": {
          "model_module": "@jupyter-widgets/base",
          "model_name": "LayoutModel",
          "model_module_version": "1.2.0",
          "state": {
            "_model_module": "@jupyter-widgets/base",
            "_model_module_version": "1.2.0",
            "_model_name": "LayoutModel",
            "_view_count": null,
            "_view_module": "@jupyter-widgets/base",
            "_view_module_version": "1.2.0",
            "_view_name": "LayoutView",
            "align_content": null,
            "align_items": null,
            "align_self": null,
            "border": null,
            "bottom": null,
            "display": null,
            "flex": null,
            "flex_flow": null,
            "grid_area": null,
            "grid_auto_columns": null,
            "grid_auto_flow": null,
            "grid_auto_rows": null,
            "grid_column": null,
            "grid_gap": null,
            "grid_row": null,
            "grid_template_areas": null,
            "grid_template_columns": null,
            "grid_template_rows": null,
            "height": null,
            "justify_content": null,
            "justify_items": null,
            "left": null,
            "margin": null,
            "max_height": null,
            "max_width": null,
            "min_height": null,
            "min_width": null,
            "object_fit": null,
            "object_position": null,
            "order": null,
            "overflow": null,
            "overflow_x": null,
            "overflow_y": null,
            "padding": null,
            "right": null,
            "top": null,
            "visibility": null,
            "width": null
          }
        },
        "8810ed8c9d1745baa8593a71e7dcbd17": {
          "model_module": "@jupyter-widgets/controls",
          "model_name": "DescriptionStyleModel",
          "model_module_version": "1.5.0",
          "state": {
            "_model_module": "@jupyter-widgets/controls",
            "_model_module_version": "1.5.0",
            "_model_name": "DescriptionStyleModel",
            "_view_count": null,
            "_view_module": "@jupyter-widgets/base",
            "_view_module_version": "1.2.0",
            "_view_name": "StyleView",
            "description_width": ""
          }
        },
        "6c97b95074b84b57b538b852e63fe681": {
          "model_module": "@jupyter-widgets/controls",
          "model_name": "HBoxModel",
          "model_module_version": "1.5.0",
          "state": {
            "_dom_classes": [],
            "_model_module": "@jupyter-widgets/controls",
            "_model_module_version": "1.5.0",
            "_model_name": "HBoxModel",
            "_view_count": null,
            "_view_module": "@jupyter-widgets/controls",
            "_view_module_version": "1.5.0",
            "_view_name": "HBoxView",
            "box_style": "",
            "children": [
              "IPY_MODEL_257e0bf0c31a4946a8dcd90ff6c1454e",
              "IPY_MODEL_b740ed2afadb4d3fb789e6864d787265",
              "IPY_MODEL_0c167811af7c46de8171a12e8647511b"
            ],
            "layout": "IPY_MODEL_0d36a52c48ce408687522bd19d85b6fa"
          }
        },
        "257e0bf0c31a4946a8dcd90ff6c1454e": {
          "model_module": "@jupyter-widgets/controls",
          "model_name": "HTMLModel",
          "model_module_version": "1.5.0",
          "state": {
            "_dom_classes": [],
            "_model_module": "@jupyter-widgets/controls",
            "_model_module_version": "1.5.0",
            "_model_name": "HTMLModel",
            "_view_count": null,
            "_view_module": "@jupyter-widgets/controls",
            "_view_module_version": "1.5.0",
            "_view_name": "HTMLView",
            "description": "",
            "description_tooltip": null,
            "layout": "IPY_MODEL_b1165f5630d344528a763a4340f7b5c4",
            "placeholder": "​",
            "style": "IPY_MODEL_7f377ff25c1e4ddb9765e2694055e6cb",
            "value": "vocab.txt: "
          }
        },
        "b740ed2afadb4d3fb789e6864d787265": {
          "model_module": "@jupyter-widgets/controls",
          "model_name": "FloatProgressModel",
          "model_module_version": "1.5.0",
          "state": {
            "_dom_classes": [],
            "_model_module": "@jupyter-widgets/controls",
            "_model_module_version": "1.5.0",
            "_model_name": "FloatProgressModel",
            "_view_count": null,
            "_view_module": "@jupyter-widgets/controls",
            "_view_module_version": "1.5.0",
            "_view_name": "ProgressView",
            "bar_style": "success",
            "description": "",
            "description_tooltip": null,
            "layout": "IPY_MODEL_c824c9c004d24008b4394561e7446980",
            "max": 1,
            "min": 0,
            "orientation": "horizontal",
            "style": "IPY_MODEL_45f7735e18304f79bedfd0948a04b288",
            "value": 1
          }
        },
        "0c167811af7c46de8171a12e8647511b": {
          "model_module": "@jupyter-widgets/controls",
          "model_name": "HTMLModel",
          "model_module_version": "1.5.0",
          "state": {
            "_dom_classes": [],
            "_model_module": "@jupyter-widgets/controls",
            "_model_module_version": "1.5.0",
            "_model_name": "HTMLModel",
            "_view_count": null,
            "_view_module": "@jupyter-widgets/controls",
            "_view_module_version": "1.5.0",
            "_view_name": "HTMLView",
            "description": "",
            "description_tooltip": null,
            "layout": "IPY_MODEL_a85e19db4c7a4fdda28ab3fa8ccee940",
            "placeholder": "​",
            "style": "IPY_MODEL_7b50ef0ac0ba4f3590f78b6635eef521",
            "value": " 232k/? [00:00&lt;00:00, 6.75MB/s]"
          }
        },
        "0d36a52c48ce408687522bd19d85b6fa": {
          "model_module": "@jupyter-widgets/base",
          "model_name": "LayoutModel",
          "model_module_version": "1.2.0",
          "state": {
            "_model_module": "@jupyter-widgets/base",
            "_model_module_version": "1.2.0",
            "_model_name": "LayoutModel",
            "_view_count": null,
            "_view_module": "@jupyter-widgets/base",
            "_view_module_version": "1.2.0",
            "_view_name": "LayoutView",
            "align_content": null,
            "align_items": null,
            "align_self": null,
            "border": null,
            "bottom": null,
            "display": null,
            "flex": null,
            "flex_flow": null,
            "grid_area": null,
            "grid_auto_columns": null,
            "grid_auto_flow": null,
            "grid_auto_rows": null,
            "grid_column": null,
            "grid_gap": null,
            "grid_row": null,
            "grid_template_areas": null,
            "grid_template_columns": null,
            "grid_template_rows": null,
            "height": null,
            "justify_content": null,
            "justify_items": null,
            "left": null,
            "margin": null,
            "max_height": null,
            "max_width": null,
            "min_height": null,
            "min_width": null,
            "object_fit": null,
            "object_position": null,
            "order": null,
            "overflow": null,
            "overflow_x": null,
            "overflow_y": null,
            "padding": null,
            "right": null,
            "top": null,
            "visibility": null,
            "width": null
          }
        },
        "b1165f5630d344528a763a4340f7b5c4": {
          "model_module": "@jupyter-widgets/base",
          "model_name": "LayoutModel",
          "model_module_version": "1.2.0",
          "state": {
            "_model_module": "@jupyter-widgets/base",
            "_model_module_version": "1.2.0",
            "_model_name": "LayoutModel",
            "_view_count": null,
            "_view_module": "@jupyter-widgets/base",
            "_view_module_version": "1.2.0",
            "_view_name": "LayoutView",
            "align_content": null,
            "align_items": null,
            "align_self": null,
            "border": null,
            "bottom": null,
            "display": null,
            "flex": null,
            "flex_flow": null,
            "grid_area": null,
            "grid_auto_columns": null,
            "grid_auto_flow": null,
            "grid_auto_rows": null,
            "grid_column": null,
            "grid_gap": null,
            "grid_row": null,
            "grid_template_areas": null,
            "grid_template_columns": null,
            "grid_template_rows": null,
            "height": null,
            "justify_content": null,
            "justify_items": null,
            "left": null,
            "margin": null,
            "max_height": null,
            "max_width": null,
            "min_height": null,
            "min_width": null,
            "object_fit": null,
            "object_position": null,
            "order": null,
            "overflow": null,
            "overflow_x": null,
            "overflow_y": null,
            "padding": null,
            "right": null,
            "top": null,
            "visibility": null,
            "width": null
          }
        },
        "7f377ff25c1e4ddb9765e2694055e6cb": {
          "model_module": "@jupyter-widgets/controls",
          "model_name": "DescriptionStyleModel",
          "model_module_version": "1.5.0",
          "state": {
            "_model_module": "@jupyter-widgets/controls",
            "_model_module_version": "1.5.0",
            "_model_name": "DescriptionStyleModel",
            "_view_count": null,
            "_view_module": "@jupyter-widgets/base",
            "_view_module_version": "1.2.0",
            "_view_name": "StyleView",
            "description_width": ""
          }
        },
        "c824c9c004d24008b4394561e7446980": {
          "model_module": "@jupyter-widgets/base",
          "model_name": "LayoutModel",
          "model_module_version": "1.2.0",
          "state": {
            "_model_module": "@jupyter-widgets/base",
            "_model_module_version": "1.2.0",
            "_model_name": "LayoutModel",
            "_view_count": null,
            "_view_module": "@jupyter-widgets/base",
            "_view_module_version": "1.2.0",
            "_view_name": "LayoutView",
            "align_content": null,
            "align_items": null,
            "align_self": null,
            "border": null,
            "bottom": null,
            "display": null,
            "flex": null,
            "flex_flow": null,
            "grid_area": null,
            "grid_auto_columns": null,
            "grid_auto_flow": null,
            "grid_auto_rows": null,
            "grid_column": null,
            "grid_gap": null,
            "grid_row": null,
            "grid_template_areas": null,
            "grid_template_columns": null,
            "grid_template_rows": null,
            "height": null,
            "justify_content": null,
            "justify_items": null,
            "left": null,
            "margin": null,
            "max_height": null,
            "max_width": null,
            "min_height": null,
            "min_width": null,
            "object_fit": null,
            "object_position": null,
            "order": null,
            "overflow": null,
            "overflow_x": null,
            "overflow_y": null,
            "padding": null,
            "right": null,
            "top": null,
            "visibility": null,
            "width": "20px"
          }
        },
        "45f7735e18304f79bedfd0948a04b288": {
          "model_module": "@jupyter-widgets/controls",
          "model_name": "ProgressStyleModel",
          "model_module_version": "1.5.0",
          "state": {
            "_model_module": "@jupyter-widgets/controls",
            "_model_module_version": "1.5.0",
            "_model_name": "ProgressStyleModel",
            "_view_count": null,
            "_view_module": "@jupyter-widgets/base",
            "_view_module_version": "1.2.0",
            "_view_name": "StyleView",
            "bar_color": null,
            "description_width": ""
          }
        },
        "a85e19db4c7a4fdda28ab3fa8ccee940": {
          "model_module": "@jupyter-widgets/base",
          "model_name": "LayoutModel",
          "model_module_version": "1.2.0",
          "state": {
            "_model_module": "@jupyter-widgets/base",
            "_model_module_version": "1.2.0",
            "_model_name": "LayoutModel",
            "_view_count": null,
            "_view_module": "@jupyter-widgets/base",
            "_view_module_version": "1.2.0",
            "_view_name": "LayoutView",
            "align_content": null,
            "align_items": null,
            "align_self": null,
            "border": null,
            "bottom": null,
            "display": null,
            "flex": null,
            "flex_flow": null,
            "grid_area": null,
            "grid_auto_columns": null,
            "grid_auto_flow": null,
            "grid_auto_rows": null,
            "grid_column": null,
            "grid_gap": null,
            "grid_row": null,
            "grid_template_areas": null,
            "grid_template_columns": null,
            "grid_template_rows": null,
            "height": null,
            "justify_content": null,
            "justify_items": null,
            "left": null,
            "margin": null,
            "max_height": null,
            "max_width": null,
            "min_height": null,
            "min_width": null,
            "object_fit": null,
            "object_position": null,
            "order": null,
            "overflow": null,
            "overflow_x": null,
            "overflow_y": null,
            "padding": null,
            "right": null,
            "top": null,
            "visibility": null,
            "width": null
          }
        },
        "7b50ef0ac0ba4f3590f78b6635eef521": {
          "model_module": "@jupyter-widgets/controls",
          "model_name": "DescriptionStyleModel",
          "model_module_version": "1.5.0",
          "state": {
            "_model_module": "@jupyter-widgets/controls",
            "_model_module_version": "1.5.0",
            "_model_name": "DescriptionStyleModel",
            "_view_count": null,
            "_view_module": "@jupyter-widgets/base",
            "_view_module_version": "1.2.0",
            "_view_name": "StyleView",
            "description_width": ""
          }
        },
        "f6d6aed2c1d24237abc957f95c6307e7": {
          "model_module": "@jupyter-widgets/controls",
          "model_name": "HBoxModel",
          "model_module_version": "1.5.0",
          "state": {
            "_dom_classes": [],
            "_model_module": "@jupyter-widgets/controls",
            "_model_module_version": "1.5.0",
            "_model_name": "HBoxModel",
            "_view_count": null,
            "_view_module": "@jupyter-widgets/controls",
            "_view_module_version": "1.5.0",
            "_view_name": "HBoxView",
            "box_style": "",
            "children": [
              "IPY_MODEL_6fc7a08731ef48f18fbcdf4aa8c1337d",
              "IPY_MODEL_1a068e3c214f45d5b94ee5d43275bf54",
              "IPY_MODEL_878aa1e89a5147d4883c600081b46253"
            ],
            "layout": "IPY_MODEL_b6e274a7afc244a9b14b9d65c0ad74c4"
          }
        },
        "6fc7a08731ef48f18fbcdf4aa8c1337d": {
          "model_module": "@jupyter-widgets/controls",
          "model_name": "HTMLModel",
          "model_module_version": "1.5.0",
          "state": {
            "_dom_classes": [],
            "_model_module": "@jupyter-widgets/controls",
            "_model_module_version": "1.5.0",
            "_model_name": "HTMLModel",
            "_view_count": null,
            "_view_module": "@jupyter-widgets/controls",
            "_view_module_version": "1.5.0",
            "_view_name": "HTMLView",
            "description": "",
            "description_tooltip": null,
            "layout": "IPY_MODEL_c4f6fcf023e94e8db6c5c69e36fd6269",
            "placeholder": "​",
            "style": "IPY_MODEL_b4bf3c6561294725aa2ade271415d827",
            "value": "tokenizer.json: "
          }
        },
        "1a068e3c214f45d5b94ee5d43275bf54": {
          "model_module": "@jupyter-widgets/controls",
          "model_name": "FloatProgressModel",
          "model_module_version": "1.5.0",
          "state": {
            "_dom_classes": [],
            "_model_module": "@jupyter-widgets/controls",
            "_model_module_version": "1.5.0",
            "_model_name": "FloatProgressModel",
            "_view_count": null,
            "_view_module": "@jupyter-widgets/controls",
            "_view_module_version": "1.5.0",
            "_view_name": "ProgressView",
            "bar_style": "success",
            "description": "",
            "description_tooltip": null,
            "layout": "IPY_MODEL_57e2f66b9c074e97a8e5eebe67f00853",
            "max": 1,
            "min": 0,
            "orientation": "horizontal",
            "style": "IPY_MODEL_777ea94663f94c648046587ff8f076e0",
            "value": 1
          }
        },
        "878aa1e89a5147d4883c600081b46253": {
          "model_module": "@jupyter-widgets/controls",
          "model_name": "HTMLModel",
          "model_module_version": "1.5.0",
          "state": {
            "_dom_classes": [],
            "_model_module": "@jupyter-widgets/controls",
            "_model_module_version": "1.5.0",
            "_model_name": "HTMLModel",
            "_view_count": null,
            "_view_module": "@jupyter-widgets/controls",
            "_view_module_version": "1.5.0",
            "_view_name": "HTMLView",
            "description": "",
            "description_tooltip": null,
            "layout": "IPY_MODEL_d69b2a0631b4400cac4e8f1728a3b3ef",
            "placeholder": "​",
            "style": "IPY_MODEL_f7c6461e49e0473a80a26aac52b9d5f1",
            "value": " 466k/? [00:00&lt;00:00, 21.7MB/s]"
          }
        },
        "b6e274a7afc244a9b14b9d65c0ad74c4": {
          "model_module": "@jupyter-widgets/base",
          "model_name": "LayoutModel",
          "model_module_version": "1.2.0",
          "state": {
            "_model_module": "@jupyter-widgets/base",
            "_model_module_version": "1.2.0",
            "_model_name": "LayoutModel",
            "_view_count": null,
            "_view_module": "@jupyter-widgets/base",
            "_view_module_version": "1.2.0",
            "_view_name": "LayoutView",
            "align_content": null,
            "align_items": null,
            "align_self": null,
            "border": null,
            "bottom": null,
            "display": null,
            "flex": null,
            "flex_flow": null,
            "grid_area": null,
            "grid_auto_columns": null,
            "grid_auto_flow": null,
            "grid_auto_rows": null,
            "grid_column": null,
            "grid_gap": null,
            "grid_row": null,
            "grid_template_areas": null,
            "grid_template_columns": null,
            "grid_template_rows": null,
            "height": null,
            "justify_content": null,
            "justify_items": null,
            "left": null,
            "margin": null,
            "max_height": null,
            "max_width": null,
            "min_height": null,
            "min_width": null,
            "object_fit": null,
            "object_position": null,
            "order": null,
            "overflow": null,
            "overflow_x": null,
            "overflow_y": null,
            "padding": null,
            "right": null,
            "top": null,
            "visibility": null,
            "width": null
          }
        },
        "c4f6fcf023e94e8db6c5c69e36fd6269": {
          "model_module": "@jupyter-widgets/base",
          "model_name": "LayoutModel",
          "model_module_version": "1.2.0",
          "state": {
            "_model_module": "@jupyter-widgets/base",
            "_model_module_version": "1.2.0",
            "_model_name": "LayoutModel",
            "_view_count": null,
            "_view_module": "@jupyter-widgets/base",
            "_view_module_version": "1.2.0",
            "_view_name": "LayoutView",
            "align_content": null,
            "align_items": null,
            "align_self": null,
            "border": null,
            "bottom": null,
            "display": null,
            "flex": null,
            "flex_flow": null,
            "grid_area": null,
            "grid_auto_columns": null,
            "grid_auto_flow": null,
            "grid_auto_rows": null,
            "grid_column": null,
            "grid_gap": null,
            "grid_row": null,
            "grid_template_areas": null,
            "grid_template_columns": null,
            "grid_template_rows": null,
            "height": null,
            "justify_content": null,
            "justify_items": null,
            "left": null,
            "margin": null,
            "max_height": null,
            "max_width": null,
            "min_height": null,
            "min_width": null,
            "object_fit": null,
            "object_position": null,
            "order": null,
            "overflow": null,
            "overflow_x": null,
            "overflow_y": null,
            "padding": null,
            "right": null,
            "top": null,
            "visibility": null,
            "width": null
          }
        },
        "b4bf3c6561294725aa2ade271415d827": {
          "model_module": "@jupyter-widgets/controls",
          "model_name": "DescriptionStyleModel",
          "model_module_version": "1.5.0",
          "state": {
            "_model_module": "@jupyter-widgets/controls",
            "_model_module_version": "1.5.0",
            "_model_name": "DescriptionStyleModel",
            "_view_count": null,
            "_view_module": "@jupyter-widgets/base",
            "_view_module_version": "1.2.0",
            "_view_name": "StyleView",
            "description_width": ""
          }
        },
        "57e2f66b9c074e97a8e5eebe67f00853": {
          "model_module": "@jupyter-widgets/base",
          "model_name": "LayoutModel",
          "model_module_version": "1.2.0",
          "state": {
            "_model_module": "@jupyter-widgets/base",
            "_model_module_version": "1.2.0",
            "_model_name": "LayoutModel",
            "_view_count": null,
            "_view_module": "@jupyter-widgets/base",
            "_view_module_version": "1.2.0",
            "_view_name": "LayoutView",
            "align_content": null,
            "align_items": null,
            "align_self": null,
            "border": null,
            "bottom": null,
            "display": null,
            "flex": null,
            "flex_flow": null,
            "grid_area": null,
            "grid_auto_columns": null,
            "grid_auto_flow": null,
            "grid_auto_rows": null,
            "grid_column": null,
            "grid_gap": null,
            "grid_row": null,
            "grid_template_areas": null,
            "grid_template_columns": null,
            "grid_template_rows": null,
            "height": null,
            "justify_content": null,
            "justify_items": null,
            "left": null,
            "margin": null,
            "max_height": null,
            "max_width": null,
            "min_height": null,
            "min_width": null,
            "object_fit": null,
            "object_position": null,
            "order": null,
            "overflow": null,
            "overflow_x": null,
            "overflow_y": null,
            "padding": null,
            "right": null,
            "top": null,
            "visibility": null,
            "width": "20px"
          }
        },
        "777ea94663f94c648046587ff8f076e0": {
          "model_module": "@jupyter-widgets/controls",
          "model_name": "ProgressStyleModel",
          "model_module_version": "1.5.0",
          "state": {
            "_model_module": "@jupyter-widgets/controls",
            "_model_module_version": "1.5.0",
            "_model_name": "ProgressStyleModel",
            "_view_count": null,
            "_view_module": "@jupyter-widgets/base",
            "_view_module_version": "1.2.0",
            "_view_name": "StyleView",
            "bar_color": null,
            "description_width": ""
          }
        },
        "d69b2a0631b4400cac4e8f1728a3b3ef": {
          "model_module": "@jupyter-widgets/base",
          "model_name": "LayoutModel",
          "model_module_version": "1.2.0",
          "state": {
            "_model_module": "@jupyter-widgets/base",
            "_model_module_version": "1.2.0",
            "_model_name": "LayoutModel",
            "_view_count": null,
            "_view_module": "@jupyter-widgets/base",
            "_view_module_version": "1.2.0",
            "_view_name": "LayoutView",
            "align_content": null,
            "align_items": null,
            "align_self": null,
            "border": null,
            "bottom": null,
            "display": null,
            "flex": null,
            "flex_flow": null,
            "grid_area": null,
            "grid_auto_columns": null,
            "grid_auto_flow": null,
            "grid_auto_rows": null,
            "grid_column": null,
            "grid_gap": null,
            "grid_row": null,
            "grid_template_areas": null,
            "grid_template_columns": null,
            "grid_template_rows": null,
            "height": null,
            "justify_content": null,
            "justify_items": null,
            "left": null,
            "margin": null,
            "max_height": null,
            "max_width": null,
            "min_height": null,
            "min_width": null,
            "object_fit": null,
            "object_position": null,
            "order": null,
            "overflow": null,
            "overflow_x": null,
            "overflow_y": null,
            "padding": null,
            "right": null,
            "top": null,
            "visibility": null,
            "width": null
          }
        },
        "f7c6461e49e0473a80a26aac52b9d5f1": {
          "model_module": "@jupyter-widgets/controls",
          "model_name": "DescriptionStyleModel",
          "model_module_version": "1.5.0",
          "state": {
            "_model_module": "@jupyter-widgets/controls",
            "_model_module_version": "1.5.0",
            "_model_name": "DescriptionStyleModel",
            "_view_count": null,
            "_view_module": "@jupyter-widgets/base",
            "_view_module_version": "1.2.0",
            "_view_name": "StyleView",
            "description_width": ""
          }
        },
        "e40c7d60256c40b7aaff215eb08e25e6": {
          "model_module": "@jupyter-widgets/controls",
          "model_name": "HBoxModel",
          "model_module_version": "1.5.0",
          "state": {
            "_dom_classes": [],
            "_model_module": "@jupyter-widgets/controls",
            "_model_module_version": "1.5.0",
            "_model_name": "HBoxModel",
            "_view_count": null,
            "_view_module": "@jupyter-widgets/controls",
            "_view_module_version": "1.5.0",
            "_view_name": "HBoxView",
            "box_style": "",
            "children": [
              "IPY_MODEL_7f2b868647044a19b9d926e2d232ffb1",
              "IPY_MODEL_b211ca7141ff4985852bc8820643f68e",
              "IPY_MODEL_d3c66687b6034512ba26f146a92e2e4e"
            ],
            "layout": "IPY_MODEL_5c9da9c34d84468684a60a663a202df1"
          }
        },
        "7f2b868647044a19b9d926e2d232ffb1": {
          "model_module": "@jupyter-widgets/controls",
          "model_name": "HTMLModel",
          "model_module_version": "1.5.0",
          "state": {
            "_dom_classes": [],
            "_model_module": "@jupyter-widgets/controls",
            "_model_module_version": "1.5.0",
            "_model_name": "HTMLModel",
            "_view_count": null,
            "_view_module": "@jupyter-widgets/controls",
            "_view_module_version": "1.5.0",
            "_view_name": "HTMLView",
            "description": "",
            "description_tooltip": null,
            "layout": "IPY_MODEL_f64c66bd6678489f8ffe80e653b599fb",
            "placeholder": "​",
            "style": "IPY_MODEL_dd61f8158b67415b94ea6e3895d3d79b",
            "value": "special_tokens_map.json: 100%"
          }
        },
        "b211ca7141ff4985852bc8820643f68e": {
          "model_module": "@jupyter-widgets/controls",
          "model_name": "FloatProgressModel",
          "model_module_version": "1.5.0",
          "state": {
            "_dom_classes": [],
            "_model_module": "@jupyter-widgets/controls",
            "_model_module_version": "1.5.0",
            "_model_name": "FloatProgressModel",
            "_view_count": null,
            "_view_module": "@jupyter-widgets/controls",
            "_view_module_version": "1.5.0",
            "_view_name": "ProgressView",
            "bar_style": "success",
            "description": "",
            "description_tooltip": null,
            "layout": "IPY_MODEL_c215343c0f754ac6b4bdf8c8646ff6a3",
            "max": 239,
            "min": 0,
            "orientation": "horizontal",
            "style": "IPY_MODEL_bfc85a9e28714282965c77a3c9777b89",
            "value": 239
          }
        },
        "d3c66687b6034512ba26f146a92e2e4e": {
          "model_module": "@jupyter-widgets/controls",
          "model_name": "HTMLModel",
          "model_module_version": "1.5.0",
          "state": {
            "_dom_classes": [],
            "_model_module": "@jupyter-widgets/controls",
            "_model_module_version": "1.5.0",
            "_model_name": "HTMLModel",
            "_view_count": null,
            "_view_module": "@jupyter-widgets/controls",
            "_view_module_version": "1.5.0",
            "_view_name": "HTMLView",
            "description": "",
            "description_tooltip": null,
            "layout": "IPY_MODEL_a3b8403c013a417cbc4f4b27746731dd",
            "placeholder": "​",
            "style": "IPY_MODEL_9b212f37052f42e2b07083fd566882ec",
            "value": " 239/239 [00:00&lt;00:00, 14.5kB/s]"
          }
        },
        "5c9da9c34d84468684a60a663a202df1": {
          "model_module": "@jupyter-widgets/base",
          "model_name": "LayoutModel",
          "model_module_version": "1.2.0",
          "state": {
            "_model_module": "@jupyter-widgets/base",
            "_model_module_version": "1.2.0",
            "_model_name": "LayoutModel",
            "_view_count": null,
            "_view_module": "@jupyter-widgets/base",
            "_view_module_version": "1.2.0",
            "_view_name": "LayoutView",
            "align_content": null,
            "align_items": null,
            "align_self": null,
            "border": null,
            "bottom": null,
            "display": null,
            "flex": null,
            "flex_flow": null,
            "grid_area": null,
            "grid_auto_columns": null,
            "grid_auto_flow": null,
            "grid_auto_rows": null,
            "grid_column": null,
            "grid_gap": null,
            "grid_row": null,
            "grid_template_areas": null,
            "grid_template_columns": null,
            "grid_template_rows": null,
            "height": null,
            "justify_content": null,
            "justify_items": null,
            "left": null,
            "margin": null,
            "max_height": null,
            "max_width": null,
            "min_height": null,
            "min_width": null,
            "object_fit": null,
            "object_position": null,
            "order": null,
            "overflow": null,
            "overflow_x": null,
            "overflow_y": null,
            "padding": null,
            "right": null,
            "top": null,
            "visibility": null,
            "width": null
          }
        },
        "f64c66bd6678489f8ffe80e653b599fb": {
          "model_module": "@jupyter-widgets/base",
          "model_name": "LayoutModel",
          "model_module_version": "1.2.0",
          "state": {
            "_model_module": "@jupyter-widgets/base",
            "_model_module_version": "1.2.0",
            "_model_name": "LayoutModel",
            "_view_count": null,
            "_view_module": "@jupyter-widgets/base",
            "_view_module_version": "1.2.0",
            "_view_name": "LayoutView",
            "align_content": null,
            "align_items": null,
            "align_self": null,
            "border": null,
            "bottom": null,
            "display": null,
            "flex": null,
            "flex_flow": null,
            "grid_area": null,
            "grid_auto_columns": null,
            "grid_auto_flow": null,
            "grid_auto_rows": null,
            "grid_column": null,
            "grid_gap": null,
            "grid_row": null,
            "grid_template_areas": null,
            "grid_template_columns": null,
            "grid_template_rows": null,
            "height": null,
            "justify_content": null,
            "justify_items": null,
            "left": null,
            "margin": null,
            "max_height": null,
            "max_width": null,
            "min_height": null,
            "min_width": null,
            "object_fit": null,
            "object_position": null,
            "order": null,
            "overflow": null,
            "overflow_x": null,
            "overflow_y": null,
            "padding": null,
            "right": null,
            "top": null,
            "visibility": null,
            "width": null
          }
        },
        "dd61f8158b67415b94ea6e3895d3d79b": {
          "model_module": "@jupyter-widgets/controls",
          "model_name": "DescriptionStyleModel",
          "model_module_version": "1.5.0",
          "state": {
            "_model_module": "@jupyter-widgets/controls",
            "_model_module_version": "1.5.0",
            "_model_name": "DescriptionStyleModel",
            "_view_count": null,
            "_view_module": "@jupyter-widgets/base",
            "_view_module_version": "1.2.0",
            "_view_name": "StyleView",
            "description_width": ""
          }
        },
        "c215343c0f754ac6b4bdf8c8646ff6a3": {
          "model_module": "@jupyter-widgets/base",
          "model_name": "LayoutModel",
          "model_module_version": "1.2.0",
          "state": {
            "_model_module": "@jupyter-widgets/base",
            "_model_module_version": "1.2.0",
            "_model_name": "LayoutModel",
            "_view_count": null,
            "_view_module": "@jupyter-widgets/base",
            "_view_module_version": "1.2.0",
            "_view_name": "LayoutView",
            "align_content": null,
            "align_items": null,
            "align_self": null,
            "border": null,
            "bottom": null,
            "display": null,
            "flex": null,
            "flex_flow": null,
            "grid_area": null,
            "grid_auto_columns": null,
            "grid_auto_flow": null,
            "grid_auto_rows": null,
            "grid_column": null,
            "grid_gap": null,
            "grid_row": null,
            "grid_template_areas": null,
            "grid_template_columns": null,
            "grid_template_rows": null,
            "height": null,
            "justify_content": null,
            "justify_items": null,
            "left": null,
            "margin": null,
            "max_height": null,
            "max_width": null,
            "min_height": null,
            "min_width": null,
            "object_fit": null,
            "object_position": null,
            "order": null,
            "overflow": null,
            "overflow_x": null,
            "overflow_y": null,
            "padding": null,
            "right": null,
            "top": null,
            "visibility": null,
            "width": null
          }
        },
        "bfc85a9e28714282965c77a3c9777b89": {
          "model_module": "@jupyter-widgets/controls",
          "model_name": "ProgressStyleModel",
          "model_module_version": "1.5.0",
          "state": {
            "_model_module": "@jupyter-widgets/controls",
            "_model_module_version": "1.5.0",
            "_model_name": "ProgressStyleModel",
            "_view_count": null,
            "_view_module": "@jupyter-widgets/base",
            "_view_module_version": "1.2.0",
            "_view_name": "StyleView",
            "bar_color": null,
            "description_width": ""
          }
        },
        "a3b8403c013a417cbc4f4b27746731dd": {
          "model_module": "@jupyter-widgets/base",
          "model_name": "LayoutModel",
          "model_module_version": "1.2.0",
          "state": {
            "_model_module": "@jupyter-widgets/base",
            "_model_module_version": "1.2.0",
            "_model_name": "LayoutModel",
            "_view_count": null,
            "_view_module": "@jupyter-widgets/base",
            "_view_module_version": "1.2.0",
            "_view_name": "LayoutView",
            "align_content": null,
            "align_items": null,
            "align_self": null,
            "border": null,
            "bottom": null,
            "display": null,
            "flex": null,
            "flex_flow": null,
            "grid_area": null,
            "grid_auto_columns": null,
            "grid_auto_flow": null,
            "grid_auto_rows": null,
            "grid_column": null,
            "grid_gap": null,
            "grid_row": null,
            "grid_template_areas": null,
            "grid_template_columns": null,
            "grid_template_rows": null,
            "height": null,
            "justify_content": null,
            "justify_items": null,
            "left": null,
            "margin": null,
            "max_height": null,
            "max_width": null,
            "min_height": null,
            "min_width": null,
            "object_fit": null,
            "object_position": null,
            "order": null,
            "overflow": null,
            "overflow_x": null,
            "overflow_y": null,
            "padding": null,
            "right": null,
            "top": null,
            "visibility": null,
            "width": null
          }
        },
        "9b212f37052f42e2b07083fd566882ec": {
          "model_module": "@jupyter-widgets/controls",
          "model_name": "DescriptionStyleModel",
          "model_module_version": "1.5.0",
          "state": {
            "_model_module": "@jupyter-widgets/controls",
            "_model_module_version": "1.5.0",
            "_model_name": "DescriptionStyleModel",
            "_view_count": null,
            "_view_module": "@jupyter-widgets/base",
            "_view_module_version": "1.2.0",
            "_view_name": "StyleView",
            "description_width": ""
          }
        },
        "1f293503b8d14a3fb163bc5b18e7c768": {
          "model_module": "@jupyter-widgets/controls",
          "model_name": "HBoxModel",
          "model_module_version": "1.5.0",
          "state": {
            "_dom_classes": [],
            "_model_module": "@jupyter-widgets/controls",
            "_model_module_version": "1.5.0",
            "_model_name": "HBoxModel",
            "_view_count": null,
            "_view_module": "@jupyter-widgets/controls",
            "_view_module_version": "1.5.0",
            "_view_name": "HBoxView",
            "box_style": "",
            "children": [
              "IPY_MODEL_cdca524acf034eaba5565093801fe54c",
              "IPY_MODEL_8b87cc9f726d40a98ccbe447ead99c74",
              "IPY_MODEL_0601ed2c391f4c1498bb11ccc8924409"
            ],
            "layout": "IPY_MODEL_3acc8df7920b43b3954593819e67b34c"
          }
        },
        "cdca524acf034eaba5565093801fe54c": {
          "model_module": "@jupyter-widgets/controls",
          "model_name": "HTMLModel",
          "model_module_version": "1.5.0",
          "state": {
            "_dom_classes": [],
            "_model_module": "@jupyter-widgets/controls",
            "_model_module_version": "1.5.0",
            "_model_name": "HTMLModel",
            "_view_count": null,
            "_view_module": "@jupyter-widgets/controls",
            "_view_module_version": "1.5.0",
            "_view_name": "HTMLView",
            "description": "",
            "description_tooltip": null,
            "layout": "IPY_MODEL_ccb5da2acd5b499ebf7f41848daf6327",
            "placeholder": "​",
            "style": "IPY_MODEL_16d3cc22a46c4dd2aa2a2f257005bcea",
            "value": "config.json: 100%"
          }
        },
        "8b87cc9f726d40a98ccbe447ead99c74": {
          "model_module": "@jupyter-widgets/controls",
          "model_name": "FloatProgressModel",
          "model_module_version": "1.5.0",
          "state": {
            "_dom_classes": [],
            "_model_module": "@jupyter-widgets/controls",
            "_model_module_version": "1.5.0",
            "_model_name": "FloatProgressModel",
            "_view_count": null,
            "_view_module": "@jupyter-widgets/controls",
            "_view_module_version": "1.5.0",
            "_view_name": "ProgressView",
            "bar_style": "success",
            "description": "",
            "description_tooltip": null,
            "layout": "IPY_MODEL_0e8543a1542745beb33c0b0c811d7e26",
            "max": 190,
            "min": 0,
            "orientation": "horizontal",
            "style": "IPY_MODEL_0fced5e49e2940b692ff39701e282f0a",
            "value": 190
          }
        },
        "0601ed2c391f4c1498bb11ccc8924409": {
          "model_module": "@jupyter-widgets/controls",
          "model_name": "HTMLModel",
          "model_module_version": "1.5.0",
          "state": {
            "_dom_classes": [],
            "_model_module": "@jupyter-widgets/controls",
            "_model_module_version": "1.5.0",
            "_model_name": "HTMLModel",
            "_view_count": null,
            "_view_module": "@jupyter-widgets/controls",
            "_view_module_version": "1.5.0",
            "_view_name": "HTMLView",
            "description": "",
            "description_tooltip": null,
            "layout": "IPY_MODEL_949455cfaf874cc5b873f8dff0e1b099",
            "placeholder": "​",
            "style": "IPY_MODEL_0411964c2d344601be6adbe9b8a51372",
            "value": " 190/190 [00:00&lt;00:00, 15.6kB/s]"
          }
        },
        "3acc8df7920b43b3954593819e67b34c": {
          "model_module": "@jupyter-widgets/base",
          "model_name": "LayoutModel",
          "model_module_version": "1.2.0",
          "state": {
            "_model_module": "@jupyter-widgets/base",
            "_model_module_version": "1.2.0",
            "_model_name": "LayoutModel",
            "_view_count": null,
            "_view_module": "@jupyter-widgets/base",
            "_view_module_version": "1.2.0",
            "_view_name": "LayoutView",
            "align_content": null,
            "align_items": null,
            "align_self": null,
            "border": null,
            "bottom": null,
            "display": null,
            "flex": null,
            "flex_flow": null,
            "grid_area": null,
            "grid_auto_columns": null,
            "grid_auto_flow": null,
            "grid_auto_rows": null,
            "grid_column": null,
            "grid_gap": null,
            "grid_row": null,
            "grid_template_areas": null,
            "grid_template_columns": null,
            "grid_template_rows": null,
            "height": null,
            "justify_content": null,
            "justify_items": null,
            "left": null,
            "margin": null,
            "max_height": null,
            "max_width": null,
            "min_height": null,
            "min_width": null,
            "object_fit": null,
            "object_position": null,
            "order": null,
            "overflow": null,
            "overflow_x": null,
            "overflow_y": null,
            "padding": null,
            "right": null,
            "top": null,
            "visibility": null,
            "width": null
          }
        },
        "ccb5da2acd5b499ebf7f41848daf6327": {
          "model_module": "@jupyter-widgets/base",
          "model_name": "LayoutModel",
          "model_module_version": "1.2.0",
          "state": {
            "_model_module": "@jupyter-widgets/base",
            "_model_module_version": "1.2.0",
            "_model_name": "LayoutModel",
            "_view_count": null,
            "_view_module": "@jupyter-widgets/base",
            "_view_module_version": "1.2.0",
            "_view_name": "LayoutView",
            "align_content": null,
            "align_items": null,
            "align_self": null,
            "border": null,
            "bottom": null,
            "display": null,
            "flex": null,
            "flex_flow": null,
            "grid_area": null,
            "grid_auto_columns": null,
            "grid_auto_flow": null,
            "grid_auto_rows": null,
            "grid_column": null,
            "grid_gap": null,
            "grid_row": null,
            "grid_template_areas": null,
            "grid_template_columns": null,
            "grid_template_rows": null,
            "height": null,
            "justify_content": null,
            "justify_items": null,
            "left": null,
            "margin": null,
            "max_height": null,
            "max_width": null,
            "min_height": null,
            "min_width": null,
            "object_fit": null,
            "object_position": null,
            "order": null,
            "overflow": null,
            "overflow_x": null,
            "overflow_y": null,
            "padding": null,
            "right": null,
            "top": null,
            "visibility": null,
            "width": null
          }
        },
        "16d3cc22a46c4dd2aa2a2f257005bcea": {
          "model_module": "@jupyter-widgets/controls",
          "model_name": "DescriptionStyleModel",
          "model_module_version": "1.5.0",
          "state": {
            "_model_module": "@jupyter-widgets/controls",
            "_model_module_version": "1.5.0",
            "_model_name": "DescriptionStyleModel",
            "_view_count": null,
            "_view_module": "@jupyter-widgets/base",
            "_view_module_version": "1.2.0",
            "_view_name": "StyleView",
            "description_width": ""
          }
        },
        "0e8543a1542745beb33c0b0c811d7e26": {
          "model_module": "@jupyter-widgets/base",
          "model_name": "LayoutModel",
          "model_module_version": "1.2.0",
          "state": {
            "_model_module": "@jupyter-widgets/base",
            "_model_module_version": "1.2.0",
            "_model_name": "LayoutModel",
            "_view_count": null,
            "_view_module": "@jupyter-widgets/base",
            "_view_module_version": "1.2.0",
            "_view_name": "LayoutView",
            "align_content": null,
            "align_items": null,
            "align_self": null,
            "border": null,
            "bottom": null,
            "display": null,
            "flex": null,
            "flex_flow": null,
            "grid_area": null,
            "grid_auto_columns": null,
            "grid_auto_flow": null,
            "grid_auto_rows": null,
            "grid_column": null,
            "grid_gap": null,
            "grid_row": null,
            "grid_template_areas": null,
            "grid_template_columns": null,
            "grid_template_rows": null,
            "height": null,
            "justify_content": null,
            "justify_items": null,
            "left": null,
            "margin": null,
            "max_height": null,
            "max_width": null,
            "min_height": null,
            "min_width": null,
            "object_fit": null,
            "object_position": null,
            "order": null,
            "overflow": null,
            "overflow_x": null,
            "overflow_y": null,
            "padding": null,
            "right": null,
            "top": null,
            "visibility": null,
            "width": null
          }
        },
        "0fced5e49e2940b692ff39701e282f0a": {
          "model_module": "@jupyter-widgets/controls",
          "model_name": "ProgressStyleModel",
          "model_module_version": "1.5.0",
          "state": {
            "_model_module": "@jupyter-widgets/controls",
            "_model_module_version": "1.5.0",
            "_model_name": "ProgressStyleModel",
            "_view_count": null,
            "_view_module": "@jupyter-widgets/base",
            "_view_module_version": "1.2.0",
            "_view_name": "StyleView",
            "bar_color": null,
            "description_width": ""
          }
        },
        "949455cfaf874cc5b873f8dff0e1b099": {
          "model_module": "@jupyter-widgets/base",
          "model_name": "LayoutModel",
          "model_module_version": "1.2.0",
          "state": {
            "_model_module": "@jupyter-widgets/base",
            "_model_module_version": "1.2.0",
            "_model_name": "LayoutModel",
            "_view_count": null,
            "_view_module": "@jupyter-widgets/base",
            "_view_module_version": "1.2.0",
            "_view_name": "LayoutView",
            "align_content": null,
            "align_items": null,
            "align_self": null,
            "border": null,
            "bottom": null,
            "display": null,
            "flex": null,
            "flex_flow": null,
            "grid_area": null,
            "grid_auto_columns": null,
            "grid_auto_flow": null,
            "grid_auto_rows": null,
            "grid_column": null,
            "grid_gap": null,
            "grid_row": null,
            "grid_template_areas": null,
            "grid_template_columns": null,
            "grid_template_rows": null,
            "height": null,
            "justify_content": null,
            "justify_items": null,
            "left": null,
            "margin": null,
            "max_height": null,
            "max_width": null,
            "min_height": null,
            "min_width": null,
            "object_fit": null,
            "object_position": null,
            "order": null,
            "overflow": null,
            "overflow_x": null,
            "overflow_y": null,
            "padding": null,
            "right": null,
            "top": null,
            "visibility": null,
            "width": null
          }
        },
        "0411964c2d344601be6adbe9b8a51372": {
          "model_module": "@jupyter-widgets/controls",
          "model_name": "DescriptionStyleModel",
          "model_module_version": "1.5.0",
          "state": {
            "_model_module": "@jupyter-widgets/controls",
            "_model_module_version": "1.5.0",
            "_model_name": "DescriptionStyleModel",
            "_view_count": null,
            "_view_module": "@jupyter-widgets/base",
            "_view_module_version": "1.2.0",
            "_view_name": "StyleView",
            "description_width": ""
          }
        }
      }
    }
  },
  "nbformat": 4,
  "nbformat_minor": 0
}